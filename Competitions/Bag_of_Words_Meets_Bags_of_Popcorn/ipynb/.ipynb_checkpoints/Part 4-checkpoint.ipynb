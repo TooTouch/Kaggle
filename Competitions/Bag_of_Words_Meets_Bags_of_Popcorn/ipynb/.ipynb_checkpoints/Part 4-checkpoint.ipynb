{
 "cells": [
  {
   "cell_type": "markdown",
   "metadata": {},
   "source": [
    "# Part1~3 정리 및 모델 개선\n",
    "\n",
    "앞선 Part1~3 을 통해서 3가지 전처리 방법과 Random Forest를 통해 성능을 테스트하였다. \n",
    "1. Part1: bag of words (CounterVectorizer) ```review 개수 X max_features```\n",
    "2. Part2: Word2Vec을 통해 review별 단어들의 vector를 평균으로하여 사용 ```review 개수 X max_features```\n",
    "3. Part3: K-means clustering을 통한 review별 단어들의 군집을 count하여 feature 생성 ```review 개수 X cluster 개수```\n",
    "\n",
    "Public Leaderboard Score\n",
    "\n",
    "Name | Binary | Proba\n",
    "-------|-------|-------\n",
    "CounterVectorizer | 0.84392 | 0.92104\n",
    "Word2Vec AverageVectors | 0.78028 | 0.85884\n",
    "Word2Vec AverageVectors stemming | 0.81984 | 0.89700\n",
    "Bag Of Centroids | 0.80816 | 0.88930\n",
    "BagOfCentroids_stopwords | 0.81192 | 0.89310\n",
    "\n",
    "\n",
    "\n",
    "이번 notebook에서는 시퀀스 모델링을 통한 성능개선을 한다."
   ]
  },
  {
   "cell_type": "code",
   "execution_count": null,
   "metadata": {},
   "outputs": [],
   "source": []
  }
 ],
 "metadata": {
  "hide_input": false,
  "kernelspec": {
   "display_name": "Python 3",
   "language": "python",
   "name": "python3"
  },
  "language_info": {
   "codemirror_mode": {
    "name": "ipython",
    "version": 3
   },
   "file_extension": ".py",
   "mimetype": "text/x-python",
   "name": "python",
   "nbconvert_exporter": "python",
   "pygments_lexer": "ipython3",
   "version": "3.6.8"
  },
  "toc": {
   "base_numbering": 1,
   "nav_menu": {},
   "number_sections": true,
   "sideBar": true,
   "skip_h1_title": false,
   "title_cell": "Table of Contents",
   "title_sidebar": "Contents",
   "toc_cell": false,
   "toc_position": {},
   "toc_section_display": true,
   "toc_window_display": false
  },
  "varInspector": {
   "cols": {
    "lenName": 16,
    "lenType": 16,
    "lenVar": 40
   },
   "kernels_config": {
    "python": {
     "delete_cmd_postfix": "",
     "delete_cmd_prefix": "del ",
     "library": "var_list.py",
     "varRefreshCmd": "print(var_dic_list())"
    },
    "r": {
     "delete_cmd_postfix": ") ",
     "delete_cmd_prefix": "rm(",
     "library": "var_list.r",
     "varRefreshCmd": "cat(var_dic_list()) "
    }
   },
   "types_to_exclude": [
    "module",
    "function",
    "builtin_function_or_method",
    "instance",
    "_Feature"
   ],
   "window_display": false
  }
 },
 "nbformat": 4,
 "nbformat_minor": 2
}
