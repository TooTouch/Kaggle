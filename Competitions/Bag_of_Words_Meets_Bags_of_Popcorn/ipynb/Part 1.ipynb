{
 "cells": [
  {
   "cell_type": "markdown",
   "metadata": {},
   "source": [
    "본 내용은 아래 링크를 참조하여 만들었습니다.\n",
    "- EunHye Jung님의 github blog: https://eunhyejung.github.io/data_analysis/2018/07/24/data-processing-studying-with-python.html\n",
    "- Kaggle: https://www.kaggle.com/c/word2vec-nlp-tutorial/overview/part-1-for-beginners-bag-of-words "
   ]
  },
  {
   "cell_type": "code",
   "execution_count": 1,
   "metadata": {},
   "outputs": [],
   "source": [
    "import pandas as pd\n",
    "import numpy as np\n",
    "\n",
    "# 전처리\n",
    "from bs4 import BeautifulSoup\n",
    "import re\n",
    "import nltk\n",
    "from nltk.corpus import stopwords\n",
    "\n",
    "# multiprocessing\n",
    "from multiprocessing import Pool"
   ]
  },
  {
   "cell_type": "markdown",
   "metadata": {},
   "source": [
    "# 데이터 읽기\n",
    "- NLP에서는 Text 데이터를 많이 사용하기때문에 csv형식으로 파일을 저장하기보다는 text 내의 쉼표와 섞이지 않기 위해서 구분다(delimiter)를 Tab으로 저장한다. 그래서 tcv 확장자를 많이 사용한다.\n",
    "- 데이터를 불러올때 또한 read_csv를 사용하여 delimiter와 quoting이라는 paramter를 사용하는데 quoting은 0~3까지의 값을 갖는 인자이다.\n",
    "- quoting=3 tells Python to ignore doubled quotes 이라고 하는데 이게 \"를 무시하고 읽지 않는다라고 받아들였다. 그러나 ignore doubled quotes는 읽지않는 것이 아닌 duoble quotes를 무시하고 그 사이에 Tab이 있을 시 분리한다라고 보면된다. 바로 와닿지는 않지만 예시를 들자면\n",
    "\n",
    "ex) \"나는 \\t NLP 공부 중이다.\" \n",
    "- delimiter=\"\\t\", quoting=3 의 경우 double quotes를 무시하고 [\"나는\" , \"NLP 공부 중이다.\"] 처럼 두 값으로 나눌 수 있다.\n",
    "- delimiter=\"\\t\", quoting이 3이 아닌 경우 duoble quotes를 무시하지 않고 [\"나는 \\t NLP 공부 중이다.\"] 로 하나의 값을 나타낸다."
   ]
  },
  {
   "cell_type": "code",
   "execution_count": 2,
   "metadata": {},
   "outputs": [
    {
     "name": "stdout",
     "output_type": "stream",
     "text": [
      "train shape:  (25000, 3)\n",
      "unlabeled_train shape: (50000, 2)\n",
      "test shape:  (25000, 2)\n"
     ]
    }
   ],
   "source": [
    "# quoting = 3 은 \n",
    "train = pd.read_csv('../dataset/labeledTrainData.tsv',delimiter='\\t', quoting=3)\n",
    "unlabeled_train = pd.read_csv('../dataset/unlabeledTrainData.tsv', delimiter='\\t', quoting=3)\n",
    "test = pd.read_csv('../dataset/testData.tsv',delimiter='\\t')\n",
    "print('train shape: ',train.shape)\n",
    "print('unlabeled_train shape:',unlabeled_train.shape)\n",
    "print('test shape: ',test.shape)"
   ]
  },
  {
   "cell_type": "code",
   "execution_count": 3,
   "metadata": {},
   "outputs": [
    {
     "name": "stdout",
     "output_type": "stream",
     "text": [
      "<class 'pandas.core.frame.DataFrame'>\n",
      "RangeIndex: 25000 entries, 0 to 24999\n",
      "Data columns (total 3 columns):\n",
      "id           25000 non-null object\n",
      "sentiment    25000 non-null int64\n",
      "review       25000 non-null object\n",
      "dtypes: int64(1), object(2)\n",
      "memory usage: 586.0+ KB\n"
     ]
    }
   ],
   "source": [
    "train.info()"
   ]
  },
  {
   "cell_type": "markdown",
   "metadata": {},
   "source": [
    "# 전처리"
   ]
  },
  {
   "cell_type": "markdown",
   "metadata": {},
   "source": [
    "아래 Text를 보면 html tag가 섞여있기 때문에 정제해야한다"
   ]
  },
  {
   "cell_type": "code",
   "execution_count": 4,
   "metadata": {},
   "outputs": [
    {
     "data": {
      "text/plain": [
       "'\"With all this stuff going down at the moment with MJ i\\'ve started listening to his music, watching the odd documentary here and there, watched The Wiz and watched Moonwalker again. Maybe i just want to get a certain insight into this guy who i thought was really cool in the eighties just to maybe make up my mind whether he is guilty or innocent. Moonwalker is part biography, part feature film which i remember going to see at the cinema when it was originally released. Some of it has subtle messages about MJ\\'s feeling towards the press and also the obvious message of drugs are bad m\\'kay.<br /><br />Visually impressive but of course this is all about Michael Jackson so unless you remotely lik'"
      ]
     },
     "execution_count": 4,
     "metadata": {},
     "output_type": "execute_result"
    }
   ],
   "source": [
    "train.loc[0,'review'][:700]"
   ]
  },
  {
   "cell_type": "markdown",
   "metadata": {},
   "source": [
    "BeautifulSoup을 통해서 html tag가 섞여있는 Text를 parsing 한 후 get_text()를 통해서 text만 읽게되면 기존 text에 섞여있던 html tag를 모두 제외하고 text만 가져오게 된다."
   ]
  },
  {
   "cell_type": "code",
   "execution_count": 5,
   "metadata": {},
   "outputs": [
    {
     "name": "stdout",
     "output_type": "stream",
     "text": [
      "\"With all this stuff going down at the moment with MJ i've started listening to his music, watching the odd documentary here and there, watched The Wiz and watched Moonwalker again. Maybe i just want to get a certain insight into this guy who i thought was really cool in the eighties just to maybe make up my mind whether he is guilty or innocent. Moonwalker is part biography, part feature film which i remember going to see at the cinema when it was originally released. Some of it has subtle messages about MJ's feeling towards the press and also the obvious message of drugs are bad m'kay.<br /><br />Visually impressive but of course this is all about Michael Jackson so unless you remotely lik\n",
      "\"With all this stuff going down at the moment with MJ i've started listening to his music, watching the odd documentary here and there, watched The Wiz and watched Moonwalker again. Maybe i just want to get a certain insight into this guy who i thought was really cool in the eighties just to maybe make up my mind whether he is guilty or innocent. Moonwalker is part biography, part feature film which i remember going to see at the cinema when it was originally released. Some of it has subtle messages about MJ's feeling towards the press and also the obvious message of drugs are bad m'kay.Visually impressive but of course this is all about Michael Jackson so unless you remotely like MJ in anyw\n"
     ]
    }
   ],
   "source": [
    "example1 = BeautifulSoup(train.loc[0,'review'], 'html5lib')\n",
    "print(train.loc[0,'review'][:700])\n",
    "print(example1.get_text()[:700])"
   ]
  },
  {
   "cell_type": "markdown",
   "metadata": {},
   "source": [
    "html tag 이외에 특수문자를 정규표현식을 사용하여 제거한다."
   ]
  },
  {
   "cell_type": "code",
   "execution_count": 6,
   "metadata": {},
   "outputs": [
    {
     "name": "stdout",
     "output_type": "stream",
     "text": [
      "\"With all this stuff going down at the moment with MJ i've started listening to his music, watching the odd documentary here and there, watched The Wiz and watched Moonwalker again. Maybe i just want to get a certain insight into this guy who i thought was really cool in the eighties just to maybe make up my mind whether he is guilty or innocent. Moonwalker is part biography, part feature film which i remember going to see at the cinema when it was originally released. Some of it has subtle messages about MJ's feeling towards the press and also the obvious message of drugs are bad m'kay.Visually impressive but of course this is all about Michael Jackson so unless you remotely like MJ in anyw\n",
      " With all this stuff going down at the moment with MJ i ve started listening to his music  watching the odd documentary here and there  watched The Wiz and watched Moonwalker again  Maybe i just want to get a certain insight into this guy who i thought was really cool in the eighties just to maybe make up my mind whether he is guilty or innocent  Moonwalker is part biography  part feature film which i remember going to see at the cinema when it was originally released  Some of it has subtle messages about MJ s feeling towards the press and also the obvious message of drugs are bad m kay Visually impressive but of course this is all about Michael Jackson so unless you remotely like MJ in anyw\n"
     ]
    }
   ],
   "source": [
    "letters_only = re.sub(pattern='[^a-zA-Z]', repl=' ',string=example1.get_text())\n",
    "print(example1.get_text()[:700])\n",
    "print(letters_only[:700])"
   ]
  },
  {
   "cell_type": "markdown",
   "metadata": {},
   "source": [
    "이제 대문자를 전부 소문자로 변환한 후 토큰화한다. **여기서 토큰화(tokenization)이란 분리하는 것을 말한다.**"
   ]
  },
  {
   "cell_type": "code",
   "execution_count": 7,
   "metadata": {},
   "outputs": [
    {
     "name": "stdout",
     "output_type": "stream",
     "text": [
      "437\n"
     ]
    },
    {
     "data": {
      "text/plain": [
       "['with',\n",
       " 'all',\n",
       " 'this',\n",
       " 'stuff',\n",
       " 'going',\n",
       " 'down',\n",
       " 'at',\n",
       " 'the',\n",
       " 'moment',\n",
       " 'with']"
      ]
     },
     "execution_count": 7,
     "metadata": {},
     "output_type": "execute_result"
    }
   ],
   "source": [
    "lower_case = letters_only.lower()\n",
    "# 문자를 공백을 기준으로 나눈다 => 토큰화\n",
    "words = lower_case.split()\n",
    "print(len(words))\n",
    "words[:10]"
   ]
  },
  {
   "cell_type": "markdown",
   "metadata": {},
   "source": [
    "## 불용어 제거"
   ]
  },
  {
   "cell_type": "markdown",
   "metadata": {},
   "source": [
    "stopwords.words()가 안될시 nltk.download('stopwords')를 통해서 설치한 후 다시 시도한다."
   ]
  },
  {
   "cell_type": "code",
   "execution_count": 8,
   "metadata": {},
   "outputs": [],
   "source": [
    "# nltk.download('stopwords')"
   ]
  },
  {
   "cell_type": "code",
   "execution_count": 9,
   "metadata": {},
   "outputs": [
    {
     "data": {
      "text/plain": [
       "['i', 'me', 'my', 'myself', 'we', 'our', 'ours', 'ourselves', 'you', \"you're\"]"
      ]
     },
     "execution_count": 9,
     "metadata": {},
     "output_type": "execute_result"
    }
   ],
   "source": [
    "stopwords.words('english'[:10])[:10]"
   ]
  },
  {
   "cell_type": "markdown",
   "metadata": {},
   "source": [
    "stopwords에 있는 불용어를 제외하였더니 words가 437 -> 219개로 줄었다."
   ]
  },
  {
   "cell_type": "code",
   "execution_count": 10,
   "metadata": {},
   "outputs": [
    {
     "name": "stdout",
     "output_type": "stream",
     "text": [
      "219\n"
     ]
    },
    {
     "data": {
      "text/plain": [
       "['stuff',\n",
       " 'going',\n",
       " 'moment',\n",
       " 'mj',\n",
       " 'started',\n",
       " 'listening',\n",
       " 'music',\n",
       " 'watching',\n",
       " 'odd',\n",
       " 'documentary']"
      ]
     },
     "execution_count": 10,
     "metadata": {},
     "output_type": "execute_result"
    }
   ],
   "source": [
    "words = [ w for w in words if not w in stopwords.words('english')]\n",
    "print(len(words))\n",
    "words[:10]"
   ]
  },
  {
   "cell_type": "markdown",
   "metadata": {},
   "source": [
    "## 스테밍(stemming) (어간추출, 형태소분석)"
   ]
  },
  {
   "cell_type": "markdown",
   "metadata": {},
   "source": [
    "어간 추출(stemming)은 형태론 및 정보 검색 분야에서 어형이 변형된 단어로부터 접사 등을 제거하고 그 단어간의 어간을 분리해내는것을 의미한다. “message”, “messages”, “messaging”과 같이 복수형, 진행형 등의 문자를 같은 의미의 단어로 다룰 수 있도록 도와준다."
   ]
  },
  {
   "cell_type": "markdown",
   "metadata": {},
   "source": [
    "어간 추출에는 NLTK에서 제공하는 형태소 분석기를 사용하고, 포터(Porter) 형태소 분석기와 랭커스터(Lancaster)가 있음."
   ]
  },
  {
   "cell_type": "code",
   "execution_count": 11,
   "metadata": {},
   "outputs": [
    {
     "name": "stdout",
     "output_type": "stream",
     "text": [
      "The stemmed form of running is : run\n",
      "The stemmed form of running is : run\n",
      "The stemmed form of running is : run\n"
     ]
    }
   ],
   "source": [
    "stemmer = nltk.stem.PorterStemmer()\n",
    "print(\"The stemmed form of running is : {}\".format(stemmer.stem(\"running\")))\n",
    "print(\"The stemmed form of running is : {}\".format(stemmer.stem(\"runs\")))\n",
    "print(\"The stemmed form of running is : {}\".format(stemmer.stem(\"run\")))"
   ]
  },
  {
   "cell_type": "code",
   "execution_count": 12,
   "metadata": {},
   "outputs": [
    {
     "name": "stdout",
     "output_type": "stream",
     "text": [
      "The stemmed form of running is : run\n",
      "The stemmed form of running is : run\n"
     ]
    }
   ],
   "source": [
    "from nltk.stem.lancaster import LancasterStemmer\n",
    "lancaster_stemmer = LancasterStemmer()\n",
    "print(\"The stemmed form of running is : {}\".format(stemmer.stem(\"running\")))\n",
    "print(\"The stemmed form of running is : {}\".format(stemmer.stem(\"runs\")))"
   ]
  },
  {
   "cell_type": "code",
   "execution_count": 13,
   "metadata": {},
   "outputs": [
    {
     "name": "stdout",
     "output_type": "stream",
     "text": [
      "stemming 전 words[:10]:  ['stuff', 'going', 'moment', 'mj', 'started', 'listening', 'music', 'watching', 'odd', 'documentary']\n",
      "stemming 후 words[:10]:  ['stuff', 'go', 'moment', 'mj', 'start', 'listen', 'music', 'watch', 'odd', 'documentari']\n"
     ]
    }
   ],
   "source": [
    "from nltk.stem.snowball import SnowballStemmer\n",
    "\n",
    "print('stemming 전 words[:10]: ',words[:10])\n",
    "\n",
    "stemmer = SnowballStemmer('english')\n",
    "words = [stemmer.stem(w) for w in words]\n",
    "print('stemming 후 words[:10]: ',words[:10])"
   ]
  },
  {
   "cell_type": "markdown",
   "metadata": {},
   "source": [
    "## Lemmatization 음소표기법\n",
    "\n",
    "다음 문장들을 살펴보자.  \n",
    "1) *배*가 맛있다. 2) *배*를 타는 것이 재미있다.  \n",
    "3) 평소보다 두 *배*로 많이 먹어서 *배*가 아프다.  \n",
    "\n",
    "위의 3개의 문장에서 “배”는 모두 다른 의미를 갖는다.\n",
    "음소표기법은 이때, 앞뒤 문맥을 보고 단어의 의미를 식별하는 것이다.\n",
    "영어에서 meet은 meeting으로 쓰였을때, 회의를 뜻하지만 meet일때는 만나다는 뜻을 가지는데, 그 단어가 명사로 쓰였는지 동사로 쓰였는지에 따라 적합한 의미를 추출하는것으로 보면 된다."
   ]
  },
  {
   "cell_type": "markdown",
   "metadata": {},
   "source": [
    "만일 아래와 같은 에러 메세지가 나온다면 nltk.download('wordnet')을 통해 wordnet을 설치해줍니다.\n",
    "![](../images/error1.JPG)"
   ]
  },
  {
   "cell_type": "code",
   "execution_count": 14,
   "metadata": {},
   "outputs": [],
   "source": [
    "# nltk.download('wordnet')"
   ]
  },
  {
   "cell_type": "code",
   "execution_count": 15,
   "metadata": {},
   "outputs": [
    {
     "name": "stdout",
     "output_type": "stream",
     "text": [
      "fly\n",
      "fly\n"
     ]
    }
   ],
   "source": [
    "from nltk.stem import WordNetLemmatizer\n",
    "wordnet_lemmatizer = WordNetLemmatizer()\n",
    "\n",
    "print(wordnet_lemmatizer.lemmatize('fly'))\n",
    "print(wordnet_lemmatizer.lemmatize('flies'))"
   ]
  },
  {
   "cell_type": "code",
   "execution_count": 16,
   "metadata": {},
   "outputs": [
    {
     "name": "stdout",
     "output_type": "stream",
     "text": [
      "lemmatization 전 words[:10]:  ['stuff', 'go', 'moment', 'mj', 'start', 'listen', 'music', 'watch', 'odd', 'documentari']\n",
      "lemmatization 후 words[:10]:  ['stuff', 'go', 'moment', 'mj', 'start', 'listen', 'music', 'watch', 'odd', 'documentari']\n"
     ]
    }
   ],
   "source": [
    "print('lemmatization 전 words[:10]: ',words[:10])\n",
    "words = [ wordnet_lemmatizer.lemmatize(w) for w in words]\n",
    "print('lemmatization 후 words[:10]: ',words[:10])"
   ]
  },
  {
   "cell_type": "markdown",
   "metadata": {},
   "source": [
    "## 문자열 처리\n",
    "\n",
    "위에서 정리한 내용을 바탕으로 문자열을 처리하는 함수를 만든다"
   ]
  },
  {
   "cell_type": "code",
   "execution_count": 17,
   "metadata": {},
   "outputs": [],
   "source": [
    "import defs"
   ]
  },
  {
   "cell_type": "code",
   "execution_count": 18,
   "metadata": {},
   "outputs": [
    {
     "name": "stdout",
     "output_type": "stream",
     "text": [
      "\"With all this stuff going down at the moment with MJ i've started listening to his music, watching the odd documentary here and there, watched The Wiz and watched Moonwalker again. Maybe i just want to get a certain insight into this guy who i thought was really cool in the eighties just to maybe make up my mind whether he is guilty or innocent. Moonwalker is part biography, part feature film which i remember going to see at the cinema when it was originally released. Some of it has subtle messages about MJ's feeling towards the press and also the obvious message of drugs are bad m'kay.<br /><br />Visually impressive but of course this is all about Michael Jackson so unless you remotely like MJ in anyway then you are going to hate this and find it boring. Some may call MJ an egotist for consenting to the making of this movie BUT MJ and most of his fans would say that he made it for the fans which if true is really nice of him.<br /><br />The actual feature film bit when it finally starts is only on for 20 minutes or so excluding the Smooth Criminal sequence and Joe Pesci is convincing as a psychopathic all powerful drug lord. Why he wants MJ dead so bad is beyond me. Because MJ overheard his plans? Nah, Joe Pesci's character ranted that he wanted people to know it is he who is supplying drugs etc so i dunno, maybe he just hates MJ's music.<br /><br />Lots of cool things in this like MJ turning into a car and a robot and the whole Speed Demon sequence. Also, the director must have had the patience of a saint when it came to filming the kiddy Bad sequence as usually directors hate working with one kid let alone a whole bunch of them performing a complex dance scene.<br /><br />Bottom line, this movie is for people who like MJ on one level or another (which i think is most people). If not, then stay away. It does try and give off a wholesome message and ironically MJ's bestest buddy in this movie is a girl! Michael Jackson is truly one of the most talented people ever to grace this planet but is he guilty? Well, with all the attention i've gave this subject....hmmm well i don't know because people can be different behind closed doors, i know this for a fact. He is either an extremely nice but stupid guy or one of the most sickest liars. I hope he is not the latter.\"\n",
      "\n",
      "stuff go moment mj start listen music watch odd documentari watch wiz watch moonwalk mayb want get certain insight guy thought realli cool eighti mayb make mind whether guilti innoc moonwalk part biographi part featur film rememb go see cinema origin releas subtl messag mj feel toward press also obviou messag drug bad kay visual impress cours michael jackson unless remot like mj anyway go hate find bore may call mj egotist consent make movi mj fan would say made fan true realli nice actual featur film bit final start minut exclud smooth crimin sequenc joe pesci convinc psychopath power drug lord want mj dead bad beyond mj overheard plan nah joe pesci charact rant want peopl know suppli drug etc dunno mayb hate mj music lot cool thing like mj turn car robot whole speed demon sequenc also director must patienc saint came film kiddi bad sequenc usual director hate work one kid let alon whole bunch perform complex danc scene bottom line movi peopl like mj one level anoth think peopl stay away tri give wholesom messag iron mj bestest buddi movi girl michael jackson truli one talent peopl ever grace planet guilti well attent gave subject hmmm well know peopl differ behind close door know fact either extrem nice stupid guy one sickest liar hope latter\n"
     ]
    }
   ],
   "source": [
    "clean_review = defs.review_to_words(train.loc[0,'review'])\n",
    "\n",
    "print(train.loc[0,'review'])\n",
    "print()\n",
    "print(clean_review)"
   ]
  },
  {
   "cell_type": "markdown",
   "metadata": {},
   "source": [
    "train data의 전체 review 개수는 25000개로 적지않은 수이다. 이런경우 전처리하는데 상당한 시간을 소요할 수 있다. 그렇기 때문에 멀티프로세싱 모듈을 사용해서 실행속도를 개선시키도록 한다.\n",
    "\n",
    "- jupyter notebook에서 multiprocessing  사용시 주의할 점이 있으므로 아래 포스트를 참고한다.\n",
    "https://medium.com/@grvsinghal/speed-up-your-python-code-using-multiprocessing-on-windows-and-jupyter-or-ipython-2714b49d6fac\n",
    "- **참고로 %%time를 사용한 cell 내의 변수는 저장되지 않는다**"
   ]
  },
  {
   "cell_type": "code",
   "execution_count": 19,
   "metadata": {},
   "outputs": [
    {
     "name": "stdout",
     "output_type": "stream",
     "text": [
      "review 개수:  25000\n"
     ]
    }
   ],
   "source": [
    "num_reviews = train['review'].size\n",
    "print('review 개수: ',num_reviews)"
   ]
  },
  {
   "cell_type": "code",
   "execution_count": 20,
   "metadata": {},
   "outputs": [
    {
     "name": "stdout",
     "output_type": "stream",
     "text": [
      "Wall time: 56.8 s\n"
     ]
    }
   ],
   "source": [
    "%%time\n",
    "\n",
    "clean_train_reviews = list()\n",
    "for i in range(num_reviews):\n",
    "    clean_train_reviews.append(defs.review_to_words(train.loc[i,'review']))"
   ]
  },
  {
   "cell_type": "code",
   "execution_count": 26,
   "metadata": {},
   "outputs": [
    {
     "name": "stdout",
     "output_type": "stream",
     "text": [
      "Wall time: 15.7 s\n"
     ]
    }
   ],
   "source": [
    "%%time\n",
    "\n",
    "workers = 4\n",
    "# 위에서 가져온 workers 수로 프로세스 풀을 정의\n",
    "pool = Pool(processes=workers)\n",
    "# 실행할 함수와 데이터프레임을 워커의 수 만큼 나눠 작업\n",
    "result = pool.map(defs._apply_df, [(d, defs.review_to_words) for d in np.array_split(train['review'], workers)])\n",
    "pool.close()\n",
    "# 작업 결과를 합쳐서 반환\n",
    "clean_train_reviews = pd.concat(list(result))"
   ]
  },
  {
   "cell_type": "code",
   "execution_count": 27,
   "metadata": {},
   "outputs": [
    {
     "name": "stdout",
     "output_type": "stream",
     "text": [
      "Wall time: 12.2 s\n"
     ]
    }
   ],
   "source": [
    "%%time\n",
    "\n",
    "workers = 8\n",
    "# 위에서 가져온 workers 수로 프로세스 풀을 정의\n",
    "pool = Pool(processes=workers)\n",
    "# 실행할 함수와 데이터프레임을 워커의 수 만큼 나눠 작업\n",
    "result = pool.map(defs._apply_df, [(d, defs.review_to_words) for d in np.array_split(train['review'], workers)])\n",
    "pool.close()\n",
    "# 작업 결과를 합쳐서 반환\n",
    "clean_train_reviews = pd.concat(list(result))"
   ]
  },
  {
   "cell_type": "code",
   "execution_count": 21,
   "metadata": {},
   "outputs": [],
   "source": [
    "workers = 8\n",
    "# 위에서 가져온 workers 수로 프로세스 풀을 정의\n",
    "pool = Pool(processes=workers)\n",
    "# 실행할 함수와 데이터프레임을 워커의 수 만큼 나눠 작업\n",
    "result = pool.map(defs._apply_df, [(d, defs.review_to_words) for d in np.array_split(train['review'], workers)])\n",
    "pool.close()\n",
    "# 작업 결과를 합쳐서 반환\n",
    "clean_train_reviews = pd.concat(list(result))"
   ]
  },
  {
   "cell_type": "code",
   "execution_count": 22,
   "metadata": {},
   "outputs": [
    {
     "data": {
      "text/plain": [
       "0        stuff go moment mj start listen music watch od...\n",
       "1        classic war world timothi hine entertain film ...\n",
       "2        film start manag nichola bell give welcom inve...\n",
       "3        must assum prais film greatest film opera ever...\n",
       "4        superbl trashi wondrous unpretenti exploit hoo...\n",
       "5        dont know peopl think bad movi got pretti good...\n",
       "6        movi could good come way short cheesi special ...\n",
       "7        watch video friend hous glad wast money buy on...\n",
       "8        friend mine bought film even grossli overpr de...\n",
       "9        movi full refer like mad max ii wild one mani ...\n",
       "10       happen armi wetback towelhead godless eastern ...\n",
       "11       although gener like remak believ remak wast ti...\n",
       "12       mr harvey light candl anchor brilliant perform...\n",
       "13       feel submerg one better right must look champa...\n",
       "14       note georg litman other mysteri scienc theater...\n",
       "15       stephen king adapt script king young famili ne...\n",
       "16       matrix excit summer blockbust visual fantast a...\n",
       "17       ulli lommel film boogey man classic averag low...\n",
       "18       movi one among indian movi would never fade aw...\n",
       "19       peopl especi young peopl may understand film l...\n",
       "20       soylent green one best disturb scienc fiction ...\n",
       "21       michael stearn play mike sexual frustrat indiv...\n",
       "22       happi go luck militari swashbuckl base rather ...\n",
       "23       would love two hour life back seem sever clip ...\n",
       "24       script movi probabl found hair ball recent cou...\n",
       "25       look quo vadi local video store found version ...\n",
       "26       note mad scientist everywher go turn son genet...\n",
       "27       must without doubt biggest wast film set camer...\n",
       "28       intrigu synopsi everi gay video day hunk cover...\n",
       "29       would anyon realli watch rubbish contain littl...\n",
       "                               ...                        \n",
       "24970    red rock west nicola cage get embroil deadli c...\n",
       "24971    say ms erika eleniak favorit blond girl ever l...\n",
       "24972    spoiler warn peopl want see anim landscap pass...\n",
       "24973    call horror stori without horror stori irrit t...\n",
       "24974    though horror film tradit sens creepi littl fi...\n",
       "24975    black societi like crack epidem gangsta rap ai...\n",
       "24976    probabl call movi map major whole stupid film ...\n",
       "24977    attract marjori farrah fawcett live fear accos...\n",
       "24978    vagu reminisc great western like treasur sierr...\n",
       "24979    admit idea expect view highli styliz piec coul...\n",
       "24980    final scene harri respond press corp worthi vi...\n",
       "24981    far funniest short made two comic genius time ...\n",
       "24982    buster keaton fan heart broken regular basi us...\n",
       "24983    one american grew gerri andersen marvel creati...\n",
       "24984    visual disjoint full director appar chose seek...\n",
       "24985    movi hole piec swiss chees ben affleck serious...\n",
       "24986    last novemb chanc see film reno film festiv sa...\n",
       "24987    first like make correct anoth review film said...\n",
       "24988    origin reluct jump bandwagon watch lost accide...\n",
       "24989    heard movi watch vh metal moment segment gene ...\n",
       "24990    never huge imax film cool get initi rush whoa ...\n",
       "24991    steve mcqueen certainli lot loyal fan certainl...\n",
       "24992    sometim wonder peopl get fund creat movi bad o...\n",
       "24993    student film sever year concept cyber kung fu ...\n",
       "24994    unimagin stupid redund humili closur nightmar ...\n",
       "24995    seem like consider gone imdb review film went ...\n",
       "24996    believ made film complet unnecessari first fil...\n",
       "24997    guy loser get girl need build pick stronger su...\n",
       "24998    minut documentari bu uel made earli one spain ...\n",
       "24999    saw movi child broke heart stori unfinish end ...\n",
       "Name: review, Length: 25000, dtype: object"
      ]
     },
     "execution_count": 22,
     "metadata": {},
     "output_type": "execute_result"
    }
   ],
   "source": [
    "clean_train_reviews"
   ]
  },
  {
   "cell_type": "code",
   "execution_count": 29,
   "metadata": {},
   "outputs": [],
   "source": [
    "workers = 8\n",
    "# 위에서 가져온 workers 수로 프로세스 풀을 정의\n",
    "pool = Pool(processes=workers)\n",
    "# 실행할 함수와 데이터프레임을 워커의 수 만큼 나눠 작업\n",
    "result = pool.map(defs._apply_df, [(d, defs.review_to_words) for d in np.array_split(test['review'], workers)])\n",
    "pool.close()\n",
    "# 작업 결과를 합쳐서 반환\n",
    "clean_test_reviews = pd.concat(list(result))"
   ]
  },
  {
   "cell_type": "markdown",
   "metadata": {},
   "source": [
    "# 워드 클라우드"
   ]
  },
  {
   "cell_type": "code",
   "execution_count": 30,
   "metadata": {},
   "outputs": [],
   "source": [
    "from wordcloud import WordCloud, STOPWORDS\n",
    "import matplotlib.pyplot as plt"
   ]
  },
  {
   "cell_type": "code",
   "execution_count": 31,
   "metadata": {},
   "outputs": [],
   "source": [
    "def displayWordCloud(data=None, backgroundcolor='white', width=800, height=600):\n",
    "    wordcloud = WordCloud(stopwords = STOPWORDS,\n",
    "                         background_color=backgroundcolor,\n",
    "                         width=width, height=height).generate(data)\n",
    "    plt.figure(figsize=(15,10))\n",
    "    plt.imshow(wordcloud)\n",
    "    plt.axis(\"off\")\n",
    "    plt.show()"
   ]
  },
  {
   "cell_type": "code",
   "execution_count": 32,
   "metadata": {},
   "outputs": [
    {
     "data": {
      "image/png": "[encoded data removed]",
      "text/plain": [
       "<Figure size 1080x720 with 1 Axes>"
      ]
     },
     "metadata": {
      "needs_background": "light"
     },
     "output_type": "display_data"
    },
    {
     "name": "stdout",
     "output_type": "stream",
     "text": [
      "Wall time: 14.3 s\n"
     ]
    }
   ],
   "source": [
    "%%time\n",
    "\n",
    "displayWordCloud(' '.join(clean_train_reviews))"
   ]
  },
  {
   "cell_type": "markdown",
   "metadata": {},
   "source": [
    "# Creating Features from a Bag of Words (Using scikit-learn)\n",
    "\n",
    "아래와 같이 두 가지 문장을 예로 들었을 때 a bag of words는 두 문장에 있는 단어들의 합집합이 된다. 각 문장별로 가방(a bag of words)에 있는 단어가 몇번 등장했는지 횟수를 센다\n",
    "\n",
    "Sentence 1: \"The cat sat on the hat\"\n",
    "Sentence 2: \"The dog ate the cat and the hat\"\n",
    "\n",
    "From these two sentences, our vocabulary is as follows:\n",
    "\n",
    "{ the, cat, sat, on, hat, dog, ate, and }\n",
    "\n",
    "To get our bags of words, we count the number of times each word occurs in each sentence. In Sentence 1, \"the\" appears twice, and \"cat\", \"sat\", \"on\", and \"hat\" each appear once, so the feature vector for Sentence 1 is:\n",
    "\n",
    "{ the, cat, sat, on, hat, dog, ate, and }\n",
    "\n",
    "Sentence 1: { 2, 1, 1, 1, 1, 0, 0, 0 }\n",
    "\n",
    "Similarly, the features for Sentence 2 are: { 3, 1, 0, 0, 1, 1, 1, 1}"
   ]
  },
  {
   "cell_type": "code",
   "execution_count": 33,
   "metadata": {},
   "outputs": [
    {
     "name": "stdout",
     "output_type": "stream",
     "text": [
      "Creating the bag of words...\n",
      "\n"
     ]
    }
   ],
   "source": [
    "print(\"Creating the bag of words...\\n\")\n",
    "from sklearn.feature_extraction.text import CountVectorizer\n",
    "\n",
    "# Initialize the \"CountVectorizer\" object, which is scikit-learn's\n",
    "# bag of words tool.  \n",
    "vectorizer = CountVectorizer(analyzer = \"word\",   \n",
    "                             tokenizer = None,    \n",
    "                             preprocessor = None,\n",
    "                             stop_words = None,   \n",
    "                             max_features = 5000) \n",
    "\n",
    "# fit_transform() does two functions: First, it fits the model\n",
    "# and learns the vocabulary; second, it transforms our training data\n",
    "# into feature vectors. The input to fit_transform should be a list of \n",
    "# strings.\n",
    "train_data_features = vectorizer.fit_transform(clean_train_reviews)\n",
    "\n",
    "# Numpy arrays are easy to work with, so convert the result to an \n",
    "# array\n",
    "train_data_features = train_data_features.toarray()"
   ]
  },
  {
   "cell_type": "code",
   "execution_count": 34,
   "metadata": {},
   "outputs": [
    {
     "data": {
      "text/plain": [
       "['abandon',\n",
       " 'abc',\n",
       " 'abil',\n",
       " 'abl',\n",
       " 'abomin',\n",
       " 'aborigin',\n",
       " 'abort',\n",
       " 'abound',\n",
       " 'abraham',\n",
       " 'abrupt',\n",
       " 'abruptli',\n",
       " 'absenc',\n",
       " 'absent',\n",
       " 'absolut',\n",
       " 'absorb',\n",
       " 'absurd',\n",
       " 'abund',\n",
       " 'abus',\n",
       " 'abysm',\n",
       " 'academi',\n",
       " 'accent',\n",
       " 'accept',\n",
       " 'access',\n",
       " 'accid',\n",
       " 'accident',\n",
       " 'acclaim',\n",
       " 'accompani',\n",
       " 'accomplish',\n",
       " 'accord',\n",
       " 'account',\n",
       " 'accur',\n",
       " 'accuraci',\n",
       " 'accus',\n",
       " 'ace',\n",
       " 'achiev',\n",
       " 'acid',\n",
       " 'acknowledg',\n",
       " 'acquaint',\n",
       " 'acquir',\n",
       " 'across',\n",
       " 'act',\n",
       " 'action',\n",
       " 'activ',\n",
       " 'actor',\n",
       " 'actress',\n",
       " 'actual',\n",
       " 'ad',\n",
       " 'adam',\n",
       " 'adapt',\n",
       " 'add',\n",
       " 'addict',\n",
       " 'addit',\n",
       " 'address',\n",
       " 'adequ',\n",
       " 'admir',\n",
       " 'admit',\n",
       " 'admittedli',\n",
       " 'adolesc',\n",
       " 'adopt',\n",
       " 'ador',\n",
       " 'adult',\n",
       " 'advanc',\n",
       " 'advantag',\n",
       " 'adventur',\n",
       " 'advertis',\n",
       " 'advic',\n",
       " 'advis',\n",
       " 'aesthet',\n",
       " 'affair',\n",
       " 'affect',\n",
       " 'affleck',\n",
       " 'afford',\n",
       " 'aforement',\n",
       " 'afraid',\n",
       " 'africa',\n",
       " 'african',\n",
       " 'afternoon',\n",
       " 'afterward',\n",
       " 'age',\n",
       " 'agenc',\n",
       " 'agenda',\n",
       " 'agent',\n",
       " 'aggress',\n",
       " 'ago',\n",
       " 'agre',\n",
       " 'ah',\n",
       " 'ahead',\n",
       " 'aid',\n",
       " 'aim',\n",
       " 'air',\n",
       " 'airplan',\n",
       " 'airport',\n",
       " 'aka',\n",
       " 'akin',\n",
       " 'akshay',\n",
       " 'al',\n",
       " 'ala',\n",
       " 'alan',\n",
       " 'alarm',\n",
       " 'albeit',\n",
       " 'albert',\n",
       " 'album',\n",
       " 'alcohol',\n",
       " 'alec',\n",
       " 'alert',\n",
       " 'alex',\n",
       " 'alexand',\n",
       " 'alexandr',\n",
       " 'alfr',\n",
       " 'alic',\n",
       " 'alicia',\n",
       " 'alien',\n",
       " 'alik',\n",
       " 'alison',\n",
       " 'aliv',\n",
       " 'alleg',\n",
       " 'allen',\n",
       " 'alley',\n",
       " 'alli',\n",
       " 'allow',\n",
       " 'almost',\n",
       " 'alon',\n",
       " 'along',\n",
       " 'alongsid',\n",
       " 'alreadi',\n",
       " 'alright',\n",
       " 'also',\n",
       " 'alter',\n",
       " 'altern',\n",
       " 'although',\n",
       " 'altman',\n",
       " 'altogeth',\n",
       " 'alvin',\n",
       " 'alway',\n",
       " 'amanda',\n",
       " 'amateur',\n",
       " 'amateurish',\n",
       " 'amaz',\n",
       " 'amazingli',\n",
       " 'amazon',\n",
       " 'ambigu',\n",
       " 'ambit',\n",
       " 'ambiti',\n",
       " 'america',\n",
       " 'american',\n",
       " 'ami',\n",
       " 'amitabh',\n",
       " 'among',\n",
       " 'amongst',\n",
       " 'amor',\n",
       " 'amount',\n",
       " 'amrita',\n",
       " 'amus',\n",
       " 'analysi',\n",
       " 'analyz',\n",
       " 'anchor',\n",
       " 'ancient',\n",
       " 'anderson',\n",
       " 'andi',\n",
       " 'andr',\n",
       " 'andrew',\n",
       " 'angel',\n",
       " 'angela',\n",
       " 'anger',\n",
       " 'angl',\n",
       " 'angri',\n",
       " 'angst',\n",
       " 'anim',\n",
       " 'ann',\n",
       " 'anna',\n",
       " 'anni',\n",
       " 'announc',\n",
       " 'annoy',\n",
       " 'anoth',\n",
       " 'answer',\n",
       " 'ant',\n",
       " 'antagonist',\n",
       " 'antholog',\n",
       " 'anthoni',\n",
       " 'anti',\n",
       " 'antic',\n",
       " 'anticip',\n",
       " 'anton',\n",
       " 'antonio',\n",
       " 'antonioni',\n",
       " 'antwon',\n",
       " 'anybodi',\n",
       " 'anyhow',\n",
       " 'anymor',\n",
       " 'anyon',\n",
       " 'anyth',\n",
       " 'anyway',\n",
       " 'anywher',\n",
       " 'apart',\n",
       " 'ape',\n",
       " 'apolog',\n",
       " 'appal',\n",
       " 'appar',\n",
       " 'appeal',\n",
       " 'appear',\n",
       " 'appl',\n",
       " 'applaud',\n",
       " 'appli',\n",
       " 'appreci',\n",
       " 'approach',\n",
       " 'appropri',\n",
       " 'approv',\n",
       " 'april',\n",
       " 'arab',\n",
       " 'arc',\n",
       " 'archiv',\n",
       " 'area',\n",
       " 'argu',\n",
       " 'arguabl',\n",
       " 'argument',\n",
       " 'ariel',\n",
       " 'aris',\n",
       " 'aristocrat',\n",
       " 'arm',\n",
       " 'armi',\n",
       " 'armstrong',\n",
       " 'arnold',\n",
       " 'around',\n",
       " 'arrang',\n",
       " 'arrest',\n",
       " 'arriv',\n",
       " 'arrog',\n",
       " 'arrow',\n",
       " 'art',\n",
       " 'arthur',\n",
       " 'articl',\n",
       " 'artifici',\n",
       " 'artist',\n",
       " 'artsi',\n",
       " 'artwork',\n",
       " 'ash',\n",
       " 'asham',\n",
       " 'ashley',\n",
       " 'asian',\n",
       " 'asid',\n",
       " 'ask',\n",
       " 'asleep',\n",
       " 'aspect',\n",
       " 'aspir',\n",
       " 'ass',\n",
       " 'assassin',\n",
       " 'assault',\n",
       " 'assembl',\n",
       " 'assert',\n",
       " 'asset',\n",
       " 'assign',\n",
       " 'assist',\n",
       " 'associ',\n",
       " 'assort',\n",
       " 'assum',\n",
       " 'assur',\n",
       " 'astair',\n",
       " 'astonish',\n",
       " 'astound',\n",
       " 'astronaut',\n",
       " 'asylum',\n",
       " 'athlet',\n",
       " 'atlanti',\n",
       " 'atmospher',\n",
       " 'atroc',\n",
       " 'atroci',\n",
       " 'attach',\n",
       " 'attack',\n",
       " 'attempt',\n",
       " 'attenborough',\n",
       " 'attend',\n",
       " 'attent',\n",
       " 'attitud',\n",
       " 'attorney',\n",
       " 'attract',\n",
       " 'attribut',\n",
       " 'audienc',\n",
       " 'audio',\n",
       " 'audit',\n",
       " 'audrey',\n",
       " 'aunt',\n",
       " 'aussi',\n",
       " 'austen',\n",
       " 'austin',\n",
       " 'australia',\n",
       " 'australian',\n",
       " 'authent',\n",
       " 'author',\n",
       " 'automat',\n",
       " 'avail',\n",
       " 'aveng',\n",
       " 'averag',\n",
       " 'avoid',\n",
       " 'aw',\n",
       " 'await',\n",
       " 'awak',\n",
       " 'awaken',\n",
       " 'awar',\n",
       " 'award',\n",
       " 'away',\n",
       " 'awe',\n",
       " 'awesom',\n",
       " 'awhil',\n",
       " 'awkward',\n",
       " 'axe',\n",
       " 'babe',\n",
       " 'babi',\n",
       " 'bacal',\n",
       " 'bach',\n",
       " 'bachelor',\n",
       " 'back',\n",
       " 'backdrop',\n",
       " 'background',\n",
       " 'backward',\n",
       " 'bacon',\n",
       " 'bad',\n",
       " 'baddi',\n",
       " 'badli',\n",
       " 'baffl',\n",
       " 'bag',\n",
       " 'bait',\n",
       " 'bake',\n",
       " 'baker',\n",
       " 'bakshi',\n",
       " 'balanc',\n",
       " 'baldwin',\n",
       " 'ball',\n",
       " 'ballet',\n",
       " 'ban',\n",
       " 'banal',\n",
       " 'band',\n",
       " 'bang',\n",
       " 'bank',\n",
       " 'banter',\n",
       " 'bar',\n",
       " 'barbara',\n",
       " 'bare',\n",
       " 'bargain',\n",
       " 'barn',\n",
       " 'barrel',\n",
       " 'barri',\n",
       " 'barrymor',\n",
       " 'base',\n",
       " 'basebal',\n",
       " 'basement',\n",
       " 'bash',\n",
       " 'basi',\n",
       " 'basic',\n",
       " 'basing',\n",
       " 'basket',\n",
       " 'basketbal',\n",
       " 'bastard',\n",
       " 'bat',\n",
       " 'bate',\n",
       " 'bath',\n",
       " 'bathroom',\n",
       " 'batman',\n",
       " 'battl',\n",
       " 'bay',\n",
       " 'bbc',\n",
       " 'be',\n",
       " 'beach',\n",
       " 'bean',\n",
       " 'bear',\n",
       " 'beard',\n",
       " 'beast',\n",
       " 'beat',\n",
       " 'beaten',\n",
       " 'beatl',\n",
       " 'beatti',\n",
       " 'beauti',\n",
       " 'becam',\n",
       " 'becom',\n",
       " 'bed',\n",
       " 'bedroom',\n",
       " 'beer',\n",
       " 'befriend',\n",
       " 'beg',\n",
       " 'began',\n",
       " 'begin',\n",
       " 'behav',\n",
       " 'behavior',\n",
       " 'behaviour',\n",
       " 'behind',\n",
       " 'behold',\n",
       " 'bela',\n",
       " 'belief',\n",
       " 'believ',\n",
       " 'bell',\n",
       " 'belli',\n",
       " 'belong',\n",
       " 'belov',\n",
       " 'belt',\n",
       " 'belushi',\n",
       " 'ben',\n",
       " 'bend',\n",
       " 'beneath',\n",
       " 'benefit',\n",
       " 'bent',\n",
       " 'beowulf',\n",
       " 'bergman',\n",
       " 'berlin',\n",
       " 'bernard',\n",
       " 'besid',\n",
       " 'best',\n",
       " 'bet',\n",
       " 'betray',\n",
       " 'bett',\n",
       " 'better',\n",
       " 'betti',\n",
       " 'beverli',\n",
       " 'bewar',\n",
       " 'beyond',\n",
       " 'bias',\n",
       " 'bibl',\n",
       " 'biblic',\n",
       " 'big',\n",
       " 'bigger',\n",
       " 'biggest',\n",
       " 'bike',\n",
       " 'biker',\n",
       " 'bikini',\n",
       " 'biko',\n",
       " 'bill',\n",
       " 'billi',\n",
       " 'bin',\n",
       " 'biographi',\n",
       " 'biopic',\n",
       " 'bird',\n",
       " 'birth',\n",
       " 'birthday',\n",
       " 'bit',\n",
       " 'bitch',\n",
       " 'bite',\n",
       " 'bitten',\n",
       " 'bitter',\n",
       " 'bizarr',\n",
       " 'black',\n",
       " 'blackmail',\n",
       " 'blade',\n",
       " 'blah',\n",
       " 'blair',\n",
       " 'blake',\n",
       " 'blame',\n",
       " 'bland',\n",
       " 'blank',\n",
       " 'blast',\n",
       " 'blatant',\n",
       " 'blatantli',\n",
       " 'bleak',\n",
       " 'bleed',\n",
       " 'blend',\n",
       " 'bless',\n",
       " 'blew',\n",
       " 'blind',\n",
       " 'blob',\n",
       " 'block',\n",
       " 'blockbust',\n",
       " 'blond',\n",
       " 'blood',\n",
       " 'bloodi',\n",
       " 'bloom',\n",
       " 'blow',\n",
       " 'blown',\n",
       " 'blue',\n",
       " 'blunt',\n",
       " 'blur',\n",
       " 'bo',\n",
       " 'board',\n",
       " 'boast',\n",
       " 'boat',\n",
       " 'bob',\n",
       " 'bobbi',\n",
       " 'bodi',\n",
       " 'bogu',\n",
       " 'boil',\n",
       " 'bold',\n",
       " 'boll',\n",
       " 'bollywood',\n",
       " 'bomb',\n",
       " 'bond',\n",
       " 'bondag',\n",
       " 'bone',\n",
       " 'bonu',\n",
       " 'boo',\n",
       " 'boob',\n",
       " 'book',\n",
       " 'boom',\n",
       " 'boot',\n",
       " 'booth',\n",
       " 'border',\n",
       " 'bore',\n",
       " 'boredom',\n",
       " 'bori',\n",
       " 'born',\n",
       " 'borrow',\n",
       " 'boss',\n",
       " 'boston',\n",
       " 'bother',\n",
       " 'bottl',\n",
       " 'bottom',\n",
       " 'bought',\n",
       " 'bounc',\n",
       " 'bound',\n",
       " 'bourn',\n",
       " 'bow',\n",
       " 'bowl',\n",
       " 'box',\n",
       " 'boxer',\n",
       " 'boy',\n",
       " 'boyer',\n",
       " 'boyfriend',\n",
       " 'boyl',\n",
       " 'brad',\n",
       " 'bradi',\n",
       " 'brain',\n",
       " 'branagh',\n",
       " 'brand',\n",
       " 'brando',\n",
       " 'brave',\n",
       " 'braveheart',\n",
       " 'bravo',\n",
       " 'brazil',\n",
       " 'bread',\n",
       " 'break',\n",
       " 'breakdown',\n",
       " 'breakfast',\n",
       " 'breast',\n",
       " 'breath',\n",
       " 'breathtak',\n",
       " 'breed',\n",
       " 'brenda',\n",
       " 'brendan',\n",
       " 'brian',\n",
       " 'bride',\n",
       " 'bridg',\n",
       " 'bridget',\n",
       " 'brief',\n",
       " 'briefli',\n",
       " 'bright',\n",
       " 'brillianc',\n",
       " 'brilliant',\n",
       " 'brilliantli',\n",
       " 'bring',\n",
       " 'brit',\n",
       " 'britain',\n",
       " 'british',\n",
       " 'bro',\n",
       " 'broad',\n",
       " 'broadcast',\n",
       " 'broadway',\n",
       " 'broke',\n",
       " 'broken',\n",
       " 'bronson',\n",
       " 'bront',\n",
       " 'brood',\n",
       " 'brook',\n",
       " 'brooklyn',\n",
       " 'brosnan',\n",
       " 'brother',\n",
       " 'brought',\n",
       " 'brown',\n",
       " 'bruce',\n",
       " 'bruno',\n",
       " 'brush',\n",
       " 'brutal',\n",
       " 'bsg',\n",
       " 'btw',\n",
       " 'bu',\n",
       " 'bubbl',\n",
       " 'buck',\n",
       " 'bud',\n",
       " 'buddi',\n",
       " 'budget',\n",
       " 'buff',\n",
       " 'buffalo',\n",
       " 'bug',\n",
       " 'build',\n",
       " 'built',\n",
       " 'bulk',\n",
       " 'bull',\n",
       " 'bullet',\n",
       " 'bulli',\n",
       " 'bumbl',\n",
       " 'bump',\n",
       " 'bunch',\n",
       " 'bunni',\n",
       " 'buri',\n",
       " 'burk',\n",
       " 'burn',\n",
       " 'burst',\n",
       " 'burt',\n",
       " 'burton',\n",
       " 'bush',\n",
       " 'busi',\n",
       " 'businessman',\n",
       " 'bust',\n",
       " 'buster',\n",
       " 'butch',\n",
       " 'butcher',\n",
       " 'butler',\n",
       " 'butt',\n",
       " 'button',\n",
       " 'buy',\n",
       " 'buzz',\n",
       " 'bye',\n",
       " 'cabin',\n",
       " 'cabl',\n",
       " 'cage',\n",
       " 'cagney',\n",
       " 'cain',\n",
       " 'cake',\n",
       " 'calib',\n",
       " 'california',\n",
       " 'call',\n",
       " 'calm',\n",
       " 'camcord',\n",
       " 'came',\n",
       " 'cameo',\n",
       " 'camera',\n",
       " 'cameron',\n",
       " 'camp',\n",
       " 'campaign',\n",
       " 'campbel',\n",
       " 'campi',\n",
       " 'canada',\n",
       " 'canadian',\n",
       " 'cancel',\n",
       " 'cancer',\n",
       " 'candi',\n",
       " 'candid',\n",
       " 'candl',\n",
       " 'cannib',\n",
       " 'cannon',\n",
       " 'cannot',\n",
       " 'cant',\n",
       " 'canyon',\n",
       " 'cap',\n",
       " 'capabl',\n",
       " 'cape',\n",
       " 'capit',\n",
       " 'capot',\n",
       " 'captain',\n",
       " 'captiv',\n",
       " 'captur',\n",
       " 'car',\n",
       " 'card',\n",
       " 'cardboard',\n",
       " 'care',\n",
       " 'career',\n",
       " 'carel',\n",
       " 'carey',\n",
       " 'cari',\n",
       " 'caricatur',\n",
       " 'carl',\n",
       " 'carla',\n",
       " 'carlito',\n",
       " 'carlo',\n",
       " 'carmen',\n",
       " 'carol',\n",
       " 'carpent',\n",
       " 'carradin',\n",
       " 'carrey',\n",
       " 'carri',\n",
       " 'carter',\n",
       " 'cartoon',\n",
       " 'cartoonish',\n",
       " 'case',\n",
       " 'cash',\n",
       " 'casino',\n",
       " 'casper',\n",
       " 'cassavet',\n",
       " 'cassidi',\n",
       " 'cast',\n",
       " 'castl',\n",
       " 'casual',\n",
       " 'cat',\n",
       " 'catch',\n",
       " 'catchi',\n",
       " 'categori',\n",
       " 'catherin',\n",
       " 'cathol',\n",
       " 'cattl',\n",
       " 'caught',\n",
       " 'caus',\n",
       " 'cave',\n",
       " 'cb',\n",
       " 'cd',\n",
       " 'cecil',\n",
       " 'celebr',\n",
       " 'cell',\n",
       " 'celluloid',\n",
       " 'cemeteri',\n",
       " 'censor',\n",
       " 'cent',\n",
       " 'center',\n",
       " 'centr',\n",
       " 'central',\n",
       " 'centuri',\n",
       " 'cerebr',\n",
       " 'ceremoni',\n",
       " 'certain',\n",
       " 'certainli',\n",
       " 'cg',\n",
       " 'cgi',\n",
       " 'chain',\n",
       " 'chainsaw',\n",
       " 'chair',\n",
       " 'challeng',\n",
       " 'chamberlain',\n",
       " 'champion',\n",
       " 'championship',\n",
       " 'chan',\n",
       " 'chanc',\n",
       " 'chang',\n",
       " 'channel',\n",
       " 'chao',\n",
       " 'chaplin',\n",
       " 'chapter',\n",
       " 'charact',\n",
       " 'character',\n",
       " 'characteris',\n",
       " 'characterist',\n",
       " 'charg',\n",
       " 'charisma',\n",
       " 'charismat',\n",
       " 'charl',\n",
       " 'charli',\n",
       " 'charlott',\n",
       " 'charlton',\n",
       " 'charm',\n",
       " 'chase',\n",
       " 'chavez',\n",
       " 'che',\n",
       " 'cheadl',\n",
       " 'cheap',\n",
       " 'cheat',\n",
       " 'check',\n",
       " 'cheek',\n",
       " 'cheer',\n",
       " 'chees',\n",
       " 'cheesi',\n",
       " 'chemistri',\n",
       " 'cher',\n",
       " 'chess',\n",
       " 'chest',\n",
       " 'chew',\n",
       " 'chicago',\n",
       " 'chick',\n",
       " 'chicken',\n",
       " 'chief',\n",
       " 'child',\n",
       " 'childhood',\n",
       " 'childish',\n",
       " 'children',\n",
       " 'chill',\n",
       " 'china',\n",
       " 'chines',\n",
       " 'chip',\n",
       " 'choic',\n",
       " 'choke',\n",
       " 'choos',\n",
       " 'chop',\n",
       " 'choppi',\n",
       " 'choreograph',\n",
       " 'choreographi',\n",
       " 'choru',\n",
       " 'chose',\n",
       " 'chosen',\n",
       " 'chri',\n",
       " 'christ',\n",
       " 'christi',\n",
       " 'christian',\n",
       " 'christin',\n",
       " 'christina',\n",
       " 'christma',\n",
       " 'christoph',\n",
       " 'chronicl',\n",
       " 'chuck',\n",
       " 'chuckl',\n",
       " 'church',\n",
       " 'cia',\n",
       " 'cigarett',\n",
       " 'cinderella',\n",
       " 'cinema',\n",
       " 'cinemat',\n",
       " 'cinematograph',\n",
       " 'cinematographi',\n",
       " 'circl',\n",
       " 'circu',\n",
       " 'circumst',\n",
       " 'citi',\n",
       " 'citizen',\n",
       " 'civil',\n",
       " 'civilian',\n",
       " 'clad',\n",
       " 'claim',\n",
       " 'clair',\n",
       " 'clan',\n",
       " 'clara',\n",
       " 'clark',\n",
       " 'clash',\n",
       " 'class',\n",
       " 'classic',\n",
       " 'clau',\n",
       " 'claud',\n",
       " 'claustrophob',\n",
       " 'clean',\n",
       " 'clear',\n",
       " 'clearli',\n",
       " 'clerk',\n",
       " 'clever',\n",
       " 'cleverli',\n",
       " 'clich',\n",
       " 'click',\n",
       " 'client',\n",
       " 'cliff',\n",
       " 'cliffhang',\n",
       " 'climact',\n",
       " 'climat',\n",
       " 'climax',\n",
       " 'climb',\n",
       " 'clinic',\n",
       " 'clint',\n",
       " 'clip',\n",
       " 'clock',\n",
       " 'clone',\n",
       " 'close',\n",
       " 'closer',\n",
       " 'closest',\n",
       " 'closet',\n",
       " 'cloth',\n",
       " 'cloud',\n",
       " 'clown',\n",
       " 'club',\n",
       " 'clue',\n",
       " 'clueless',\n",
       " 'clumsi',\n",
       " 'clutter',\n",
       " 'co',\n",
       " 'coach',\n",
       " 'coast',\n",
       " 'coaster',\n",
       " 'coat',\n",
       " 'code',\n",
       " 'coffe',\n",
       " 'cohen',\n",
       " 'coher',\n",
       " 'coincid',\n",
       " 'cold',\n",
       " 'cole',\n",
       " 'colin',\n",
       " 'collabor',\n",
       " 'collaps',\n",
       " 'colleagu',\n",
       " 'collect',\n",
       " 'collector',\n",
       " 'colleg',\n",
       " 'colonel',\n",
       " 'coloni',\n",
       " 'color',\n",
       " 'colour',\n",
       " 'columbo',\n",
       " 'com',\n",
       " 'comb',\n",
       " 'combat',\n",
       " 'combin',\n",
       " 'come',\n",
       " 'comed',\n",
       " 'comedi',\n",
       " 'comedian',\n",
       " 'comfort',\n",
       " 'comic',\n",
       " 'command',\n",
       " 'commend',\n",
       " 'comment',\n",
       " 'commentari',\n",
       " 'commerci',\n",
       " 'commit',\n",
       " 'common',\n",
       " 'commun',\n",
       " 'communist',\n",
       " 'compani',\n",
       " 'companion',\n",
       " 'compar',\n",
       " 'comparison',\n",
       " 'compass',\n",
       " 'compel',\n",
       " 'compens',\n",
       " 'compet',\n",
       " 'competit',\n",
       " 'complain',\n",
       " 'complaint',\n",
       " 'complet',\n",
       " 'complex',\n",
       " 'complic',\n",
       " 'compliment',\n",
       " 'compos',\n",
       " 'composit',\n",
       " 'comprehend',\n",
       " 'comprehens',\n",
       " 'compris',\n",
       " 'compromis',\n",
       " 'comput',\n",
       " 'con',\n",
       " 'conan',\n",
       " 'conceiv',\n",
       " 'concentr',\n",
       " 'concept',\n",
       " 'concern',\n",
       " 'concert',\n",
       " 'conclud',\n",
       " 'conclus',\n",
       " 'condemn',\n",
       " 'condit',\n",
       " 'conduct',\n",
       " 'confess',\n",
       " 'confid',\n",
       " 'confin',\n",
       " 'confirm',\n",
       " 'conflict',\n",
       " 'confront',\n",
       " 'confus',\n",
       " 'congratul',\n",
       " 'connect',\n",
       " 'conneri',\n",
       " 'connor',\n",
       " 'conquer',\n",
       " 'conrad',\n",
       " 'conscienc',\n",
       " 'consciou',\n",
       " 'conscious',\n",
       " 'consequ',\n",
       " 'conserv',\n",
       " 'consid',\n",
       " 'consider',\n",
       " 'consist',\n",
       " 'conspiraci',\n",
       " 'constant',\n",
       " 'constantli',\n",
       " 'constitut',\n",
       " 'construct',\n",
       " 'consum',\n",
       " 'contact',\n",
       " 'contain',\n",
       " 'contempl',\n",
       " 'contemporari',\n",
       " 'contempt',\n",
       " 'contend',\n",
       " 'content',\n",
       " 'contest',\n",
       " 'context',\n",
       " 'continu',\n",
       " 'contract',\n",
       " 'contradict',\n",
       " 'contrari',\n",
       " 'contrast',\n",
       " 'contribut',\n",
       " 'contriv',\n",
       " 'control',\n",
       " 'controversi',\n",
       " 'conveni',\n",
       " 'convent',\n",
       " 'convers',\n",
       " 'convert',\n",
       " 'convey',\n",
       " 'convict',\n",
       " 'convinc',\n",
       " 'convincingli',\n",
       " 'convolut',\n",
       " 'cook',\n",
       " 'cooki',\n",
       " 'cool',\n",
       " 'cooper',\n",
       " 'cop',\n",
       " 'cope',\n",
       " 'copi',\n",
       " 'corbett',\n",
       " 'core',\n",
       " 'corman',\n",
       " 'corn',\n",
       " 'corner',\n",
       " 'corni',\n",
       " 'corpor',\n",
       " 'corps',\n",
       " 'correct',\n",
       " 'correctli',\n",
       " 'corrupt',\n",
       " 'cost',\n",
       " 'costum',\n",
       " 'couch',\n",
       " 'could',\n",
       " 'count',\n",
       " 'counter',\n",
       " 'counterpart',\n",
       " 'countless',\n",
       " 'countri',\n",
       " 'countrysid',\n",
       " 'coup',\n",
       " 'coupl',\n",
       " ...]"
      ]
     },
     "execution_count": 34,
     "metadata": {},
     "output_type": "execute_result"
    }
   ],
   "source": [
    "vectorizer.get_feature_names()"
   ]
  },
  {
   "cell_type": "code",
   "execution_count": 35,
   "metadata": {},
   "outputs": [
    {
     "data": {
      "text/plain": [
       "(25000, 5000)"
      ]
     },
     "execution_count": 35,
     "metadata": {},
     "output_type": "execute_result"
    }
   ],
   "source": [
    "train_data_features.shape"
   ]
  },
  {
   "cell_type": "code",
   "execution_count": 36,
   "metadata": {},
   "outputs": [
    {
     "name": "stdout",
     "output_type": "stream",
     "text": [
      "5000\n",
      "['abandon', 'abc', 'abil', 'abl', 'abomin', 'aborigin', 'abort', 'abound', 'abraham', 'abrupt', 'abruptli', 'absenc', 'absent', 'absolut', 'absorb', 'absurd', 'abund', 'abus', 'abysm', 'academi', 'accent', 'accept', 'access', 'accid', 'accident', 'acclaim', 'accompani', 'accomplish', 'accord', 'account', 'accur', 'accuraci', 'accus', 'ace', 'achiev', 'acid', 'acknowledg', 'acquaint', 'acquir', 'across', 'act', 'action', 'activ', 'actor', 'actress', 'actual', 'ad', 'adam', 'adapt', 'add', 'addict', 'addit', 'address', 'adequ', 'admir', 'admit', 'admittedli', 'adolesc', 'adopt', 'ador', 'adult', 'advanc', 'advantag', 'adventur', 'advertis', 'advic', 'advis', 'aesthet', 'affair', 'affect', 'affleck', 'afford', 'aforement', 'afraid', 'africa', 'african', 'afternoon', 'afterward', 'age', 'agenc', 'agenda', 'agent', 'aggress', 'ago', 'agre', 'ah', 'ahead', 'aid', 'aim', 'air', 'airplan', 'airport', 'aka', 'akin', 'akshay', 'al', 'ala', 'alan', 'alarm', 'albeit']\n"
     ]
    }
   ],
   "source": [
    "# Take a look at the words in the vocabulary\n",
    "vocab = vectorizer.get_feature_names()\n",
    "print(len(vocab))\n",
    "print(vocab[:100])"
   ]
  },
  {
   "cell_type": "code",
   "execution_count": 37,
   "metadata": {},
   "outputs": [
    {
     "name": "stdout",
     "output_type": "stream",
     "text": [
      "288 abandon\n",
      "125 abc\n",
      "562 abil\n",
      "1259 abl\n",
      "83 abomin\n",
      "69 aborigin\n",
      "92 abort\n",
      "63 abound\n",
      "93 abraham\n",
      "76 abrupt\n",
      "60 abruptli\n",
      "118 absenc\n",
      "83 absent\n",
      "1845 absolut\n",
      "154 absorb\n",
      "403 absurd\n",
      "66 abund\n",
      "398 abus\n",
      "110 abysm\n",
      "298 academi\n",
      "704 accent\n",
      "781 accept\n",
      "165 access\n",
      "344 accid\n",
      "246 accident\n",
      "118 acclaim\n",
      "197 accompani\n",
      "271 accomplish\n",
      "311 accord\n",
      "297 account\n",
      "349 accur\n",
      "82 accuraci\n",
      "204 accus\n",
      "75 ace\n",
      "578 achiev\n",
      "102 acid\n",
      "109 acknowledg\n",
      "73 acquaint\n",
      "97 acquir\n",
      "971 across\n",
      "8794 act\n",
      "3694 action\n",
      "268 activ\n",
      "6876 actor\n",
      "1588 actress\n",
      "5065 actual\n",
      "793 ad\n",
      "409 adam\n",
      "835 adapt\n",
      "1147 add\n",
      "261 addict\n"
     ]
    }
   ],
   "source": [
    "import numpy as np\n",
    "\n",
    "# Sum up the counts of each vocabulary word\n",
    "dist = np.sum(train_data_features, axis=0)\n",
    "\n",
    "# For each, print the vocabulary word and the number of times it \n",
    "# appears in the training set\n",
    "i = 0\n",
    "for tag, count in zip(vocab, dist):\n",
    "    print(count, tag)\n",
    "    i += 1\n",
    "    if i > 50:\n",
    "        break"
   ]
  },
  {
   "cell_type": "markdown",
   "metadata": {},
   "source": [
    "# Random Forest"
   ]
  },
  {
   "cell_type": "code",
   "execution_count": 38,
   "metadata": {},
   "outputs": [
    {
     "name": "stdout",
     "output_type": "stream",
     "text": [
      "Training the random forest...\n"
     ]
    }
   ],
   "source": [
    "print(\"Training the random forest...\")\n",
    "from sklearn.ensemble import RandomForestClassifier\n",
    "\n",
    "# Initialize a Random Forest classifier with 100 trees\n",
    "forest = RandomForestClassifier(n_estimators = 100) \n",
    "\n",
    "# Fit the forest to the training set, using the bag of words as \n",
    "# features and the sentiment labels as the response variable\n",
    "#\n",
    "# This may take a few minutes to run\n",
    "forest = forest.fit( train_data_features, train[\"sentiment\"] )"
   ]
  },
  {
   "cell_type": "code",
   "execution_count": 39,
   "metadata": {},
   "outputs": [
    {
     "name": "stdout",
     "output_type": "stream",
     "text": [
      "Number of test reviews:  25000\n"
     ]
    }
   ],
   "source": [
    "# Create an empty list and append the clean reviews one by one\n",
    "num_reviews = len(test[\"review\"])\n",
    "print('Number of test reviews: ',num_reviews)\n",
    "\n",
    "# Get a bag of words for the test set, and convert to a numpy array\n",
    "test_data_features = vectorizer.transform(clean_test_reviews)\n",
    "test_data_features = test_data_features.toarray()\n",
    "\n",
    "# Use the random forest to make sentiment label predictions\n",
    "result = forest.predict(test_data_features)\n",
    "\n",
    "# Copy the results to a pandas dataframe with an \"id\" column and\n",
    "# a \"sentiment\" column\n",
    "output = pd.DataFrame( data={\"id\":test[\"id\"], \"sentiment\":result} )\n",
    "\n",
    "# Use pandas to write the comma-separated output file\n",
    "output.to_csv( \"../submit/submission1.csv\", index=False, quoting=3)"
   ]
  },
  {
   "cell_type": "markdown",
   "metadata": {},
   "source": [
    "Proba"
   ]
  },
  {
   "cell_type": "code",
   "execution_count": 41,
   "metadata": {},
   "outputs": [],
   "source": [
    "# Use the random forest to make sentiment label predictions\n",
    "result = forest.predict_proba(test_data_features)\n",
    "\n",
    "# Copy the results to a pandas dataframe with an \"id\" column and\n",
    "# a \"sentiment\" column\n",
    "output = pd.DataFrame( data={\"id\":test[\"id\"], \"sentiment\":result[:,0]} )\n",
    "\n",
    "# Use pandas to write the comma-separated output file\n",
    "output.to_csv( \"../submit/submission1_proba.csv\", index=False, quoting=3)"
   ]
  },
  {
   "cell_type": "markdown",
   "metadata": {},
   "source": [
    "# Public Leaderboard\n",
    "\n",
    "submit | score\n",
    "-------|-------\n",
    "submission1 | 0.84392\n",
    "submission1_proba | 0.92104"
   ]
  },
  {
   "cell_type": "code",
   "execution_count": null,
   "metadata": {},
   "outputs": [],
   "source": []
  }
 ],
 "metadata": {
  "hide_input": false,
  "kernelspec": {
   "display_name": "Python 3",
   "language": "python",
   "name": "python3"
  },
  "language_info": {
   "codemirror_mode": {
    "name": "ipython",
    "version": 3
   },
   "file_extension": ".py",
   "mimetype": "text/x-python",
   "name": "python",
   "nbconvert_exporter": "python",
   "pygments_lexer": "ipython3",
   "version": "3.6.8"
  },
  "toc": {
   "base_numbering": 1,
   "nav_menu": {},
   "number_sections": true,
   "sideBar": true,
   "skip_h1_title": false,
   "title_cell": "Table of Contents",
   "title_sidebar": "Contents",
   "toc_cell": false,
   "toc_position": {},
   "toc_section_display": true,
   "toc_window_display": true
  },
  "varInspector": {
   "cols": {
    "lenName": 16,
    "lenType": 16,
    "lenVar": 40
   },
   "kernels_config": {
    "python": {
     "delete_cmd_postfix": "",
     "delete_cmd_prefix": "del ",
     "library": "var_list.py",
     "varRefreshCmd": "print(var_dic_list())"
    },
    "r": {
     "delete_cmd_postfix": ") ",
     "delete_cmd_prefix": "rm(",
     "library": "var_list.r",
     "varRefreshCmd": "cat(var_dic_list()) "
    }
   },
   "types_to_exclude": [
    "module",
    "function",
    "builtin_function_or_method",
    "instance",
    "_Feature"
   ],
   "window_display": false
  }
 },
 "nbformat": 4,
 "nbformat_minor": 2
}
