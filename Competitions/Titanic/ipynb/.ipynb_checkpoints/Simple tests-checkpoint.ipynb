{
 "cells": [
  {
   "cell_type": "markdown",
   "metadata": {},
   "source": [
    "# 여기서는 Machine learning Model 보다는 간단한 예를 통한 테스트를 해본다\n",
    "\n",
    "1. 남자는 모두 죽이고 여자는 모두 살린다.\n",
    "2. 남자 중 어른은 모두 죽이고 아이는 모두 살린다. 여자는 모두 살린다."
   ]
  },
  {
   "cell_type": "code",
   "execution_count": 18,
   "metadata": {},
   "outputs": [],
   "source": [
    "import pandas as pd\n",
    "import numpy as np\n",
    "\n",
    "import re"
   ]
  },
  {
   "cell_type": "code",
   "execution_count": 21,
   "metadata": {},
   "outputs": [
    {
     "name": "stdout",
     "output_type": "stream",
     "text": [
      "data shape:  (891, 12)\n",
      "test shape:  (418, 11)\n",
      "titanic shape:  (1309, 14)\n"
     ]
    }
   ],
   "source": [
    "data = pd.read_csv('../dataset/train.csv')\n",
    "test = pd.read_csv('../dataset/test.csv')\n",
    "\n",
    "titanic = pd.read_csv('../dataset/titanic.csv')\n",
    "\n",
    "print('data shape: ',data.shape)\n",
    "print('test shape: ',test.shape)\n",
    "print('titanic shape: ',titanic.shape)"
   ]
  },
  {
   "cell_type": "markdown",
   "metadata": {},
   "source": [
    "Test set의 True Label을 찾아준다"
   ]
  },
  {
   "cell_type": "code",
   "execution_count": 22,
   "metadata": {},
   "outputs": [
    {
     "name": "stderr",
     "output_type": "stream",
     "text": [
      "C:\\Users\\wogur\\AppData\\Local\\Continuum\\anaconda3\\lib\\site-packages\\ipykernel_launcher.py:3: SettingWithCopyWarning: \n",
      "A value is trying to be set on a copy of a slice from a DataFrame\n",
      "\n",
      "See the caveats in the documentation: http://pandas.pydata.org/pandas-docs/stable/indexing.html#indexing-view-versus-copy\n",
      "  This is separate from the ipykernel package so we can avoid doing imports until\n",
      "C:\\Users\\wogur\\AppData\\Local\\Continuum\\anaconda3\\lib\\site-packages\\ipykernel_launcher.py:7: SettingWithCopyWarning: \n",
      "A value is trying to be set on a copy of a slice from a DataFrame\n",
      "\n",
      "See the caveats in the documentation: http://pandas.pydata.org/pandas-docs/stable/indexing.html#indexing-view-versus-copy\n",
      "  import sys\n"
     ]
    }
   ],
   "source": [
    "for i, name in enumerate(titanic['name']):\n",
    "    if '\"' in name:\n",
    "        titanic['name'][i] = re.sub('\"', '', name)\n",
    "        \n",
    "for i, name in enumerate(test['Name']):\n",
    "    if '\"' in name:\n",
    "        test['Name'][i] = re.sub('\"', '', name)"
   ]
  },
  {
   "cell_type": "code",
   "execution_count": 24,
   "metadata": {},
   "outputs": [],
   "source": [
    "survived = []\n",
    "\n",
    "for name in test['Name']:\n",
    "    survived.append(int(titanic.loc[titanic['name'] == name]['survived'].values[-1]))"
   ]
  },
  {
   "cell_type": "markdown",
   "metadata": {},
   "source": [
    "# 1. 남자는 모두 죽이고 여자는 모두 살린다."
   ]
  },
  {
   "cell_type": "code",
   "execution_count": 28,
   "metadata": {},
   "outputs": [],
   "source": [
    "prediction = test.apply(lambda x: 0 if x.Sex == 'male' else 1, axis=1)"
   ]
  },
  {
   "cell_type": "code",
   "execution_count": 31,
   "metadata": {},
   "outputs": [
    {
     "name": "stdout",
     "output_type": "stream",
     "text": [
      "Accuracy: 76.56%\n"
     ]
    }
   ],
   "source": [
    "acc = np.sum(prediction == survived) / test.shape[0]\n",
    "print('Accuracy: {}%'.format(round(acc * 100, 2)))"
   ]
  },
  {
   "cell_type": "markdown",
   "metadata": {},
   "source": [
    "# 2. 남자 중 어린이는 모두 살리고 어른은 모두 죽인다. 여자는 모두 살린다."
   ]
  },
  {
   "cell_type": "code",
   "execution_count": 50,
   "metadata": {},
   "outputs": [
    {
     "data": {
      "text/plain": [
       "1    23\n",
       "0    17\n",
       "Name: Survived, dtype: int64"
      ]
     },
     "execution_count": 50,
     "metadata": {},
     "output_type": "execute_result"
    }
   ],
   "source": [
    "title = data.Name.apply(lambda x: x.split('.')[0].split(',')[1].strip())\n",
    "major = title.value_counts()[:4]\n",
    "data.loc[:,'Title'] = title.apply(lambda x: 'other' if x not in major else x)\n",
    "data[data.Title=='Master'].Survived.value_counts()"
   ]
  },
  {
   "cell_type": "code",
   "execution_count": null,
   "metadata": {},
   "outputs": [],
   "source": []
  }
 ],
 "metadata": {
  "kernelspec": {
   "display_name": "Python 3",
   "language": "python",
   "name": "python3"
  },
  "language_info": {
   "codemirror_mode": {
    "name": "ipython",
    "version": 3
   },
   "file_extension": ".py",
   "mimetype": "text/x-python",
   "name": "python",
   "nbconvert_exporter": "python",
   "pygments_lexer": "ipython3",
   "version": "3.6.8"
  }
 },
 "nbformat": 4,
 "nbformat_minor": 2
}
