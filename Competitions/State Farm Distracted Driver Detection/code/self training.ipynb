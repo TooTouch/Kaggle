{
 "cells": [
  {
   "cell_type": "code",
   "execution_count": 58,
   "metadata": {},
   "outputs": [],
   "source": [
    "import pandas as pd\n",
    "import numpy as np\n",
    "import os \n",
    "import h5py\n",
    "\n",
    "from keras.utils import to_categorical"
   ]
  },
  {
   "cell_type": "markdown",
   "metadata": {},
   "source": [
    "# Labeling"
   ]
  },
  {
   "cell_type": "code",
   "execution_count": 64,
   "metadata": {},
   "outputs": [
    {
     "name": "stdout",
     "output_type": "stream",
     "text": [
      "filename:  11.submit\n",
      "\n",
      "root_dir:  D:\\Project\\TT\\kaggle\\State Farm Distracted Driver Detection\n",
      "submit_dir:  D:\\Project\\TT\\kaggle\\State Farm Distracted Driver Detection/result/concat_file/\n",
      "submit_file:  D:\\Project\\TT\\kaggle\\State Farm Distracted Driver Detection/result/concat_file/11.submit.csv\n",
      "h5py_dir:  D:\\Project\\TT\\kaggle\\State Farm Distracted Driver Detection/dataset/h5py/label_11.submit\n"
     ]
    }
   ],
   "source": [
    "filename = '11.submit'\n",
    "\n",
    "root_dir = os.path.abspath(os.path.join(os.getcwd(),'..'))\n",
    "submit_dir = root_dir + '/result/concat_file/'\n",
    "submit_file = submit_dir + filename + '.csv'\n",
    "\n",
    "h5py_dir = root_dir + '/dataset/h5py/label_' + filename\n",
    "submit_h5py = h5py.File(h5py_dir, 'w')\n",
    "\n",
    "print('filename: ',filename)\n",
    "print()\n",
    "print('root_dir: ',root_dir)\n",
    "print('submit_dir: ',submit_dir)\n",
    "print('submit_file: ',submit_file)\n",
    "print()\n",
    "print('h5py_dir: ',h5py_dir)"
   ]
  },
  {
   "cell_type": "code",
   "execution_count": 65,
   "metadata": {},
   "outputs": [
    {
     "data": {
      "text/html": [
       "<div>\n",
       "<style scoped>\n",
       "    .dataframe tbody tr th:only-of-type {\n",
       "        vertical-align: middle;\n",
       "    }\n",
       "\n",
       "    .dataframe tbody tr th {\n",
       "        vertical-align: top;\n",
       "    }\n",
       "\n",
       "    .dataframe thead th {\n",
       "        text-align: right;\n",
       "    }\n",
       "</style>\n",
       "<table border=\"1\" class=\"dataframe\">\n",
       "  <thead>\n",
       "    <tr style=\"text-align: right;\">\n",
       "      <th></th>\n",
       "      <th>img</th>\n",
       "      <th>c0</th>\n",
       "      <th>c1</th>\n",
       "      <th>c2</th>\n",
       "      <th>c3</th>\n",
       "      <th>c4</th>\n",
       "      <th>c5</th>\n",
       "      <th>c6</th>\n",
       "      <th>c7</th>\n",
       "      <th>c8</th>\n",
       "      <th>c9</th>\n",
       "    </tr>\n",
       "  </thead>\n",
       "  <tbody>\n",
       "    <tr>\n",
       "      <th>0</th>\n",
       "      <td>img_1.jpg</td>\n",
       "      <td>5.785982e-07</td>\n",
       "      <td>1.163546e-07</td>\n",
       "      <td>1.443791e-04</td>\n",
       "      <td>7.898054e-05</td>\n",
       "      <td>3.348351e-05</td>\n",
       "      <td>9.997254e-01</td>\n",
       "      <td>5.839632e-07</td>\n",
       "      <td>2.840412e-06</td>\n",
       "      <td>1.301840e-05</td>\n",
       "      <td>5.270941e-07</td>\n",
       "    </tr>\n",
       "    <tr>\n",
       "      <th>1</th>\n",
       "      <td>img_10.jpg</td>\n",
       "      <td>5.278949e-07</td>\n",
       "      <td>2.826257e-07</td>\n",
       "      <td>5.086777e-07</td>\n",
       "      <td>1.629870e-08</td>\n",
       "      <td>1.093703e-06</td>\n",
       "      <td>9.999944e-01</td>\n",
       "      <td>1.184581e-07</td>\n",
       "      <td>1.912390e-07</td>\n",
       "      <td>2.881042e-06</td>\n",
       "      <td>1.539949e-08</td>\n",
       "    </tr>\n",
       "    <tr>\n",
       "      <th>2</th>\n",
       "      <td>img_100.jpg</td>\n",
       "      <td>7.501605e-01</td>\n",
       "      <td>2.546643e-02</td>\n",
       "      <td>4.015860e-03</td>\n",
       "      <td>2.818978e-03</td>\n",
       "      <td>7.982337e-04</td>\n",
       "      <td>2.314659e-02</td>\n",
       "      <td>3.249840e-04</td>\n",
       "      <td>3.593576e-03</td>\n",
       "      <td>1.627970e-01</td>\n",
       "      <td>2.687787e-02</td>\n",
       "    </tr>\n",
       "    <tr>\n",
       "      <th>3</th>\n",
       "      <td>img_1000.jpg</td>\n",
       "      <td>2.618440e-13</td>\n",
       "      <td>5.591902e-18</td>\n",
       "      <td>1.742529e-12</td>\n",
       "      <td>1.878893e-10</td>\n",
       "      <td>1.423753e-11</td>\n",
       "      <td>2.374039e-13</td>\n",
       "      <td>2.676016e-15</td>\n",
       "      <td>1.098533e-14</td>\n",
       "      <td>1.000000e+00</td>\n",
       "      <td>1.251289e-08</td>\n",
       "    </tr>\n",
       "    <tr>\n",
       "      <th>4</th>\n",
       "      <td>img_100000.jpg</td>\n",
       "      <td>1.553299e-07</td>\n",
       "      <td>6.215657e-08</td>\n",
       "      <td>1.943668e-07</td>\n",
       "      <td>9.999957e-01</td>\n",
       "      <td>3.648881e-06</td>\n",
       "      <td>1.162582e-08</td>\n",
       "      <td>3.690129e-08</td>\n",
       "      <td>3.844951e-08</td>\n",
       "      <td>6.642225e-08</td>\n",
       "      <td>8.886818e-09</td>\n",
       "    </tr>\n",
       "  </tbody>\n",
       "</table>\n",
       "</div>"
      ],
      "text/plain": [
       "              img            c0            c1            c2            c3  \\\n",
       "0       img_1.jpg  5.785982e-07  1.163546e-07  1.443791e-04  7.898054e-05   \n",
       "1      img_10.jpg  5.278949e-07  2.826257e-07  5.086777e-07  1.629870e-08   \n",
       "2     img_100.jpg  7.501605e-01  2.546643e-02  4.015860e-03  2.818978e-03   \n",
       "3    img_1000.jpg  2.618440e-13  5.591902e-18  1.742529e-12  1.878893e-10   \n",
       "4  img_100000.jpg  1.553299e-07  6.215657e-08  1.943668e-07  9.999957e-01   \n",
       "\n",
       "             c4            c5            c6            c7            c8  \\\n",
       "0  3.348351e-05  9.997254e-01  5.839632e-07  2.840412e-06  1.301840e-05   \n",
       "1  1.093703e-06  9.999944e-01  1.184581e-07  1.912390e-07  2.881042e-06   \n",
       "2  7.982337e-04  2.314659e-02  3.249840e-04  3.593576e-03  1.627970e-01   \n",
       "3  1.423753e-11  2.374039e-13  2.676016e-15  1.098533e-14  1.000000e+00   \n",
       "4  3.648881e-06  1.162582e-08  3.690129e-08  3.844951e-08  6.642225e-08   \n",
       "\n",
       "             c9  \n",
       "0  5.270941e-07  \n",
       "1  1.539949e-08  \n",
       "2  2.687787e-02  \n",
       "3  1.251289e-08  \n",
       "4  8.886818e-09  "
      ]
     },
     "execution_count": 65,
     "metadata": {},
     "output_type": "execute_result"
    }
   ],
   "source": [
    "df = pd.read_csv(submit_file)\n",
    "df.head()"
   ]
  },
  {
   "cell_type": "code",
   "execution_count": 66,
   "metadata": {},
   "outputs": [
    {
     "name": "stdout",
     "output_type": "stream",
     "text": [
      "Shape submit file:  (79726, 11)\n"
     ]
    }
   ],
   "source": [
    "size = df.shape\n",
    "print('Shape submit file: ',df.shape)"
   ]
  },
  {
   "cell_type": "code",
   "execution_count": 67,
   "metadata": {},
   "outputs": [
    {
     "name": "stdout",
     "output_type": "stream",
     "text": [
      "Shape submit file excluded img column:  (79726, 10)\n"
     ]
    }
   ],
   "source": [
    "c_df = df.iloc[:,1:]\n",
    "print('Shape submit file excluded img column: ',c_df.shape)"
   ]
  },
  {
   "cell_type": "code",
   "execution_count": 69,
   "metadata": {},
   "outputs": [
    {
     "data": {
      "text/html": [
       "<div>\n",
       "<style scoped>\n",
       "    .dataframe tbody tr th:only-of-type {\n",
       "        vertical-align: middle;\n",
       "    }\n",
       "\n",
       "    .dataframe tbody tr th {\n",
       "        vertical-align: top;\n",
       "    }\n",
       "\n",
       "    .dataframe thead th {\n",
       "        text-align: right;\n",
       "    }\n",
       "</style>\n",
       "<table border=\"1\" class=\"dataframe\">\n",
       "  <thead>\n",
       "    <tr style=\"text-align: right;\">\n",
       "      <th></th>\n",
       "      <th>c0</th>\n",
       "      <th>c1</th>\n",
       "      <th>c2</th>\n",
       "      <th>c3</th>\n",
       "      <th>c4</th>\n",
       "      <th>c5</th>\n",
       "      <th>c6</th>\n",
       "      <th>c7</th>\n",
       "      <th>c8</th>\n",
       "      <th>c9</th>\n",
       "    </tr>\n",
       "  </thead>\n",
       "  <tbody>\n",
       "    <tr>\n",
       "      <th>0</th>\n",
       "      <td>0.00000</td>\n",
       "      <td>0.00000</td>\n",
       "      <td>0.00014</td>\n",
       "      <td>0.00008</td>\n",
       "      <td>0.00003</td>\n",
       "      <td>0.99973</td>\n",
       "      <td>0.00000</td>\n",
       "      <td>0.00000</td>\n",
       "      <td>0.00001</td>\n",
       "      <td>0.00000</td>\n",
       "    </tr>\n",
       "    <tr>\n",
       "      <th>1</th>\n",
       "      <td>0.00000</td>\n",
       "      <td>0.00000</td>\n",
       "      <td>0.00000</td>\n",
       "      <td>0.00000</td>\n",
       "      <td>0.00000</td>\n",
       "      <td>0.99999</td>\n",
       "      <td>0.00000</td>\n",
       "      <td>0.00000</td>\n",
       "      <td>0.00000</td>\n",
       "      <td>0.00000</td>\n",
       "    </tr>\n",
       "    <tr>\n",
       "      <th>2</th>\n",
       "      <td>0.75016</td>\n",
       "      <td>0.02547</td>\n",
       "      <td>0.00402</td>\n",
       "      <td>0.00282</td>\n",
       "      <td>0.00080</td>\n",
       "      <td>0.02315</td>\n",
       "      <td>0.00032</td>\n",
       "      <td>0.00359</td>\n",
       "      <td>0.16280</td>\n",
       "      <td>0.02688</td>\n",
       "    </tr>\n",
       "    <tr>\n",
       "      <th>3</th>\n",
       "      <td>0.00000</td>\n",
       "      <td>0.00000</td>\n",
       "      <td>0.00000</td>\n",
       "      <td>0.00000</td>\n",
       "      <td>0.00000</td>\n",
       "      <td>0.00000</td>\n",
       "      <td>0.00000</td>\n",
       "      <td>0.00000</td>\n",
       "      <td>1.00000</td>\n",
       "      <td>0.00000</td>\n",
       "    </tr>\n",
       "    <tr>\n",
       "      <th>4</th>\n",
       "      <td>0.00000</td>\n",
       "      <td>0.00000</td>\n",
       "      <td>0.00000</td>\n",
       "      <td>1.00000</td>\n",
       "      <td>0.00000</td>\n",
       "      <td>0.00000</td>\n",
       "      <td>0.00000</td>\n",
       "      <td>0.00000</td>\n",
       "      <td>0.00000</td>\n",
       "      <td>0.00000</td>\n",
       "    </tr>\n",
       "  </tbody>\n",
       "</table>\n",
       "</div>"
      ],
      "text/plain": [
       "        c0       c1       c2       c3       c4       c5       c6       c7  \\\n",
       "0  0.00000  0.00000  0.00014  0.00008  0.00003  0.99973  0.00000  0.00000   \n",
       "1  0.00000  0.00000  0.00000  0.00000  0.00000  0.99999  0.00000  0.00000   \n",
       "2  0.75016  0.02547  0.00402  0.00282  0.00080  0.02315  0.00032  0.00359   \n",
       "3  0.00000  0.00000  0.00000  0.00000  0.00000  0.00000  0.00000  0.00000   \n",
       "4  0.00000  0.00000  0.00000  1.00000  0.00000  0.00000  0.00000  0.00000   \n",
       "\n",
       "        c8       c9  \n",
       "0  0.00001  0.00000  \n",
       "1  0.00000  0.00000  \n",
       "2  0.16280  0.02688  \n",
       "3  1.00000  0.00000  \n",
       "4  0.00000  0.00000  "
      ]
     },
     "execution_count": 69,
     "metadata": {},
     "output_type": "execute_result"
    }
   ],
   "source": [
    "np.round(c_df,5).head()"
   ]
  },
  {
   "cell_type": "code",
   "execution_count": 70,
   "metadata": {
    "scrolled": true
   },
   "outputs": [
    {
     "data": {
      "text/plain": [
       "array([[0., 0., 0., ..., 0., 0., 0.],\n",
       "       [0., 0., 0., ..., 0., 0., 0.],\n",
       "       [1., 0., 0., ..., 0., 0., 0.],\n",
       "       ...,\n",
       "       [0., 0., 0., ..., 0., 0., 0.],\n",
       "       [0., 0., 0., ..., 0., 0., 0.],\n",
       "       [0., 0., 0., ..., 0., 0., 0.]], dtype=float32)"
      ]
     },
     "execution_count": 70,
     "metadata": {},
     "output_type": "execute_result"
    }
   ],
   "source": [
    "label = np.argmax(np.array(c_df), axis=1)\n",
    "onehot = to_categorical(label, 10)\n",
    "onehot"
   ]
  },
  {
   "cell_type": "code",
   "execution_count": 71,
   "metadata": {},
   "outputs": [],
   "source": [
    "submit_h5py.create_dataset('test_labels',data=onehot,compression='lzf')\n",
    "submit_h5py.close()"
   ]
  },
  {
   "cell_type": "code",
   "execution_count": null,
   "metadata": {},
   "outputs": [],
   "source": []
  }
 ],
 "metadata": {
  "kernelspec": {
   "display_name": "Python 3",
   "language": "python",
   "name": "python3"
  },
  "language_info": {
   "codemirror_mode": {
    "name": "ipython",
    "version": 3
   },
   "file_extension": ".py",
   "mimetype": "text/x-python",
   "name": "python",
   "nbconvert_exporter": "python",
   "pygments_lexer": "ipython3",
   "version": "3.6.5"
  }
 },
 "nbformat": 4,
 "nbformat_minor": 2
}
