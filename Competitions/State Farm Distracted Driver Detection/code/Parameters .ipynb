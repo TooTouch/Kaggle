{
 "cells": [
  {
   "cell_type": "code",
   "execution_count": 1,
   "metadata": {},
   "outputs": [],
   "source": [
    "import json\n",
    "from collections import OrderedDict"
   ]
  },
  {
   "cell_type": "code",
   "execution_count": 8,
   "metadata": {},
   "outputs": [],
   "source": [
    "params = OrderedDict()\n",
    "params['ID'] = 4\n",
    "params['NAME'] = 'Inception_resnetV2_'\n",
    "params['IMAGE_SIZE'] = (256,256,1)\n",
    "params['CLASS_NUM'] = 10\n",
    "params['EPOCHS'] = 100\n",
    "params['CV_RATE'] = 0.4\n",
    "params['CV_SEED'] = 1223\n",
    "params['BATCH_SIZE'] = 32\n",
    "params['OPTIMIZER'] = 'adam'"
   ]
  },
  {
   "cell_type": "code",
   "execution_count": 9,
   "metadata": {},
   "outputs": [
    {
     "data": {
      "text/plain": [
       "OrderedDict([('ID', 4),\n",
       "             ('NAME', 'Inception_resnetV2_'),\n",
       "             ('IMAGE_SIZE', (256, 256, 1)),\n",
       "             ('CLASS_NUM', 10),\n",
       "             ('EPOCHS', 100),\n",
       "             ('CV_RATE', 0.4),\n",
       "             ('CV_SEED', 1223),\n",
       "             ('BATCH_SIZE', 32),\n",
       "             ('OPTIMIZER', 'adam')])"
      ]
     },
     "execution_count": 9,
     "metadata": {},
     "output_type": "execute_result"
    }
   ],
   "source": [
    "params"
   ]
  },
  {
   "cell_type": "code",
   "execution_count": 10,
   "metadata": {},
   "outputs": [],
   "source": [
    "with open('../training_params/train4.json','w',encoding='utf-8') as make_file:\n",
    "    json.dump(params, make_file, ensure_ascii=False, indent='\\t')"
   ]
  },
  {
   "cell_type": "code",
   "execution_count": null,
   "metadata": {},
   "outputs": [],
   "source": []
  }
 ],
 "metadata": {
  "kernelspec": {
   "display_name": "Python 3",
   "language": "python",
   "name": "python3"
  },
  "language_info": {
   "codemirror_mode": {
    "name": "ipython",
    "version": 3
   },
   "file_extension": ".py",
   "mimetype": "text/x-python",
   "name": "python",
   "nbconvert_exporter": "python",
   "pygments_lexer": "ipython3",
   "version": "3.6.5"
  }
 },
 "nbformat": 4,
 "nbformat_minor": 2
}
