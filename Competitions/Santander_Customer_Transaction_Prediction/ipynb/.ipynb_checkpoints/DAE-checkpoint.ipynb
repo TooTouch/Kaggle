{
 "cells": [
  {
   "cell_type": "markdown",
   "metadata": {
    "toc": true
   },
   "source": [
    "<h1>Table of Contents<span class=\"tocSkip\"></span></h1>\n",
    "<div class=\"toc\"><ul class=\"toc-item\"></ul></div>"
   ]
  },
  {
   "cell_type": "code",
   "execution_count": 1,
   "metadata": {},
   "outputs": [
    {
     "name": "stderr",
     "output_type": "stream",
     "text": [
      "C:\\Users\\wogur\\Anaconda3\\lib\\site-packages\\h5py\\__init__.py:36: FutureWarning: Conversion of the second argument of issubdtype from `float` to `np.floating` is deprecated. In future, it will be treated as `np.float64 == np.dtype(float).type`.\n",
      "  from ._conv import register_converters as _register_converters\n",
      "Using TensorFlow backend.\n"
     ]
    }
   ],
   "source": [
    "import pandas as pd\n",
    "import numpy as np\n",
    "\n",
    "import xgboost as xgb\n",
    "\n",
    "import keras.layers as KL\n",
    "import keras.models as KM\n",
    "import keras.callbacks as cb\n",
    "\n",
    "from sklearn.model_selection import StratifiedKFold\n",
    "from sklearn import metrics\n",
    "from sklearn.preprocessing import MinMaxScaler"
   ]
  },
  {
   "cell_type": "code",
   "execution_count": 2,
   "metadata": {},
   "outputs": [
    {
     "name": "stdout",
     "output_type": "stream",
     "text": [
      "data.shape:  (200000, 201)\n",
      "test.shape:  (200000, 200)\n"
     ]
    }
   ],
   "source": [
    "data = pd.read_csv('../dataset/train.csv', index_col=0)\n",
    "test = pd.read_csv('../dataset/test.csv', index_col=0)\n",
    "print('data.shape: ',data.shape)\n",
    "print('test.shape: ',test.shape)"
   ]
  },
  {
   "cell_type": "code",
   "execution_count": 3,
   "metadata": {},
   "outputs": [],
   "source": [
    "x_data = data.drop('target', axis=1)\n",
    "y_data = data.target"
   ]
  },
  {
   "cell_type": "code",
   "execution_count": 4,
   "metadata": {},
   "outputs": [],
   "source": [
    "class DAE:\n",
    "    def __init__(self, col_size):\n",
    "        self.col_size = col_size\n",
    "        self.inp = KL.Input((self.col_size,))\n",
    "        en = self.encoder()\n",
    "        de = self.decoder(en)\n",
    "        \n",
    "        self.model = KM.Model(self.inp, de)\n",
    "        \n",
    "    \n",
    "    def encoder(self):\n",
    "        x = KL.Dense(250)(self.inp)\n",
    "        x = KL.Dropout(0.4)(x)\n",
    "        x = KL.BatchNormalization()(x)\n",
    "        x = KL.Activation('relu')(x)\n",
    "        x = KL.Dense(250)(x)\n",
    "        x = KL.BatchNormalization()(x)\n",
    "        x = KL.Activation('tanh')(x)\n",
    "        x = KL.Dense(250)(x)\n",
    "        x = KL.BatchNormalization()(x)\n",
    "        en = KL.Activation('linear')(x)\n",
    "\n",
    "        return en\n",
    "\n",
    "    def decoder(self, en_output):\n",
    "        x = KL.Dense(250)(en_output)\n",
    "        x = KL.BatchNormalization()(x)\n",
    "        x = KL.Activation('relu')(x)\n",
    "        x = KL.Dense(250)(x)\n",
    "        x = KL.BatchNormalization()(x)\n",
    "        x = KL.Activation('tanh')(x)\n",
    "        x = KL.Dense(250)(x)\n",
    "        x = KL.BatchNormalization()(x)\n",
    "        x = KL.Activation('relu')(x)\n",
    "        x = KL.Dense(self.col_size)(x)\n",
    "        x = KL.BatchNormalization()(x)\n",
    "        de = KL.Activation('linear')(x)\n",
    "\n",
    "        return de\n",
    "\n",
    "    def feature_output(self):\n",
    "        en = self.encoder()\n",
    "        encoder = KM.Model(self.inp, en)\n",
    "        encoder.set_weights(self.model.get_weights())\n",
    "        return encoder"
   ]
  },
  {
   "cell_type": "code",
   "execution_count": 17,
   "metadata": {},
   "outputs": [],
   "source": [
    "# scaler = MinMaxScaler()\n",
    "# scaler.fit(x_data)\n",
    "# x_data_s = scaler.transform(x_data)\n",
    "# test_s = scaler.transform(test)\n",
    "# x_data_s = pd.DataFrame(x_data_s, columns=x_data.columns)\n",
    "# test_s = pd.DataFrame(test_s, columns=test.columns)\n",
    "# data_s = pd.concat([x_data_s, test_s], axis=0)\n",
    "# data_s.describe()"
   ]
  },
  {
   "cell_type": "code",
   "execution_count": 18,
   "metadata": {},
   "outputs": [],
   "source": [
    "data = pd.concat([x_data, test], axis=0)"
   ]
  },
  {
   "cell_type": "code",
   "execution_count": 28,
   "metadata": {},
   "outputs": [
    {
     "name": "stdout",
     "output_type": "stream",
     "text": [
      "_________________________________________________________________\n",
      "Layer (type)                 Output Shape              Param #   \n",
      "=================================================================\n",
      "input_4 (InputLayer)         (None, 200)               0         \n",
      "_________________________________________________________________\n",
      "dense_25 (Dense)             (None, 100)               20100     \n",
      "_________________________________________________________________\n",
      "dropout_5 (Dropout)          (None, 100)               0         \n",
      "_________________________________________________________________\n",
      "batch_normalization_25 (Batc (None, 100)               400       \n",
      "_________________________________________________________________\n",
      "activation_25 (Activation)   (None, 100)               0         \n",
      "_________________________________________________________________\n",
      "dense_26 (Dense)             (None, 50)                5050      \n",
      "_________________________________________________________________\n",
      "batch_normalization_26 (Batc (None, 50)                200       \n",
      "_________________________________________________________________\n",
      "activation_26 (Activation)   (None, 50)                0         \n",
      "_________________________________________________________________\n",
      "dense_27 (Dense)             (None, 25)                1275      \n",
      "_________________________________________________________________\n",
      "batch_normalization_27 (Batc (None, 25)                100       \n",
      "_________________________________________________________________\n",
      "activation_27 (Activation)   (None, 25)                0         \n",
      "_________________________________________________________________\n",
      "dense_28 (Dense)             (None, 25)                650       \n",
      "_________________________________________________________________\n",
      "batch_normalization_28 (Batc (None, 25)                100       \n",
      "_________________________________________________________________\n",
      "activation_28 (Activation)   (None, 25)                0         \n",
      "_________________________________________________________________\n",
      "dense_29 (Dense)             (None, 50)                1300      \n",
      "_________________________________________________________________\n",
      "batch_normalization_29 (Batc (None, 50)                200       \n",
      "_________________________________________________________________\n",
      "activation_29 (Activation)   (None, 50)                0         \n",
      "_________________________________________________________________\n",
      "dense_30 (Dense)             (None, 100)               5100      \n",
      "_________________________________________________________________\n",
      "batch_normalization_30 (Batc (None, 100)               400       \n",
      "_________________________________________________________________\n",
      "activation_30 (Activation)   (None, 100)               0         \n",
      "_________________________________________________________________\n",
      "dense_31 (Dense)             (None, 200)               20200     \n",
      "_________________________________________________________________\n",
      "batch_normalization_31 (Batc (None, 200)               800       \n",
      "_________________________________________________________________\n",
      "activation_31 (Activation)   (None, 200)               0         \n",
      "=================================================================\n",
      "Total params: 55,875\n",
      "Trainable params: 54,775\n",
      "Non-trainable params: 1,100\n",
      "_________________________________________________________________\n"
     ]
    }
   ],
   "source": [
    "dae = DAE(data_s.shape[1])\n",
    "dae.model.summary()"
   ]
  },
  {
   "cell_type": "code",
   "execution_count": 31,
   "metadata": {},
   "outputs": [
    {
     "name": "stdout",
     "output_type": "stream",
     "text": [
      "Epoch 1/100\n",
      "400000/400000 [==============================] - 9s 24us/step - loss: 15.7906\n",
      "Epoch 2/100\n",
      "400000/400000 [==============================] - 7s 18us/step - loss: 15.7439\n",
      "Epoch 3/100\n",
      "400000/400000 [==============================] - 7s 17us/step - loss: 15.7015\n",
      "Epoch 4/100\n",
      "400000/400000 [==============================] - 7s 17us/step - loss: 15.6698\n",
      "Epoch 5/100\n",
      "400000/400000 [==============================] - 7s 17us/step - loss: 15.6437\n",
      "Epoch 6/100\n",
      "400000/400000 [==============================] - 7s 17us/step - loss: 15.6274\n",
      "Epoch 7/100\n",
      "400000/400000 [==============================] - 7s 17us/step - loss: 15.6040\n",
      "Epoch 8/100\n",
      "400000/400000 [==============================] - 7s 17us/step - loss: 15.5910\n",
      "Epoch 9/100\n",
      "400000/400000 [==============================] - 7s 17us/step - loss: 15.5736\n",
      "Epoch 10/100\n",
      "400000/400000 [==============================] - 7s 17us/step - loss: 15.5591\n",
      "Epoch 11/100\n",
      "400000/400000 [==============================] - 7s 18us/step - loss: 15.5504\n",
      "Epoch 12/100\n",
      "400000/400000 [==============================] - 7s 17us/step - loss: 15.5361\n",
      "Epoch 13/100\n",
      "400000/400000 [==============================] - 7s 18us/step - loss: 15.5201\n",
      "Epoch 14/100\n",
      "400000/400000 [==============================] - 7s 18us/step - loss: 15.5135\n",
      "Epoch 15/100\n",
      "400000/400000 [==============================] - 7s 18us/step - loss: 15.5112\n",
      "Epoch 16/100\n",
      "400000/400000 [==============================] - 7s 17us/step - loss: 15.5061\n",
      "Epoch 17/100\n",
      "400000/400000 [==============================] - 7s 17us/step - loss: 15.4955\n",
      "Epoch 18/100\n",
      "400000/400000 [==============================] - 7s 18us/step - loss: 15.4891\n",
      "Epoch 19/100\n",
      "400000/400000 [==============================] - 7s 17us/step - loss: 15.4894\n",
      "Epoch 20/100\n",
      "400000/400000 [==============================] - 7s 17us/step - loss: 15.4823\n",
      "Epoch 21/100\n",
      "400000/400000 [==============================] - 7s 17us/step - loss: 15.4746\n",
      "Epoch 22/100\n",
      "400000/400000 [==============================] - 7s 17us/step - loss: 15.4703\n",
      "Epoch 23/100\n",
      "400000/400000 [==============================] - 7s 17us/step - loss: 15.4642\n",
      "Epoch 24/100\n",
      "400000/400000 [==============================] - 7s 18us/step - loss: 15.4576\n",
      "Epoch 25/100\n",
      "400000/400000 [==============================] - 7s 18us/step - loss: 15.4532\n",
      "Epoch 26/100\n",
      "400000/400000 [==============================] - 7s 18us/step - loss: 15.4481\n",
      "Epoch 27/100\n",
      "400000/400000 [==============================] - 7s 17us/step - loss: 15.4432\n",
      "Epoch 28/100\n",
      "400000/400000 [==============================] - 7s 18us/step - loss: 15.4373\n",
      "Epoch 29/100\n",
      "400000/400000 [==============================] - 7s 18us/step - loss: 15.4309\n",
      "Epoch 30/100\n",
      "400000/400000 [==============================] - 7s 18us/step - loss: 15.4227\n",
      "Epoch 31/100\n",
      "400000/400000 [==============================] - 7s 18us/step - loss: 15.4209\n",
      "Epoch 32/100\n",
      "400000/400000 [==============================] - 7s 18us/step - loss: 15.4135\n",
      "Epoch 33/100\n",
      "400000/400000 [==============================] - 7s 18us/step - loss: 15.4117\n",
      "Epoch 34/100\n",
      "400000/400000 [==============================] - 7s 18us/step - loss: 15.4030\n",
      "Epoch 35/100\n",
      "400000/400000 [==============================] - 7s 18us/step - loss: 15.4038\n",
      "Epoch 36/100\n",
      "400000/400000 [==============================] - 7s 18us/step - loss: 15.3939\n",
      "Epoch 37/100\n",
      "400000/400000 [==============================] - 7s 18us/step - loss: 15.3897\n",
      "Epoch 38/100\n",
      "400000/400000 [==============================] - 7s 17us/step - loss: 15.3878\n",
      "Epoch 39/100\n",
      "400000/400000 [==============================] - 7s 18us/step - loss: 15.3806\n",
      "Epoch 40/100\n",
      "400000/400000 [==============================] - 7s 18us/step - loss: 15.3741\n",
      "Epoch 41/100\n",
      "400000/400000 [==============================] - 7s 17us/step - loss: 15.3622\n",
      "Epoch 42/100\n",
      "400000/400000 [==============================] - 7s 18us/step - loss: 15.3635\n",
      "Epoch 43/100\n",
      "400000/400000 [==============================] - 7s 18us/step - loss: 15.3559\n",
      "Epoch 44/100\n",
      "400000/400000 [==============================] - 7s 18us/step - loss: 15.3458\n",
      "Epoch 45/100\n",
      "400000/400000 [==============================] - 7s 18us/step - loss: 15.3423\n",
      "Epoch 46/100\n",
      "400000/400000 [==============================] - 7s 18us/step - loss: 15.3367\n",
      "Epoch 47/100\n",
      "400000/400000 [==============================] - 7s 18us/step - loss: 15.3332\n",
      "Epoch 48/100\n",
      "400000/400000 [==============================] - 7s 17us/step - loss: 15.3196\n",
      "Epoch 49/100\n",
      "400000/400000 [==============================] - 7s 18us/step - loss: 15.3239\n",
      "Epoch 50/100\n",
      "400000/400000 [==============================] - 7s 18us/step - loss: 15.3159\n",
      "Epoch 51/100\n",
      "400000/400000 [==============================] - 7s 18us/step - loss: 15.3063\n",
      "Epoch 52/100\n",
      "400000/400000 [==============================] - 7s 18us/step - loss: 15.3000\n",
      "Epoch 53/100\n",
      "400000/400000 [==============================] - 7s 18us/step - loss: 15.2985\n",
      "Epoch 54/100\n",
      "400000/400000 [==============================] - 7s 17us/step - loss: 15.2932\n",
      "Epoch 55/100\n",
      "400000/400000 [==============================] - 7s 18us/step - loss: 15.2845\n",
      "Epoch 56/100\n",
      "400000/400000 [==============================] - 7s 17us/step - loss: 15.2803\n",
      "Epoch 57/100\n",
      "400000/400000 [==============================] - 7s 17us/step - loss: 15.2756\n",
      "Epoch 58/100\n",
      "400000/400000 [==============================] - 7s 17us/step - loss: 15.2753\n",
      "Epoch 59/100\n",
      "400000/400000 [==============================] - 7s 17us/step - loss: 15.2750\n",
      "Epoch 60/100\n",
      "400000/400000 [==============================] - 7s 17us/step - loss: 15.2647\n",
      "Epoch 61/100\n",
      "400000/400000 [==============================] - 7s 17us/step - loss: 15.2539\n",
      "Epoch 62/100\n",
      "400000/400000 [==============================] - 7s 18us/step - loss: 15.2570\n",
      "Epoch 63/100\n",
      "400000/400000 [==============================] - 7s 18us/step - loss: 15.2502\n",
      "Epoch 64/100\n",
      "400000/400000 [==============================] - 7s 18us/step - loss: 15.2496\n",
      "Epoch 65/100\n",
      "400000/400000 [==============================] - 7s 18us/step - loss: 15.2425\n",
      "Epoch 66/100\n",
      "400000/400000 [==============================] - 7s 18us/step - loss: 15.2376\n",
      "Epoch 67/100\n",
      "400000/400000 [==============================] - 7s 18us/step - loss: 15.2360\n",
      "Epoch 68/100\n",
      "400000/400000 [==============================] - 7s 17us/step - loss: 15.2292\n",
      "Epoch 69/100\n",
      "400000/400000 [==============================] - 7s 18us/step - loss: 15.2219\n",
      "Epoch 70/100\n",
      "400000/400000 [==============================] - 7s 17us/step - loss: 15.2195\n",
      "Epoch 71/100\n",
      "400000/400000 [==============================] - 7s 17us/step - loss: 15.2140\n",
      "Epoch 72/100\n",
      "400000/400000 [==============================] - 7s 18us/step - loss: 15.2111\n",
      "Epoch 73/100\n",
      "400000/400000 [==============================] - 7s 18us/step - loss: 15.2038\n",
      "Epoch 74/100\n",
      "400000/400000 [==============================] - 7s 17us/step - loss: 15.2103\n",
      "Epoch 75/100\n",
      "400000/400000 [==============================] - 7s 17us/step - loss: 15.1967\n",
      "Epoch 76/100\n",
      "400000/400000 [==============================] - 7s 17us/step - loss: 15.2064\n",
      "Epoch 77/100\n",
      "400000/400000 [==============================] - 7s 18us/step - loss: 15.1969\n",
      "Epoch 78/100\n",
      "400000/400000 [==============================] - 7s 17us/step - loss: 15.1950\n",
      "Epoch 79/100\n",
      "400000/400000 [==============================] - 7s 17us/step - loss: 15.1862\n",
      "Epoch 80/100\n",
      "400000/400000 [==============================] - 7s 17us/step - loss: 15.1857\n",
      "Epoch 81/100\n",
      "400000/400000 [==============================] - 7s 18us/step - loss: 15.1772\n",
      "Epoch 82/100\n",
      "400000/400000 [==============================] - 7s 17us/step - loss: 15.1759\n",
      "Epoch 83/100\n",
      "400000/400000 [==============================] - 7s 17us/step - loss: 15.1660\n",
      "Epoch 84/100\n",
      "400000/400000 [==============================] - 7s 17us/step - loss: 15.1676\n",
      "Epoch 85/100\n",
      "400000/400000 [==============================] - 7s 17us/step - loss: 15.1642\n",
      "Epoch 86/100\n",
      "400000/400000 [==============================] - 7s 18us/step - loss: 15.1557\n",
      "Epoch 87/100\n",
      "400000/400000 [==============================] - 7s 17us/step - loss: 15.1573\n",
      "Epoch 88/100\n",
      "400000/400000 [==============================] - 7s 18us/step - loss: 15.1536\n",
      "Epoch 89/100\n",
      "400000/400000 [==============================] - 7s 17us/step - loss: 15.1474\n",
      "Epoch 90/100\n",
      "400000/400000 [==============================] - 7s 17us/step - loss: 15.1429\n",
      "Epoch 91/100\n"
     ]
    },
    {
     "name": "stdout",
     "output_type": "stream",
     "text": [
      "400000/400000 [==============================] - 7s 18us/step - loss: 15.1384\n",
      "Epoch 92/100\n",
      "400000/400000 [==============================] - 7s 18us/step - loss: 15.1348\n",
      "Epoch 93/100\n",
      "400000/400000 [==============================] - 7s 18us/step - loss: 15.1280\n",
      "Epoch 94/100\n",
      "400000/400000 [==============================] - 7s 18us/step - loss: 15.1226\n",
      "Epoch 95/100\n",
      "400000/400000 [==============================] - 7s 18us/step - loss: 15.1191\n",
      "Epoch 96/100\n",
      "400000/400000 [==============================] - 7s 18us/step - loss: 15.1208\n",
      "Epoch 97/100\n",
      "400000/400000 [==============================] - 7s 17us/step - loss: 15.1111\n",
      "Epoch 98/100\n",
      "400000/400000 [==============================] - 7s 17us/step - loss: 15.1050\n",
      "Epoch 99/100\n",
      "400000/400000 [==============================] - 7s 18us/step - loss: 15.1050\n",
      "Epoch 100/100\n",
      "400000/400000 [==============================] - 7s 18us/step - loss: 15.0991\n"
     ]
    },
    {
     "data": {
      "text/plain": [
       "<keras.callbacks.History at 0x14685e6b320>"
      ]
     },
     "execution_count": 31,
     "metadata": {},
     "output_type": "execute_result"
    }
   ],
   "source": [
    "dae.model.compile(optimizer='adam',loss='mse')\n",
    "dae.model.fit(data, data,\n",
    "             batch_size=1024,\n",
    "             epochs=100)"
   ]
  },
  {
   "cell_type": "code",
   "execution_count": 23,
   "metadata": {},
   "outputs": [
    {
     "name": "stdout",
     "output_type": "stream",
     "text": [
      "prediction.shape:  (400000, 200)\n",
      "mse:  132.71506227028726\n"
     ]
    }
   ],
   "source": [
    "prediction = dae.model.predict(data)\n",
    "print('prediction.shape: ',prediction.shape)\n",
    "print('mse: ',np.mean(np.mean(np.square(prediction-data))))"
   ]
  },
  {
   "cell_type": "code",
   "execution_count": 24,
   "metadata": {},
   "outputs": [
    {
     "name": "stdout",
     "output_type": "stream",
     "text": [
      "train mse:  132.75108942047132\n",
      "test mse:  132.67903512010326\n"
     ]
    }
   ],
   "source": [
    "new_train = dae.model.predict(x_data)\n",
    "new_test = dae.model.predict(test)\n",
    "print('train mse: ',np.mean(np.mean(np.square(new_train-x_data))))\n",
    "print('test mse: ',np.mean(np.mean(np.square(new_test-test))))"
   ]
  },
  {
   "cell_type": "code",
   "execution_count": 32,
   "metadata": {},
   "outputs": [
    {
     "name": "stdout",
     "output_type": "stream",
     "text": [
      "_________________________________________________________________\n",
      "Layer (type)                 Output Shape              Param #   \n",
      "=================================================================\n",
      "input_4 (InputLayer)         (None, 200)               0         \n",
      "_________________________________________________________________\n",
      "dense_32 (Dense)             (None, 100)               20100     \n",
      "_________________________________________________________________\n",
      "dropout_6 (Dropout)          (None, 100)               0         \n",
      "_________________________________________________________________\n",
      "batch_normalization_32 (Batc (None, 100)               400       \n",
      "_________________________________________________________________\n",
      "activation_32 (Activation)   (None, 100)               0         \n",
      "_________________________________________________________________\n",
      "dense_33 (Dense)             (None, 50)                5050      \n",
      "_________________________________________________________________\n",
      "batch_normalization_33 (Batc (None, 50)                200       \n",
      "_________________________________________________________________\n",
      "activation_33 (Activation)   (None, 50)                0         \n",
      "_________________________________________________________________\n",
      "dense_34 (Dense)             (None, 25)                1275      \n",
      "_________________________________________________________________\n",
      "batch_normalization_34 (Batc (None, 25)                100       \n",
      "_________________________________________________________________\n",
      "activation_34 (Activation)   (None, 25)                0         \n",
      "=================================================================\n",
      "Total params: 27,125\n",
      "Trainable params: 26,775\n",
      "Non-trainable params: 350\n",
      "_________________________________________________________________\n"
     ]
    }
   ],
   "source": [
    "encoder = dae.feature_output()\n",
    "encoder.summary()"
   ]
  },
  {
   "cell_type": "code",
   "execution_count": 33,
   "metadata": {},
   "outputs": [],
   "source": [
    "new_train = encoder.predict(x_data)\n",
    "new_test = encoder.predict(test)"
   ]
  },
  {
   "cell_type": "code",
   "execution_count": 34,
   "metadata": {},
   "outputs": [],
   "source": [
    "colnames = ['val_{}'.format(i) for i in range(new_train.shape[1])]\n",
    "new_train = pd.DataFrame(new_train, columns=colnames)\n",
    "new_test = pd.DataFrame(new_test, columns=colnames)"
   ]
  },
  {
   "cell_type": "code",
   "execution_count": 35,
   "metadata": {},
   "outputs": [
    {
     "name": "stdout",
     "output_type": "stream",
     "text": [
      "new_train.shape:  (200000, 25)\n",
      "new_test.shape:  (200000, 25)\n"
     ]
    }
   ],
   "source": [
    "print('new_train.shape: ',new_train.shape)\n",
    "print('new_test.shape: ',new_test.shape)"
   ]
  },
  {
   "cell_type": "code",
   "execution_count": 36,
   "metadata": {},
   "outputs": [],
   "source": [
    "config = {\n",
    "    \"seed\":2019,\n",
    "    \"k_folds\":5,\n",
    "    \"early_stopping_rounds\":100\n",
    "}\n",
    "\n",
    "params = {\n",
    "    \"learning_rate\": 0.1,\n",
    "    \"n_estimators\": 10000,\n",
    "    \"max_depth\": 3,\n",
    "    \"min_child_weight\": 5,\n",
    "    \"subsample\": 1.0,\n",
    "    \"colsample_bytree\": 0.5,\n",
    "    \"colsample_bylevel\": 0.5,\n",
    "    \"alpha\": 0,\n",
    "    \"lambda\": 10,\n",
    "    \"objective\": \"gpu:binary:logistic\",\n",
    "    \"tree_method\": \"gpu_hist\",\n",
    "    \"predictor\": \"gpu_predictor\",\n",
    "    \"eval_metric\":\"auc\"\n",
    "}"
   ]
  },
  {
   "cell_type": "code",
   "execution_count": 37,
   "metadata": {},
   "outputs": [],
   "source": [
    "folds = StratifiedKFold(n_splits=config['k_folds'], random_state=config['seed'], shuffle=True)"
   ]
  },
  {
   "cell_type": "code",
   "execution_count": 38,
   "metadata": {},
   "outputs": [
    {
     "name": "stdout",
     "output_type": "stream",
     "text": [
      "=========================\n",
      "0 fold\n",
      "[0]\tvalidation_0-auc:0.556974\tvalidation_1-auc:0.557523\n",
      "Multiple eval metrics have been passed: 'validation_1-auc' will be used for early stopping.\n",
      "\n",
      "Will train until validation_1-auc hasn't improved in 100 rounds.\n",
      "[100]\tvalidation_0-auc:0.655844\tvalidation_1-auc:0.634132\n",
      "[200]\tvalidation_0-auc:0.674539\tvalidation_1-auc:0.641617\n",
      "[300]\tvalidation_0-auc:0.685321\tvalidation_1-auc:0.643275\n",
      "[400]\tvalidation_0-auc:0.693993\tvalidation_1-auc:0.644145\n",
      "[500]\tvalidation_0-auc:0.702629\tvalidation_1-auc:0.645078\n",
      "[600]\tvalidation_0-auc:0.710386\tvalidation_1-auc:0.645364\n",
      "[700]\tvalidation_0-auc:0.718005\tvalidation_1-auc:0.64624\n",
      "[800]\tvalidation_0-auc:0.725268\tvalidation_1-auc:0.645944\n",
      "Stopping. Best iteration:\n",
      "[726]\tvalidation_0-auc:0.719885\tvalidation_1-auc:0.646483\n",
      "\n",
      "val AUC:  0.6464259329239685\n",
      "=========================\n",
      "1 fold\n",
      "[0]\tvalidation_0-auc:0.558929\tvalidation_1-auc:0.549559\n",
      "Multiple eval metrics have been passed: 'validation_1-auc' will be used for early stopping.\n",
      "\n",
      "Will train until validation_1-auc hasn't improved in 100 rounds.\n",
      "[100]\tvalidation_0-auc:0.656046\tvalidation_1-auc:0.636132\n",
      "[200]\tvalidation_0-auc:0.673911\tvalidation_1-auc:0.643102\n",
      "[300]\tvalidation_0-auc:0.684914\tvalidation_1-auc:0.646396\n",
      "[400]\tvalidation_0-auc:0.694045\tvalidation_1-auc:0.647399\n",
      "Stopping. Best iteration:\n",
      "[392]\tvalidation_0-auc:0.693404\tvalidation_1-auc:0.647503\n",
      "\n",
      "val AUC:  0.6474360604359874\n",
      "=========================\n",
      "2 fold\n",
      "[0]\tvalidation_0-auc:0.562295\tvalidation_1-auc:0.565713\n",
      "Multiple eval metrics have been passed: 'validation_1-auc' will be used for early stopping.\n",
      "\n",
      "Will train until validation_1-auc hasn't improved in 100 rounds.\n",
      "[100]\tvalidation_0-auc:0.65417\tvalidation_1-auc:0.639373\n",
      "[200]\tvalidation_0-auc:0.67219\tvalidation_1-auc:0.647271\n",
      "[300]\tvalidation_0-auc:0.682463\tvalidation_1-auc:0.649989\n",
      "[400]\tvalidation_0-auc:0.691464\tvalidation_1-auc:0.650155\n",
      "[500]\tvalidation_0-auc:0.700464\tvalidation_1-auc:0.650899\n",
      "[600]\tvalidation_0-auc:0.708177\tvalidation_1-auc:0.651097\n",
      "Stopping. Best iteration:\n",
      "[570]\tvalidation_0-auc:0.705964\tvalidation_1-auc:0.651314\n",
      "\n",
      "val AUC:  0.651261096546174\n",
      "=========================\n",
      "3 fold\n",
      "[0]\tvalidation_0-auc:0.561462\tvalidation_1-auc:0.546886\n",
      "Multiple eval metrics have been passed: 'validation_1-auc' will be used for early stopping.\n",
      "\n",
      "Will train until validation_1-auc hasn't improved in 100 rounds.\n",
      "[100]\tvalidation_0-auc:0.657647\tvalidation_1-auc:0.622293\n",
      "[200]\tvalidation_0-auc:0.676281\tvalidation_1-auc:0.629748\n",
      "[300]\tvalidation_0-auc:0.686577\tvalidation_1-auc:0.633184\n",
      "[400]\tvalidation_0-auc:0.695849\tvalidation_1-auc:0.634211\n",
      "Stopping. Best iteration:\n",
      "[370]\tvalidation_0-auc:0.69301\tvalidation_1-auc:0.634324\n",
      "\n",
      "val AUC:  0.6342779627508635\n",
      "=========================\n",
      "4 fold\n",
      "[0]\tvalidation_0-auc:0.558281\tvalidation_1-auc:0.553312\n",
      "Multiple eval metrics have been passed: 'validation_1-auc' will be used for early stopping.\n",
      "\n",
      "Will train until validation_1-auc hasn't improved in 100 rounds.\n",
      "[100]\tvalidation_0-auc:0.657722\tvalidation_1-auc:0.629701\n",
      "[200]\tvalidation_0-auc:0.675362\tvalidation_1-auc:0.635474\n",
      "[300]\tvalidation_0-auc:0.686504\tvalidation_1-auc:0.637971\n",
      "[400]\tvalidation_0-auc:0.695612\tvalidation_1-auc:0.639037\n",
      "[500]\tvalidation_0-auc:0.703607\tvalidation_1-auc:0.639415\n",
      "Stopping. Best iteration:\n",
      "[499]\tvalidation_0-auc:0.703567\tvalidation_1-auc:0.63946\n",
      "\n",
      "val AUC:  0.6394004071267372\n",
      "====================================================================================================\n",
      "AUC_LIST\n",
      "[0.6464259329239685, 0.6474360604359874, 0.651261096546174, 0.6342779627508635, 0.6394004071267372]\n",
      "----------------------------------------------------------------------------------------------------\n",
      "Mean AUC: 0.643760291956746\n"
     ]
    }
   ],
   "source": [
    "auc_list = list()\n",
    "probs = np.zeros(len(test))\n",
    "\n",
    "for i, (train_idx, valid_idx) in enumerate(folds.split(X=new_train, y=y_data)):\n",
    "    print('='*25)\n",
    "    print('{} fold'.format(i))\n",
    "    x_train, y_train = new_train.iloc[train_idx, :], y_data.iloc[train_idx]\n",
    "    x_valid, y_valid = new_train.iloc[valid_idx, :], y_data.iloc[valid_idx]\n",
    "\n",
    "    watchlist = [(x_train,y_train),(x_valid, y_valid)]\n",
    "    model = xgb.XGBClassifier(**params)\n",
    "    model.fit(x_train, y_train,\n",
    "            eval_set=watchlist,\n",
    "            early_stopping_rounds=config['early_stopping_rounds'],\n",
    "            verbose=100)\n",
    "\n",
    "    val_prob = model.predict_proba(x_valid, ntree_limit=model.best_iteration)[:,1]\n",
    "    prob = model.predict_proba(new_test, ntree_limit=model.best_iteration)[:,1]\n",
    "    \n",
    "    val_auc = metrics.roc_auc_score(y_valid, val_prob)\n",
    "    auc_list.append(val_auc)\n",
    "    print('val AUC: ',val_auc)\n",
    "\n",
    "    probs = prob/folds.get_n_splits()\n",
    "\n",
    "print('='*100)\n",
    "print('AUC_LIST')\n",
    "print(auc_list)\n",
    "\n",
    "print('-'*100)\n",
    "print('Mean AUC: {}'.format(np.mean(auc_list)))"
   ]
  },
  {
   "cell_type": "code",
   "execution_count": null,
   "metadata": {},
   "outputs": [],
   "source": []
  }
 ],
 "metadata": {
  "hide_input": false,
  "kernelspec": {
   "display_name": "Python 3",
   "language": "python",
   "name": "python3"
  },
  "language_info": {
   "codemirror_mode": {
    "name": "ipython",
    "version": 3
   },
   "file_extension": ".py",
   "mimetype": "text/x-python",
   "name": "python",
   "nbconvert_exporter": "python",
   "pygments_lexer": "ipython3",
   "version": "3.6.5"
  },
  "toc": {
   "base_numbering": 1,
   "nav_menu": {},
   "number_sections": true,
   "sideBar": true,
   "skip_h1_title": false,
   "title_cell": "Table of Contents",
   "title_sidebar": "Contents",
   "toc_cell": true,
   "toc_position": {},
   "toc_section_display": true,
   "toc_window_display": false
  },
  "varInspector": {
   "cols": {
    "lenName": 16,
    "lenType": 16,
    "lenVar": 40
   },
   "kernels_config": {
    "python": {
     "delete_cmd_postfix": "",
     "delete_cmd_prefix": "del ",
     "library": "var_list.py",
     "varRefreshCmd": "print(var_dic_list())"
    },
    "r": {
     "delete_cmd_postfix": ") ",
     "delete_cmd_prefix": "rm(",
     "library": "var_list.r",
     "varRefreshCmd": "cat(var_dic_list()) "
    }
   },
   "types_to_exclude": [
    "module",
    "function",
    "builtin_function_or_method",
    "instance",
    "_Feature"
   ],
   "window_display": false
  }
 },
 "nbformat": 4,
 "nbformat_minor": 2
}
