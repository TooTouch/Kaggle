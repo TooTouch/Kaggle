{
 "cells": [
  {
   "cell_type": "markdown",
   "metadata": {
    "toc": true
   },
   "source": [
    "<h1>Table of Contents<span class=\"tocSkip\"></span></h1>\n",
    "<div class=\"toc\"><ul class=\"toc-item\"><li><span><a href=\"#Lode-data\" data-toc-modified-id=\"Lode-data-1\"><span class=\"toc-item-num\">1&nbsp;&nbsp;</span>Lode data</a></span></li><li><span><a href=\"#Params\" data-toc-modified-id=\"Params-2\"><span class=\"toc-item-num\">2&nbsp;&nbsp;</span>Params</a></span></li><li><span><a href=\"#Fitting\" data-toc-modified-id=\"Fitting-3\"><span class=\"toc-item-num\">3&nbsp;&nbsp;</span>Fitting</a></span></li></ul></div>"
   ]
  },
  {
   "cell_type": "code",
   "execution_count": 1,
   "metadata": {},
   "outputs": [],
   "source": [
    "import pandas as pd\n",
    "import numpy as np\n",
    "import os\n",
    "\n",
    "import seaborn as sns\n",
    "import matplotlib.pyplot as plt\n",
    "\n",
    "import xgboost as xgb\n",
    "# import lightgbm as lgb\n",
    "from sklearn.model_selection import StratifiedKFold\n",
    "from sklearn import metrics"
   ]
  },
  {
   "cell_type": "markdown",
   "metadata": {},
   "source": [
    "# Lode data"
   ]
  },
  {
   "cell_type": "code",
   "execution_count": 2,
   "metadata": {},
   "outputs": [],
   "source": [
    "def loaddata():\n",
    "    root_dir = os.path.abspath(os.path.join(os.getcwd(),'..'))\n",
    "    data_dir = root_dir + '/dataset'\n",
    "    train = pd.read_csv(data_dir + '/train.csv', index_col=0)\n",
    "    test = pd.read_csv(data_dir + '/test.csv', index_col=0)\n",
    "\n",
    "    return train, test"
   ]
  },
  {
   "cell_type": "code",
   "execution_count": 3,
   "metadata": {},
   "outputs": [],
   "source": [
    "data, test = loaddata()\n",
    "x_data, y_data = data.iloc[:,1:], data['target']"
   ]
  },
  {
   "cell_type": "code",
   "execution_count": 4,
   "metadata": {},
   "outputs": [
    {
     "name": "stdout",
     "output_type": "stream",
     "text": [
      "x_data.shape:  (200000, 200)\n",
      "y_data.shape:  (200000,)\n"
     ]
    }
   ],
   "source": [
    "print('x_data.shape: ',x_data.shape)\n",
    "print('y_data.shape: ',y_data.shape)"
   ]
  },
  {
   "cell_type": "markdown",
   "metadata": {},
   "source": [
    "# Params"
   ]
  },
  {
   "cell_type": "code",
   "execution_count": 5,
   "metadata": {},
   "outputs": [],
   "source": [
    "config = {\n",
    "    \"seed\":2019,\n",
    "    \"k_folds\":5,\n",
    "    \"early_stopping_rounds\":100\n",
    "}\n",
    "\n",
    "params = {\n",
    "    \"learning_rate\": 0.1,\n",
    "    \"n_estimators\": 10000,\n",
    "    \"max_depth\": 3,\n",
    "    \"min_child_weight\": 5,\n",
    "    \"subsample\": 0.8,\n",
    "    \"colsample_bytree\": 0.8,\n",
    "    \"colsample_bylevel\": 0.8,\n",
    "    \"alpha\": 0,\n",
    "    \"lambda\": 1,\n",
    "    \"objective\": \"gpu:binary:logistic\",\n",
    "    \"tree_method\": \"gpu_hist\",\n",
    "    \"predictor\": \"gpu_predictor\",\n",
    "    \"eval_metric\":\"auc\"\n",
    "}"
   ]
  },
  {
   "cell_type": "markdown",
   "metadata": {},
   "source": [
    "# Fitting"
   ]
  },
  {
   "cell_type": "code",
   "execution_count": null,
   "metadata": {},
   "outputs": [
    {
     "name": "stdout",
     "output_type": "stream",
     "text": [
      "[0]\tvalidation_0-auc:0.606667\tvalidation_1-auc:0.605384\n",
      "Multiple eval metrics have been passed: 'validation_1-auc' will be used for early stopping.\n",
      "\n",
      "Will train until validation_1-auc hasn't improved in 100 rounds.\n",
      "[200]\tvalidation_0-auc:0.893565\tvalidation_1-auc:0.863872\n",
      "[400]\tvalidation_0-auc:0.920488\tvalidation_1-auc:0.884266\n",
      "[600]\tvalidation_0-auc:0.933232\tvalidation_1-auc:0.891317\n",
      "[800]\tvalidation_0-auc:0.94086\tvalidation_1-auc:0.894669\n",
      "[1000]\tvalidation_0-auc:0.946581\tvalidation_1-auc:0.896181\n",
      "[1200]\tvalidation_0-auc:0.95128\tvalidation_1-auc:0.896701\n",
      "[1400]\tvalidation_0-auc:0.955494\tvalidation_1-auc:0.896823\n",
      "Stopping. Best iteration:\n",
      "[1320]\tvalidation_0-auc:0.953897\tvalidation_1-auc:0.896909\n",
      "\n",
      "0 fold validation AUC: 0.8968917536770719\n"
     ]
    }
   ],
   "source": [
    "folds = StratifiedKFold(n_splits=config['k_folds'], random_state=config['seed'], shuffle=True)\n",
    "\n",
    "auc_list = list()\n",
    "prediction = np.zeros(len(test))\n",
    "score_df = pd.DataFrame()\n",
    "for i, (train_idx, valid_idx) in enumerate(folds.split(X=x_data, y=y_data)):\n",
    "    x_train, y_train = x_data.iloc[train_idx, :], y_data.iloc[train_idx]\n",
    "    x_valid, y_valid = x_data.iloc[valid_idx, :], y_data.iloc[valid_idx]\n",
    "    model = xgb.XGBClassifier(**params)\n",
    "    model.fit(x_train, y_train, \n",
    "              eval_set=[(x_train, y_train), (x_valid, y_valid)],  \n",
    "              early_stopping_rounds=config['early_stopping_rounds'], \n",
    "              verbose=200)\n",
    "    \n",
    "    prob = model.predict_proba(x_valid, ntree_limit=model.best_iteration)[:,1]\n",
    "\n",
    "    auc = metrics.roc_auc_score(y_true=y_valid, y_score=prob)\n",
    "    auc_list.append(auc)\n",
    "    print('{} fold validation AUC: {}'.format(i, auc))\n",
    "    \n",
    "    proba = model.predict_proba(test, ntree_limit=model.best_iteration)[:,1]\n",
    "    prediction += proba \n",
    "    \n",
    "    score_df = pd.DataFrame()\n",
    "    feature_score =  model.get_booster().get_score(importance_type='gain')\n",
    "    score_df.loc[:,'feature'] = list(feature_score.keys())\n",
    "    score_df.loc[:,'importance'] = list(feature_score.values())\n",
    "    fold_score_df = pd.concat([fold_score_df, score_df])\n",
    "\n",
    "prediction /=  folds.n_splits\n",
    "\n",
    "print('='*100)\n",
    "print('AUC_LIST')\n",
    "print(auc_list)\n",
    "\n",
    "print('-'*100)\n",
    "print('Mean AUC: {}'.format(np.mean(auc_list)))"
   ]
  },
  {
   "cell_type": "code",
   "execution_count": null,
   "metadata": {},
   "outputs": [],
   "source": [
    "# root_dir = os.path.abspath(os.path.join(os.getcwd(),'..'))\n",
    "# submit_dir = root_dir + '/submission'\n",
    "# id = len(os.listdir(submit_dir))\n",
    "# pd.DataFrame({'ID_code':test.index, 'target':proba}).to_csv('{}/s{}.csv'.format(submit_dir, id),index=False)"
   ]
  },
  {
   "cell_type": "code",
   "execution_count": null,
   "metadata": {},
   "outputs": [],
   "source": []
  }
 ],
 "metadata": {
  "hide_input": false,
  "kernelspec": {
   "display_name": "Python 3",
   "language": "python",
   "name": "python3"
  },
  "language_info": {
   "codemirror_mode": {
    "name": "ipython",
    "version": 3
   },
   "file_extension": ".py",
   "mimetype": "text/x-python",
   "name": "python",
   "nbconvert_exporter": "python",
   "pygments_lexer": "ipython3",
   "version": "3.6.5"
  },
  "toc": {
   "base_numbering": 1,
   "nav_menu": {},
   "number_sections": true,
   "sideBar": true,
   "skip_h1_title": false,
   "title_cell": "Table of Contents",
   "title_sidebar": "Contents",
   "toc_cell": true,
   "toc_position": {},
   "toc_section_display": true,
   "toc_window_display": false
  },
  "varInspector": {
   "cols": {
    "lenName": 16,
    "lenType": 16,
    "lenVar": 40
   },
   "kernels_config": {
    "python": {
     "delete_cmd_postfix": "",
     "delete_cmd_prefix": "del ",
     "library": "var_list.py",
     "varRefreshCmd": "print(var_dic_list())"
    },
    "r": {
     "delete_cmd_postfix": ") ",
     "delete_cmd_prefix": "rm(",
     "library": "var_list.r",
     "varRefreshCmd": "cat(var_dic_list()) "
    }
   },
   "types_to_exclude": [
    "module",
    "function",
    "builtin_function_or_method",
    "instance",
    "_Feature"
   ],
   "window_display": false
  }
 },
 "nbformat": 4,
 "nbformat_minor": 2
}
