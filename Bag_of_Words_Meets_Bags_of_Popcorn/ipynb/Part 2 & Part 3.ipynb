{
 "cells": [
  {
   "cell_type": "markdown",
   "metadata": {},
   "source": [
    "# Introducing Distributed Word Vectors\n",
    "\n",
    "- 단순 요약하자면 Word2vec은 2013년 구글에서 발표되었고, neural network를 적용한 알고리즘이다. 다른 RNN같은 알고리즘에 비해서 학습시간이 굉장히 짧고 Word2vec은 따로 label을 정의하지 않아도 된다. \n",
    "- 원래는 C로 짜여진 알고리즘이며 여러 다른 언어로 변환되어 사용되고 있다.\n",
    "\n",
    "\n",
    "# Using word2vec in Python\n",
    "- python에서는 gensim 이라는 패키지를 통해서 사용할 수 있다. 따로 GPU를 사용하지 않으며 Google's version과 Python version 모두 multi-threading 사용이 가능하다. 시간을 단축시키고 싶다면 cython을 설치하면 된다.\n",
    "\n",
    "# Reference\n",
    "\n",
    "- ratsgo님의 블로그 포스팅: https://ratsgo.github.io/from%20frequency%20to%20semantics/2017/03/30/word2vec/\n",
    "- 오늘코드의 프로그래밍 강의: https://programmers.co.kr/learn/courses/21/lessons/1698"
   ]
  },
  {
   "cell_type": "markdown",
   "metadata": {},
   "source": [
    "# Preparing to Train a Model"
   ]
  },
  {
   "cell_type": "code",
   "execution_count": 149,
   "metadata": {},
   "outputs": [],
   "source": [
    "# preprocessing\n",
    "import pandas as pd\n",
    "import re\n",
    "from bs4 import BeautifulSoup\n",
    "from nltk.corpus import stopwords\n",
    "import nltk\n",
    "\n",
    "# functions KaggleWord2VecUtility \n",
    "from KaggleWord2VecUtility import KaggleWord2VecUtility\n",
    "\n",
    "# multiprocessing \n",
    "from multiprocessing import Pool\n",
    "\n",
    "# functions defs 위 KaggleWord2VecUtility와 같음\n",
    "import defs\n",
    "\n",
    "# word2vec\n",
    "from gensim.models import word2vec\n",
    "\n",
    "# graphs\n",
    "import matplotlib.pyplot as plt\n",
    "import seaborn as sns\n",
    "\n",
    "# model\n",
    "from sklearn.model_selection import cross_val_score\n",
    "from sklearn.ensemble import RandomForestClassifier\n",
    "\n",
    "import warnings\n",
    "warnings.simplefilter(action='ignore', category=FutureWarning)\n",
    "warnings.filterwarnings('ignore')"
   ]
  },
  {
   "cell_type": "code",
   "execution_count": 7,
   "metadata": {},
   "outputs": [
    {
     "name": "stdout",
     "output_type": "stream",
     "text": [
      "Read 25000 labeled train reviews, 25000 labeled test reviews, and 50000 unlabeled reviews\n",
      "\n"
     ]
    }
   ],
   "source": [
    "# Read data from files \n",
    "train = pd.read_csv( \"../dataset/labeledTrainData.tsv\", header=0, delimiter=\"\\t\", quoting=3 )\n",
    "test = pd.read_csv( \"../dataset/testData.tsv\", header=0, delimiter=\"\\t\", quoting=3 )\n",
    "unlabeled_train = pd.read_csv( \"../dataset/unlabeledTrainData.tsv\", header=0, delimiter=\"\\t\", quoting=3 )\n",
    "\n",
    "# Verify the number of reviews that were read (100,000 in total)\n",
    "print(\"Read %d labeled train reviews, %d labeled test reviews, and %d unlabeled reviews\\n\" % (train[\"review\"].size, test[\"review\"].size, unlabeled_train[\"review\"].size ))"
   ]
  },
  {
   "cell_type": "code",
   "execution_count": 3,
   "metadata": {},
   "outputs": [],
   "source": [
    "def review_to_wordlist( review, remove_stopwords=False ):\n",
    "    # Function to convert a document to a sequence of words,\n",
    "    # optionally removing stop words.  Returns a list of words.\n",
    "    #\n",
    "    # 1. Remove HTML\n",
    "    review_text = BeautifulSoup(review).get_text()\n",
    "    #  \n",
    "    # 2. Remove non-letters\n",
    "    review_text = re.sub(\"[^a-zA-Z]\",\" \", review_text)\n",
    "    #\n",
    "    # 3. Convert words to lower case and split them\n",
    "    words = review_text.lower().split()\n",
    "    #\n",
    "    # 4. Optionally remove stop words (false by default)\n",
    "    if remove_stopwords:\n",
    "        stops = set(stopwords.words(\"english\"))\n",
    "        words = [w for w in words if not w in stops]\n",
    "    #\n",
    "    # 5. Return a list of words\n",
    "    return(words)"
   ]
  },
  {
   "cell_type": "markdown",
   "metadata": {},
   "source": [
    "이전과 같이 nltk에서 punkt를 사용하기 위해서는 nltk.download('punkt')를 해주어야한다."
   ]
  },
  {
   "cell_type": "code",
   "execution_count": 4,
   "metadata": {},
   "outputs": [],
   "source": [
    "# nltk.download('punkt')"
   ]
  },
  {
   "cell_type": "code",
   "execution_count": 4,
   "metadata": {},
   "outputs": [],
   "source": [
    "# Load the punkt tokenizer\n",
    "tokenizer = nltk.data.load('tokenizers/punkt/english.pickle')\n",
    "\n",
    "# Define a function to split a review into parsed sentences\n",
    "def review_to_sentences( review, tokenizer, remove_stopwords=False ):\n",
    "    # Function to split a review into parsed sentences. Returns a \n",
    "    # list of sentences, where each sentence is a list of words\n",
    "    \n",
    "    # 1. Use the NLTK tokenizer to split the paragraph into sentences\n",
    "    raw_sentences = tokenizer.tokenize(review.strip())\n",
    "    \n",
    "    # 2. Loop over each sentence\n",
    "    sentences = []\n",
    "    for raw_sentence in raw_sentences:\n",
    "        # If a sentence is empty, skip it\n",
    "        if len(raw_sentence) > 0:\n",
    "            # Otherwise, call review_to_wordlist to get a list of words\n",
    "            sentences.append( review_to_wordlist( raw_sentence, remove_stopwords ))\n",
    "    \n",
    "    # Return the list of sentences (each sentence is a list of words,\n",
    "    # so this returns a list of lists\n",
    "    return sentences"
   ]
  },
  {
   "cell_type": "markdown",
   "metadata": {},
   "source": [
    "위에서 정의한 함수를 통해서 Word2vec에 들어갈 input 데이터를 만든다."
   ]
  },
  {
   "cell_type": "code",
   "execution_count": 16,
   "metadata": {},
   "outputs": [
    {
     "name": "stdout",
     "output_type": "stream",
     "text": [
      "Parsing sentences from training set\n",
      "Parsing sentences from unlabeled set\n"
     ]
    }
   ],
   "source": [
    "sentences = []  # Initialize an empty list of sentences\n",
    "\n",
    "print(\"Parsing sentences from training set\")\n",
    "for review in train[\"review\"]:\n",
    "    sentences += review_to_sentences(review, tokenizer)\n",
    "\n",
    "print(\"Parsing sentences from unlabeled set\")\n",
    "for review in unlabeled_train[\"review\"]:\n",
    "    sentences += review_to_sentences(review, tokenizer)"
   ]
  },
  {
   "cell_type": "code",
   "execution_count": 17,
   "metadata": {},
   "outputs": [
    {
     "name": "stdout",
     "output_type": "stream",
     "text": [
      "795538\n",
      "sentences[0]:  ['with', 'all', 'this', 'stuff', 'going', 'down', 'at', 'the', 'moment', 'with', 'mj', 'i', 've', 'started', 'listening', 'to', 'his', 'music', 'watching', 'the', 'odd', 'documentary', 'here', 'and', 'there', 'watched', 'the', 'wiz', 'and', 'watched', 'moonwalker', 'again']\n",
      "sentences[1]:  ['maybe', 'i', 'just', 'want', 'to', 'get', 'a', 'certain', 'insight', 'into', 'this', 'guy', 'who', 'i', 'thought', 'was', 'really', 'cool', 'in', 'the', 'eighties', 'just', 'to', 'maybe', 'make', 'up', 'my', 'mind', 'whether', 'he', 'is', 'guilty', 'or', 'innocent']\n"
     ]
    }
   ],
   "source": [
    "print(len(sentences))\n",
    "print('sentences[0]: ',sentences[0])\n",
    "print('sentences[1]: ',sentences[1])"
   ]
  },
  {
   "cell_type": "markdown",
   "metadata": {},
   "source": [
    "KaggleWord2VecUtility를 통해서 전처리하는게 시간이 더 많이 걸린다."
   ]
  },
  {
   "cell_type": "code",
   "execution_count": 43,
   "metadata": {},
   "outputs": [],
   "source": [
    "sentences_stem = []\n",
    "for review in train[\"review\"]:\n",
    "    sentences_stem += KaggleWord2VecUtility.review_to_sentences(review, remove_stopwords=False)\n",
    "    \n",
    "for review in unlabeled_train[\"review\"]:\n",
    "    sentences_stem += KaggleWord2VecUtility.review_to_sentences(review, remove_stopwords=False)"
   ]
  },
  {
   "cell_type": "code",
   "execution_count": 44,
   "metadata": {},
   "outputs": [
    {
     "name": "stdout",
     "output_type": "stream",
     "text": [
      "795538\n",
      "sentences_stem[0]:  ['with', 'all', 'this', 'stuff', 'go', 'down', 'at', 'the', 'moment', 'with', 'mj', 'i', 've', 'start', 'listen', 'to', 'his', 'music', 'watch', 'the', 'odd', 'documentari', 'here', 'and', 'there', 'watch', 'the', 'wiz', 'and', 'watch', 'moonwalk', 'again']\n",
      "sentences_stem[1]:  ['mayb', 'i', 'just', 'want', 'to', 'get', 'a', 'certain', 'insight', 'into', 'this', 'guy', 'who', 'i', 'thought', 'was', 'realli', 'cool', 'in', 'the', 'eighti', 'just', 'to', 'mayb', 'make', 'up', 'my', 'mind', 'whether', 'he', 'is', 'guilti', 'or', 'innoc']\n"
     ]
    }
   ],
   "source": [
    "print(len(sentences_stem))\n",
    "print('sentences_stem[0]: ',sentences_stem[0])\n",
    "print('sentences_stem[1]: ',sentences_stem[1])"
   ]
  },
  {
   "cell_type": "markdown",
   "metadata": {},
   "source": [
    "remove_stopwords 대신 tokenizer를 잘못 넣은 적이 있는데 bs4 관련 애러가 발생했다. 그래서 remove_stopwords가 True로 인식되면 에러가 생기는 것인지 확인했지만 잘 동작했다. bs4 관련 에러에 대한 문제는 정확히 잘 모르겠다.\n",
    "- 아래는 상민이에게 발생한 에러메세지   \n",
    "![](../images/error2.png)"
   ]
  },
  {
   "cell_type": "code",
   "execution_count": 44,
   "metadata": {},
   "outputs": [],
   "source": [
    "# sentences = []\n",
    "# for review in train[\"review\"]:\n",
    "#     sentences += KaggleWord2VecUtility.review_to_sentences(review, remove_stopwords=True)\n",
    "    \n",
    "# for review in unlabeled_train[\"review\"]:\n",
    "#     sentences += KaggleWord2VecUtility.review_to_sentences(review, remove_stopwords=True)"
   ]
  },
  {
   "cell_type": "code",
   "execution_count": 48,
   "metadata": {
    "scrolled": true
   },
   "outputs": [
    {
     "name": "stderr",
     "output_type": "stream",
     "text": [
      "2019-05-26 22:29:31,294 : INFO : collecting all words and their counts\n",
      "2019-05-26 22:29:31,294 : INFO : PROGRESS: at sentence #0, processed 0 words, keeping 0 word types\n",
      "2019-05-26 22:29:31,333 : INFO : PROGRESS: at sentence #10000, processed 225803 words, keeping 17776 word types\n",
      "2019-05-26 22:29:31,366 : INFO : PROGRESS: at sentence #20000, processed 451892 words, keeping 24948 word types\n",
      "2019-05-26 22:29:31,400 : INFO : PROGRESS: at sentence #30000, processed 671315 words, keeping 30034 word types\n",
      "2019-05-26 22:29:31,433 : INFO : PROGRESS: at sentence #40000, processed 897815 words, keeping 34348 word types\n",
      "2019-05-26 22:29:31,464 : INFO : PROGRESS: at sentence #50000, processed 1116963 words, keeping 37761 word types\n"
     ]
    },
    {
     "name": "stdout",
     "output_type": "stream",
     "text": [
      "Training model...\n"
     ]
    },
    {
     "name": "stderr",
     "output_type": "stream",
     "text": [
      "2019-05-26 22:29:31,500 : INFO : PROGRESS: at sentence #60000, processed 1338404 words, keeping 40723 word types\n",
      "2019-05-26 22:29:31,534 : INFO : PROGRESS: at sentence #70000, processed 1561580 words, keeping 43333 word types\n",
      "2019-05-26 22:29:31,567 : INFO : PROGRESS: at sentence #80000, processed 1780887 words, keeping 45714 word types\n",
      "2019-05-26 22:29:31,603 : INFO : PROGRESS: at sentence #90000, processed 2004996 words, keeping 48135 word types\n",
      "2019-05-26 22:29:31,635 : INFO : PROGRESS: at sentence #100000, processed 2226966 words, keeping 50207 word types\n",
      "2019-05-26 22:29:31,669 : INFO : PROGRESS: at sentence #110000, processed 2446580 words, keeping 52081 word types\n",
      "2019-05-26 22:29:31,702 : INFO : PROGRESS: at sentence #120000, processed 2668775 words, keeping 54119 word types\n",
      "2019-05-26 22:29:31,737 : INFO : PROGRESS: at sentence #130000, processed 2894303 words, keeping 55847 word types\n",
      "2019-05-26 22:29:31,771 : INFO : PROGRESS: at sentence #140000, processed 3107005 words, keeping 57346 word types\n",
      "2019-05-26 22:29:31,806 : INFO : PROGRESS: at sentence #150000, processed 3332627 words, keeping 59055 word types\n",
      "2019-05-26 22:29:31,840 : INFO : PROGRESS: at sentence #160000, processed 3555315 words, keeping 60617 word types\n",
      "2019-05-26 22:29:31,873 : INFO : PROGRESS: at sentence #170000, processed 3778655 words, keeping 62077 word types\n",
      "2019-05-26 22:29:31,908 : INFO : PROGRESS: at sentence #180000, processed 3999236 words, keeping 63496 word types\n",
      "2019-05-26 22:29:31,944 : INFO : PROGRESS: at sentence #190000, processed 4224449 words, keeping 64794 word types\n",
      "2019-05-26 22:29:31,979 : INFO : PROGRESS: at sentence #200000, processed 4448603 words, keeping 66087 word types\n",
      "2019-05-26 22:29:32,014 : INFO : PROGRESS: at sentence #210000, processed 4669967 words, keeping 67390 word types\n",
      "2019-05-26 22:29:32,045 : INFO : PROGRESS: at sentence #220000, processed 4894968 words, keeping 68697 word types\n",
      "2019-05-26 22:29:32,081 : INFO : PROGRESS: at sentence #230000, processed 5117545 words, keeping 69958 word types\n",
      "2019-05-26 22:29:32,118 : INFO : PROGRESS: at sentence #240000, processed 5345050 words, keeping 71167 word types\n",
      "2019-05-26 22:29:32,152 : INFO : PROGRESS: at sentence #250000, processed 5559165 words, keeping 72351 word types\n",
      "2019-05-26 22:29:32,187 : INFO : PROGRESS: at sentence #260000, processed 5779146 words, keeping 73478 word types\n",
      "2019-05-26 22:29:32,222 : INFO : PROGRESS: at sentence #270000, processed 6000435 words, keeping 74767 word types\n",
      "2019-05-26 22:29:32,258 : INFO : PROGRESS: at sentence #280000, processed 6226314 words, keeping 76369 word types\n",
      "2019-05-26 22:29:32,295 : INFO : PROGRESS: at sentence #290000, processed 6449474 words, keeping 77839 word types\n",
      "2019-05-26 22:29:32,332 : INFO : PROGRESS: at sentence #300000, processed 6674077 words, keeping 79171 word types\n",
      "2019-05-26 22:29:32,369 : INFO : PROGRESS: at sentence #310000, processed 6899391 words, keeping 80480 word types\n",
      "2019-05-26 22:29:32,405 : INFO : PROGRESS: at sentence #320000, processed 7124278 words, keeping 81808 word types\n",
      "2019-05-26 22:29:32,441 : INFO : PROGRESS: at sentence #330000, processed 7346021 words, keeping 83030 word types\n",
      "2019-05-26 22:29:32,476 : INFO : PROGRESS: at sentence #340000, processed 7575533 words, keeping 84280 word types\n",
      "2019-05-26 22:29:32,511 : INFO : PROGRESS: at sentence #350000, processed 7798803 words, keeping 85425 word types\n",
      "2019-05-26 22:29:32,547 : INFO : PROGRESS: at sentence #360000, processed 8019427 words, keeping 86596 word types\n",
      "2019-05-26 22:29:32,585 : INFO : PROGRESS: at sentence #370000, processed 8246619 words, keeping 87708 word types\n",
      "2019-05-26 22:29:32,620 : INFO : PROGRESS: at sentence #380000, processed 8471766 words, keeping 88878 word types\n",
      "2019-05-26 22:29:32,655 : INFO : PROGRESS: at sentence #390000, processed 8701497 words, keeping 89907 word types\n",
      "2019-05-26 22:29:32,689 : INFO : PROGRESS: at sentence #400000, processed 8924446 words, keeping 90916 word types\n",
      "2019-05-26 22:29:32,725 : INFO : PROGRESS: at sentence #410000, processed 9145796 words, keeping 91880 word types\n",
      "2019-05-26 22:29:32,760 : INFO : PROGRESS: at sentence #420000, processed 9366876 words, keeping 92912 word types\n",
      "2019-05-26 22:29:32,798 : INFO : PROGRESS: at sentence #430000, processed 9594413 words, keeping 93932 word types\n",
      "2019-05-26 22:29:32,832 : INFO : PROGRESS: at sentence #440000, processed 9821166 words, keeping 94906 word types\n",
      "2019-05-26 22:29:32,869 : INFO : PROGRESS: at sentence #450000, processed 10044928 words, keeping 96036 word types\n",
      "2019-05-26 22:29:32,905 : INFO : PROGRESS: at sentence #460000, processed 10277688 words, keeping 97088 word types\n",
      "2019-05-26 22:29:32,943 : INFO : PROGRESS: at sentence #470000, processed 10505613 words, keeping 97933 word types\n",
      "2019-05-26 22:29:32,978 : INFO : PROGRESS: at sentence #480000, processed 10725997 words, keeping 98862 word types\n",
      "2019-05-26 22:29:33,011 : INFO : PROGRESS: at sentence #490000, processed 10952741 words, keeping 99871 word types\n",
      "2019-05-26 22:29:33,047 : INFO : PROGRESS: at sentence #500000, processed 11174397 words, keeping 100765 word types\n",
      "2019-05-26 22:29:33,084 : INFO : PROGRESS: at sentence #510000, processed 11399672 words, keeping 101699 word types\n",
      "2019-05-26 22:29:33,121 : INFO : PROGRESS: at sentence #520000, processed 11623020 words, keeping 102598 word types\n",
      "2019-05-26 22:29:33,156 : INFO : PROGRESS: at sentence #530000, processed 11847418 words, keeping 103400 word types\n",
      "2019-05-26 22:29:33,194 : INFO : PROGRESS: at sentence #540000, processed 12072033 words, keeping 104265 word types\n",
      "2019-05-26 22:29:33,230 : INFO : PROGRESS: at sentence #550000, processed 12297571 words, keeping 105133 word types\n",
      "2019-05-26 22:29:33,267 : INFO : PROGRESS: at sentence #560000, processed 12518861 words, keeping 105997 word types\n",
      "2019-05-26 22:29:33,300 : INFO : PROGRESS: at sentence #570000, processed 12747916 words, keeping 106787 word types\n",
      "2019-05-26 22:29:33,339 : INFO : PROGRESS: at sentence #580000, processed 12969412 words, keeping 107665 word types\n",
      "2019-05-26 22:29:33,374 : INFO : PROGRESS: at sentence #590000, processed 13194937 words, keeping 108501 word types\n",
      "2019-05-26 22:29:33,411 : INFO : PROGRESS: at sentence #600000, processed 13417135 words, keeping 109218 word types\n",
      "2019-05-26 22:29:33,445 : INFO : PROGRESS: at sentence #610000, processed 13638158 words, keeping 110092 word types\n",
      "2019-05-26 22:29:33,483 : INFO : PROGRESS: at sentence #620000, processed 13864483 words, keeping 110837 word types\n",
      "2019-05-26 22:29:33,519 : INFO : PROGRESS: at sentence #630000, processed 14088769 words, keeping 111610 word types\n",
      "2019-05-26 22:29:33,553 : INFO : PROGRESS: at sentence #640000, processed 14309552 words, keeping 112416 word types\n",
      "2019-05-26 22:29:33,589 : INFO : PROGRESS: at sentence #650000, processed 14535308 words, keeping 113196 word types\n",
      "2019-05-26 22:29:33,621 : INFO : PROGRESS: at sentence #660000, processed 14758098 words, keeping 113945 word types\n",
      "2019-05-26 22:29:33,659 : INFO : PROGRESS: at sentence #670000, processed 14981482 words, keeping 114643 word types\n",
      "2019-05-26 22:29:33,695 : INFO : PROGRESS: at sentence #680000, processed 15206314 words, keeping 115354 word types\n",
      "2019-05-26 22:29:33,729 : INFO : PROGRESS: at sentence #690000, processed 15428507 words, keeping 116131 word types\n",
      "2019-05-26 22:29:33,766 : INFO : PROGRESS: at sentence #700000, processed 15657213 words, keeping 116943 word types\n",
      "2019-05-26 22:29:33,803 : INFO : PROGRESS: at sentence #710000, processed 15880202 words, keeping 117596 word types\n",
      "2019-05-26 22:29:33,836 : INFO : PROGRESS: at sentence #720000, processed 16105489 words, keeping 118221 word types\n",
      "2019-05-26 22:29:33,872 : INFO : PROGRESS: at sentence #730000, processed 16331870 words, keeping 118954 word types\n",
      "2019-05-26 22:29:33,907 : INFO : PROGRESS: at sentence #740000, processed 16552903 words, keeping 119668 word types\n",
      "2019-05-26 22:29:33,943 : INFO : PROGRESS: at sentence #750000, processed 16771230 words, keeping 120295 word types\n",
      "2019-05-26 22:29:33,976 : INFO : PROGRESS: at sentence #760000, processed 16990622 words, keeping 120930 word types\n",
      "2019-05-26 22:29:34,013 : INFO : PROGRESS: at sentence #770000, processed 17217759 words, keeping 121703 word types\n"
     ]
    },
    {
     "name": "stderr",
     "output_type": "stream",
     "text": [
      "2019-05-26 22:29:34,048 : INFO : PROGRESS: at sentence #780000, processed 17447905 words, keeping 122402 word types\n",
      "2019-05-26 22:29:34,082 : INFO : PROGRESS: at sentence #790000, processed 17674981 words, keeping 123066 word types\n",
      "2019-05-26 22:29:34,101 : INFO : collected 123504 word types from a corpus of 17798082 raw words and 795538 sentences\n",
      "2019-05-26 22:29:34,102 : INFO : Loading a fresh vocabulary\n",
      "2019-05-26 22:29:34,156 : INFO : effective_min_count=40 retains 16490 unique words (13% of original 123504, drops 107014)\n",
      "2019-05-26 22:29:34,156 : INFO : effective_min_count=40 leaves 17238940 word corpus (96% of original 17798082, drops 559142)\n",
      "2019-05-26 22:29:34,196 : INFO : deleting the raw counts dictionary of 123504 items\n",
      "2019-05-26 22:29:34,199 : INFO : sample=0.001 downsamples 48 most-common words\n",
      "2019-05-26 22:29:34,200 : INFO : downsampling leaves estimated 12749658 word corpus (74.0% of prior 17238940)\n",
      "2019-05-26 22:29:34,240 : INFO : estimated required memory for 16490 words and 300 dimensions: 47821000 bytes\n",
      "2019-05-26 22:29:34,241 : INFO : resetting layer weights\n",
      "2019-05-26 22:29:34,406 : INFO : training model with 8 workers on 16490 vocabulary and 300 features, using sg=0 hs=0 sample=0.001 negative=5 window=10\n",
      "2019-05-26 22:29:35,416 : INFO : EPOCH 1 - PROGRESS: at 14.34% examples, 1814097 words/s, in_qsize 15, out_qsize 0\n",
      "2019-05-26 22:29:36,424 : INFO : EPOCH 1 - PROGRESS: at 29.15% examples, 1839793 words/s, in_qsize 15, out_qsize 0\n",
      "2019-05-26 22:29:37,424 : INFO : EPOCH 1 - PROGRESS: at 44.32% examples, 1869464 words/s, in_qsize 16, out_qsize 0\n",
      "2019-05-26 22:29:38,431 : INFO : EPOCH 1 - PROGRESS: at 58.57% examples, 1856747 words/s, in_qsize 13, out_qsize 2\n",
      "2019-05-26 22:29:39,431 : INFO : EPOCH 1 - PROGRESS: at 73.85% examples, 1875780 words/s, in_qsize 16, out_qsize 0\n",
      "2019-05-26 22:29:40,435 : INFO : EPOCH 1 - PROGRESS: at 89.31% examples, 1890935 words/s, in_qsize 15, out_qsize 0\n",
      "2019-05-26 22:29:41,096 : INFO : worker thread finished; awaiting finish of 7 more threads\n",
      "2019-05-26 22:29:41,103 : INFO : worker thread finished; awaiting finish of 6 more threads\n",
      "2019-05-26 22:29:41,106 : INFO : worker thread finished; awaiting finish of 5 more threads\n",
      "2019-05-26 22:29:41,108 : INFO : worker thread finished; awaiting finish of 4 more threads\n",
      "2019-05-26 22:29:41,114 : INFO : worker thread finished; awaiting finish of 3 more threads\n",
      "2019-05-26 22:29:41,116 : INFO : worker thread finished; awaiting finish of 2 more threads\n",
      "2019-05-26 22:29:41,119 : INFO : worker thread finished; awaiting finish of 1 more threads\n",
      "2019-05-26 22:29:41,122 : INFO : worker thread finished; awaiting finish of 0 more threads\n",
      "2019-05-26 22:29:41,122 : INFO : EPOCH - 1 : training on 17798082 raw words (12750251 effective words) took 6.7s, 1900840 effective words/s\n",
      "2019-05-26 22:29:42,135 : INFO : EPOCH 2 - PROGRESS: at 15.29% examples, 1925680 words/s, in_qsize 16, out_qsize 2\n",
      "2019-05-26 22:29:43,142 : INFO : EPOCH 2 - PROGRESS: at 31.15% examples, 1960180 words/s, in_qsize 13, out_qsize 2\n",
      "2019-05-26 22:29:44,146 : INFO : EPOCH 2 - PROGRESS: at 46.61% examples, 1962475 words/s, in_qsize 15, out_qsize 0\n",
      "2019-05-26 22:29:45,159 : INFO : EPOCH 2 - PROGRESS: at 61.58% examples, 1946412 words/s, in_qsize 15, out_qsize 0\n",
      "2019-05-26 22:29:46,161 : INFO : EPOCH 2 - PROGRESS: at 76.27% examples, 1931233 words/s, in_qsize 14, out_qsize 1\n",
      "2019-05-26 22:29:47,162 : INFO : EPOCH 2 - PROGRESS: at 90.24% examples, 1907466 words/s, in_qsize 15, out_qsize 0\n",
      "2019-05-26 22:29:47,771 : INFO : worker thread finished; awaiting finish of 7 more threads\n",
      "2019-05-26 22:29:47,776 : INFO : worker thread finished; awaiting finish of 6 more threads\n",
      "2019-05-26 22:29:47,778 : INFO : worker thread finished; awaiting finish of 5 more threads\n",
      "2019-05-26 22:29:47,782 : INFO : worker thread finished; awaiting finish of 4 more threads\n",
      "2019-05-26 22:29:47,788 : INFO : worker thread finished; awaiting finish of 3 more threads\n",
      "2019-05-26 22:29:47,793 : INFO : worker thread finished; awaiting finish of 2 more threads\n",
      "2019-05-26 22:29:47,794 : INFO : worker thread finished; awaiting finish of 1 more threads\n",
      "2019-05-26 22:29:47,794 : INFO : worker thread finished; awaiting finish of 0 more threads\n",
      "2019-05-26 22:29:47,795 : INFO : EPOCH - 2 : training on 17798082 raw words (12750768 effective words) took 6.7s, 1912973 effective words/s\n",
      "2019-05-26 22:29:48,803 : INFO : EPOCH 3 - PROGRESS: at 14.83% examples, 1877813 words/s, in_qsize 15, out_qsize 0\n",
      "2019-05-26 22:29:49,803 : INFO : EPOCH 3 - PROGRESS: at 29.59% examples, 1874308 words/s, in_qsize 15, out_qsize 0\n",
      "2019-05-26 22:29:50,805 : INFO : EPOCH 3 - PROGRESS: at 44.20% examples, 1868702 words/s, in_qsize 15, out_qsize 0\n",
      "2019-05-26 22:29:51,806 : INFO : EPOCH 3 - PROGRESS: at 58.46% examples, 1857948 words/s, in_qsize 14, out_qsize 1\n",
      "2019-05-26 22:29:52,809 : INFO : EPOCH 3 - PROGRESS: at 72.55% examples, 1846099 words/s, in_qsize 15, out_qsize 0\n",
      "2019-05-26 22:29:53,813 : INFO : EPOCH 3 - PROGRESS: at 87.25% examples, 1849193 words/s, in_qsize 14, out_qsize 1\n",
      "2019-05-26 22:29:54,697 : INFO : worker thread finished; awaiting finish of 7 more threads\n",
      "2019-05-26 22:29:54,702 : INFO : worker thread finished; awaiting finish of 6 more threads\n",
      "2019-05-26 22:29:54,703 : INFO : worker thread finished; awaiting finish of 5 more threads\n",
      "2019-05-26 22:29:54,705 : INFO : worker thread finished; awaiting finish of 4 more threads\n",
      "2019-05-26 22:29:54,709 : INFO : worker thread finished; awaiting finish of 3 more threads\n",
      "2019-05-26 22:29:54,717 : INFO : worker thread finished; awaiting finish of 2 more threads\n",
      "2019-05-26 22:29:54,724 : INFO : worker thread finished; awaiting finish of 1 more threads\n",
      "2019-05-26 22:29:54,724 : INFO : worker thread finished; awaiting finish of 0 more threads\n",
      "2019-05-26 22:29:54,725 : INFO : EPOCH - 3 : training on 17798082 raw words (12746369 effective words) took 6.9s, 1841246 effective words/s\n",
      "2019-05-26 22:29:55,744 : INFO : EPOCH 4 - PROGRESS: at 14.05% examples, 1759440 words/s, in_qsize 15, out_qsize 0\n",
      "2019-05-26 22:29:56,746 : INFO : EPOCH 4 - PROGRESS: at 27.91% examples, 1756851 words/s, in_qsize 13, out_qsize 2\n",
      "2019-05-26 22:29:57,758 : INFO : EPOCH 4 - PROGRESS: at 41.54% examples, 1740938 words/s, in_qsize 13, out_qsize 2\n",
      "2019-05-26 22:29:58,762 : INFO : EPOCH 4 - PROGRESS: at 55.43% examples, 1748844 words/s, in_qsize 14, out_qsize 1\n",
      "2019-05-26 22:29:59,764 : INFO : EPOCH 4 - PROGRESS: at 68.32% examples, 1729030 words/s, in_qsize 15, out_qsize 0\n",
      "2019-05-26 22:30:00,767 : INFO : EPOCH 4 - PROGRESS: at 82.61% examples, 1743813 words/s, in_qsize 15, out_qsize 0\n",
      "2019-05-26 22:30:01,774 : INFO : EPOCH 4 - PROGRESS: at 96.31% examples, 1742329 words/s, in_qsize 15, out_qsize 0\n",
      "2019-05-26 22:30:02,026 : INFO : worker thread finished; awaiting finish of 7 more threads\n",
      "2019-05-26 22:30:02,027 : INFO : worker thread finished; awaiting finish of 6 more threads\n",
      "2019-05-26 22:30:02,028 : INFO : worker thread finished; awaiting finish of 5 more threads\n",
      "2019-05-26 22:30:02,030 : INFO : worker thread finished; awaiting finish of 4 more threads\n",
      "2019-05-26 22:30:02,036 : INFO : worker thread finished; awaiting finish of 3 more threads\n",
      "2019-05-26 22:30:02,037 : INFO : worker thread finished; awaiting finish of 2 more threads\n",
      "2019-05-26 22:30:02,039 : INFO : worker thread finished; awaiting finish of 1 more threads\n",
      "2019-05-26 22:30:02,047 : INFO : worker thread finished; awaiting finish of 0 more threads\n",
      "2019-05-26 22:30:02,047 : INFO : EPOCH - 4 : training on 17798082 raw words (12746978 effective words) took 7.3s, 1742451 effective words/s\n",
      "2019-05-26 22:30:03,057 : INFO : EPOCH 5 - PROGRESS: at 13.20% examples, 1670615 words/s, in_qsize 14, out_qsize 1\n",
      "2019-05-26 22:30:04,065 : INFO : EPOCH 5 - PROGRESS: at 27.92% examples, 1761620 words/s, in_qsize 13, out_qsize 2\n",
      "2019-05-26 22:30:05,064 : INFO : EPOCH 5 - PROGRESS: at 41.27% examples, 1738959 words/s, in_qsize 15, out_qsize 0\n",
      "2019-05-26 22:30:06,067 : INFO : EPOCH 5 - PROGRESS: at 54.59% examples, 1730242 words/s, in_qsize 15, out_qsize 0\n",
      "2019-05-26 22:30:07,071 : INFO : EPOCH 5 - PROGRESS: at 68.43% examples, 1737868 words/s, in_qsize 15, out_qsize 0\n",
      "2019-05-26 22:30:08,074 : INFO : EPOCH 5 - PROGRESS: at 83.06% examples, 1758022 words/s, in_qsize 14, out_qsize 1\n"
     ]
    },
    {
     "name": "stderr",
     "output_type": "stream",
     "text": [
      "2019-05-26 22:30:09,083 : INFO : EPOCH 5 - PROGRESS: at 97.78% examples, 1773203 words/s, in_qsize 15, out_qsize 0\n",
      "2019-05-26 22:30:09,204 : INFO : worker thread finished; awaiting finish of 7 more threads\n",
      "2019-05-26 22:30:09,210 : INFO : worker thread finished; awaiting finish of 6 more threads\n",
      "2019-05-26 22:30:09,211 : INFO : worker thread finished; awaiting finish of 5 more threads\n",
      "2019-05-26 22:30:09,214 : INFO : worker thread finished; awaiting finish of 4 more threads\n",
      "2019-05-26 22:30:09,216 : INFO : worker thread finished; awaiting finish of 3 more threads\n",
      "2019-05-26 22:30:09,223 : INFO : worker thread finished; awaiting finish of 2 more threads\n",
      "2019-05-26 22:30:09,224 : INFO : worker thread finished; awaiting finish of 1 more threads\n",
      "2019-05-26 22:30:09,227 : INFO : worker thread finished; awaiting finish of 0 more threads\n",
      "2019-05-26 22:30:09,228 : INFO : EPOCH - 5 : training on 17798082 raw words (12748558 effective words) took 7.2s, 1777442 effective words/s\n",
      "2019-05-26 22:30:09,228 : INFO : training on a 88990410 raw words (63742924 effective words) took 34.8s, 1830551 effective words/s\n",
      "2019-05-26 22:30:09,233 : INFO : precomputing L2-norms of word weight vectors\n",
      "2019-05-26 22:30:09,253 : INFO : saving Word2Vec object under ../saved_model/300features_40minwords_10context, separately None\n",
      "2019-05-26 22:30:09,253 : INFO : not storing attribute vectors_norm\n",
      "2019-05-26 22:30:09,254 : INFO : not storing attribute cum_table\n",
      "2019-05-26 22:30:09,254 : WARNING : this function is deprecated, use smart_open.open instead\n",
      "2019-05-26 22:30:09,589 : INFO : saved ../saved_model/300features_40minwords_10context\n"
     ]
    }
   ],
   "source": [
    "# Import the built-in logging module and configure it so that Word2Vec \n",
    "# creates nice output messages\n",
    "import logging\n",
    "logging.basicConfig(format='%(asctime)s : %(levelname)s : %(message)s',level=logging.INFO)\n",
    "\n",
    "# Set values for various parameters\n",
    "num_features = 300    # Word vector dimensionality                      \n",
    "min_word_count = 40   # Minimum word count                        \n",
    "num_workers = 8       # Number of threads to run in parallel\n",
    "context = 10          # Context window size                                                                                    \n",
    "downsampling = 1e-3   # Downsample setting for frequent words\n",
    "\n",
    "# Initialize and train the model (this will take some time)\n",
    "print(\"Training model...\")\n",
    "model = word2vec.Word2Vec(sentences, workers=num_workers, \n",
    "                          size=num_features, min_count = min_word_count,\n",
    "                          window = context, sample = downsampling)\n",
    "\n",
    "# If you don't plan to train the model any further, calling \n",
    "# init_sims will make the model much more memory-efficient.\n",
    "model.init_sims(replace=True)\n",
    "\n",
    "# It can be helpful to create a meaningful model name and \n",
    "# save the model for later use. You can load it later using Word2Vec.load()\n",
    "model_name = \"../saved_model/300features_40minwords_10context\"\n",
    "model.save(model_name)"
   ]
  },
  {
   "cell_type": "code",
   "execution_count": 49,
   "metadata": {},
   "outputs": [
    {
     "name": "stderr",
     "output_type": "stream",
     "text": [
      "2019-05-26 22:30:12,732 : INFO : collecting all words and their counts\n",
      "2019-05-26 22:30:12,732 : INFO : PROGRESS: at sentence #0, processed 0 words, keeping 0 word types\n",
      "2019-05-26 22:30:12,764 : INFO : PROGRESS: at sentence #10000, processed 225803 words, keeping 12465 word types\n",
      "2019-05-26 22:30:12,795 : INFO : PROGRESS: at sentence #20000, processed 451892 words, keeping 17070 word types\n",
      "2019-05-26 22:30:12,827 : INFO : PROGRESS: at sentence #30000, processed 671314 words, keeping 20370 word types\n",
      "2019-05-26 22:30:12,860 : INFO : PROGRESS: at sentence #40000, processed 897814 words, keeping 23125 word types\n",
      "2019-05-26 22:30:12,890 : INFO : PROGRESS: at sentence #50000, processed 1116962 words, keeping 25365 word types\n"
     ]
    },
    {
     "name": "stdout",
     "output_type": "stream",
     "text": [
      "Training model...\n"
     ]
    },
    {
     "name": "stderr",
     "output_type": "stream",
     "text": [
      "2019-05-26 22:30:12,921 : INFO : PROGRESS: at sentence #60000, processed 1338403 words, keeping 27283 word types\n",
      "2019-05-26 22:30:12,955 : INFO : PROGRESS: at sentence #70000, processed 1561579 words, keeping 29024 word types\n",
      "2019-05-26 22:30:12,984 : INFO : PROGRESS: at sentence #80000, processed 1780886 words, keeping 30603 word types\n",
      "2019-05-26 22:30:13,016 : INFO : PROGRESS: at sentence #90000, processed 2004995 words, keeping 32223 word types\n",
      "2019-05-26 22:30:13,046 : INFO : PROGRESS: at sentence #100000, processed 2226966 words, keeping 33579 word types\n",
      "2019-05-26 22:30:13,076 : INFO : PROGRESS: at sentence #110000, processed 2446580 words, keeping 34827 word types\n",
      "2019-05-26 22:30:13,106 : INFO : PROGRESS: at sentence #120000, processed 2668775 words, keeping 36183 word types\n",
      "2019-05-26 22:30:13,137 : INFO : PROGRESS: at sentence #130000, processed 2894303 words, keeping 37353 word types\n",
      "2019-05-26 22:30:13,168 : INFO : PROGRESS: at sentence #140000, processed 3107005 words, keeping 38376 word types\n",
      "2019-05-26 22:30:13,200 : INFO : PROGRESS: at sentence #150000, processed 3332627 words, keeping 39556 word types\n",
      "2019-05-26 22:30:13,232 : INFO : PROGRESS: at sentence #160000, processed 3555315 words, keeping 40629 word types\n",
      "2019-05-26 22:30:13,263 : INFO : PROGRESS: at sentence #170000, processed 3778655 words, keeping 41628 word types\n",
      "2019-05-26 22:30:13,292 : INFO : PROGRESS: at sentence #180000, processed 3999236 words, keeping 42599 word types\n",
      "2019-05-26 22:30:13,326 : INFO : PROGRESS: at sentence #190000, processed 4224449 words, keeping 43461 word types\n",
      "2019-05-26 22:30:13,359 : INFO : PROGRESS: at sentence #200000, processed 4448603 words, keeping 44301 word types\n",
      "2019-05-26 22:30:13,393 : INFO : PROGRESS: at sentence #210000, processed 4669967 words, keeping 45212 word types\n",
      "2019-05-26 22:30:13,426 : INFO : PROGRESS: at sentence #220000, processed 4894968 words, keeping 46134 word types\n",
      "2019-05-26 22:30:13,458 : INFO : PROGRESS: at sentence #230000, processed 5117546 words, keeping 46986 word types\n",
      "2019-05-26 22:30:13,490 : INFO : PROGRESS: at sentence #240000, processed 5345051 words, keeping 47854 word types\n",
      "2019-05-26 22:30:13,521 : INFO : PROGRESS: at sentence #250000, processed 5559166 words, keeping 48699 word types\n",
      "2019-05-26 22:30:13,552 : INFO : PROGRESS: at sentence #260000, processed 5779147 words, keeping 49469 word types\n",
      "2019-05-26 22:30:13,581 : INFO : PROGRESS: at sentence #270000, processed 6000436 words, keeping 50416 word types\n",
      "2019-05-26 22:30:13,613 : INFO : PROGRESS: at sentence #280000, processed 6226315 words, keeping 51640 word types\n",
      "2019-05-26 22:30:13,643 : INFO : PROGRESS: at sentence #290000, processed 6449475 words, keeping 52754 word types\n",
      "2019-05-26 22:30:13,677 : INFO : PROGRESS: at sentence #300000, processed 6674078 words, keeping 53755 word types\n",
      "2019-05-26 22:30:13,710 : INFO : PROGRESS: at sentence #310000, processed 6899392 words, keeping 54734 word types\n",
      "2019-05-26 22:30:13,742 : INFO : PROGRESS: at sentence #320000, processed 7124279 words, keeping 55770 word types\n",
      "2019-05-26 22:30:13,773 : INFO : PROGRESS: at sentence #330000, processed 7346022 words, keeping 56687 word types\n",
      "2019-05-26 22:30:13,804 : INFO : PROGRESS: at sentence #340000, processed 7575534 words, keeping 57629 word types\n",
      "2019-05-26 22:30:13,835 : INFO : PROGRESS: at sentence #350000, processed 7798804 words, keeping 58485 word types\n",
      "2019-05-26 22:30:13,866 : INFO : PROGRESS: at sentence #360000, processed 8019467 words, keeping 59345 word types\n",
      "2019-05-26 22:30:13,898 : INFO : PROGRESS: at sentence #370000, processed 8246659 words, keeping 60161 word types\n",
      "2019-05-26 22:30:13,932 : INFO : PROGRESS: at sentence #380000, processed 8471806 words, keeping 61069 word types\n",
      "2019-05-26 22:30:13,968 : INFO : PROGRESS: at sentence #390000, processed 8701556 words, keeping 61810 word types\n",
      "2019-05-26 22:30:13,999 : INFO : PROGRESS: at sentence #400000, processed 8924505 words, keeping 62546 word types\n",
      "2019-05-26 22:30:14,030 : INFO : PROGRESS: at sentence #410000, processed 9145855 words, keeping 63263 word types\n",
      "2019-05-26 22:30:14,063 : INFO : PROGRESS: at sentence #420000, processed 9366935 words, keeping 64024 word types\n",
      "2019-05-26 22:30:14,096 : INFO : PROGRESS: at sentence #430000, processed 9594472 words, keeping 64795 word types\n",
      "2019-05-26 22:30:14,130 : INFO : PROGRESS: at sentence #440000, processed 9821225 words, keeping 65539 word types\n",
      "2019-05-26 22:30:14,167 : INFO : PROGRESS: at sentence #450000, processed 10044987 words, keeping 66378 word types\n",
      "2019-05-26 22:30:14,206 : INFO : PROGRESS: at sentence #460000, processed 10277747 words, keeping 67158 word types\n",
      "2019-05-26 22:30:14,246 : INFO : PROGRESS: at sentence #470000, processed 10505672 words, keeping 67775 word types\n",
      "2019-05-26 22:30:14,283 : INFO : PROGRESS: at sentence #480000, processed 10726056 words, keeping 68500 word types\n",
      "2019-05-26 22:30:14,317 : INFO : PROGRESS: at sentence #490000, processed 10952800 words, keeping 69256 word types\n",
      "2019-05-26 22:30:14,353 : INFO : PROGRESS: at sentence #500000, processed 11174456 words, keeping 69892 word types\n",
      "2019-05-26 22:30:14,384 : INFO : PROGRESS: at sentence #510000, processed 11399731 words, keeping 70593 word types\n",
      "2019-05-26 22:30:14,416 : INFO : PROGRESS: at sentence #520000, processed 11623082 words, keeping 71267 word types\n",
      "2019-05-26 22:30:14,449 : INFO : PROGRESS: at sentence #530000, processed 11847480 words, keeping 71877 word types\n",
      "2019-05-26 22:30:14,482 : INFO : PROGRESS: at sentence #540000, processed 12072095 words, keeping 72537 word types\n",
      "2019-05-26 22:30:14,516 : INFO : PROGRESS: at sentence #550000, processed 12297646 words, keeping 73212 word types\n",
      "2019-05-26 22:30:14,548 : INFO : PROGRESS: at sentence #560000, processed 12518936 words, keeping 73861 word types\n",
      "2019-05-26 22:30:14,582 : INFO : PROGRESS: at sentence #570000, processed 12748083 words, keeping 74431 word types\n",
      "2019-05-26 22:30:14,615 : INFO : PROGRESS: at sentence #580000, processed 12969579 words, keeping 75087 word types\n",
      "2019-05-26 22:30:14,648 : INFO : PROGRESS: at sentence #590000, processed 13195103 words, keeping 75734 word types\n",
      "2019-05-26 22:30:14,680 : INFO : PROGRESS: at sentence #600000, processed 13417301 words, keeping 76295 word types\n",
      "2019-05-26 22:30:14,710 : INFO : PROGRESS: at sentence #610000, processed 13638324 words, keeping 76953 word types\n",
      "2019-05-26 22:30:14,742 : INFO : PROGRESS: at sentence #620000, processed 13864649 words, keeping 77504 word types\n",
      "2019-05-26 22:30:14,773 : INFO : PROGRESS: at sentence #630000, processed 14088935 words, keeping 78067 word types\n",
      "2019-05-26 22:30:14,805 : INFO : PROGRESS: at sentence #640000, processed 14309718 words, keeping 78693 word types\n",
      "2019-05-26 22:30:14,838 : INFO : PROGRESS: at sentence #650000, processed 14535474 words, keeping 79296 word types\n",
      "2019-05-26 22:30:14,872 : INFO : PROGRESS: at sentence #660000, processed 14758264 words, keeping 79865 word types\n",
      "2019-05-26 22:30:14,905 : INFO : PROGRESS: at sentence #670000, processed 14981657 words, keeping 80382 word types\n",
      "2019-05-26 22:30:14,939 : INFO : PROGRESS: at sentence #680000, processed 15206489 words, keeping 80913 word types\n",
      "2019-05-26 22:30:14,970 : INFO : PROGRESS: at sentence #690000, processed 15428682 words, keeping 81483 word types\n",
      "2019-05-26 22:30:15,004 : INFO : PROGRESS: at sentence #700000, processed 15657388 words, keeping 82075 word types\n",
      "2019-05-26 22:30:15,036 : INFO : PROGRESS: at sentence #710000, processed 15880377 words, keeping 82561 word types\n",
      "2019-05-26 22:30:15,069 : INFO : PROGRESS: at sentence #720000, processed 16105664 words, keeping 83037 word types\n",
      "2019-05-26 22:30:15,101 : INFO : PROGRESS: at sentence #730000, processed 16332045 words, keeping 83572 word types\n",
      "2019-05-26 22:30:15,133 : INFO : PROGRESS: at sentence #740000, processed 16553078 words, keeping 84128 word types\n",
      "2019-05-26 22:30:15,167 : INFO : PROGRESS: at sentence #750000, processed 16771405 words, keeping 84600 word types\n",
      "2019-05-26 22:30:15,199 : INFO : PROGRESS: at sentence #760000, processed 16990809 words, keeping 85069 word types\n",
      "2019-05-26 22:30:15,231 : INFO : PROGRESS: at sentence #770000, processed 17217946 words, keeping 85645 word types\n"
     ]
    },
    {
     "name": "stderr",
     "output_type": "stream",
     "text": [
      "2019-05-26 22:30:15,265 : INFO : PROGRESS: at sentence #780000, processed 17448092 words, keeping 86161 word types\n",
      "2019-05-26 22:30:15,296 : INFO : PROGRESS: at sentence #790000, processed 17675168 words, keeping 86666 word types\n",
      "2019-05-26 22:30:15,316 : INFO : collected 86997 word types from a corpus of 17798269 raw words and 795538 sentences\n",
      "2019-05-26 22:30:15,317 : INFO : Loading a fresh vocabulary\n",
      "2019-05-26 22:30:15,358 : INFO : effective_min_count=40 retains 11986 unique words (13% of original 86997, drops 75011)\n",
      "2019-05-26 22:30:15,358 : INFO : effective_min_count=40 leaves 17434031 word corpus (97% of original 17798269, drops 364238)\n",
      "2019-05-26 22:30:15,387 : INFO : deleting the raw counts dictionary of 86997 items\n",
      "2019-05-26 22:30:15,389 : INFO : sample=0.001 downsamples 50 most-common words\n",
      "2019-05-26 22:30:15,389 : INFO : downsampling leaves estimated 12872362 word corpus (73.8% of prior 17434031)\n",
      "2019-05-26 22:30:15,418 : INFO : estimated required memory for 11986 words and 300 dimensions: 34759400 bytes\n",
      "2019-05-26 22:30:15,418 : INFO : resetting layer weights\n",
      "2019-05-26 22:30:15,537 : INFO : training model with 8 workers on 11986 vocabulary and 300 features, using sg=0 hs=0 sample=0.001 negative=5 window=10\n",
      "2019-05-26 22:30:16,551 : INFO : EPOCH 1 - PROGRESS: at 15.68% examples, 1998511 words/s, in_qsize 15, out_qsize 0\n",
      "2019-05-26 22:30:17,555 : INFO : EPOCH 1 - PROGRESS: at 31.73% examples, 2020013 words/s, in_qsize 14, out_qsize 1\n",
      "2019-05-26 22:30:18,555 : INFO : EPOCH 1 - PROGRESS: at 47.67% examples, 2031968 words/s, in_qsize 15, out_qsize 0\n",
      "2019-05-26 22:30:19,557 : INFO : EPOCH 1 - PROGRESS: at 63.16% examples, 2024816 words/s, in_qsize 15, out_qsize 0\n",
      "2019-05-26 22:30:20,558 : INFO : EPOCH 1 - PROGRESS: at 79.01% examples, 2028221 words/s, in_qsize 15, out_qsize 0\n",
      "2019-05-26 22:30:21,561 : INFO : EPOCH 1 - PROGRESS: at 94.89% examples, 2029786 words/s, in_qsize 14, out_qsize 1\n",
      "2019-05-26 22:30:21,856 : INFO : worker thread finished; awaiting finish of 7 more threads\n",
      "2019-05-26 22:30:21,859 : INFO : worker thread finished; awaiting finish of 6 more threads\n",
      "2019-05-26 22:30:21,861 : INFO : worker thread finished; awaiting finish of 5 more threads\n",
      "2019-05-26 22:30:21,865 : INFO : worker thread finished; awaiting finish of 4 more threads\n",
      "2019-05-26 22:30:21,866 : INFO : worker thread finished; awaiting finish of 3 more threads\n",
      "2019-05-26 22:30:21,870 : INFO : worker thread finished; awaiting finish of 2 more threads\n",
      "2019-05-26 22:30:21,871 : INFO : worker thread finished; awaiting finish of 1 more threads\n",
      "2019-05-26 22:30:21,873 : INFO : worker thread finished; awaiting finish of 0 more threads\n",
      "2019-05-26 22:30:21,873 : INFO : EPOCH - 1 : training on 17798269 raw words (12873350 effective words) took 6.3s, 2034596 effective words/s\n",
      "2019-05-26 22:30:22,885 : INFO : EPOCH 2 - PROGRESS: at 15.45% examples, 1969243 words/s, in_qsize 15, out_qsize 0\n",
      "2019-05-26 22:30:23,887 : INFO : EPOCH 2 - PROGRESS: at 31.56% examples, 2011104 words/s, in_qsize 16, out_qsize 0\n",
      "2019-05-26 22:30:24,893 : INFO : EPOCH 2 - PROGRESS: at 47.11% examples, 2005460 words/s, in_qsize 14, out_qsize 1\n",
      "2019-05-26 22:30:25,894 : INFO : EPOCH 2 - PROGRESS: at 62.99% examples, 2018081 words/s, in_qsize 15, out_qsize 0\n",
      "2019-05-26 22:30:26,896 : INFO : EPOCH 2 - PROGRESS: at 78.78% examples, 2020738 words/s, in_qsize 15, out_qsize 0\n",
      "2019-05-26 22:30:27,901 : INFO : EPOCH 2 - PROGRESS: at 94.09% examples, 2010620 words/s, in_qsize 13, out_qsize 2\n",
      "2019-05-26 22:30:28,242 : INFO : worker thread finished; awaiting finish of 7 more threads\n",
      "2019-05-26 22:30:28,243 : INFO : worker thread finished; awaiting finish of 6 more threads\n",
      "2019-05-26 22:30:28,246 : INFO : worker thread finished; awaiting finish of 5 more threads\n",
      "2019-05-26 22:30:28,250 : INFO : worker thread finished; awaiting finish of 4 more threads\n",
      "2019-05-26 22:30:28,252 : INFO : worker thread finished; awaiting finish of 3 more threads\n",
      "2019-05-26 22:30:28,256 : INFO : worker thread finished; awaiting finish of 2 more threads\n",
      "2019-05-26 22:30:28,256 : INFO : worker thread finished; awaiting finish of 1 more threads\n",
      "2019-05-26 22:30:28,259 : INFO : worker thread finished; awaiting finish of 0 more threads\n",
      "2019-05-26 22:30:28,259 : INFO : EPOCH - 2 : training on 17798269 raw words (12870786 effective words) took 6.4s, 2017860 effective words/s\n",
      "2019-05-26 22:30:29,268 : INFO : EPOCH 3 - PROGRESS: at 15.56% examples, 1990517 words/s, in_qsize 14, out_qsize 1\n",
      "2019-05-26 22:30:30,272 : INFO : EPOCH 3 - PROGRESS: at 32.02% examples, 2041154 words/s, in_qsize 15, out_qsize 0\n",
      "2019-05-26 22:30:31,276 : INFO : EPOCH 3 - PROGRESS: at 48.33% examples, 2060511 words/s, in_qsize 14, out_qsize 1\n",
      "2019-05-26 22:30:32,285 : INFO : EPOCH 3 - PROGRESS: at 64.51% examples, 2064300 words/s, in_qsize 14, out_qsize 1\n",
      "2019-05-26 22:30:33,292 : INFO : EPOCH 3 - PROGRESS: at 80.41% examples, 2058949 words/s, in_qsize 15, out_qsize 0\n",
      "2019-05-26 22:30:34,292 : INFO : EPOCH 3 - PROGRESS: at 96.20% examples, 2053757 words/s, in_qsize 14, out_qsize 1\n",
      "2019-05-26 22:30:34,509 : INFO : worker thread finished; awaiting finish of 7 more threads\n",
      "2019-05-26 22:30:34,510 : INFO : worker thread finished; awaiting finish of 6 more threads\n",
      "2019-05-26 22:30:34,511 : INFO : worker thread finished; awaiting finish of 5 more threads\n",
      "2019-05-26 22:30:34,513 : INFO : worker thread finished; awaiting finish of 4 more threads\n",
      "2019-05-26 22:30:34,515 : INFO : worker thread finished; awaiting finish of 3 more threads\n",
      "2019-05-26 22:30:34,516 : INFO : worker thread finished; awaiting finish of 2 more threads\n",
      "2019-05-26 22:30:34,520 : INFO : worker thread finished; awaiting finish of 1 more threads\n",
      "2019-05-26 22:30:34,522 : INFO : worker thread finished; awaiting finish of 0 more threads\n",
      "2019-05-26 22:30:34,522 : INFO : EPOCH - 3 : training on 17798269 raw words (12872116 effective words) took 6.3s, 2057564 effective words/s\n",
      "2019-05-26 22:30:35,533 : INFO : EPOCH 4 - PROGRESS: at 15.62% examples, 1992674 words/s, in_qsize 15, out_qsize 0\n",
      "2019-05-26 22:30:36,534 : INFO : EPOCH 4 - PROGRESS: at 31.38% examples, 2001614 words/s, in_qsize 15, out_qsize 0\n",
      "2019-05-26 22:30:37,537 : INFO : EPOCH 4 - PROGRESS: at 47.61% examples, 2029849 words/s, in_qsize 15, out_qsize 0\n",
      "2019-05-26 22:30:38,543 : INFO : EPOCH 4 - PROGRESS: at 63.55% examples, 2035652 words/s, in_qsize 15, out_qsize 0\n",
      "2019-05-26 22:30:39,545 : INFO : EPOCH 4 - PROGRESS: at 79.86% examples, 2048091 words/s, in_qsize 15, out_qsize 0\n",
      "2019-05-26 22:30:40,549 : INFO : EPOCH 4 - PROGRESS: at 95.17% examples, 2033795 words/s, in_qsize 14, out_qsize 1\n",
      "2019-05-26 22:30:40,832 : INFO : worker thread finished; awaiting finish of 7 more threads\n",
      "2019-05-26 22:30:40,837 : INFO : worker thread finished; awaiting finish of 6 more threads\n",
      "2019-05-26 22:30:40,838 : INFO : worker thread finished; awaiting finish of 5 more threads\n",
      "2019-05-26 22:30:40,841 : INFO : worker thread finished; awaiting finish of 4 more threads\n",
      "2019-05-26 22:30:40,846 : INFO : worker thread finished; awaiting finish of 3 more threads\n",
      "2019-05-26 22:30:40,849 : INFO : worker thread finished; awaiting finish of 2 more threads\n",
      "2019-05-26 22:30:40,850 : INFO : worker thread finished; awaiting finish of 1 more threads\n",
      "2019-05-26 22:30:40,851 : INFO : worker thread finished; awaiting finish of 0 more threads\n",
      "2019-05-26 22:30:40,852 : INFO : EPOCH - 4 : training on 17798269 raw words (12871652 effective words) took 6.3s, 2035730 effective words/s\n",
      "2019-05-26 22:30:41,864 : INFO : EPOCH 5 - PROGRESS: at 15.45% examples, 1969871 words/s, in_qsize 13, out_qsize 2\n",
      "2019-05-26 22:30:42,866 : INFO : EPOCH 5 - PROGRESS: at 31.56% examples, 2010528 words/s, in_qsize 14, out_qsize 1\n",
      "2019-05-26 22:30:43,868 : INFO : EPOCH 5 - PROGRESS: at 46.39% examples, 1976864 words/s, in_qsize 15, out_qsize 0\n",
      "2019-05-26 22:30:44,875 : INFO : EPOCH 5 - PROGRESS: at 61.08% examples, 1955809 words/s, in_qsize 15, out_qsize 0\n",
      "2019-05-26 22:30:45,875 : INFO : EPOCH 5 - PROGRESS: at 75.64% examples, 1940122 words/s, in_qsize 15, out_qsize 0\n",
      "2019-05-26 22:30:46,883 : INFO : EPOCH 5 - PROGRESS: at 89.68% examples, 1916335 words/s, in_qsize 14, out_qsize 1\n",
      "2019-05-26 22:30:47,581 : INFO : worker thread finished; awaiting finish of 7 more threads\n"
     ]
    },
    {
     "name": "stderr",
     "output_type": "stream",
     "text": [
      "2019-05-26 22:30:47,582 : INFO : worker thread finished; awaiting finish of 6 more threads\n",
      "2019-05-26 22:30:47,585 : INFO : worker thread finished; awaiting finish of 5 more threads\n",
      "2019-05-26 22:30:47,590 : INFO : worker thread finished; awaiting finish of 4 more threads\n",
      "2019-05-26 22:30:47,593 : INFO : worker thread finished; awaiting finish of 3 more threads\n",
      "2019-05-26 22:30:47,594 : INFO : worker thread finished; awaiting finish of 2 more threads\n",
      "2019-05-26 22:30:47,595 : INFO : worker thread finished; awaiting finish of 1 more threads\n",
      "2019-05-26 22:30:47,600 : INFO : worker thread finished; awaiting finish of 0 more threads\n",
      "2019-05-26 22:30:47,600 : INFO : EPOCH - 5 : training on 17798269 raw words (12872829 effective words) took 6.7s, 1909633 effective words/s\n",
      "2019-05-26 22:30:47,600 : INFO : training on a 88991345 raw words (64360733 effective words) took 32.1s, 2007329 effective words/s\n",
      "2019-05-26 22:30:47,601 : INFO : precomputing L2-norms of word weight vectors\n",
      "2019-05-26 22:30:47,607 : INFO : saving Word2Vec object under ../saved_model/300features_40minwords_10context_add_stemming, separately None\n",
      "2019-05-26 22:30:47,608 : INFO : not storing attribute vectors_norm\n",
      "2019-05-26 22:30:47,608 : INFO : not storing attribute cum_table\n",
      "2019-05-26 22:30:47,609 : WARNING : this function is deprecated, use smart_open.open instead\n",
      "2019-05-26 22:30:47,877 : INFO : saved ../saved_model/300features_40minwords_10context_add_stemming\n"
     ]
    }
   ],
   "source": [
    "# Import the built-in logging module and configure it so that Word2Vec \n",
    "# creates nice output messages\n",
    "import logging\n",
    "logging.basicConfig(format='%(asctime)s : %(levelname)s : %(message)s',level=logging.INFO)\n",
    "\n",
    "# Set values for various parameters\n",
    "num_features = 300    # Word vector dimensionality                      \n",
    "min_word_count = 40   # Minimum word count                        \n",
    "num_workers = 8       # Number of threads to run in parallel\n",
    "context = 10          # Context window size                                                                                    \n",
    "downsampling = 1e-3   # Downsample setting for frequent words\n",
    "\n",
    "# Initialize and train the model (this will take some time)\n",
    "print(\"Training model...\")\n",
    "model_stem = word2vec.Word2Vec(sentences_stem, workers=num_workers, \n",
    "                          size=num_features, min_count = min_word_count,\n",
    "                          window = context, sample = downsampling)\n",
    "\n",
    "# If you don't plan to train the model any further, calling \n",
    "# init_sims will make the model much more memory-efficient.\n",
    "model_stem.init_sims(replace=True)\n",
    "\n",
    "# It can be helpful to create a meaningful model name and \n",
    "# save the model for later use. You can load it later using Word2Vec.load()\n",
    "model_name = \"../saved_model/300features_40minwords_10context_add_stemming\"\n",
    "model_stem.save(model_name)"
   ]
  },
  {
   "cell_type": "markdown",
   "metadata": {},
   "source": [
    "# Exploring the Model Results"
   ]
  },
  {
   "cell_type": "markdown",
   "metadata": {},
   "source": [
    "doesnt_match 함수는 단어들간 가장 비슷하지 않은 단어를 골라준다."
   ]
  },
  {
   "cell_type": "code",
   "execution_count": 50,
   "metadata": {},
   "outputs": [
    {
     "data": {
      "text/plain": [
       "'kitchen'"
      ]
     },
     "execution_count": 50,
     "metadata": {},
     "output_type": "execute_result"
    }
   ],
   "source": [
    "model.doesnt_match(\"man woman child kitchen\".split())"
   ]
  },
  {
   "cell_type": "code",
   "execution_count": 51,
   "metadata": {},
   "outputs": [
    {
     "data": {
      "text/plain": [
       "'berlin'"
      ]
     },
     "execution_count": 51,
     "metadata": {},
     "output_type": "execute_result"
    }
   ],
   "source": [
    "model.doesnt_match(\"france england germany berlin\".split())"
   ]
  },
  {
   "cell_type": "code",
   "execution_count": 52,
   "metadata": {},
   "outputs": [
    {
     "data": {
      "text/plain": [
       "'austria'"
      ]
     },
     "execution_count": 52,
     "metadata": {},
     "output_type": "execute_result"
    }
   ],
   "source": [
    "model.doesnt_match(\"paris berlin london austria\".split())"
   ]
  },
  {
   "cell_type": "markdown",
   "metadata": {},
   "source": [
    "아래는 KaggleWord2VecUtility를 통해서 전처리된 후 학습한 Word2vec 모델의 결과이다. 모델안에 france, germany, paris가 없다고한다. 위에서 따로 함수를 정의한 전처리 함수와의 차이점은 stemming을 했는지에 대한 여부이다. stemming을 통해서 france, germany, paris가 다른 단어로 바뀌게 되었는지는 잘모르겠다."
   ]
  },
  {
   "cell_type": "code",
   "execution_count": 53,
   "metadata": {},
   "outputs": [
    {
     "data": {
      "text/plain": [
       "'kitchen'"
      ]
     },
     "execution_count": 53,
     "metadata": {},
     "output_type": "execute_result"
    }
   ],
   "source": [
    "model_stem.doesnt_match(\"man woman child kitchen\".split())"
   ]
  },
  {
   "cell_type": "code",
   "execution_count": 54,
   "metadata": {},
   "outputs": [
    {
     "name": "stderr",
     "output_type": "stream",
     "text": [
      "2019-05-26 22:31:01,119 : WARNING : vectors for words {'germany', 'france'} are not present in the model, ignoring these words\n"
     ]
    },
    {
     "data": {
      "text/plain": [
       "'berlin'"
      ]
     },
     "execution_count": 54,
     "metadata": {},
     "output_type": "execute_result"
    }
   ],
   "source": [
    "model_stem.doesnt_match(\"france england germany berlin\".split())"
   ]
  },
  {
   "cell_type": "code",
   "execution_count": 55,
   "metadata": {},
   "outputs": [
    {
     "name": "stderr",
     "output_type": "stream",
     "text": [
      "2019-05-26 22:31:07,419 : WARNING : vectors for words {'paris'} are not present in the model, ignoring these words\n"
     ]
    },
    {
     "data": {
      "text/plain": [
       "'berlin'"
      ]
     },
     "execution_count": 55,
     "metadata": {},
     "output_type": "execute_result"
    }
   ],
   "source": [
    "model_stem.doesnt_match(\"paris berlin london austria\".split())"
   ]
  },
  {
   "cell_type": "markdown",
   "metadata": {},
   "source": [
    "most_similar 함수는 모델의 단어 군집들에 대한 insight를 제공한다."
   ]
  },
  {
   "cell_type": "code",
   "execution_count": 14,
   "metadata": {},
   "outputs": [
    {
     "data": {
      "text/plain": [
       "[('cop', 0.7093235850334167),\n",
       " ('boy', 0.6940352320671082),\n",
       " ('doctor', 0.6664652824401855),\n",
       " ('woman', 0.662243127822876),\n",
       " ('soldier', 0.6573468446731567),\n",
       " ('hero', 0.6364530920982361),\n",
       " ('guy', 0.6337287425994873),\n",
       " ('scientist', 0.6305162906646729),\n",
       " ('girl', 0.5993999242782593),\n",
       " ('person', 0.5938246250152588)]"
      ]
     },
     "execution_count": 14,
     "metadata": {},
     "output_type": "execute_result"
    }
   ],
   "source": [
    "model.most_similar(\"man\")"
   ]
  },
  {
   "cell_type": "code",
   "execution_count": 15,
   "metadata": {},
   "outputs": [
    {
     "data": {
      "text/plain": [
       "[('victoria', 0.8341808319091797),\n",
       " ('ann', 0.8275240659713745),\n",
       " ('princess', 0.8254833221435547),\n",
       " ('mary', 0.8228723406791687),\n",
       " ('prince', 0.8044785857200623),\n",
       " ('alice', 0.8008204698562622),\n",
       " ('donna', 0.7924208045005798),\n",
       " ('aunt', 0.7908103466033936),\n",
       " ('elizabeth', 0.7881668210029602),\n",
       " ('mistress', 0.784072756767273)]"
      ]
     },
     "execution_count": 15,
     "metadata": {},
     "output_type": "execute_result"
    }
   ],
   "source": [
    "model.most_similar(\"queen\")"
   ]
  },
  {
   "cell_type": "code",
   "execution_count": 16,
   "metadata": {},
   "outputs": [
    {
     "data": {
      "text/plain": [
       "[('horrible', 0.8240237236022949),\n",
       " ('terrible', 0.8147027492523193),\n",
       " ('dreadful', 0.7276211977005005),\n",
       " ('laughable', 0.6998417973518372),\n",
       " ('atrocious', 0.685571014881134),\n",
       " ('pathetic', 0.6663339734077454),\n",
       " ('bad', 0.6570011377334595),\n",
       " ('ridiculous', 0.6525015234947205),\n",
       " ('crappy', 0.6501560807228088),\n",
       " ('lame', 0.6453610062599182)]"
      ]
     },
     "execution_count": 16,
     "metadata": {},
     "output_type": "execute_result"
    }
   ],
   "source": [
    "model.most_similar(\"awful\")"
   ]
  },
  {
   "cell_type": "markdown",
   "metadata": {},
   "source": [
    "아래와 같이 학습된 모델에 단어가 없으면 에러가 발생한다."
   ]
  },
  {
   "cell_type": "code",
   "execution_count": 17,
   "metadata": {},
   "outputs": [
    {
     "ename": "KeyError",
     "evalue": "\"word 'wogur' not in vocabulary\"",
     "output_type": "error",
     "traceback": [
      "\u001b[1;31m---------------------------------------------------------------------------\u001b[0m",
      "\u001b[1;31mKeyError\u001b[0m                                  Traceback (most recent call last)",
      "\u001b[1;32m<ipython-input-17-728d8731b85f>\u001b[0m in \u001b[0;36m<module>\u001b[1;34m\u001b[0m\n\u001b[1;32m----> 1\u001b[1;33m \u001b[0mmodel\u001b[0m\u001b[1;33m.\u001b[0m\u001b[0mmost_similar\u001b[0m\u001b[1;33m(\u001b[0m\u001b[1;34m\"wogur\"\u001b[0m\u001b[1;33m)\u001b[0m\u001b[1;33m\u001b[0m\u001b[1;33m\u001b[0m\u001b[0m\n\u001b[0m",
      "\u001b[1;32m~\\AppData\\Local\\Continuum\\anaconda3\\lib\\site-packages\\gensim\\utils.py\u001b[0m in \u001b[0;36mnew_func1\u001b[1;34m(*args, **kwargs)\u001b[0m\n\u001b[0;32m   1445\u001b[0m                     \u001b[0mstacklevel\u001b[0m\u001b[1;33m=\u001b[0m\u001b[1;36m2\u001b[0m\u001b[1;33m\u001b[0m\u001b[1;33m\u001b[0m\u001b[0m\n\u001b[0;32m   1446\u001b[0m                 )\n\u001b[1;32m-> 1447\u001b[1;33m                 \u001b[1;32mreturn\u001b[0m \u001b[0mfunc\u001b[0m\u001b[1;33m(\u001b[0m\u001b[1;33m*\u001b[0m\u001b[0margs\u001b[0m\u001b[1;33m,\u001b[0m \u001b[1;33m**\u001b[0m\u001b[0mkwargs\u001b[0m\u001b[1;33m)\u001b[0m\u001b[1;33m\u001b[0m\u001b[1;33m\u001b[0m\u001b[0m\n\u001b[0m\u001b[0;32m   1448\u001b[0m \u001b[1;33m\u001b[0m\u001b[0m\n\u001b[0;32m   1449\u001b[0m             \u001b[1;32mreturn\u001b[0m \u001b[0mnew_func1\u001b[0m\u001b[1;33m\u001b[0m\u001b[1;33m\u001b[0m\u001b[0m\n",
      "\u001b[1;32m~\\AppData\\Local\\Continuum\\anaconda3\\lib\\site-packages\\gensim\\models\\base_any2vec.py\u001b[0m in \u001b[0;36mmost_similar\u001b[1;34m(self, positive, negative, topn, restrict_vocab, indexer)\u001b[0m\n\u001b[0;32m   1395\u001b[0m \u001b[1;33m\u001b[0m\u001b[0m\n\u001b[0;32m   1396\u001b[0m         \"\"\"\n\u001b[1;32m-> 1397\u001b[1;33m         \u001b[1;32mreturn\u001b[0m \u001b[0mself\u001b[0m\u001b[1;33m.\u001b[0m\u001b[0mwv\u001b[0m\u001b[1;33m.\u001b[0m\u001b[0mmost_similar\u001b[0m\u001b[1;33m(\u001b[0m\u001b[0mpositive\u001b[0m\u001b[1;33m,\u001b[0m \u001b[0mnegative\u001b[0m\u001b[1;33m,\u001b[0m \u001b[0mtopn\u001b[0m\u001b[1;33m,\u001b[0m \u001b[0mrestrict_vocab\u001b[0m\u001b[1;33m,\u001b[0m \u001b[0mindexer\u001b[0m\u001b[1;33m)\u001b[0m\u001b[1;33m\u001b[0m\u001b[1;33m\u001b[0m\u001b[0m\n\u001b[0m\u001b[0;32m   1398\u001b[0m \u001b[1;33m\u001b[0m\u001b[0m\n\u001b[0;32m   1399\u001b[0m     \u001b[1;33m@\u001b[0m\u001b[0mdeprecated\u001b[0m\u001b[1;33m(\u001b[0m\u001b[1;34m\"Method will be removed in 4.0.0, use self.wv.wmdistance() instead\"\u001b[0m\u001b[1;33m)\u001b[0m\u001b[1;33m\u001b[0m\u001b[1;33m\u001b[0m\u001b[0m\n",
      "\u001b[1;32m~\\AppData\\Local\\Continuum\\anaconda3\\lib\\site-packages\\gensim\\models\\keyedvectors.py\u001b[0m in \u001b[0;36mmost_similar\u001b[1;34m(self, positive, negative, topn, restrict_vocab, indexer)\u001b[0m\n\u001b[0;32m    550\u001b[0m                 \u001b[0mmean\u001b[0m\u001b[1;33m.\u001b[0m\u001b[0mappend\u001b[0m\u001b[1;33m(\u001b[0m\u001b[0mweight\u001b[0m \u001b[1;33m*\u001b[0m \u001b[0mword\u001b[0m\u001b[1;33m)\u001b[0m\u001b[1;33m\u001b[0m\u001b[1;33m\u001b[0m\u001b[0m\n\u001b[0;32m    551\u001b[0m             \u001b[1;32melse\u001b[0m\u001b[1;33m:\u001b[0m\u001b[1;33m\u001b[0m\u001b[1;33m\u001b[0m\u001b[0m\n\u001b[1;32m--> 552\u001b[1;33m                 \u001b[0mmean\u001b[0m\u001b[1;33m.\u001b[0m\u001b[0mappend\u001b[0m\u001b[1;33m(\u001b[0m\u001b[0mweight\u001b[0m \u001b[1;33m*\u001b[0m \u001b[0mself\u001b[0m\u001b[1;33m.\u001b[0m\u001b[0mword_vec\u001b[0m\u001b[1;33m(\u001b[0m\u001b[0mword\u001b[0m\u001b[1;33m,\u001b[0m \u001b[0muse_norm\u001b[0m\u001b[1;33m=\u001b[0m\u001b[1;32mTrue\u001b[0m\u001b[1;33m)\u001b[0m\u001b[1;33m)\u001b[0m\u001b[1;33m\u001b[0m\u001b[1;33m\u001b[0m\u001b[0m\n\u001b[0m\u001b[0;32m    553\u001b[0m                 \u001b[1;32mif\u001b[0m \u001b[0mword\u001b[0m \u001b[1;32min\u001b[0m \u001b[0mself\u001b[0m\u001b[1;33m.\u001b[0m\u001b[0mvocab\u001b[0m\u001b[1;33m:\u001b[0m\u001b[1;33m\u001b[0m\u001b[1;33m\u001b[0m\u001b[0m\n\u001b[0;32m    554\u001b[0m                     \u001b[0mall_words\u001b[0m\u001b[1;33m.\u001b[0m\u001b[0madd\u001b[0m\u001b[1;33m(\u001b[0m\u001b[0mself\u001b[0m\u001b[1;33m.\u001b[0m\u001b[0mvocab\u001b[0m\u001b[1;33m[\u001b[0m\u001b[0mword\u001b[0m\u001b[1;33m]\u001b[0m\u001b[1;33m.\u001b[0m\u001b[0mindex\u001b[0m\u001b[1;33m)\u001b[0m\u001b[1;33m\u001b[0m\u001b[1;33m\u001b[0m\u001b[0m\n",
      "\u001b[1;32m~\\AppData\\Local\\Continuum\\anaconda3\\lib\\site-packages\\gensim\\models\\keyedvectors.py\u001b[0m in \u001b[0;36mword_vec\u001b[1;34m(self, word, use_norm)\u001b[0m\n\u001b[0;32m    465\u001b[0m             \u001b[1;32mreturn\u001b[0m \u001b[0mresult\u001b[0m\u001b[1;33m\u001b[0m\u001b[1;33m\u001b[0m\u001b[0m\n\u001b[0;32m    466\u001b[0m         \u001b[1;32melse\u001b[0m\u001b[1;33m:\u001b[0m\u001b[1;33m\u001b[0m\u001b[1;33m\u001b[0m\u001b[0m\n\u001b[1;32m--> 467\u001b[1;33m             \u001b[1;32mraise\u001b[0m \u001b[0mKeyError\u001b[0m\u001b[1;33m(\u001b[0m\u001b[1;34m\"word '%s' not in vocabulary\"\u001b[0m \u001b[1;33m%\u001b[0m \u001b[0mword\u001b[0m\u001b[1;33m)\u001b[0m\u001b[1;33m\u001b[0m\u001b[1;33m\u001b[0m\u001b[0m\n\u001b[0m\u001b[0;32m    468\u001b[0m \u001b[1;33m\u001b[0m\u001b[0m\n\u001b[0;32m    469\u001b[0m     \u001b[1;32mdef\u001b[0m \u001b[0mget_vector\u001b[0m\u001b[1;33m(\u001b[0m\u001b[0mself\u001b[0m\u001b[1;33m,\u001b[0m \u001b[0mword\u001b[0m\u001b[1;33m)\u001b[0m\u001b[1;33m:\u001b[0m\u001b[1;33m\u001b[0m\u001b[1;33m\u001b[0m\u001b[0m\n",
      "\u001b[1;31mKeyError\u001b[0m: \"word 'wogur' not in vocabulary\""
     ]
    }
   ],
   "source": [
    "model.most_similar(\"wogur\")"
   ]
  },
  {
   "cell_type": "markdown",
   "metadata": {},
   "source": [
    "# Word2Vec으로 벡터화 한 단어를 t-SNE 를 통해 시각화"
   ]
  },
  {
   "cell_type": "code",
   "execution_count": 32,
   "metadata": {},
   "outputs": [
    {
     "data": {
      "text/plain": [
       "['with', 'all', 'this', 'stuff', 'going', 'down', 'at', 'the', 'moment', 'mj']"
      ]
     },
     "execution_count": 32,
     "metadata": {},
     "output_type": "execute_result"
    }
   ],
   "source": [
    "list(model.wv.vocab)[:10]"
   ]
  },
  {
   "cell_type": "code",
   "execution_count": 34,
   "metadata": {},
   "outputs": [
    {
     "name": "stderr",
     "output_type": "stream",
     "text": [
      "2019-05-26 21:31:50,085 : INFO : loading Doc2Vec object from ../saved_model/300features_40minwords_10context\n",
      "2019-05-26 21:31:50,085 : WARNING : this function is deprecated, use smart_open.open instead\n",
      "2019-05-26 21:31:50,318 : INFO : loading wv recursively from ../saved_model/300features_40minwords_10context.wv.* with mmap=None\n",
      "2019-05-26 21:31:50,318 : INFO : setting ignored attribute vectors_norm to None\n",
      "2019-05-26 21:31:50,318 : INFO : loading vocabulary recursively from ../saved_model/300features_40minwords_10context.vocabulary.* with mmap=None\n",
      "2019-05-26 21:31:50,319 : INFO : loading trainables recursively from ../saved_model/300features_40minwords_10context.trainables.* with mmap=None\n",
      "2019-05-26 21:31:50,319 : INFO : setting ignored attribute cum_table to None\n",
      "2019-05-26 21:31:50,320 : INFO : loaded ../saved_model/300features_40minwords_10context\n"
     ]
    },
    {
     "name": "stdout",
     "output_type": "stream",
     "text": [
      "16490\n",
      "[-0.04293983  0.01892633  0.01558216  0.06349216 -0.00583765  0.04183958\n",
      "  0.07994404 -0.02222351  0.08941119  0.12949224]\n"
     ]
    }
   ],
   "source": [
    "# 참고 https://stackoverflow.com/questions/43776572/visualise-word2vec-generated-from-gensim\n",
    "from sklearn.manifold import TSNE\n",
    "import matplotlib as mpl\n",
    "import matplotlib.pyplot as plt\n",
    "import gensim \n",
    "import gensim.models as g\n",
    "\n",
    "# 그래프에서 마이너스 폰트 깨지는 문제에 대한 대처\n",
    "# mpl.rcParams['axes.unicode_minus'] = False\n",
    "\n",
    "model_name = '../saved_model/300features_40minwords_10context'\n",
    "model = g.Doc2Vec.load(model_name)\n",
    "\n",
    "vocab = list(model.wv.vocab)\n",
    "X = model[vocab]\n",
    "\n",
    "print(len(X))\n",
    "print(X[0][:10])\n",
    "tsne = TSNE(n_components=2)\n",
    "\n",
    "# 100개의 단어에 대해서만 시각화\n",
    "X_tsne = tsne.fit_transform(X[:100,:])\n",
    "# X_tsne = tsne.fit_transform(X)"
   ]
  },
  {
   "cell_type": "code",
   "execution_count": 35,
   "metadata": {},
   "outputs": [
    {
     "data": {
      "text/plain": [
       "(100, 2)"
      ]
     },
     "execution_count": 35,
     "metadata": {},
     "output_type": "execute_result"
    }
   ],
   "source": [
    "df = pd.DataFrame(X_tsne, index=vocab[:100], columns=['x', 'y'])\n",
    "df.shape"
   ]
  },
  {
   "cell_type": "code",
   "execution_count": 36,
   "metadata": {},
   "outputs": [
    {
     "data": {
      "text/html": [
       "<div>\n",
       "<style scoped>\n",
       "    .dataframe tbody tr th:only-of-type {\n",
       "        vertical-align: middle;\n",
       "    }\n",
       "\n",
       "    .dataframe tbody tr th {\n",
       "        vertical-align: top;\n",
       "    }\n",
       "\n",
       "    .dataframe thead th {\n",
       "        text-align: right;\n",
       "    }\n",
       "</style>\n",
       "<table border=\"1\" class=\"dataframe\">\n",
       "  <thead>\n",
       "    <tr style=\"text-align: right;\">\n",
       "      <th></th>\n",
       "      <th>x</th>\n",
       "      <th>y</th>\n",
       "    </tr>\n",
       "  </thead>\n",
       "  <tbody>\n",
       "    <tr>\n",
       "      <th>with</th>\n",
       "      <td>0.297518</td>\n",
       "      <td>-2.377079</td>\n",
       "    </tr>\n",
       "    <tr>\n",
       "      <th>all</th>\n",
       "      <td>-0.526876</td>\n",
       "      <td>2.403712</td>\n",
       "    </tr>\n",
       "    <tr>\n",
       "      <th>this</th>\n",
       "      <td>-1.007147</td>\n",
       "      <td>3.841840</td>\n",
       "    </tr>\n",
       "    <tr>\n",
       "      <th>stuff</th>\n",
       "      <td>-1.050918</td>\n",
       "      <td>5.713317</td>\n",
       "    </tr>\n",
       "    <tr>\n",
       "      <th>going</th>\n",
       "      <td>0.787995</td>\n",
       "      <td>6.296214</td>\n",
       "    </tr>\n",
       "    <tr>\n",
       "      <th>down</th>\n",
       "      <td>0.116853</td>\n",
       "      <td>-4.676585</td>\n",
       "    </tr>\n",
       "    <tr>\n",
       "      <th>at</th>\n",
       "      <td>-2.280101</td>\n",
       "      <td>-4.857961</td>\n",
       "    </tr>\n",
       "    <tr>\n",
       "      <th>the</th>\n",
       "      <td>-7.330692</td>\n",
       "      <td>0.042805</td>\n",
       "    </tr>\n",
       "    <tr>\n",
       "      <th>moment</th>\n",
       "      <td>-7.832750</td>\n",
       "      <td>3.741477</td>\n",
       "    </tr>\n",
       "    <tr>\n",
       "      <th>mj</th>\n",
       "      <td>-5.267764</td>\n",
       "      <td>10.935788</td>\n",
       "    </tr>\n",
       "  </tbody>\n",
       "</table>\n",
       "</div>"
      ],
      "text/plain": [
       "               x          y\n",
       "with    0.297518  -2.377079\n",
       "all    -0.526876   2.403712\n",
       "this   -1.007147   3.841840\n",
       "stuff  -1.050918   5.713317\n",
       "going   0.787995   6.296214\n",
       "down    0.116853  -4.676585\n",
       "at     -2.280101  -4.857961\n",
       "the    -7.330692   0.042805\n",
       "moment -7.832750   3.741477\n",
       "mj     -5.267764  10.935788"
      ]
     },
     "execution_count": 36,
     "metadata": {},
     "output_type": "execute_result"
    }
   ],
   "source": [
    "df.head(10)"
   ]
  },
  {
   "cell_type": "code",
   "execution_count": 37,
   "metadata": {},
   "outputs": [
    {
     "data": {
      "image/png": "[encoded data removed]",
      "text/plain": [
       "<Figure size 2880x1440 with 1 Axes>"
      ]
     },
     "metadata": {
      "needs_background": "light"
     },
     "output_type": "display_data"
    }
   ],
   "source": [
    "fig = plt.figure()\n",
    "fig.set_size_inches(40, 20)\n",
    "ax = fig.add_subplot(1, 1, 1)\n",
    "\n",
    "ax.scatter(x='x',y='y',data=df)\n",
    "\n",
    "for word, pos in df.iterrows():\n",
    "    ax.annotate(word, pos, fontsize=30)\n",
    "plt.show()"
   ]
  },
  {
   "cell_type": "markdown",
   "metadata": {},
   "source": [
    "# Numeric Representations of Words"
   ]
  },
  {
   "cell_type": "code",
   "execution_count": 57,
   "metadata": {},
   "outputs": [
    {
     "name": "stderr",
     "output_type": "stream",
     "text": [
      "2019-05-26 22:31:40,495 : INFO : loading Word2Vec object from ../saved_model/300features_40minwords_10context\n",
      "2019-05-26 22:31:40,496 : WARNING : this function is deprecated, use smart_open.open instead\n",
      "2019-05-26 22:31:40,727 : INFO : loading wv recursively from ../saved_model/300features_40minwords_10context.wv.* with mmap=None\n",
      "2019-05-26 22:31:40,728 : INFO : setting ignored attribute vectors_norm to None\n",
      "2019-05-26 22:31:40,729 : INFO : loading vocabulary recursively from ../saved_model/300features_40minwords_10context.vocabulary.* with mmap=None\n",
      "2019-05-26 22:31:40,729 : INFO : loading trainables recursively from ../saved_model/300features_40minwords_10context.trainables.* with mmap=None\n",
      "2019-05-26 22:31:40,730 : INFO : setting ignored attribute cum_table to None\n",
      "2019-05-26 22:31:40,730 : INFO : loaded ../saved_model/300features_40minwords_10context\n"
     ]
    },
    {
     "name": "stdout",
     "output_type": "stream",
     "text": [
      "<class 'numpy.ndarray'>\n",
      "(16490, 300)\n"
     ]
    }
   ],
   "source": [
    "model = Word2Vec.load(\"../saved_model/300features_40minwords_10context\")\n",
    "print(type(model.wv.syn0))\n",
    "print(model.wv.syn0.shape)"
   ]
  },
  {
   "cell_type": "code",
   "execution_count": 58,
   "metadata": {},
   "outputs": [
    {
     "name": "stderr",
     "output_type": "stream",
     "text": [
      "2019-05-26 22:31:52,065 : INFO : loading Word2Vec object from ../saved_model/300features_40minwords_10context_add_stemming\n",
      "2019-05-26 22:31:52,066 : WARNING : this function is deprecated, use smart_open.open instead\n",
      "2019-05-26 22:31:52,236 : INFO : loading wv recursively from ../saved_model/300features_40minwords_10context_add_stemming.wv.* with mmap=None\n",
      "2019-05-26 22:31:52,236 : INFO : setting ignored attribute vectors_norm to None\n",
      "2019-05-26 22:31:52,237 : INFO : loading vocabulary recursively from ../saved_model/300features_40minwords_10context_add_stemming.vocabulary.* with mmap=None\n",
      "2019-05-26 22:31:52,237 : INFO : loading trainables recursively from ../saved_model/300features_40minwords_10context_add_stemming.trainables.* with mmap=None\n",
      "2019-05-26 22:31:52,237 : INFO : setting ignored attribute cum_table to None\n",
      "2019-05-26 22:31:52,238 : INFO : loaded ../saved_model/300features_40minwords_10context_add_stemming\n"
     ]
    },
    {
     "name": "stdout",
     "output_type": "stream",
     "text": [
      "<class 'numpy.ndarray'>\n",
      "(11986, 300)\n"
     ]
    }
   ],
   "source": [
    "model_stem = Word2Vec.load(\"../saved_model/300features_40minwords_10context_add_stemming\")\n",
    "print(type(model_stem.wv.syn0))\n",
    "print(model_stem.wv.syn0.shape)"
   ]
  },
  {
   "cell_type": "code",
   "execution_count": 59,
   "metadata": {},
   "outputs": [],
   "source": [
    "def makeFeatureVec(words, model, num_features):\n",
    "    \"\"\"\n",
    "    주어진 문장에서 단어 벡터의 평균을 구하는 함수\n",
    "    \"\"\"\n",
    "    # 속도를 위해 0으로 채운 배열로 초기화한다.\n",
    "    featureVec = np.zeros((num_features,),dtype=\"float32\")\n",
    "\n",
    "    nwords = 0.\n",
    "    # Index2word는 모델의 사전에 있는 단어 명을 담은 리스트이다.\n",
    "    # 속도를 위해 set 형태로 초기화한다.\n",
    "    index2word_set = set(model.wv.index2word)\n",
    "    # 루프를 돌며 모델 사전에 포함이 되는 단어라면 피처에 추가한다.\n",
    "    for word in words:\n",
    "        if word in index2word_set:\n",
    "            nwords = nwords + 1.\n",
    "            featureVec = np.add(featureVec,model[word])\n",
    "    # 결과를 단어 수로 나누어 평균을 구한다.\n",
    "    featureVec = np.divide(featureVec,nwords)\n",
    "    return featureVec\n",
    "\n",
    "def getAvgFeatureVecs(reviews, model, num_features):\n",
    "    # 리뷰 단어 목록의 각각에 대한 평균 feature 벡터를 계산하고 \n",
    "    # 2D numpy 배열을 반환한다.\n",
    "\n",
    "    # 카운터를 초기화한다.\n",
    "    counter = 0.\n",
    "    # 속도를 위해 2D 넘파이 배열을 미리 할당한다.\n",
    "    reviewFeatureVecs = np.zeros((len(reviews),num_features),dtype=\"float32\")\n",
    "\n",
    "    for review in reviews:\n",
    "       # 매 1000개 리뷰마다 상태를 출력\n",
    "       if counter%1000. == 0.:\n",
    "           print(\"Review %d of %d\" % (counter, len(reviews)))\n",
    "       # 평균 피처 벡터를 만들기 위해 위에서 정의한 함수를 호출한다.\n",
    "       reviewFeatureVecs[int(counter)] = makeFeatureVec(review, model, num_features)\n",
    "       # 카운터를 증가시킨다.\n",
    "       counter = counter + 1.\n",
    "    return reviewFeatureVecs"
   ]
  },
  {
   "cell_type": "code",
   "execution_count": 60,
   "metadata": {},
   "outputs": [],
   "source": [
    "# 멀티스레드로 8개의 워커를 사용해 처리한다.\n",
    "def getCleanReviews(reviews):\n",
    "    clean_reviews = []\n",
    "    clean_reviews = KaggleWord2VecUtility.apply_by_multiprocessing(reviews[\"review\"], KaggleWord2VecUtility.review_to_wordlist,workers=8)\n",
    "    return clean_reviews"
   ]
  },
  {
   "cell_type": "markdown",
   "metadata": {},
   "source": [
    "**Stemming 하지 않은 model**"
   ]
  },
  {
   "cell_type": "code",
   "execution_count": 135,
   "metadata": {},
   "outputs": [
    {
     "name": "stdout",
     "output_type": "stream",
     "text": [
      "Wall time: 12.8 s\n"
     ]
    }
   ],
   "source": [
    "%time clean_train_reviews = getCleanReviews(train)"
   ]
  },
  {
   "cell_type": "code",
   "execution_count": 136,
   "metadata": {},
   "outputs": [
    {
     "name": "stdout",
     "output_type": "stream",
     "text": [
      "Review 0 of 25000\n",
      "Review 1000 of 25000\n",
      "Review 2000 of 25000\n",
      "Review 3000 of 25000\n",
      "Review 4000 of 25000\n",
      "Review 5000 of 25000\n",
      "Review 6000 of 25000\n",
      "Review 7000 of 25000\n",
      "Review 8000 of 25000\n",
      "Review 9000 of 25000\n",
      "Review 10000 of 25000\n",
      "Review 11000 of 25000\n",
      "Review 12000 of 25000\n",
      "Review 13000 of 25000\n",
      "Review 14000 of 25000\n",
      "Review 15000 of 25000\n",
      "Review 16000 of 25000\n",
      "Review 17000 of 25000\n",
      "Review 18000 of 25000\n",
      "Review 19000 of 25000\n",
      "Review 20000 of 25000\n",
      "Review 21000 of 25000\n",
      "Review 22000 of 25000\n",
      "Review 23000 of 25000\n",
      "Review 24000 of 25000\n",
      "Wall time: 33 s\n"
     ]
    }
   ],
   "source": [
    "%time trainDataVecs = getAvgFeatureVecs(clean_train_reviews, model, num_features) "
   ]
  },
  {
   "cell_type": "code",
   "execution_count": 137,
   "metadata": {},
   "outputs": [
    {
     "name": "stdout",
     "output_type": "stream",
     "text": [
      "Wall time: 13 s\n"
     ]
    }
   ],
   "source": [
    "%time clean_test_reviews = getCleanReviews(test)"
   ]
  },
  {
   "cell_type": "code",
   "execution_count": 138,
   "metadata": {},
   "outputs": [
    {
     "name": "stdout",
     "output_type": "stream",
     "text": [
      "Review 0 of 25000\n",
      "Review 1000 of 25000\n",
      "Review 2000 of 25000\n",
      "Review 3000 of 25000\n",
      "Review 4000 of 25000\n",
      "Review 5000 of 25000\n",
      "Review 6000 of 25000\n",
      "Review 7000 of 25000\n",
      "Review 8000 of 25000\n",
      "Review 9000 of 25000\n",
      "Review 10000 of 25000\n",
      "Review 11000 of 25000\n",
      "Review 12000 of 25000\n",
      "Review 13000 of 25000\n",
      "Review 14000 of 25000\n",
      "Review 15000 of 25000\n",
      "Review 16000 of 25000\n",
      "Review 17000 of 25000\n",
      "Review 18000 of 25000\n",
      "Review 19000 of 25000\n",
      "Review 20000 of 25000\n",
      "Review 21000 of 25000\n",
      "Review 22000 of 25000\n",
      "Review 23000 of 25000\n",
      "Review 24000 of 25000\n",
      "Wall time: 31.6 s\n"
     ]
    }
   ],
   "source": [
    "%time testDataVecs = getAvgFeatureVecs(clean_test_reviews, model, num_features)"
   ]
  },
  {
   "cell_type": "markdown",
   "metadata": {},
   "source": [
    "**Stemming 한 model**"
   ]
  },
  {
   "cell_type": "code",
   "execution_count": 139,
   "metadata": {},
   "outputs": [
    {
     "name": "stdout",
     "output_type": "stream",
     "text": [
      "Wall time: 12.3 s\n"
     ]
    }
   ],
   "source": [
    "%time clean_train_reviews_stem = getCleanReviews(train)"
   ]
  },
  {
   "cell_type": "code",
   "execution_count": 140,
   "metadata": {},
   "outputs": [
    {
     "name": "stdout",
     "output_type": "stream",
     "text": [
      "Review 0 of 25000\n",
      "Review 1000 of 25000\n",
      "Review 2000 of 25000\n",
      "Review 3000 of 25000\n",
      "Review 4000 of 25000\n",
      "Review 5000 of 25000\n",
      "Review 6000 of 25000\n",
      "Review 7000 of 25000\n",
      "Review 8000 of 25000\n",
      "Review 9000 of 25000\n",
      "Review 10000 of 25000\n",
      "Review 11000 of 25000\n",
      "Review 12000 of 25000\n",
      "Review 13000 of 25000\n",
      "Review 14000 of 25000\n",
      "Review 15000 of 25000\n",
      "Review 16000 of 25000\n",
      "Review 17000 of 25000\n",
      "Review 18000 of 25000\n",
      "Review 19000 of 25000\n",
      "Review 20000 of 25000\n",
      "Review 21000 of 25000\n",
      "Review 22000 of 25000\n",
      "Review 23000 of 25000\n",
      "Review 24000 of 25000\n",
      "Wall time: 32.3 s\n"
     ]
    }
   ],
   "source": [
    "%time trainDataVecs_stem = getAvgFeatureVecs(clean_train_reviews_stem, model_stem, num_features) "
   ]
  },
  {
   "cell_type": "code",
   "execution_count": 141,
   "metadata": {},
   "outputs": [
    {
     "name": "stdout",
     "output_type": "stream",
     "text": [
      "Wall time: 12 s\n"
     ]
    }
   ],
   "source": [
    "%time clean_test_reviews_stem = getCleanReviews(test)"
   ]
  },
  {
   "cell_type": "code",
   "execution_count": 142,
   "metadata": {},
   "outputs": [
    {
     "name": "stdout",
     "output_type": "stream",
     "text": [
      "Review 0 of 25000\n",
      "Review 1000 of 25000\n",
      "Review 2000 of 25000\n",
      "Review 3000 of 25000\n",
      "Review 4000 of 25000\n",
      "Review 5000 of 25000\n",
      "Review 6000 of 25000\n",
      "Review 7000 of 25000\n",
      "Review 8000 of 25000\n",
      "Review 9000 of 25000\n",
      "Review 10000 of 25000\n",
      "Review 11000 of 25000\n",
      "Review 12000 of 25000\n",
      "Review 13000 of 25000\n",
      "Review 14000 of 25000\n",
      "Review 15000 of 25000\n",
      "Review 16000 of 25000\n",
      "Review 17000 of 25000\n",
      "Review 18000 of 25000\n",
      "Review 19000 of 25000\n",
      "Review 20000 of 25000\n",
      "Review 21000 of 25000\n",
      "Review 22000 of 25000\n",
      "Review 23000 of 25000\n",
      "Review 24000 of 25000\n",
      "Wall time: 31 s\n"
     ]
    }
   ],
   "source": [
    "%time testDataVecs_stem = getAvgFeatureVecs(clean_test_reviews_stem, model_stem, num_features) "
   ]
  },
  {
   "cell_type": "code",
   "execution_count": 65,
   "metadata": {},
   "outputs": [
    {
     "name": "stdout",
     "output_type": "stream",
     "text": [
      "trainDataVecs shape:  (25000, 300)\n",
      "testDataVecs shape:  (25000, 300)\n",
      "trainDataVecs_stem shape:  (25000, 300)\n",
      "testDataVecs_stem shape:  (25000, 300)\n"
     ]
    }
   ],
   "source": [
    "print('trainDataVecs shape: ',trainDataVecs.shape)\n",
    "print('testDataVecs shape: ',testDataVecs.shape)\n",
    "\n",
    "print('trainDataVecs_stem shape: ',trainDataVecs_stem.shape)\n",
    "print('testDataVecs_stem shape: ',testDataVecs_stem.shape)"
   ]
  },
  {
   "cell_type": "markdown",
   "metadata": {},
   "source": [
    "# Model1: Random Forest"
   ]
  },
  {
   "cell_type": "markdown",
   "metadata": {},
   "source": [
    "Model1 (stem X)"
   ]
  },
  {
   "cell_type": "code",
   "execution_count": 72,
   "metadata": {},
   "outputs": [
    {
     "name": "stdout",
     "output_type": "stream",
     "text": [
      "Wall time: 4.1 s\n"
     ]
    }
   ],
   "source": [
    "forest = RandomForestClassifier(n_estimators = 100, n_jobs = -1, random_state=2018)\n",
    "%time forest = forest.fit( trainDataVecs, train[\"sentiment\"] )"
   ]
  },
  {
   "cell_type": "markdown",
   "metadata": {},
   "source": [
    "Model2 (stem O)"
   ]
  },
  {
   "cell_type": "code",
   "execution_count": 71,
   "metadata": {},
   "outputs": [
    {
     "name": "stdout",
     "output_type": "stream",
     "text": [
      "Wall time: 3.99 s\n"
     ]
    }
   ],
   "source": [
    "forest_stem = RandomForestClassifier(n_estimators = 100, n_jobs = -1, random_state=2018)\n",
    "%time forest_stem = forest_stem.fit( trainDataVecs_stem, train[\"sentiment\"] )"
   ]
  },
  {
   "cell_type": "markdown",
   "metadata": {},
   "source": [
    "## Cross Validation"
   ]
  },
  {
   "cell_type": "markdown",
   "metadata": {},
   "source": [
    "Model1 (stem X)"
   ]
  },
  {
   "cell_type": "code",
   "execution_count": 91,
   "metadata": {},
   "outputs": [
    {
     "name": "stdout",
     "output_type": "stream",
     "text": [
      "Wall time: 39.6 s\n",
      "score:  0.8652763199999999\n"
     ]
    }
   ],
   "source": [
    "%time score = np.mean(cross_val_score(forest, trainDataVecs, train['sentiment'], cv=10, scoring='roc_auc'))\n",
    "print('score: ',score)"
   ]
  },
  {
   "cell_type": "markdown",
   "metadata": {},
   "source": [
    "Model2 (stem O)"
   ]
  },
  {
   "cell_type": "code",
   "execution_count": 97,
   "metadata": {},
   "outputs": [
    {
     "name": "stdout",
     "output_type": "stream",
     "text": [
      "Wall time: 39.8 s\n",
      "score_stem:  0.904784064\n"
     ]
    }
   ],
   "source": [
    "%time score_stem = np.mean(cross_val_score(forest_stem, trainDataVecs_stem, train['sentiment'], cv=10, scoring='roc_auc'))\n",
    "print('score_stem: ',score_stem)"
   ]
  },
  {
   "cell_type": "markdown",
   "metadata": {},
   "source": [
    "## Test"
   ]
  },
  {
   "cell_type": "markdown",
   "metadata": {},
   "source": [
    "binary"
   ]
  },
  {
   "cell_type": "code",
   "execution_count": 98,
   "metadata": {},
   "outputs": [],
   "source": [
    "result = forest.predict( testDataVecs )\n",
    "result_stem = forest_stem.predict( testDataVecs_stem )"
   ]
  },
  {
   "cell_type": "code",
   "execution_count": 99,
   "metadata": {},
   "outputs": [],
   "source": [
    "output = pd.DataFrame( data={\"id\":test[\"id\"], \"sentiment\":result} )\n",
    "output.to_csv('../submit/Word2Vec_AverageVectors_{0:.5f}.csv'.format(score), index=False, quoting=3 )\n",
    "\n",
    "output_stem = pd.DataFrame( data={\"id\":test[\"id\"], \"sentiment\":result_stem} )\n",
    "output_stem.to_csv('../submit/Word2Vec_AverageVectors_stem_{0:.5f}.csv'.format(score_stem), index=False, quoting=3 )"
   ]
  },
  {
   "cell_type": "markdown",
   "metadata": {},
   "source": [
    "probs"
   ]
  },
  {
   "cell_type": "code",
   "execution_count": 100,
   "metadata": {},
   "outputs": [],
   "source": [
    "result = forest.predict_proba( testDataVecs )\n",
    "result_stem = forest_stem.predict_proba( testDataVecs_stem )"
   ]
  },
  {
   "cell_type": "code",
   "execution_count": 101,
   "metadata": {},
   "outputs": [],
   "source": [
    "output_proba = pd.DataFrame( data={\"id\":test[\"id\"], \"sentiment\":result[:,0]} )\n",
    "output_proba.to_csv('../submit/Word2Vec_AverageVectors_proba_{0:.5f}.csv'.format(score), index=False, quoting=3 )\n",
    "\n",
    "output_proba_stem = pd.DataFrame( data={\"id\":test[\"id\"], \"sentiment\":result_stem[:,0]} )\n",
    "output_proba_stem.to_csv('../submit/Word2Vec_AverageVectors_proba_stem_{0:.5f}.csv'.format(score_stem), index=False, quoting=3 )"
   ]
  },
  {
   "cell_type": "markdown",
   "metadata": {},
   "source": [
    "## Train과 prediction간의 count 비교"
   ]
  },
  {
   "cell_type": "code",
   "execution_count": 102,
   "metadata": {},
   "outputs": [
    {
     "data": {
      "text/plain": [
       "Text(0.5, 1.0, 'Prediction stem O')"
      ]
     },
     "execution_count": 102,
     "metadata": {},
     "output_type": "execute_result"
    },
    {
     "data": {
      "image/png": "[encoded data removed]",
      "text/plain": [
       "<Figure size 864x360 with 3 Axes>"
      ]
     },
     "metadata": {
      "needs_background": "light"
     },
     "output_type": "display_data"
    }
   ],
   "source": [
    "fig, ax = plt.subplots(ncols=3)\n",
    "fig.set_size_inches(12,5)\n",
    "sns.countplot(train['sentiment'], ax=ax[0])\n",
    "sns.countplot(output['sentiment'], ax=ax[1])\n",
    "sns.countplot(output_stem['sentiment'], ax=ax[2])\n",
    "ax[0].set_title('Train set')\n",
    "ax[1].set_title('Prediction stem X')\n",
    "ax[2].set_title('Prediction stem O')"
   ]
  },
  {
   "cell_type": "markdown",
   "metadata": {},
   "source": [
    "## Public Leaderboard Score\n",
    "\n",
    "Name | score \n",
    "-----|------\n",
    "Word2Vec_AverageVectors_0.86528 | 0.78028\n",
    "Word2Vec_AverageVectors_proba_stem0.90478 | 0.81984\n",
    "Word2Vec_AverageVectors_proba_0.86528 | 0.85884\n",
    "Word2Vec_AverageVectors_stem0.90478 | 0.89700"
   ]
  },
  {
   "cell_type": "markdown",
   "metadata": {},
   "source": [
    "# From Words to Paragraphs, Attempt 2: Clustering \n",
    "\n",
    "- 군집별 평균 5개로 단어를 K-means를 통해서 분류한다. \n",
    "- ```idx```에 index별로 해당군집의 번호를 넣어준다. \n",
    "- 단어와 ```idx```를 매핑한다.\n",
    "- 군집별 해당하는 단어를 출력한다."
   ]
  },
  {
   "cell_type": "code",
   "execution_count": 104,
   "metadata": {},
   "outputs": [
    {
     "data": {
      "text/plain": [
       "3298.0"
      ]
     },
     "execution_count": 104,
     "metadata": {},
     "output_type": "execute_result"
    }
   ],
   "source": [
    "num_clusters"
   ]
  },
  {
   "cell_type": "code",
   "execution_count": 107,
   "metadata": {},
   "outputs": [
    {
     "name": "stdout",
     "output_type": "stream",
     "text": [
      "Time taken for K Means clustering:  213.38981699943542 seconds.\n"
     ]
    }
   ],
   "source": [
    "from sklearn.cluster import KMeans\n",
    "import time\n",
    "\n",
    "start = time.time() # Start time\n",
    "\n",
    "# Set \"k\" (num_clusters) to be 1/5th of the vocabulary size, or an\n",
    "# average of 5 words per cluster\n",
    "word_vectors = model.wv.syn0\n",
    "num_clusters = int(word_vectors.shape[0] / 5)\n",
    "\n",
    "# Initalize a k-means object and use it to extract centroids\n",
    "kmeans_clustering = KMeans( n_clusters = num_clusters , n_jobs=8)\n",
    "idx = kmeans_clustering.fit_predict( word_vectors )\n",
    "\n",
    "# Get the end time and print how long the process took\n",
    "end = time.time()\n",
    "elapsed = end - start\n",
    "print(\"Time taken for K Means clustering: \", elapsed, \"seconds.\")"
   ]
  },
  {
   "cell_type": "code",
   "execution_count": 116,
   "metadata": {},
   "outputs": [],
   "source": [
    "# Create a Word / Index dictionary, mapping each vocabulary word to\n",
    "# a cluster number                                                                                            \n",
    "word_centroid_map = dict(zip( model.wv.index2word, idx ))"
   ]
  },
  {
   "cell_type": "code",
   "execution_count": 121,
   "metadata": {},
   "outputs": [
    {
     "data": {
      "text/plain": [
       "16490"
      ]
     },
     "execution_count": 121,
     "metadata": {},
     "output_type": "execute_result"
    }
   ],
   "source": [
    "len(word_centroid_map.values())"
   ]
  },
  {
   "cell_type": "code",
   "execution_count": 123,
   "metadata": {},
   "outputs": [
    {
     "name": "stdout",
     "output_type": "stream",
     "text": [
      "\n",
      "Cluster 0\n",
      "['small', 'large', 'tiny', 'vast']\n",
      "\n",
      "Cluster 1\n",
      "['fanny', 'anais', 'tudor']\n",
      "\n",
      "Cluster 2\n",
      "['sent', 'sold', 'heading', 'invited', 'ordered', 'preparing', 'transported', 'transferred']\n",
      "\n",
      "Cluster 3\n",
      "['message', 'messages', 'quotes', 'statistics']\n",
      "\n",
      "Cluster 4\n",
      "['grandiose', 'collage', 'fanciful', 'dizzying', 'sprawling']\n",
      "\n",
      "Cluster 5\n",
      "['penguin', 'hitchhiker']\n",
      "\n",
      "Cluster 6\n",
      "['cars', 'buildings', 'vehicles', 'dusty', 'boats', 'landmarks', 'debris']\n",
      "\n",
      "Cluster 7\n",
      "['pigeon', 'ta']\n",
      "\n",
      "Cluster 8\n",
      "['international', 'canadian', 'australian', 'official', 'prestigious']\n",
      "\n",
      "Cluster 9\n",
      "['posing', 'anonymous', 'amoral', 'overnight', 'unscrupulous', 'myra', 'appointed', 'apache', 'impulse', 'idle', 'unsavory', 'ineffectual', 'trader', 'embittered', 'intrepid', 'upright', 'plucky', 'climber']\n"
     ]
    }
   ],
   "source": [
    "# For the first 10 clusters\n",
    "for cluster in range(0,10):\n",
    "    # Print the cluster number  \n",
    "    print(\"\\nCluster %d\" % cluster)\n",
    "    # Find all of the words for that cluster number, and print them out\n",
    "    words = []\n",
    "    for i in range(0,len(word_centroid_map.values())):\n",
    "        if list(word_centroid_map.values())[i] == cluster:\n",
    "            words.append(list(word_centroid_map.keys())[i])\n",
    "    print(words)"
   ]
  },
  {
   "cell_type": "code",
   "execution_count": 125,
   "metadata": {},
   "outputs": [],
   "source": [
    "def create_bag_of_centroids( wordlist, word_centroid_map ):\n",
    "    \n",
    "    # The number of clusters is equal to the highest cluster index\n",
    "    # in the word / centroid map\n",
    "    num_centroids = max( word_centroid_map.values() ) + 1\n",
    "    \n",
    "    # Pre-allocate the bag of centroids vector (for speed)\n",
    "    bag_of_centroids = np.zeros( num_centroids, dtype=\"float32\" )\n",
    "    \n",
    "    # Loop over the words in the review. If the word is in the vocabulary,\n",
    "    # find which cluster it belongs to, and increment that cluster count \n",
    "    # by one\n",
    "    for word in wordlist:\n",
    "        if word in word_centroid_map:\n",
    "            index = word_centroid_map[word]\n",
    "            bag_of_centroids[index] += 1\n",
    "    \n",
    "    # Return the \"bag of centroids\"\n",
    "    return bag_of_centroids"
   ]
  },
  {
   "cell_type": "markdown",
   "metadata": {},
   "source": [
    "위에서 정의한 ```create_bag_of_centroids``` 함수를 통해서 **각 리뷰별 단어를 나눈후 각 단어의 군집 번호를 생성**한다. 여기서 ```train_centroids```는 ```review 개수 X cluster 개수``` 이다. "
   ]
  },
  {
   "cell_type": "code",
   "execution_count": 143,
   "metadata": {},
   "outputs": [],
   "source": [
    "# Pre-allocate an array for the training set bags of centroids (for speed)\n",
    "train_centroids = np.zeros( (train[\"review\"].size, num_clusters), dtype=\"float32\" )\n",
    "\n",
    "# Transform the training set reviews into bags of centroids\n",
    "counter = 0\n",
    "for review in clean_train_reviews_stem:\n",
    "    train_centroids[counter] = create_bag_of_centroids( review, word_centroid_map )\n",
    "    counter += 1\n",
    "\n",
    "# Repeat for test reviews \n",
    "test_centroids = np.zeros(( test[\"review\"].size, num_clusters), dtype=\"float32\" )\n",
    "\n",
    "counter = 0\n",
    "for review in clean_test_reviews_stem:\n",
    "    test_centroids[counter] = create_bag_of_centroids( review, word_centroid_map )\n",
    "    counter += 1"
   ]
  },
  {
   "cell_type": "markdown",
   "metadata": {},
   "source": [
    "# Model2: Random Forest"
   ]
  },
  {
   "cell_type": "code",
   "execution_count": 150,
   "metadata": {},
   "outputs": [
    {
     "name": "stdout",
     "output_type": "stream",
     "text": [
      "Fitting a random forest to labeled training data...\n"
     ]
    }
   ],
   "source": [
    "# Fit a random forest and extract predictions \n",
    "forest = RandomForestClassifier(n_estimators = 100)\n",
    "\n",
    "# Fitting the forest may take a few minutes\n",
    "print(\"Fitting a random forest to labeled training data...\")\n",
    "forest = forest.fit(train_centroids, train[\"sentiment\"])\n",
    "result = forest.predict(test_centroids)\n",
    "result_proba = forest.predict_proba(test_centroids)"
   ]
  },
  {
   "cell_type": "markdown",
   "metadata": {},
   "source": [
    "## Cross Validation"
   ]
  },
  {
   "cell_type": "code",
   "execution_count": 148,
   "metadata": {},
   "outputs": [
    {
     "name": "stdout",
     "output_type": "stream",
     "text": [
      "Wall time: 3min 10s\n",
      "score:  0.8886747199999998\n"
     ]
    }
   ],
   "source": [
    "%time score = np.mean(cross_val_score(forest, train_centroids, train['sentiment'], cv=10, scoring='roc_auc'))\n",
    "print('score: ',score)"
   ]
  },
  {
   "cell_type": "markdown",
   "metadata": {},
   "source": [
    "## Test"
   ]
  },
  {
   "cell_type": "code",
   "execution_count": 153,
   "metadata": {},
   "outputs": [],
   "source": [
    "# Write the test results \n",
    "output = pd.DataFrame(data={\"id\":test[\"id\"], \"sentiment\":result})\n",
    "output.to_csv(\"../submit/BagOfCentroids.csv\", index=False, quoting=3 )\n",
    "\n",
    "output = pd.DataFrame(data={\"id\":test[\"id\"], \"sentiment\":result_proba[:,0]})\n",
    "output.to_csv(\"../submit/BagOfCentroids_proba.csv\", index=False, quoting=3 )"
   ]
  },
  {
   "cell_type": "markdown",
   "metadata": {},
   "source": [
    "## Public Leaderboard Score\n",
    "\n",
    "Name | score \n",
    "-----|------\n",
    "BagOfCentroids | 0.80816\n",
    "BagOfCentroids_proba | 0.88930"
   ]
  }
 ],
 "metadata": {
  "hide_input": false,
  "kernelspec": {
   "display_name": "Python 3",
   "language": "python",
   "name": "python3"
  },
  "language_info": {
   "codemirror_mode": {
    "name": "ipython",
    "version": 3
   },
   "file_extension": ".py",
   "mimetype": "text/x-python",
   "name": "python",
   "nbconvert_exporter": "python",
   "pygments_lexer": "ipython3",
   "version": "3.6.8"
  },
  "toc": {
   "base_numbering": 1,
   "nav_menu": {},
   "number_sections": true,
   "sideBar": true,
   "skip_h1_title": false,
   "title_cell": "Table of Contents",
   "title_sidebar": "Contents",
   "toc_cell": false,
   "toc_position": {
    "height": "calc(100% - 180px)",
    "left": "10px",
    "top": "150px",
    "width": "255px"
   },
   "toc_section_display": true,
   "toc_window_display": true
  },
  "varInspector": {
   "cols": {
    "lenName": 16,
    "lenType": 16,
    "lenVar": 40
   },
   "kernels_config": {
    "python": {
     "delete_cmd_postfix": "",
     "delete_cmd_prefix": "del ",
     "library": "var_list.py",
     "varRefreshCmd": "print(var_dic_list())"
    },
    "r": {
     "delete_cmd_postfix": ") ",
     "delete_cmd_prefix": "rm(",
     "library": "var_list.r",
     "varRefreshCmd": "cat(var_dic_list()) "
    }
   },
   "types_to_exclude": [
    "module",
    "function",
    "builtin_function_or_method",
    "instance",
    "_Feature"
   ],
   "window_display": false
  }
 },
 "nbformat": 4,
 "nbformat_minor": 2
}
