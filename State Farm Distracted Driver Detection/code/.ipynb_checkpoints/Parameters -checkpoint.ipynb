{
 "cells": [
  {
   "cell_type": "code",
   "execution_count": 2,
   "metadata": {},
   "outputs": [],
   "source": [
    "import json\n",
    "from collections import OrderedDict"
   ]
  },
  {
   "cell_type": "code",
   "execution_count": 3,
   "metadata": {},
   "outputs": [],
   "source": [
    "params = OrderedDict()\n",
    "params['ID'] = 3\n",
    "params['NAME'] = 'Inception_resnetV2_'\n",
    "params['CLASS_NUM'] = 10\n",
    "params['CV_RATE'] = 0.4\n",
    "params['CV_SEED'] = 1223\n",
    "params['BATCH_SIZE'] = 32\n",
    "params['OPTIMIZER'] = 'adam'"
   ]
  },
  {
   "cell_type": "code",
   "execution_count": 4,
   "metadata": {},
   "outputs": [
    {
     "data": {
      "text/plain": [
       "OrderedDict([('ID', 3),\n",
       "             ('NAME', 'Inception_resnetV2_'),\n",
       "             ('CLASS_NUM', 10),\n",
       "             ('CV_RATE', 0.4),\n",
       "             ('BATCH_SIZE', 32),\n",
       "             ('OPTIMIZER', 'adam')])"
      ]
     },
     "execution_count": 4,
     "metadata": {},
     "output_type": "execute_result"
    }
   ],
   "source": [
    "params"
   ]
  },
  {
   "cell_type": "code",
   "execution_count": null,
   "metadata": {},
   "outputs": [],
   "source": [
    "with open('../training_params/train3.json','w',encoding='utf-8') as make_file:\n",
    "    json.dump(params, make_file, ensure_ascii=False, indent='\\t')"
   ]
  }
 ],
 "metadata": {
  "kernelspec": {
   "display_name": "Python 3",
   "language": "python",
   "name": "python3"
  },
  "language_info": {
   "codemirror_mode": {
    "name": "ipython",
    "version": 3
   },
   "file_extension": ".py",
   "mimetype": "text/x-python",
   "name": "python",
   "nbconvert_exporter": "python",
   "pygments_lexer": "ipython3",
   "version": "3.6.5"
  }
 },
 "nbformat": 4,
 "nbformat_minor": 2
}
