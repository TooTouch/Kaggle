{
 "cells": [
  {
   "cell_type": "markdown",
   "metadata": {},
   "source": [
    "# Xgboost"
   ]
  },
  {
   "cell_type": "code",
   "execution_count": 1,
   "metadata": {},
   "outputs": [],
   "source": [
    "import pandas as pd\n",
    "import numpy as np\n",
    "import matplotlib.pyplot as plt\n",
    "\n",
    "import xgboost as xgb\n",
    "from sklearn import preprocessing\n",
    "from sklearn.model_selection import GridSearchCV, train_test_split\n",
    "from sklearn import metrics"
   ]
  },
  {
   "cell_type": "markdown",
   "metadata": {},
   "source": [
    "## 1. Data load"
   ]
  },
  {
   "cell_type": "markdown",
   "metadata": {},
   "source": [
    "train data set 정리  \n",
    "- train_origin : original train data set, f_score dataframe의 idx로 onehotencoding된 값까지 저장하기위해 사용\n",
    "- train_set : features들 제거된 train data set\n",
    "- train_t : validation과 나눠지기 전 train data set, 마지막 test set을 prediction 하기 전 전체 train set을 학습하기 위해 저장\n",
    "- train : validation과 나눠진 후 train data set"
   ]
  },
  {
   "cell_type": "code",
   "execution_count": 2,
   "metadata": {},
   "outputs": [],
   "source": [
    "train_origin = pd.read_csv('../../input/train.csv', na_values=['-1','-1.0'])\n",
    "test_set = pd.read_csv('../../input/test.csv', na_values=['-1','-1.0'])"
   ]
  },
  {
   "cell_type": "code",
   "execution_count": 3,
   "metadata": {},
   "outputs": [
    {
     "data": {
      "text/plain": [
       "(595212, 59)"
      ]
     },
     "execution_count": 3,
     "metadata": {},
     "output_type": "execute_result"
    }
   ],
   "source": [
    "train_origin.shape"
   ]
  },
  {
   "cell_type": "markdown",
   "metadata": {},
   "source": [
    "train_set의 origin columns를 저장하기 위해 copy"
   ]
  },
  {
   "cell_type": "code",
   "execution_count": 4,
   "metadata": {},
   "outputs": [],
   "source": [
    "train_set = train_origin.copy()"
   ]
  },
  {
   "cell_type": "markdown",
   "metadata": {},
   "source": [
    "## 2. Data cleaning"
   ]
  },
  {
   "cell_type": "markdown",
   "metadata": {},
   "source": [
    "Mean, Medain이 차이가 없다고 생각되는 features 제외"
   ]
  },
  {
   "cell_type": "code",
   "execution_count": 5,
   "metadata": {},
   "outputs": [],
   "source": [
    "# drop_feature = ['ps_ind_01', 'ps_car_11', 'ps_car_14', 'ps_car_15', 'ps_calc_01', 'ps_calc_03', \n",
    "#                'ps_calc_04', 'ps_calc_05', 'ps_calc_06', 'ps_calc_06', 'ps_calc_07', 'ps_calc_08',\n",
    "#                'ps_calc_09', 'ps_calc_10', 'ps_calc_11', 'ps_calc_12', 'ps_calc_13', 'ps_calc_14']\n",
    "# train_set = train_set.drop(drop_feature, axis=1)\n",
    "# test_set = test_set.drop(drop_feature, axis=1)"
   ]
  },
  {
   "cell_type": "markdown",
   "metadata": {},
   "source": [
    "위에꺼에 binary중에 차이 없는 features까지 제외"
   ]
  },
  {
   "cell_type": "code",
   "execution_count": 6,
   "metadata": {
    "scrolled": true
   },
   "outputs": [],
   "source": [
    "# drop_feature = ['ps_ind_01', 'ps_car_11', 'ps_car_14', 'ps_car_15', 'ps_calc_01', 'ps_calc_03', \n",
    "#                'ps_calc_04', 'ps_calc_05', 'ps_calc_06', 'ps_calc_06', 'ps_calc_07', 'ps_calc_08',\n",
    "#                'ps_calc_09', 'ps_calc_10', 'ps_calc_11', 'ps_calc_12', 'ps_calc_13', 'ps_calc_14',\n",
    "#                'ps_ind_10_bin', 'ps_ind_11_bin', 'ps_ind_13_bin', 'ps_calc_15_bin', 'ps_calc_16_bin',\n",
    "#                'ps_calc_17_bin', 'ps_calc_18_bin', 'ps_calc_19_bin', 'ps_calc_20_bin']\n",
    "# train_set = train_set.drop(drop_feature, axis=1)\n",
    "# test_set = test_set.drop(drop_feature, axis=1)"
   ]
  },
  {
   "cell_type": "markdown",
   "metadata": {},
   "source": [
    "위에꺼에 category중에 차이 없는 features까지 제외"
   ]
  },
  {
   "cell_type": "code",
   "execution_count": 7,
   "metadata": {},
   "outputs": [],
   "source": [
    "drop_feature = ['ps_ind_01', 'ps_car_11', 'ps_car_14', 'ps_car_15', 'ps_calc_01', 'ps_calc_03', \n",
    "               'ps_calc_04', 'ps_calc_05', 'ps_calc_06', 'ps_calc_06', 'ps_calc_07', 'ps_calc_08',\n",
    "               'ps_calc_09', 'ps_calc_10', 'ps_calc_11', 'ps_calc_12', 'ps_calc_13', 'ps_calc_14',\n",
    "               'ps_ind_10_bin', 'ps_ind_11_bin', 'ps_ind_13_bin', 'ps_calc_15_bin', 'ps_calc_16_bin',\n",
    "               'ps_calc_17_bin', 'ps_calc_18_bin', 'ps_calc_19_bin', 'ps_calc_20_bin',\n",
    "               'ps_car_05_cat', 'ps_car_10_cat', 'ps_car_11_cat']\n",
    "train_set = train_set.drop(drop_feature, axis=1)\n",
    "test_set = test_set.drop(drop_feature, axis=1)"
   ]
  },
  {
   "cell_type": "code",
   "execution_count": 8,
   "metadata": {},
   "outputs": [
    {
     "data": {
      "text/plain": [
       "(595212, 59)"
      ]
     },
     "execution_count": 8,
     "metadata": {},
     "output_type": "execute_result"
    }
   ],
   "source": [
    "train_origin.shape"
   ]
  },
  {
   "cell_type": "code",
   "execution_count": 9,
   "metadata": {},
   "outputs": [
    {
     "data": {
      "text/plain": [
       "(595212, 30)"
      ]
     },
     "execution_count": 9,
     "metadata": {},
     "output_type": "execute_result"
    }
   ],
   "source": [
    "train_set.shape"
   ]
  },
  {
   "cell_type": "markdown",
   "metadata": {},
   "source": [
    "### 2.1 onehotencoding for category variables"
   ]
  },
  {
   "cell_type": "code",
   "execution_count": 10,
   "metadata": {},
   "outputs": [],
   "source": [
    "def onehotencoder(df, variables):\n",
    "    dummies = pd.DataFrame()\n",
    "    for var in variables:\n",
    "        dummy = pd.get_dummies(df[var],prefix=var)\n",
    "        dummies = pd.concat([dummies,dummy],axis=1)\n",
    "        df = df.drop(var, axis=1)\n",
    "    df = pd.concat([df,dummies],axis=1)\n",
    "    \n",
    "    return df"
   ]
  },
  {
   "cell_type": "code",
   "execution_count": 11,
   "metadata": {},
   "outputs": [],
   "source": [
    "cat = [col for col in train_origin.columns if 'cat' in col]\n",
    "train_origin = onehotencoder(train_origin, cat)"
   ]
  },
  {
   "cell_type": "code",
   "execution_count": 12,
   "metadata": {},
   "outputs": [
    {
     "data": {
      "text/plain": [
       "(595212, 220)"
      ]
     },
     "execution_count": 12,
     "metadata": {},
     "output_type": "execute_result"
    }
   ],
   "source": [
    "train_origin.shape"
   ]
  },
  {
   "cell_type": "code",
   "execution_count": 13,
   "metadata": {},
   "outputs": [],
   "source": [
    "cat = [col for col in train_set.columns if 'cat' in col]\n",
    "train_t = onehotencoder(train_set, cat)\n",
    "test = onehotencoder(test_set,cat)"
   ]
  },
  {
   "cell_type": "code",
   "execution_count": 14,
   "metadata": {},
   "outputs": [
    {
     "data": {
      "text/plain": [
       "(595212, 85)"
      ]
     },
     "execution_count": 14,
     "metadata": {},
     "output_type": "execute_result"
    }
   ],
   "source": [
    "train_t.shape"
   ]
  },
  {
   "cell_type": "markdown",
   "metadata": {},
   "source": [
    "## 3. Data split\n",
    "\n",
    "train : validation = 7 : 3"
   ]
  },
  {
   "cell_type": "code",
   "execution_count": 15,
   "metadata": {},
   "outputs": [],
   "source": [
    "x_data = train_t.drop(columns=['id','target'])\n",
    "y_data = train_t[['target']]\n",
    "\n",
    "test_idx = test['id']\n",
    "test = test.drop(columns=['id'])"
   ]
  },
  {
   "cell_type": "code",
   "execution_count": 16,
   "metadata": {},
   "outputs": [],
   "source": [
    "x_train, x_val, y_train, y_val = train_test_split(x_data,y_data,test_size=0.3,random_state=223)"
   ]
  },
  {
   "cell_type": "code",
   "execution_count": 17,
   "metadata": {},
   "outputs": [],
   "source": [
    "train = pd.concat([x_train,y_train], axis=1)\n",
    "val = pd.concat([x_val,y_val], axis=1)"
   ]
  },
  {
   "cell_type": "markdown",
   "metadata": {},
   "source": [
    "## 4. XGboosting"
   ]
  },
  {
   "cell_type": "code",
   "execution_count": 18,
   "metadata": {},
   "outputs": [],
   "source": [
    "def gini(pred, actual, cmpcol=0, sortcol=1):\n",
    "    if type(actual).__module__ == 'xgboost.core':\n",
    "        actual = actual.get_label()\n",
    "    if type(pred).__module__ == 'xgboost.core':\n",
    "        pred = pred.get_label()\n",
    "    \n",
    "    all = np.asarray(np.c_[actual, pred, np.arange(len(actual))], dtype=np.float)\n",
    "    all = all[np.lexsort((all[:, 2], -1 * all[:, 1]))]\n",
    "    totalLosses = all[:, 0].sum()\n",
    "    giniSum = all[:, 0].cumsum().sum() / totalLosses\n",
    "\n",
    "    giniSum -= (len(actual) + 1) / 2.\n",
    "    return giniSum / len(actual)\n",
    "\n",
    "\n",
    "def gini_normalized(p, a):\n",
    "    return 'gini_normal', gini(p, a) / gini(a, a)"
   ]
  },
  {
   "cell_type": "markdown",
   "metadata": {},
   "source": [
    "Parameter tuning method  \n",
    "https://www.analyticsvidhya.com/blog/2016/03/complete-guide-parameter-tuning-xgboost-with-codes-python/"
   ]
  },
  {
   "cell_type": "code",
   "execution_count": 19,
   "metadata": {},
   "outputs": [],
   "source": [
    "def modelfit(alg, dtrain, dval, useTrainCV=True, cv_folds=5, early_stopping_rounds=50):\n",
    "    predictors = [x for x in dtrain.columns if x not in ['id','target']]\n",
    "    if useTrainCV:\n",
    "        xgb_param = alg.get_xgb_params()\n",
    "        xgtrain = xgb.DMatrix(dtrain[predictors].values, label=dtrain['target'].values)\n",
    "        cvresult = xgb.cv(xgb_param, xgtrain, num_boost_round=alg.get_params()['n_estimators'], nfold=cv_folds,\n",
    "            metrics='auc', early_stopping_rounds=early_stopping_rounds, verbose_eval=True)\n",
    "        alg.set_params(n_estimators=cvresult.shape[0])\n",
    "    \n",
    "    #Fit the algorithm on the data\n",
    "    alg.fit(dtrain[predictors], dtrain['target'],eval_metric='auc')\n",
    "        \n",
    "    #Predict training set:\n",
    "    dtrain_predictions = alg.predict(dtrain[predictors])\n",
    "    dtrain_predprob = alg.predict_proba(dtrain[predictors])[:,1]\n",
    "      \n",
    "    #Predict training set:\n",
    "    dval_predictions = alg.predict(dval[predictors])\n",
    "    dval_predprob = alg.predict_proba(dval[predictors])[:,1]\n",
    "    \n",
    "    #Print model report:\n",
    "    print(\"\\nModel Report[train data]\")\n",
    "    print(\"Accuracy : %.4g\" % metrics.accuracy_score(dtrain['target'].values, dtrain_predictions))\n",
    "    print(\"AUC Score (Train): %f\" % metrics.roc_auc_score(dtrain['target'], dtrain_predprob))\n",
    "    \n",
    "    print(\"\\nModel Report[validation data]\")\n",
    "    print(\"Accuracy : %.4g\" % metrics.accuracy_score(dval['target'].values, dval_predictions))\n",
    "    print(\"AUC Score (Train): %f\" % metrics.roc_auc_score(dval['target'], dval_predprob))\n",
    "    \n",
    "    gini_pred = gini(dval_predprob, dval['target'])\n",
    "    gini_max = gini(dval['target'], dval['target'])\n",
    "    _, ngini = gini_normalized(dval_predprob, dval['target'])\n",
    "\n",
    "    print('Gini: {0:.5f}, Max Gini: {1:.5f}, Normlization Gini: {2:.5f}'.format(gini_pred, gini_max, ngini))\n",
    "    \n",
    "    feat_imp = pd.Series(alg.get_booster().get_fscore()).sort_values(ascending=True)\n",
    "    f, ax = plt.subplots(1,1, figsize=(10,50))\n",
    "    feat_imp.plot(kind='barh', title='Feature importance', ax=ax)\n",
    "    ax.set_ylabel('Feature importance score')\n",
    "    plt.show()\n",
    "    \n",
    "    return alg\n",
    "    "
   ]
  },
  {
   "cell_type": "code",
   "execution_count": 20,
   "metadata": {},
   "outputs": [],
   "source": [
    "def param_tune(df, param_test, xgb_param):\n",
    "    predictors = [x for x in df.columns if x not in ['id','target']]\n",
    "    param_test = param_test\n",
    "    gsearch = GridSearchCV(estimator = xgb.XGBClassifier(**xgb_param, seed=1223), \n",
    "                            param_grid = param_test, \n",
    "                            scoring = 'roc_auc',\n",
    "                            n_jobs=4,\n",
    "                            iid=False,\n",
    "                            verbose=2,\n",
    "                            cv=5)\n",
    "    gsearch.fit(df[predictors],df['target'])\n",
    "    return gsearch"
   ]
  },
  {
   "cell_type": "markdown",
   "metadata": {},
   "source": [
    "# 5. Parameter tuning"
   ]
  },
  {
   "cell_type": "code",
   "execution_count": 33,
   "metadata": {
    "scrolled": true
   },
   "outputs": [
    {
     "name": "stdout",
     "output_type": "stream",
     "text": [
      "[0]\ttrain-auc:0.598942+0.0018129\ttest-auc:0.592645+0.00588363\n",
      "[1]\ttrain-auc:0.615451+0.00249969\ttest-auc:0.607393+0.00626569\n",
      "[2]\ttrain-auc:0.620259+0.00122588\ttest-auc:0.610785+0.00589843\n",
      "[3]\ttrain-auc:0.623287+0.0020841\ttest-auc:0.6138+0.00603781\n",
      "[4]\ttrain-auc:0.625213+0.00131126\ttest-auc:0.615948+0.00582404\n",
      "[5]\ttrain-auc:0.62681+0.000730517\ttest-auc:0.617063+0.00583952\n",
      "[6]\ttrain-auc:0.627299+0.00099\ttest-auc:0.617096+0.00589514\n",
      "[7]\ttrain-auc:0.62805+0.00125651\ttest-auc:0.617364+0.00601045\n",
      "[8]\ttrain-auc:0.629177+0.000563908\ttest-auc:0.618541+0.00503501\n",
      "[9]\ttrain-auc:0.62973+0.000404521\ttest-auc:0.618669+0.00516224\n",
      "[10]\ttrain-auc:0.629983+0.000770067\ttest-auc:0.618612+0.0049331\n",
      "[11]\ttrain-auc:0.630398+0.000639186\ttest-auc:0.619424+0.00484447\n",
      "[12]\ttrain-auc:0.631407+0.00069741\ttest-auc:0.620059+0.00379664\n",
      "[13]\ttrain-auc:0.631896+0.000961679\ttest-auc:0.620523+0.00358521\n",
      "[14]\ttrain-auc:0.632919+0.00105574\ttest-auc:0.620612+0.00377625\n",
      "[15]\ttrain-auc:0.633318+0.00138016\ttest-auc:0.621045+0.0038246\n",
      "[16]\ttrain-auc:0.633509+0.00123881\ttest-auc:0.621364+0.00430803\n",
      "[17]\ttrain-auc:0.633626+0.00138075\ttest-auc:0.621804+0.00374656\n",
      "[18]\ttrain-auc:0.633935+0.00167691\ttest-auc:0.622023+0.00371437\n",
      "[19]\ttrain-auc:0.634282+0.00167608\ttest-auc:0.622117+0.00375931\n",
      "[20]\ttrain-auc:0.634432+0.00163487\ttest-auc:0.622064+0.00375325\n",
      "[21]\ttrain-auc:0.635225+0.00171523\ttest-auc:0.622624+0.00375777\n",
      "[22]\ttrain-auc:0.635901+0.00131604\ttest-auc:0.622746+0.0041337\n",
      "[23]\ttrain-auc:0.636092+0.00116212\ttest-auc:0.622694+0.00441046\n",
      "[24]\ttrain-auc:0.636744+0.00126855\ttest-auc:0.62293+0.00430651\n",
      "[25]\ttrain-auc:0.637655+0.000894066\ttest-auc:0.623484+0.00438598\n",
      "[26]\ttrain-auc:0.638493+0.00092045\ttest-auc:0.623758+0.00430751\n",
      "[27]\ttrain-auc:0.639276+0.000419436\ttest-auc:0.624418+0.00448034\n",
      "[28]\ttrain-auc:0.640146+0.000833962\ttest-auc:0.625029+0.00449895\n",
      "[29]\ttrain-auc:0.640834+0.000994063\ttest-auc:0.625296+0.00435758\n",
      "[30]\ttrain-auc:0.641196+0.00108456\ttest-auc:0.625341+0.00440802\n",
      "[31]\ttrain-auc:0.641663+0.00111911\ttest-auc:0.625505+0.00458677\n",
      "[32]\ttrain-auc:0.64278+0.00116446\ttest-auc:0.625889+0.00450066\n",
      "[33]\ttrain-auc:0.643603+0.00109896\ttest-auc:0.626383+0.00444966\n",
      "[34]\ttrain-auc:0.644395+0.00132565\ttest-auc:0.62686+0.00430463\n",
      "[35]\ttrain-auc:0.645311+0.00127597\ttest-auc:0.627309+0.00434729\n",
      "[36]\ttrain-auc:0.646458+0.00114159\ttest-auc:0.628061+0.00446829\n",
      "[37]\ttrain-auc:0.647191+0.000963025\ttest-auc:0.628278+0.00463555\n",
      "[38]\ttrain-auc:0.647975+0.000855301\ttest-auc:0.62843+0.00444938\n",
      "[39]\ttrain-auc:0.648694+0.000713877\ttest-auc:0.628664+0.00441622\n",
      "[40]\ttrain-auc:0.649278+0.000739074\ttest-auc:0.628764+0.0045299\n",
      "[41]\ttrain-auc:0.650237+0.000799968\ttest-auc:0.629191+0.00431267\n",
      "[42]\ttrain-auc:0.650926+0.000625438\ttest-auc:0.629581+0.00436381\n",
      "[43]\ttrain-auc:0.651842+0.000660849\ttest-auc:0.629826+0.00434206\n",
      "[44]\ttrain-auc:0.65263+0.000713616\ttest-auc:0.630115+0.00463698\n",
      "[45]\ttrain-auc:0.653481+0.000821709\ttest-auc:0.630551+0.00462938\n",
      "[46]\ttrain-auc:0.654255+0.000868326\ttest-auc:0.630757+0.0047155\n",
      "[47]\ttrain-auc:0.654927+0.000873378\ttest-auc:0.630952+0.00456414\n",
      "[48]\ttrain-auc:0.655551+0.000758821\ttest-auc:0.631304+0.00454704\n",
      "[49]\ttrain-auc:0.656231+0.000670115\ttest-auc:0.631463+0.00437668\n",
      "[50]\ttrain-auc:0.656898+0.000658234\ttest-auc:0.631797+0.00442743\n",
      "[51]\ttrain-auc:0.657448+0.000724513\ttest-auc:0.632146+0.00444425\n",
      "[52]\ttrain-auc:0.658186+0.00074221\ttest-auc:0.632185+0.00450811\n",
      "[53]\ttrain-auc:0.658899+0.000692804\ttest-auc:0.632412+0.00448782\n",
      "[54]\ttrain-auc:0.659479+0.00070782\ttest-auc:0.632669+0.00437347\n",
      "[55]\ttrain-auc:0.660072+0.000723086\ttest-auc:0.632738+0.00437973\n",
      "[56]\ttrain-auc:0.660582+0.000723096\ttest-auc:0.632858+0.00439767\n",
      "[57]\ttrain-auc:0.661212+0.000773956\ttest-auc:0.633046+0.00456345\n",
      "[58]\ttrain-auc:0.661917+0.000881287\ttest-auc:0.633346+0.00460048\n",
      "[59]\ttrain-auc:0.662495+0.000878306\ttest-auc:0.633593+0.00455849\n",
      "[60]\ttrain-auc:0.662987+0.000885898\ttest-auc:0.633717+0.00443455\n",
      "[61]\ttrain-auc:0.663731+0.000891355\ttest-auc:0.633925+0.00446038\n",
      "[62]\ttrain-auc:0.664269+0.000888408\ttest-auc:0.634092+0.00437069\n",
      "[63]\ttrain-auc:0.664778+0.000861274\ttest-auc:0.634315+0.00445708\n",
      "[64]\ttrain-auc:0.665208+0.000943695\ttest-auc:0.634473+0.00445096\n",
      "[65]\ttrain-auc:0.665725+0.000920994\ttest-auc:0.634503+0.00446637\n",
      "[66]\ttrain-auc:0.666334+0.000925436\ttest-auc:0.634601+0.00453366\n",
      "[67]\ttrain-auc:0.666762+0.000885613\ttest-auc:0.634663+0.00449768\n",
      "[68]\ttrain-auc:0.667152+0.000862329\ttest-auc:0.634782+0.00457182\n",
      "[69]\ttrain-auc:0.667826+0.000793664\ttest-auc:0.634766+0.0044925\n",
      "[70]\ttrain-auc:0.668311+0.00077217\ttest-auc:0.634926+0.00457996\n",
      "[71]\ttrain-auc:0.668708+0.000748237\ttest-auc:0.63501+0.00454957\n",
      "[72]\ttrain-auc:0.669289+0.000845367\ttest-auc:0.635135+0.00463175\n",
      "[73]\ttrain-auc:0.669852+0.000837048\ttest-auc:0.635245+0.00456779\n",
      "[74]\ttrain-auc:0.670367+0.000896431\ttest-auc:0.635343+0.00460013\n",
      "[75]\ttrain-auc:0.67085+0.000857894\ttest-auc:0.635332+0.00470895\n",
      "[76]\ttrain-auc:0.671338+0.000788842\ttest-auc:0.635321+0.00471131\n",
      "[77]\ttrain-auc:0.671735+0.000736831\ttest-auc:0.63545+0.00469738\n",
      "[78]\ttrain-auc:0.672123+0.000789738\ttest-auc:0.635499+0.00465499\n",
      "[79]\ttrain-auc:0.672509+0.000719218\ttest-auc:0.635507+0.00459785\n",
      "[80]\ttrain-auc:0.67294+0.000739137\ttest-auc:0.635569+0.00460456\n",
      "[81]\ttrain-auc:0.673487+0.000756306\ttest-auc:0.635675+0.00453951\n",
      "[82]\ttrain-auc:0.673924+0.00072619\ttest-auc:0.635728+0.00453922\n",
      "[83]\ttrain-auc:0.674311+0.000823001\ttest-auc:0.63566+0.00463337\n",
      "[84]\ttrain-auc:0.67472+0.000790268\ttest-auc:0.635787+0.00464136\n",
      "[85]\ttrain-auc:0.675218+0.000780715\ttest-auc:0.635838+0.00476785\n",
      "[86]\ttrain-auc:0.67576+0.000704839\ttest-auc:0.63586+0.00469178\n",
      "[87]\ttrain-auc:0.676253+0.000593536\ttest-auc:0.635936+0.00473072\n",
      "[88]\ttrain-auc:0.676631+0.000676453\ttest-auc:0.635941+0.00464626\n",
      "[89]\ttrain-auc:0.677038+0.000734934\ttest-auc:0.636018+0.00465593\n",
      "[90]\ttrain-auc:0.677481+0.000764357\ttest-auc:0.636097+0.00461541\n",
      "[91]\ttrain-auc:0.677846+0.00068699\ttest-auc:0.636108+0.00464679\n",
      "[92]\ttrain-auc:0.678346+0.000652695\ttest-auc:0.636118+0.0046316\n",
      "[93]\ttrain-auc:0.67878+0.000738301\ttest-auc:0.636112+0.00462111\n",
      "[94]\ttrain-auc:0.679105+0.000769019\ttest-auc:0.636125+0.00453631\n",
      "[95]\ttrain-auc:0.679529+0.00075363\ttest-auc:0.636237+0.00453871\n",
      "[96]\ttrain-auc:0.679918+0.000671649\ttest-auc:0.636131+0.00460076\n",
      "[97]\ttrain-auc:0.680299+0.000722958\ttest-auc:0.636203+0.00458675\n",
      "[98]\ttrain-auc:0.680667+0.00072851\ttest-auc:0.636206+0.00448061\n",
      "[99]\ttrain-auc:0.681048+0.000703932\ttest-auc:0.636206+0.00445667\n",
      "[100]\ttrain-auc:0.681467+0.000698454\ttest-auc:0.636217+0.00441522\n",
      "[101]\ttrain-auc:0.681975+0.000672882\ttest-auc:0.636225+0.00447074\n",
      "[102]\ttrain-auc:0.682328+0.000661924\ttest-auc:0.636291+0.00455718\n",
      "[103]\ttrain-auc:0.682708+0.000731385\ttest-auc:0.63621+0.00446454\n",
      "[104]\ttrain-auc:0.683095+0.000705412\ttest-auc:0.636246+0.00448515\n",
      "[105]\ttrain-auc:0.683494+0.00072795\ttest-auc:0.63619+0.00457628\n",
      "[106]\ttrain-auc:0.683985+0.000665383\ttest-auc:0.636272+0.004615\n",
      "[107]\ttrain-auc:0.68438+0.000716968\ttest-auc:0.636387+0.00453749\n",
      "[108]\ttrain-auc:0.684757+0.000727044\ttest-auc:0.636534+0.00460615\n",
      "[109]\ttrain-auc:0.685147+0.00066933\ttest-auc:0.636569+0.00452319\n",
      "[110]\ttrain-auc:0.68554+0.000659583\ttest-auc:0.636509+0.00452012\n",
      "[111]\ttrain-auc:0.685837+0.000786854\ttest-auc:0.63643+0.00447222\n",
      "[112]\ttrain-auc:0.686214+0.000868382\ttest-auc:0.636438+0.0044696\n",
      "[113]\ttrain-auc:0.686543+0.000947999\ttest-auc:0.636463+0.00450882\n",
      "[114]\ttrain-auc:0.687045+0.000947154\ttest-auc:0.636573+0.0045043\n",
      "[115]\ttrain-auc:0.687277+0.000974477\ttest-auc:0.636573+0.00448776\n",
      "[116]\ttrain-auc:0.687728+0.00109497\ttest-auc:0.63652+0.00450007\n",
      "[117]\ttrain-auc:0.688144+0.000988625\ttest-auc:0.636558+0.00453703\n",
      "[118]\ttrain-auc:0.688508+0.000992398\ttest-auc:0.636588+0.00453158\n",
      "[119]\ttrain-auc:0.688914+0.000902719\ttest-auc:0.636528+0.00463319\n",
      "[120]\ttrain-auc:0.689268+0.000913384\ttest-auc:0.636472+0.00464297\n",
      "[121]\ttrain-auc:0.689649+0.000903067\ttest-auc:0.636503+0.00461747\n",
      "[122]\ttrain-auc:0.690047+0.000931497\ttest-auc:0.636414+0.00458173\n",
      "[123]\ttrain-auc:0.690422+0.000899339\ttest-auc:0.636381+0.00460837\n",
      "[124]\ttrain-auc:0.69082+0.000883811\ttest-auc:0.636415+0.00460589\n",
      "[125]\ttrain-auc:0.691241+0.000839685\ttest-auc:0.636281+0.00452736\n",
      "[126]\ttrain-auc:0.691404+0.000849091\ttest-auc:0.636259+0.00447749\n"
     ]
    },
    {
     "name": "stdout",
     "output_type": "stream",
     "text": [
      "[127]\ttrain-auc:0.691664+0.000884018\ttest-auc:0.636251+0.00447106\n",
      "[128]\ttrain-auc:0.691995+0.000912087\ttest-auc:0.636283+0.00450198\n",
      "[129]\ttrain-auc:0.692378+0.000878198\ttest-auc:0.636298+0.00449595\n",
      "[130]\ttrain-auc:0.692759+0.000865877\ttest-auc:0.636369+0.00458277\n",
      "[131]\ttrain-auc:0.693194+0.000867478\ttest-auc:0.636365+0.00445901\n",
      "[132]\ttrain-auc:0.693484+0.000792325\ttest-auc:0.636364+0.00449972\n",
      "[133]\ttrain-auc:0.693838+0.000846324\ttest-auc:0.636265+0.00449739\n",
      "[134]\ttrain-auc:0.69413+0.000823541\ttest-auc:0.636175+0.00449791\n",
      "[135]\ttrain-auc:0.694462+0.000838246\ttest-auc:0.636191+0.00458586\n",
      "[136]\ttrain-auc:0.694744+0.00089125\ttest-auc:0.636191+0.00452273\n",
      "[137]\ttrain-auc:0.695184+0.000853481\ttest-auc:0.636132+0.00445657\n",
      "[138]\ttrain-auc:0.695588+0.000990025\ttest-auc:0.636099+0.00438177\n",
      "[139]\ttrain-auc:0.695879+0.000964868\ttest-auc:0.636094+0.00443765\n",
      "[140]\ttrain-auc:0.696153+0.000997505\ttest-auc:0.636134+0.0043645\n",
      "[141]\ttrain-auc:0.696486+0.000992096\ttest-auc:0.636141+0.00433176\n",
      "[142]\ttrain-auc:0.696848+0.00103868\ttest-auc:0.636091+0.0043832\n",
      "[143]\ttrain-auc:0.697147+0.00104191\ttest-auc:0.636123+0.00440611\n",
      "[144]\ttrain-auc:0.697428+0.00112926\ttest-auc:0.636073+0.00445542\n",
      "[145]\ttrain-auc:0.697816+0.00116467\ttest-auc:0.636008+0.0045326\n",
      "[146]\ttrain-auc:0.698182+0.00124316\ttest-auc:0.635956+0.00452987\n",
      "[147]\ttrain-auc:0.698557+0.00114763\ttest-auc:0.635843+0.00452122\n",
      "[148]\ttrain-auc:0.698841+0.00122944\ttest-auc:0.63582+0.00446048\n",
      "[149]\ttrain-auc:0.699018+0.0012332\ttest-auc:0.635772+0.00451405\n",
      "[150]\ttrain-auc:0.699379+0.00127147\ttest-auc:0.635708+0.00448977\n",
      "[151]\ttrain-auc:0.699583+0.0012988\ttest-auc:0.635675+0.00450088\n",
      "[152]\ttrain-auc:0.699876+0.0013152\ttest-auc:0.635669+0.00446171\n",
      "[153]\ttrain-auc:0.700169+0.00132527\ttest-auc:0.635721+0.00445831\n",
      "[154]\ttrain-auc:0.70051+0.00136441\ttest-auc:0.635706+0.00446876\n",
      "[155]\ttrain-auc:0.700903+0.00139076\ttest-auc:0.635717+0.00450403\n",
      "[156]\ttrain-auc:0.70112+0.00135147\ttest-auc:0.635643+0.00447062\n",
      "[157]\ttrain-auc:0.70142+0.00128204\ttest-auc:0.63562+0.00450364\n",
      "[158]\ttrain-auc:0.70165+0.00121887\ttest-auc:0.635594+0.00442057\n",
      "[159]\ttrain-auc:0.701961+0.00127709\ttest-auc:0.63552+0.00446796\n",
      "[160]\ttrain-auc:0.702314+0.00120121\ttest-auc:0.635458+0.00444815\n",
      "[161]\ttrain-auc:0.702621+0.0011673\ttest-auc:0.635481+0.00448395\n",
      "[162]\ttrain-auc:0.702907+0.00120268\ttest-auc:0.63548+0.0045214\n",
      "[163]\ttrain-auc:0.703205+0.00122994\ttest-auc:0.635408+0.00448185\n",
      "[164]\ttrain-auc:0.703469+0.00123079\ttest-auc:0.635403+0.00452001\n",
      "[165]\ttrain-auc:0.703832+0.00123474\ttest-auc:0.635419+0.00441784\n",
      "[166]\ttrain-auc:0.704072+0.00126126\ttest-auc:0.635394+0.00446262\n",
      "[167]\ttrain-auc:0.704478+0.00121432\ttest-auc:0.635497+0.00430638\n"
     ]
    },
    {
     "name": "stderr",
     "output_type": "stream",
     "text": [
      "C:\\Users\\wogur\\Anaconda3\\lib\\site-packages\\sklearn\\preprocessing\\label.py:151: DeprecationWarning: The truth value of an empty array is ambiguous. Returning False, but in future this will result in an error. Use `array.size > 0` to check that an array is not empty.\n",
      "  if diff:\n",
      "C:\\Users\\wogur\\Anaconda3\\lib\\site-packages\\sklearn\\preprocessing\\label.py:151: DeprecationWarning: The truth value of an empty array is ambiguous. Returning False, but in future this will result in an error. Use `array.size > 0` to check that an array is not empty.\n",
      "  if diff:\n"
     ]
    },
    {
     "name": "stdout",
     "output_type": "stream",
     "text": [
      "\n",
      "Model Report[train data]\n",
      "Accuracy : 0.9637\n",
      "AUC Score (Train): 0.680109\n",
      "\n",
      "Model Report[validation data]\n",
      "Accuracy : 0.9633\n",
      "AUC Score (Train): 0.642573\n",
      "Gini: 0.13734, Max Gini: 0.48166, Normlization Gini: 0.28515\n"
     ]
    },
    {
     "data": {
      "image/png": "[encoded data removed]",
      "text/plain": [
       "<Figure size 720x3600 with 1 Axes>"
      ]
     },
     "metadata": {},
     "output_type": "display_data"
    },
    {
     "name": "stdout",
     "output_type": "stream",
     "text": [
      "Wall time: 1min 18s\n"
     ]
    }
   ],
   "source": [
    "%%time\n",
    "#Choose all predictors except target & IDcols\n",
    "xgb1 = xgb.XGBClassifier(\n",
    "    learning_rate =0.1,\n",
    "    n_estimators=1000,\n",
    "    max_depth=5,\n",
    "    min_child_weight=1,\n",
    "    gamma=0,\n",
    "    subsample=0.8,\n",
    "    colsample_bytree=0.8,\n",
    "    objective= 'gpu:binary:logistic',\n",
    "    nthread=4,\n",
    "    scale_pos_weight=1,\n",
    "    tree_method='gpu_hist',\n",
    "    predictor='gpu_predictor',\n",
    "    seed=1223)\n",
    "alg1 = modelfit(xgb1, train, val)"
   ]
  },
  {
   "cell_type": "markdown",
   "metadata": {},
   "source": [
    "# Step1"
   ]
  },
  {
   "cell_type": "code",
   "execution_count": 34,
   "metadata": {
    "scrolled": true
   },
   "outputs": [
    {
     "name": "stdout",
     "output_type": "stream",
     "text": [
      "Fitting 5 folds for each of 12 candidates, totalling 60 fits\n"
     ]
    },
    {
     "name": "stderr",
     "output_type": "stream",
     "text": [
      "[Parallel(n_jobs=2)]: Done  37 tasks      | elapsed:  4.2min\n",
      "[Parallel(n_jobs=2)]: Done  60 out of  60 | elapsed: 13.8min finished\n"
     ]
    },
    {
     "name": "stdout",
     "output_type": "stream",
     "text": [
      "Wall time: 13min 50s\n"
     ]
    }
   ],
   "source": [
    "%%time\n",
    "param_test1 = {\n",
    "     'max_depth':np.arange(3,10,2),\n",
    "     'min_child_weight':np.arange(1,6,2)\n",
    "}\n",
    "\n",
    "xgb_param1 = {\n",
    "    'learning_rate':0.1, \n",
    "    'n_estimators':200, \n",
    "    'gamma':0, \n",
    "    'subsample':0.8, \n",
    "    'colsample_bytree':0.8,\n",
    "    'objective': 'gpu:binary:logistic', \n",
    "    'nthread':4, \n",
    "    'scale_pos_weight':1, \n",
    "    'tree_method':'gpu_hist', \n",
    "    'predictor':'gpu_predictor'\n",
    "}\n",
    "gsearch1 = param_tune(train, param_test1, xgb_param1)"
   ]
  },
  {
   "cell_type": "code",
   "execution_count": 35,
   "metadata": {},
   "outputs": [
    {
     "name": "stderr",
     "output_type": "stream",
     "text": [
      "C:\\Users\\wogur\\Anaconda3\\lib\\site-packages\\sklearn\\model_selection\\_search.py:761: DeprecationWarning: The grid_scores_ attribute was deprecated in version 0.18 in favor of the more elaborate cv_results_ attribute. The grid_scores_ attribute will not be available from 0.20\n",
      "  DeprecationWarning)\n"
     ]
    },
    {
     "data": {
      "text/plain": [
       "([mean: 0.63732, std: 0.00341, params: {'max_depth': 3, 'min_child_weight': 1},\n",
       "  mean: 0.63706, std: 0.00357, params: {'max_depth': 3, 'min_child_weight': 3},\n",
       "  mean: 0.63700, std: 0.00335, params: {'max_depth': 3, 'min_child_weight': 5},\n",
       "  mean: 0.63556, std: 0.00228, params: {'max_depth': 5, 'min_child_weight': 1},\n",
       "  mean: 0.63489, std: 0.00318, params: {'max_depth': 5, 'min_child_weight': 3},\n",
       "  mean: 0.63461, std: 0.00250, params: {'max_depth': 5, 'min_child_weight': 5},\n",
       "  mean: 0.62558, std: 0.00423, params: {'max_depth': 7, 'min_child_weight': 1},\n",
       "  mean: 0.62516, std: 0.00290, params: {'max_depth': 7, 'min_child_weight': 3},\n",
       "  mean: 0.62710, std: 0.00298, params: {'max_depth': 7, 'min_child_weight': 5},\n",
       "  mean: 0.60799, std: 0.00193, params: {'max_depth': 9, 'min_child_weight': 1},\n",
       "  mean: 0.61058, std: 0.00378, params: {'max_depth': 9, 'min_child_weight': 3},\n",
       "  mean: 0.61459, std: 0.00365, params: {'max_depth': 9, 'min_child_weight': 5}],\n",
       " {'max_depth': 3, 'min_child_weight': 1},\n",
       " 0.6373187691832332)"
      ]
     },
     "execution_count": 35,
     "metadata": {},
     "output_type": "execute_result"
    }
   ],
   "source": [
    "gsearch1.grid_scores_, gsearch1.best_params_, gsearch1.best_score_"
   ]
  },
  {
   "cell_type": "code",
   "execution_count": 37,
   "metadata": {},
   "outputs": [
    {
     "name": "stdout",
     "output_type": "stream",
     "text": [
      "Fitting 5 folds for each of 3 candidates, totalling 15 fits\n"
     ]
    },
    {
     "name": "stderr",
     "output_type": "stream",
     "text": [
      "[Parallel(n_jobs=-1)]: Done   8 out of  15 | elapsed:   25.3s remaining:   22.1s\n",
      "[Parallel(n_jobs=-1)]: Done  15 out of  15 | elapsed:   34.6s finished\n"
     ]
    },
    {
     "name": "stdout",
     "output_type": "stream",
     "text": [
      "Wall time: 40.8 s\n"
     ]
    }
   ],
   "source": [
    "%%time\n",
    "param_test2 = {\n",
    "     'max_depth': [2,3,4]\n",
    "}\n",
    "\n",
    "xgb_param2 = {\n",
    "    'learning_rate':0.1, \n",
    "    'n_estimators':200, \n",
    "    'min_child_weight':1,\n",
    "    'gamma':0, \n",
    "    'subsample':0.8, \n",
    "    'colsample_bytree':0.8,\n",
    "    'objective': 'gpu:binary:logistic', \n",
    "    'nthread':4, \n",
    "    'scale_pos_weight':1, \n",
    "    'tree_method':'gpu_hist', \n",
    "    'predictor':'gpu_predictor'\n",
    "}\n",
    "gsearch2 = param_tune(train,param_test2, xgb_param2)"
   ]
  },
  {
   "cell_type": "code",
   "execution_count": 38,
   "metadata": {},
   "outputs": [
    {
     "name": "stderr",
     "output_type": "stream",
     "text": [
      "C:\\Users\\wogur\\Anaconda3\\lib\\site-packages\\sklearn\\model_selection\\_search.py:761: DeprecationWarning: The grid_scores_ attribute was deprecated in version 0.18 in favor of the more elaborate cv_results_ attribute. The grid_scores_ attribute will not be available from 0.20\n",
      "  DeprecationWarning)\n"
     ]
    },
    {
     "data": {
      "text/plain": [
       "([mean: 0.63499, std: 0.00339, params: {'max_depth': 2},\n",
       "  mean: 0.63732, std: 0.00341, params: {'max_depth': 3},\n",
       "  mean: 0.63671, std: 0.00241, params: {'max_depth': 4}],\n",
       " {'max_depth': 3},\n",
       " 0.6373187691832332)"
      ]
     },
     "execution_count": 38,
     "metadata": {},
     "output_type": "execute_result"
    }
   ],
   "source": [
    "gsearch2.grid_scores_, gsearch2.best_params_, gsearch2.best_score_"
   ]
  },
  {
   "cell_type": "code",
   "execution_count": 39,
   "metadata": {},
   "outputs": [
    {
     "name": "stdout",
     "output_type": "stream",
     "text": [
      "[0]\ttrain-auc:0.586845+0.00208957\ttest-auc:0.584272+0.00606701\n",
      "[1]\ttrain-auc:0.604486+0.00360879\ttest-auc:0.600876+0.00643299\n",
      "[2]\ttrain-auc:0.60836+0.00162664\ttest-auc:0.603319+0.00575125\n",
      "[3]\ttrain-auc:0.611067+0.00126357\ttest-auc:0.60671+0.00510426\n",
      "[4]\ttrain-auc:0.611797+0.00100282\ttest-auc:0.607182+0.00537647\n",
      "[5]\ttrain-auc:0.613007+0.00105219\ttest-auc:0.608704+0.00579844\n",
      "[6]\ttrain-auc:0.613436+0.00108949\ttest-auc:0.608384+0.00542532\n",
      "[7]\ttrain-auc:0.61428+0.00123505\ttest-auc:0.609591+0.00582512\n",
      "[8]\ttrain-auc:0.61489+0.00085471\ttest-auc:0.610319+0.00502103\n",
      "[9]\ttrain-auc:0.614625+0.000782267\ttest-auc:0.610448+0.0055165\n",
      "[10]\ttrain-auc:0.614931+0.000913772\ttest-auc:0.61017+0.00533418\n",
      "[11]\ttrain-auc:0.61502+0.000899855\ttest-auc:0.610611+0.00565967\n",
      "[12]\ttrain-auc:0.616132+0.00160884\ttest-auc:0.611607+0.00466693\n",
      "[13]\ttrain-auc:0.61659+0.00169901\ttest-auc:0.612005+0.00445173\n",
      "[14]\ttrain-auc:0.617281+0.000776195\ttest-auc:0.612353+0.00509264\n",
      "[15]\ttrain-auc:0.61811+0.0013227\ttest-auc:0.613157+0.00489481\n",
      "[16]\ttrain-auc:0.618038+0.00159055\ttest-auc:0.613525+0.00461579\n",
      "[17]\ttrain-auc:0.617934+0.00177513\ttest-auc:0.613363+0.00438407\n",
      "[18]\ttrain-auc:0.618083+0.00211531\ttest-auc:0.613832+0.00461851\n",
      "[19]\ttrain-auc:0.618333+0.00213088\ttest-auc:0.613981+0.00457573\n",
      "[20]\ttrain-auc:0.618256+0.00199415\ttest-auc:0.613617+0.00485851\n",
      "[21]\ttrain-auc:0.618741+0.00216453\ttest-auc:0.614181+0.00449762\n",
      "[22]\ttrain-auc:0.619202+0.00160367\ttest-auc:0.614378+0.00481096\n",
      "[23]\ttrain-auc:0.619472+0.00147491\ttest-auc:0.614418+0.00524471\n",
      "[24]\ttrain-auc:0.620042+0.00168274\ttest-auc:0.615108+0.00500806\n",
      "[25]\ttrain-auc:0.621098+0.00142318\ttest-auc:0.616137+0.00503938\n",
      "[26]\ttrain-auc:0.621767+0.00141079\ttest-auc:0.616714+0.00512131\n",
      "[27]\ttrain-auc:0.622136+0.00110632\ttest-auc:0.617043+0.00538696\n",
      "[28]\ttrain-auc:0.622717+0.00100884\ttest-auc:0.617585+0.00516652\n",
      "[29]\ttrain-auc:0.623431+0.000875917\ttest-auc:0.618096+0.00548367\n",
      "[30]\ttrain-auc:0.623511+0.000732776\ttest-auc:0.618178+0.00572913\n",
      "[31]\ttrain-auc:0.62416+0.000820075\ttest-auc:0.618552+0.00520929\n",
      "[32]\ttrain-auc:0.624906+0.000872721\ttest-auc:0.619378+0.00484046\n",
      "[33]\ttrain-auc:0.625334+0.000774675\ttest-auc:0.619725+0.00490222\n",
      "[34]\ttrain-auc:0.626049+0.000950432\ttest-auc:0.620159+0.00488739\n",
      "[35]\ttrain-auc:0.626777+0.00106613\ttest-auc:0.620603+0.0048505\n",
      "[36]\ttrain-auc:0.627847+0.000812865\ttest-auc:0.621445+0.00490691\n",
      "[37]\ttrain-auc:0.628178+0.000824353\ttest-auc:0.621584+0.00493479\n",
      "[38]\ttrain-auc:0.628908+0.00105687\ttest-auc:0.622228+0.00478659\n",
      "[39]\ttrain-auc:0.629514+0.00105892\ttest-auc:0.622766+0.00456987\n",
      "[40]\ttrain-auc:0.630136+0.000982504\ttest-auc:0.623219+0.00452284\n",
      "[41]\ttrain-auc:0.630753+0.000986543\ttest-auc:0.623589+0.00438571\n",
      "[42]\ttrain-auc:0.631204+0.000914687\ttest-auc:0.623886+0.0043109\n",
      "[43]\ttrain-auc:0.631807+0.000969815\ttest-auc:0.624418+0.0041719\n",
      "[44]\ttrain-auc:0.632279+0.00088989\ttest-auc:0.624727+0.00433362\n",
      "[45]\ttrain-auc:0.632758+0.00099245\ttest-auc:0.625147+0.00426927\n",
      "[46]\ttrain-auc:0.633212+0.000911381\ttest-auc:0.625466+0.00434786\n",
      "[47]\ttrain-auc:0.633811+0.00100291\ttest-auc:0.625834+0.00430225\n",
      "[48]\ttrain-auc:0.634158+0.000806148\ttest-auc:0.626114+0.0043801\n",
      "[49]\ttrain-auc:0.634654+0.0007357\ttest-auc:0.626409+0.0044723\n",
      "[50]\ttrain-auc:0.635164+0.000796332\ttest-auc:0.626856+0.00441617\n",
      "[51]\ttrain-auc:0.635527+0.000852009\ttest-auc:0.627258+0.00442305\n",
      "[52]\ttrain-auc:0.636059+0.000768584\ttest-auc:0.627628+0.00444297\n",
      "[53]\ttrain-auc:0.636547+0.000640665\ttest-auc:0.628007+0.00462134\n",
      "[54]\ttrain-auc:0.636812+0.000696384\ttest-auc:0.62814+0.00457801\n",
      "[55]\ttrain-auc:0.637093+0.000731146\ttest-auc:0.62816+0.00450517\n",
      "[56]\ttrain-auc:0.637384+0.000677186\ttest-auc:0.628222+0.00445104\n",
      "[57]\ttrain-auc:0.63778+0.000629859\ttest-auc:0.628549+0.00454831\n",
      "[58]\ttrain-auc:0.638251+0.000586569\ttest-auc:0.62899+0.00467511\n",
      "[59]\ttrain-auc:0.638539+0.000619568\ttest-auc:0.629264+0.00462238\n",
      "[60]\ttrain-auc:0.638762+0.000575999\ttest-auc:0.629384+0.00453847\n",
      "[61]\ttrain-auc:0.639168+0.000613316\ttest-auc:0.629624+0.0044967\n",
      "[62]\ttrain-auc:0.639527+0.000653017\ttest-auc:0.629844+0.00444317\n",
      "[63]\ttrain-auc:0.639821+0.000618817\ttest-auc:0.629992+0.00443542\n",
      "[64]\ttrain-auc:0.640005+0.000578859\ttest-auc:0.630131+0.0044887\n",
      "[65]\ttrain-auc:0.640296+0.000509273\ttest-auc:0.630351+0.00442023\n",
      "[66]\ttrain-auc:0.640554+0.000538494\ttest-auc:0.630501+0.00449323\n",
      "[67]\ttrain-auc:0.640842+0.000566304\ttest-auc:0.630755+0.00451396\n",
      "[68]\ttrain-auc:0.641127+0.000644936\ttest-auc:0.63098+0.00449297\n",
      "[69]\ttrain-auc:0.641392+0.000629128\ttest-auc:0.631132+0.00430085\n",
      "[70]\ttrain-auc:0.641684+0.000520736\ttest-auc:0.631235+0.0043731\n",
      "[71]\ttrain-auc:0.641894+0.000474567\ttest-auc:0.631305+0.00435351\n",
      "[72]\ttrain-auc:0.642281+0.000568915\ttest-auc:0.631486+0.00421949\n",
      "[73]\ttrain-auc:0.642535+0.000553922\ttest-auc:0.631715+0.00413093\n",
      "[74]\ttrain-auc:0.642704+0.000620279\ttest-auc:0.631842+0.00414114\n",
      "[75]\ttrain-auc:0.643091+0.000591742\ttest-auc:0.6321+0.00415182\n",
      "[76]\ttrain-auc:0.643356+0.000580655\ttest-auc:0.632219+0.00411442\n",
      "[77]\ttrain-auc:0.643646+0.000592171\ttest-auc:0.632442+0.00403174\n",
      "[78]\ttrain-auc:0.643902+0.000607348\ttest-auc:0.632558+0.00394669\n",
      "[79]\ttrain-auc:0.644077+0.000566416\ttest-auc:0.632703+0.00391399\n",
      "[80]\ttrain-auc:0.644258+0.000565625\ttest-auc:0.632751+0.00399066\n",
      "[81]\ttrain-auc:0.644529+0.000570319\ttest-auc:0.63295+0.00398933\n",
      "[82]\ttrain-auc:0.64478+0.000568718\ttest-auc:0.633095+0.00397936\n",
      "[83]\ttrain-auc:0.644976+0.000552905\ttest-auc:0.633239+0.00399258\n",
      "[84]\ttrain-auc:0.645193+0.000480121\ttest-auc:0.633316+0.00398345\n",
      "[85]\ttrain-auc:0.645407+0.000496574\ttest-auc:0.633399+0.00401278\n",
      "[86]\ttrain-auc:0.645621+0.000519112\ttest-auc:0.63354+0.003937\n",
      "[87]\ttrain-auc:0.645829+0.000512258\ttest-auc:0.633676+0.00394566\n",
      "[88]\ttrain-auc:0.646039+0.000550003\ttest-auc:0.633781+0.00382334\n",
      "[89]\ttrain-auc:0.646235+0.000560626\ttest-auc:0.633856+0.00388821\n",
      "[90]\ttrain-auc:0.646434+0.000501846\ttest-auc:0.633908+0.00390151\n",
      "[91]\ttrain-auc:0.646611+0.000499688\ttest-auc:0.633995+0.00379168\n",
      "[92]\ttrain-auc:0.64681+0.000477951\ttest-auc:0.634238+0.00384378\n",
      "[93]\ttrain-auc:0.646983+0.000480177\ttest-auc:0.634329+0.00385095\n",
      "[94]\ttrain-auc:0.64714+0.000538716\ttest-auc:0.63435+0.00380413\n",
      "[95]\ttrain-auc:0.647318+0.000573951\ttest-auc:0.634427+0.00378338\n",
      "[96]\ttrain-auc:0.647428+0.000551157\ttest-auc:0.634436+0.00389765\n",
      "[97]\ttrain-auc:0.647617+0.000593904\ttest-auc:0.63459+0.00388131\n",
      "[98]\ttrain-auc:0.647768+0.000592923\ttest-auc:0.634639+0.00379644\n",
      "[99]\ttrain-auc:0.647937+0.000644321\ttest-auc:0.63472+0.00370905\n",
      "[100]\ttrain-auc:0.648117+0.000641445\ttest-auc:0.634778+0.00366983\n",
      "[101]\ttrain-auc:0.648291+0.000642017\ttest-auc:0.634826+0.00361482\n",
      "[102]\ttrain-auc:0.648488+0.000715311\ttest-auc:0.634916+0.00357205\n",
      "[103]\ttrain-auc:0.648661+0.000716709\ttest-auc:0.634985+0.0035509\n",
      "[104]\ttrain-auc:0.648811+0.000747382\ttest-auc:0.635087+0.0035344\n",
      "[105]\ttrain-auc:0.649041+0.000734906\ttest-auc:0.635219+0.00359781\n",
      "[106]\ttrain-auc:0.649238+0.000739106\ttest-auc:0.635301+0.00358168\n",
      "[107]\ttrain-auc:0.649448+0.000702248\ttest-auc:0.635406+0.00364923\n",
      "[108]\ttrain-auc:0.649625+0.000690602\ttest-auc:0.635452+0.00357146\n",
      "[109]\ttrain-auc:0.649826+0.000640645\ttest-auc:0.635527+0.00352657\n",
      "[110]\ttrain-auc:0.650022+0.000618002\ttest-auc:0.635592+0.00353528\n",
      "[111]\ttrain-auc:0.650178+0.000632174\ttest-auc:0.635637+0.00347392\n",
      "[112]\ttrain-auc:0.650322+0.000655311\ttest-auc:0.635659+0.00345038\n",
      "[113]\ttrain-auc:0.650457+0.000668852\ttest-auc:0.635643+0.0035222\n",
      "[114]\ttrain-auc:0.65067+0.000654462\ttest-auc:0.635738+0.00351344\n",
      "[115]\ttrain-auc:0.650792+0.000695926\ttest-auc:0.635782+0.00343907\n",
      "[116]\ttrain-auc:0.650962+0.000728477\ttest-auc:0.635825+0.00342563\n",
      "[117]\ttrain-auc:0.651112+0.000705524\ttest-auc:0.635871+0.00341155\n",
      "[118]\ttrain-auc:0.651249+0.000718455\ttest-auc:0.635912+0.00340492\n",
      "[119]\ttrain-auc:0.651423+0.000693783\ttest-auc:0.635978+0.00342576\n",
      "[120]\ttrain-auc:0.651592+0.000717258\ttest-auc:0.636042+0.0033419\n",
      "[121]\ttrain-auc:0.651731+0.000721082\ttest-auc:0.636049+0.00333189\n",
      "[122]\ttrain-auc:0.651866+0.000705309\ttest-auc:0.636073+0.00337525\n",
      "[123]\ttrain-auc:0.652001+0.000689919\ttest-auc:0.636092+0.00343346\n",
      "[124]\ttrain-auc:0.6521+0.000713084\ttest-auc:0.63613+0.00340678\n",
      "[125]\ttrain-auc:0.65224+0.000686818\ttest-auc:0.6362+0.00342875\n",
      "[126]\ttrain-auc:0.652391+0.000705058\ttest-auc:0.636153+0.0033752\n",
      "[127]\ttrain-auc:0.652477+0.00072742\ttest-auc:0.636193+0.00336207\n"
     ]
    },
    {
     "name": "stdout",
     "output_type": "stream",
     "text": [
      "[128]\ttrain-auc:0.652638+0.000719077\ttest-auc:0.636186+0.00341819\n",
      "[129]\ttrain-auc:0.652792+0.000716649\ttest-auc:0.636261+0.00348203\n",
      "[130]\ttrain-auc:0.65294+0.000709733\ttest-auc:0.636299+0.00356948\n",
      "[131]\ttrain-auc:0.65308+0.00067233\ttest-auc:0.636295+0.00357782\n",
      "[132]\ttrain-auc:0.653183+0.00071683\ttest-auc:0.636284+0.00354092\n",
      "[133]\ttrain-auc:0.653321+0.00066464\ttest-auc:0.636299+0.00349973\n",
      "[134]\ttrain-auc:0.653431+0.000648909\ttest-auc:0.636317+0.00347564\n",
      "[135]\ttrain-auc:0.6536+0.000632328\ttest-auc:0.636281+0.00349651\n",
      "[136]\ttrain-auc:0.653748+0.00060347\ttest-auc:0.636346+0.003523\n",
      "[137]\ttrain-auc:0.653891+0.000587943\ttest-auc:0.636344+0.00358128\n",
      "[138]\ttrain-auc:0.654004+0.000580389\ttest-auc:0.636323+0.00359002\n",
      "[139]\ttrain-auc:0.65411+0.000562306\ttest-auc:0.636377+0.00361583\n",
      "[140]\ttrain-auc:0.654243+0.000555388\ttest-auc:0.636381+0.00358349\n",
      "[141]\ttrain-auc:0.65436+0.000564493\ttest-auc:0.636355+0.00360128\n",
      "[142]\ttrain-auc:0.654478+0.000549762\ttest-auc:0.636343+0.00356803\n",
      "[143]\ttrain-auc:0.654594+0.000540326\ttest-auc:0.636303+0.00359928\n",
      "[144]\ttrain-auc:0.654714+0.000510211\ttest-auc:0.636226+0.00368181\n",
      "[145]\ttrain-auc:0.654823+0.000504049\ttest-auc:0.63627+0.00376456\n",
      "[146]\ttrain-auc:0.654941+0.000519483\ttest-auc:0.636357+0.00378097\n",
      "[147]\ttrain-auc:0.655046+0.000552502\ttest-auc:0.636364+0.0037688\n",
      "[148]\ttrain-auc:0.655172+0.000533978\ttest-auc:0.636352+0.00375141\n",
      "[149]\ttrain-auc:0.655258+0.000519942\ttest-auc:0.63635+0.00377059\n",
      "[150]\ttrain-auc:0.655393+0.000560684\ttest-auc:0.636398+0.00375001\n",
      "[151]\ttrain-auc:0.655462+0.00058004\ttest-auc:0.636391+0.00374028\n",
      "[152]\ttrain-auc:0.655561+0.000575563\ttest-auc:0.636427+0.00371159\n",
      "[153]\ttrain-auc:0.655695+0.000655052\ttest-auc:0.636468+0.00370546\n",
      "[154]\ttrain-auc:0.655814+0.000669271\ttest-auc:0.636516+0.00369845\n",
      "[155]\ttrain-auc:0.655959+0.00064798\ttest-auc:0.636495+0.00369233\n",
      "[156]\ttrain-auc:0.656049+0.000653378\ttest-auc:0.636478+0.00375674\n",
      "[157]\ttrain-auc:0.656183+0.00063891\ttest-auc:0.636474+0.00372468\n",
      "[158]\ttrain-auc:0.656311+0.000692724\ttest-auc:0.636498+0.00368727\n",
      "[159]\ttrain-auc:0.656461+0.000679616\ttest-auc:0.636558+0.00365064\n",
      "[160]\ttrain-auc:0.656559+0.000677764\ttest-auc:0.636581+0.00364843\n",
      "[161]\ttrain-auc:0.656672+0.000684499\ttest-auc:0.636589+0.0036462\n",
      "[162]\ttrain-auc:0.656766+0.000690989\ttest-auc:0.636605+0.00365433\n",
      "[163]\ttrain-auc:0.656876+0.000702965\ttest-auc:0.636607+0.00363874\n",
      "[164]\ttrain-auc:0.65697+0.000713866\ttest-auc:0.636553+0.00361754\n",
      "[165]\ttrain-auc:0.657056+0.000717278\ttest-auc:0.636544+0.00356437\n",
      "[166]\ttrain-auc:0.657131+0.000706419\ttest-auc:0.636562+0.00359795\n",
      "[167]\ttrain-auc:0.657286+0.000685312\ttest-auc:0.6366+0.00360756\n",
      "[168]\ttrain-auc:0.657388+0.000662569\ttest-auc:0.636719+0.0035776\n",
      "[169]\ttrain-auc:0.657504+0.00067816\ttest-auc:0.63674+0.00352716\n",
      "[170]\ttrain-auc:0.657623+0.000624876\ttest-auc:0.636719+0.00356087\n",
      "[171]\ttrain-auc:0.65774+0.000643684\ttest-auc:0.636712+0.00360961\n",
      "[172]\ttrain-auc:0.657844+0.00062705\ttest-auc:0.636668+0.00362415\n",
      "[173]\ttrain-auc:0.657987+0.000628347\ttest-auc:0.636706+0.00361869\n",
      "[174]\ttrain-auc:0.658082+0.000633422\ttest-auc:0.636705+0.00361687\n",
      "[175]\ttrain-auc:0.658212+0.000637354\ttest-auc:0.636687+0.00357602\n",
      "[176]\ttrain-auc:0.658304+0.000638199\ttest-auc:0.636678+0.0035863\n",
      "[177]\ttrain-auc:0.658411+0.00058402\ttest-auc:0.636689+0.00361322\n",
      "[178]\ttrain-auc:0.658493+0.000584781\ttest-auc:0.63668+0.00364543\n",
      "[179]\ttrain-auc:0.658565+0.000595047\ttest-auc:0.636712+0.0036372\n",
      "[180]\ttrain-auc:0.658688+0.000572613\ttest-auc:0.6367+0.00371453\n",
      "[181]\ttrain-auc:0.658814+0.000536266\ttest-auc:0.636718+0.00371965\n",
      "[182]\ttrain-auc:0.658922+0.000520444\ttest-auc:0.636722+0.00372001\n",
      "[183]\ttrain-auc:0.659048+0.000500018\ttest-auc:0.636723+0.0037957\n",
      "[184]\ttrain-auc:0.659171+0.000479063\ttest-auc:0.636688+0.00378474\n",
      "[185]\ttrain-auc:0.659278+0.000489592\ttest-auc:0.636666+0.00374357\n",
      "[186]\ttrain-auc:0.659374+0.000483999\ttest-auc:0.636692+0.00374554\n",
      "[187]\ttrain-auc:0.65947+0.000451805\ttest-auc:0.636709+0.00377957\n",
      "[188]\ttrain-auc:0.659547+0.000463672\ttest-auc:0.636759+0.00380806\n",
      "[189]\ttrain-auc:0.659655+0.000515979\ttest-auc:0.636797+0.00380023\n",
      "[190]\ttrain-auc:0.659733+0.000528653\ttest-auc:0.636834+0.00379461\n",
      "[191]\ttrain-auc:0.659826+0.000560579\ttest-auc:0.636842+0.00375944\n",
      "[192]\ttrain-auc:0.659907+0.000572646\ttest-auc:0.636826+0.00371982\n",
      "[193]\ttrain-auc:0.660005+0.000553375\ttest-auc:0.636821+0.0037119\n",
      "[194]\ttrain-auc:0.660119+0.000546292\ttest-auc:0.63682+0.00369132\n",
      "[195]\ttrain-auc:0.660218+0.000555777\ttest-auc:0.636883+0.00371341\n",
      "[196]\ttrain-auc:0.660333+0.000580322\ttest-auc:0.636991+0.00366815\n",
      "[197]\ttrain-auc:0.660406+0.000607844\ttest-auc:0.636971+0.00368955\n",
      "[198]\ttrain-auc:0.660504+0.000636743\ttest-auc:0.637034+0.00359405\n",
      "[199]\ttrain-auc:0.660609+0.000634679\ttest-auc:0.636984+0.00358599\n",
      "[200]\ttrain-auc:0.660677+0.000650489\ttest-auc:0.637016+0.00353625\n",
      "[201]\ttrain-auc:0.660758+0.000665087\ttest-auc:0.637063+0.00354949\n",
      "[202]\ttrain-auc:0.660838+0.000668898\ttest-auc:0.637051+0.00360981\n",
      "[203]\ttrain-auc:0.660955+0.000674052\ttest-auc:0.637035+0.00362271\n",
      "[204]\ttrain-auc:0.661046+0.000687867\ttest-auc:0.637076+0.00359059\n",
      "[205]\ttrain-auc:0.661128+0.000664867\ttest-auc:0.637049+0.00359552\n",
      "[206]\ttrain-auc:0.661213+0.000676827\ttest-auc:0.637088+0.00365062\n",
      "[207]\ttrain-auc:0.661297+0.000678306\ttest-auc:0.637132+0.00364581\n",
      "[208]\ttrain-auc:0.66141+0.000657039\ttest-auc:0.637155+0.00362754\n",
      "[209]\ttrain-auc:0.661493+0.000656493\ttest-auc:0.637152+0.00357589\n",
      "[210]\ttrain-auc:0.661582+0.000645852\ttest-auc:0.637157+0.00358951\n",
      "[211]\ttrain-auc:0.661671+0.000629053\ttest-auc:0.637185+0.00360917\n",
      "[212]\ttrain-auc:0.661768+0.000622373\ttest-auc:0.637187+0.00362131\n",
      "[213]\ttrain-auc:0.661859+0.000624593\ttest-auc:0.637204+0.00356712\n",
      "[214]\ttrain-auc:0.661917+0.000614562\ttest-auc:0.637204+0.00355462\n",
      "[215]\ttrain-auc:0.661967+0.000603629\ttest-auc:0.63721+0.00357005\n",
      "[216]\ttrain-auc:0.662032+0.000631105\ttest-auc:0.63723+0.00360133\n",
      "[217]\ttrain-auc:0.662112+0.000636309\ttest-auc:0.637219+0.00357437\n",
      "[218]\ttrain-auc:0.662189+0.000609484\ttest-auc:0.637208+0.00357617\n",
      "[219]\ttrain-auc:0.66225+0.000590518\ttest-auc:0.637168+0.00357206\n",
      "[220]\ttrain-auc:0.6624+0.000606338\ttest-auc:0.637263+0.00356172\n",
      "[221]\ttrain-auc:0.662479+0.000607285\ttest-auc:0.637283+0.00360795\n",
      "[222]\ttrain-auc:0.66253+0.000592507\ttest-auc:0.637266+0.00362041\n",
      "[223]\ttrain-auc:0.662595+0.000612642\ttest-auc:0.637275+0.00356308\n",
      "[224]\ttrain-auc:0.662668+0.000577312\ttest-auc:0.637291+0.00354581\n",
      "[225]\ttrain-auc:0.662775+0.000556476\ttest-auc:0.637301+0.00352761\n",
      "[226]\ttrain-auc:0.662908+0.000508652\ttest-auc:0.637303+0.00359241\n",
      "[227]\ttrain-auc:0.662985+0.000472487\ttest-auc:0.637306+0.00362945\n",
      "[228]\ttrain-auc:0.663141+0.00046104\ttest-auc:0.637277+0.00368201\n",
      "[229]\ttrain-auc:0.663266+0.000438994\ttest-auc:0.637285+0.00367675\n",
      "[230]\ttrain-auc:0.663341+0.000450367\ttest-auc:0.637253+0.00369398\n",
      "[231]\ttrain-auc:0.663421+0.000454506\ttest-auc:0.63729+0.00370125\n",
      "[232]\ttrain-auc:0.663534+0.000454356\ttest-auc:0.637326+0.00370655\n",
      "[233]\ttrain-auc:0.663602+0.000450234\ttest-auc:0.637293+0.00369763\n",
      "[234]\ttrain-auc:0.663698+0.000458395\ttest-auc:0.637299+0.00373861\n",
      "[235]\ttrain-auc:0.66378+0.000454944\ttest-auc:0.637303+0.0037316\n",
      "[236]\ttrain-auc:0.663895+0.00043903\ttest-auc:0.637293+0.00372648\n",
      "[237]\ttrain-auc:0.663985+0.000415976\ttest-auc:0.637244+0.00375701\n",
      "[238]\ttrain-auc:0.664056+0.000401571\ttest-auc:0.63725+0.00377698\n",
      "[239]\ttrain-auc:0.664118+0.000391953\ttest-auc:0.637223+0.00377264\n",
      "[240]\ttrain-auc:0.664202+0.000392695\ttest-auc:0.637178+0.00377299\n",
      "[241]\ttrain-auc:0.664266+0.00041579\ttest-auc:0.637165+0.0037973\n",
      "[242]\ttrain-auc:0.664357+0.000404042\ttest-auc:0.637137+0.0038001\n",
      "[243]\ttrain-auc:0.664438+0.000419345\ttest-auc:0.63712+0.00380654\n",
      "[244]\ttrain-auc:0.664509+0.000411326\ttest-auc:0.63714+0.00382255\n",
      "[245]\ttrain-auc:0.664637+0.000405565\ttest-auc:0.637145+0.00386918\n",
      "[246]\ttrain-auc:0.664737+0.000407576\ttest-auc:0.637172+0.0038906\n",
      "[247]\ttrain-auc:0.664777+0.000386463\ttest-auc:0.637156+0.00384763\n",
      "[248]\ttrain-auc:0.664863+0.000390741\ttest-auc:0.637173+0.00379204\n",
      "[249]\ttrain-auc:0.664981+0.000400461\ttest-auc:0.637201+0.00384493\n",
      "[250]\ttrain-auc:0.665078+0.000395234\ttest-auc:0.6372+0.00382802\n",
      "[251]\ttrain-auc:0.665197+0.000358659\ttest-auc:0.637207+0.00383205\n",
      "[252]\ttrain-auc:0.665292+0.000357681\ttest-auc:0.637186+0.00385888\n",
      "[253]\ttrain-auc:0.665359+0.000364196\ttest-auc:0.637184+0.00383496\n"
     ]
    },
    {
     "name": "stdout",
     "output_type": "stream",
     "text": [
      "[254]\ttrain-auc:0.665446+0.000378094\ttest-auc:0.637177+0.00386687\n",
      "[255]\ttrain-auc:0.66551+0.000359059\ttest-auc:0.63721+0.00380735\n",
      "[256]\ttrain-auc:0.665611+0.00041509\ttest-auc:0.637235+0.00376262\n",
      "[257]\ttrain-auc:0.665706+0.000407312\ttest-auc:0.637249+0.00375908\n",
      "[258]\ttrain-auc:0.66579+0.000395714\ttest-auc:0.637253+0.0037515\n",
      "[259]\ttrain-auc:0.665892+0.000409631\ttest-auc:0.63722+0.00372603\n",
      "[260]\ttrain-auc:0.666013+0.000402772\ttest-auc:0.637244+0.00370251\n",
      "[261]\ttrain-auc:0.66607+0.000406502\ttest-auc:0.637238+0.00365584\n",
      "[262]\ttrain-auc:0.666172+0.00039017\ttest-auc:0.637201+0.00362841\n",
      "[263]\ttrain-auc:0.666256+0.000366524\ttest-auc:0.637168+0.00363847\n",
      "[264]\ttrain-auc:0.666351+0.000344351\ttest-auc:0.637191+0.00363266\n",
      "[265]\ttrain-auc:0.666431+0.000330321\ttest-auc:0.637132+0.00359435\n",
      "[266]\ttrain-auc:0.66653+0.000323213\ttest-auc:0.637152+0.00361423\n",
      "[267]\ttrain-auc:0.66662+0.000334414\ttest-auc:0.637204+0.00361327\n",
      "[268]\ttrain-auc:0.666664+0.000348371\ttest-auc:0.637189+0.00360207\n",
      "[269]\ttrain-auc:0.666772+0.000344828\ttest-auc:0.637225+0.00352934\n",
      "[270]\ttrain-auc:0.66684+0.000334436\ttest-auc:0.637221+0.00355965\n",
      "[271]\ttrain-auc:0.666902+0.000352129\ttest-auc:0.637238+0.00356095\n",
      "[272]\ttrain-auc:0.666994+0.000402977\ttest-auc:0.637237+0.00357325\n",
      "[273]\ttrain-auc:0.667076+0.000414947\ttest-auc:0.637245+0.00354716\n",
      "[274]\ttrain-auc:0.667167+0.000409456\ttest-auc:0.637233+0.00355903\n",
      "[275]\ttrain-auc:0.667238+0.000396705\ttest-auc:0.637251+0.0035426\n",
      "[276]\ttrain-auc:0.667326+0.000399239\ttest-auc:0.637273+0.00359107\n",
      "[277]\ttrain-auc:0.667403+0.000363156\ttest-auc:0.637234+0.00356202\n",
      "[278]\ttrain-auc:0.6675+0.000355731\ttest-auc:0.637229+0.00349754\n",
      "[279]\ttrain-auc:0.66757+0.000381271\ttest-auc:0.637271+0.00343548\n",
      "[280]\ttrain-auc:0.667668+0.000356966\ttest-auc:0.637254+0.0034055\n",
      "[281]\ttrain-auc:0.667744+0.000334908\ttest-auc:0.637223+0.00338464\n"
     ]
    },
    {
     "name": "stderr",
     "output_type": "stream",
     "text": [
      "C:\\Users\\wogur\\Anaconda3\\lib\\site-packages\\sklearn\\preprocessing\\label.py:151: DeprecationWarning: The truth value of an empty array is ambiguous. Returning False, but in future this will result in an error. Use `array.size > 0` to check that an array is not empty.\n",
      "  if diff:\n",
      "C:\\Users\\wogur\\Anaconda3\\lib\\site-packages\\sklearn\\preprocessing\\label.py:151: DeprecationWarning: The truth value of an empty array is ambiguous. Returning False, but in future this will result in an error. Use `array.size > 0` to check that an array is not empty.\n",
      "  if diff:\n"
     ]
    },
    {
     "name": "stdout",
     "output_type": "stream",
     "text": [
      "\n",
      "Model Report[train data]\n",
      "Accuracy : 0.9637\n",
      "AUC Score (Train): 0.659415\n",
      "\n",
      "Model Report[validation data]\n",
      "Accuracy : 0.9633\n",
      "AUC Score (Train): 0.642482\n",
      "Gini: 0.13726, Max Gini: 0.48166, Normlization Gini: 0.28496\n"
     ]
    },
    {
     "data": {
      "image/png": "[encoded data removed]",
      "text/plain": [
       "<Figure size 720x3600 with 1 Axes>"
      ]
     },
     "metadata": {},
     "output_type": "display_data"
    },
    {
     "name": "stdout",
     "output_type": "stream",
     "text": [
      "Wall time: 1min 22s\n"
     ]
    }
   ],
   "source": [
    "%%time\n",
    "#Choose all predictors except target & IDcols\n",
    "xgb2 = xgb.XGBClassifier(\n",
    "    learning_rate =0.1,\n",
    "    n_estimators=1000,\n",
    "    max_depth=3,\n",
    "    min_child_weight=1,\n",
    "    gamma=0,\n",
    "    subsample=0.8,\n",
    "    colsample_bytree=0.8,\n",
    "    objective= 'gpu:binary:logistic',\n",
    "    nthread=4,\n",
    "    scale_pos_weight=1,\n",
    "    tree_method='gpu_hist',\n",
    "    predictor='gpu_predictor',\n",
    "    seed=1223)\n",
    "alg2 = modelfit(xgb2, train, val)"
   ]
  },
  {
   "cell_type": "markdown",
   "metadata": {},
   "source": [
    "# Step2"
   ]
  },
  {
   "cell_type": "code",
   "execution_count": 19,
   "metadata": {},
   "outputs": [
    {
     "name": "stdout",
     "output_type": "stream",
     "text": [
      "Fitting 5 folds for each of 5 candidates, totalling 25 fits\n"
     ]
    },
    {
     "name": "stderr",
     "output_type": "stream",
     "text": [
      "[Parallel(n_jobs=4)]: Done  25 out of  25 | elapsed:  1.0min finished\n"
     ]
    },
    {
     "name": "stdout",
     "output_type": "stream",
     "text": [
      "Wall time: 1min 7s\n"
     ]
    }
   ],
   "source": [
    "%%time\n",
    "param_test3 = {\n",
    " 'gamma':[i/10.0 for i in range(0,5)]\n",
    "}\n",
    "xgb_param3 = {\n",
    "    'learning_rate':0.1, \n",
    "    'n_estimators':200,\n",
    "    'max_depth':3, \n",
    "    'min_child_weight':1,\n",
    "    'subsample':0.8, \n",
    "    'colsample_bytree':0.8,\n",
    "    'objective': 'gpu:binary:logistic',\n",
    "    'nthread':4,\n",
    "    'scale_pos_weight':1, \n",
    "    'tree_method':'gpu_hist', \n",
    "    'predictor':'gpu_predictor'\n",
    "}\n",
    "gsearch3 = param_tune(train, param_test3, xgb_param3)"
   ]
  },
  {
   "cell_type": "code",
   "execution_count": 20,
   "metadata": {},
   "outputs": [
    {
     "name": "stderr",
     "output_type": "stream",
     "text": [
      "C:\\Users\\wogur\\Anaconda3\\lib\\site-packages\\sklearn\\model_selection\\_search.py:761: DeprecationWarning: The grid_scores_ attribute was deprecated in version 0.18 in favor of the more elaborate cv_results_ attribute. The grid_scores_ attribute will not be available from 0.20\n",
      "  DeprecationWarning)\n"
     ]
    },
    {
     "data": {
      "text/plain": [
       "([mean: 0.63732, std: 0.00341, params: {'gamma': 0.0},\n",
       "  mean: 0.63732, std: 0.00341, params: {'gamma': 0.1},\n",
       "  mean: 0.63732, std: 0.00341, params: {'gamma': 0.2},\n",
       "  mean: 0.63732, std: 0.00341, params: {'gamma': 0.3},\n",
       "  mean: 0.63732, std: 0.00341, params: {'gamma': 0.4}],\n",
       " {'gamma': 0.0},\n",
       " 0.6373187691832332)"
      ]
     },
     "execution_count": 20,
     "metadata": {},
     "output_type": "execute_result"
    }
   ],
   "source": [
    "gsearch3.grid_scores_, gsearch3.best_params_, gsearch3.best_score_"
   ]
  },
  {
   "cell_type": "markdown",
   "metadata": {},
   "source": [
    "# Step3"
   ]
  },
  {
   "cell_type": "code",
   "execution_count": 21,
   "metadata": {},
   "outputs": [
    {
     "name": "stdout",
     "output_type": "stream",
     "text": [
      "Fitting 5 folds for each of 16 candidates, totalling 80 fits\n"
     ]
    },
    {
     "name": "stderr",
     "output_type": "stream",
     "text": [
      "[Parallel(n_jobs=4)]: Done  33 tasks      | elapsed:  1.4min\n",
      "[Parallel(n_jobs=4)]: Done  80 out of  80 | elapsed:  3.4min finished\n"
     ]
    },
    {
     "name": "stdout",
     "output_type": "stream",
     "text": [
      "Wall time: 3min 27s\n"
     ]
    }
   ],
   "source": [
    "%%time\n",
    "param_test4 = {\n",
    "    'subsample' : [i/10.0 for i in range(6,10)],\n",
    "    'colsample_bytree':[i/10.0 for i in range(6,10)]\n",
    "}\n",
    "xgb_param4 = {\n",
    "    'learning_rate':0.1, \n",
    "    'n_estimators':200,\n",
    "    'max_depth':3, \n",
    "    'min_child_weight':1,\n",
    "    'gamma':0,\n",
    "    'objective':'gpu:binary:logistic',\n",
    "    'nthread':4,\n",
    "    'scale_pos_weight':1, \n",
    "    'tree_method':'gpu_hist', \n",
    "    'predictor':'gpu_predictor'\n",
    "}\n",
    "gsearch4 = param_tune(train, param_test4, xgb_param4)"
   ]
  },
  {
   "cell_type": "code",
   "execution_count": 22,
   "metadata": {},
   "outputs": [
    {
     "name": "stderr",
     "output_type": "stream",
     "text": [
      "C:\\Users\\wogur\\Anaconda3\\lib\\site-packages\\sklearn\\model_selection\\_search.py:761: DeprecationWarning: The grid_scores_ attribute was deprecated in version 0.18 in favor of the more elaborate cv_results_ attribute. The grid_scores_ attribute will not be available from 0.20\n",
      "  DeprecationWarning)\n"
     ]
    },
    {
     "data": {
      "text/plain": [
       "([mean: 0.63743, std: 0.00336, params: {'colsample_bytree': 0.6, 'subsample': 0.6},\n",
       "  mean: 0.63713, std: 0.00299, params: {'colsample_bytree': 0.6, 'subsample': 0.7},\n",
       "  mean: 0.63697, std: 0.00328, params: {'colsample_bytree': 0.6, 'subsample': 0.8},\n",
       "  mean: 0.63696, std: 0.00336, params: {'colsample_bytree': 0.6, 'subsample': 0.9},\n",
       "  mean: 0.63765, std: 0.00316, params: {'colsample_bytree': 0.7, 'subsample': 0.6},\n",
       "  mean: 0.63749, std: 0.00306, params: {'colsample_bytree': 0.7, 'subsample': 0.7},\n",
       "  mean: 0.63643, std: 0.00300, params: {'colsample_bytree': 0.7, 'subsample': 0.8},\n",
       "  mean: 0.63746, std: 0.00294, params: {'colsample_bytree': 0.7, 'subsample': 0.9},\n",
       "  mean: 0.63760, std: 0.00282, params: {'colsample_bytree': 0.8, 'subsample': 0.6},\n",
       "  mean: 0.63739, std: 0.00283, params: {'colsample_bytree': 0.8, 'subsample': 0.7},\n",
       "  mean: 0.63732, std: 0.00341, params: {'colsample_bytree': 0.8, 'subsample': 0.8},\n",
       "  mean: 0.63709, std: 0.00332, params: {'colsample_bytree': 0.8, 'subsample': 0.9},\n",
       "  mean: 0.63736, std: 0.00332, params: {'colsample_bytree': 0.9, 'subsample': 0.6},\n",
       "  mean: 0.63735, std: 0.00333, params: {'colsample_bytree': 0.9, 'subsample': 0.7},\n",
       "  mean: 0.63703, std: 0.00265, params: {'colsample_bytree': 0.9, 'subsample': 0.8},\n",
       "  mean: 0.63722, std: 0.00287, params: {'colsample_bytree': 0.9, 'subsample': 0.9}],\n",
       " {'colsample_bytree': 0.7, 'subsample': 0.6},\n",
       " 0.6376481781736316)"
      ]
     },
     "execution_count": 22,
     "metadata": {},
     "output_type": "execute_result"
    }
   ],
   "source": [
    "gsearch4.grid_scores_, gsearch4.best_params_, gsearch4.best_score_"
   ]
  },
  {
   "cell_type": "code",
   "execution_count": 23,
   "metadata": {
    "scrolled": true
   },
   "outputs": [
    {
     "name": "stdout",
     "output_type": "stream",
     "text": [
      "[0]\ttrain-auc:0.581926+0.0024909\ttest-auc:0.579901+0.00663395\n",
      "[1]\ttrain-auc:0.603022+0.00431451\ttest-auc:0.598451+0.00562538\n",
      "[2]\ttrain-auc:0.608299+0.00149707\ttest-auc:0.604574+0.00653231\n",
      "[3]\ttrain-auc:0.611262+0.00257031\ttest-auc:0.6076+0.00555422\n",
      "[4]\ttrain-auc:0.61329+0.00146415\ttest-auc:0.60968+0.00453889\n",
      "[5]\ttrain-auc:0.614373+0.00108137\ttest-auc:0.611003+0.00629852\n",
      "[6]\ttrain-auc:0.615973+0.00107202\ttest-auc:0.612595+0.00650414\n",
      "[7]\ttrain-auc:0.617109+0.000820082\ttest-auc:0.613053+0.00684229\n",
      "[8]\ttrain-auc:0.61785+0.000713518\ttest-auc:0.613631+0.00608164\n",
      "[9]\ttrain-auc:0.617741+0.000691404\ttest-auc:0.613371+0.00625263\n",
      "[10]\ttrain-auc:0.618185+0.000579146\ttest-auc:0.61354+0.00570108\n",
      "[11]\ttrain-auc:0.619369+0.000668492\ttest-auc:0.61456+0.00593343\n",
      "[12]\ttrain-auc:0.619365+0.000630717\ttest-auc:0.614275+0.00507524\n",
      "[13]\ttrain-auc:0.619108+0.000663058\ttest-auc:0.613884+0.00545828\n",
      "[14]\ttrain-auc:0.619451+0.000350744\ttest-auc:0.614181+0.00513495\n",
      "[15]\ttrain-auc:0.620254+0.000747933\ttest-auc:0.615062+0.00476845\n",
      "[16]\ttrain-auc:0.620493+0.00104629\ttest-auc:0.615357+0.00470144\n",
      "[17]\ttrain-auc:0.620514+0.00130077\ttest-auc:0.615242+0.00427465\n",
      "[18]\ttrain-auc:0.62118+0.00177206\ttest-auc:0.615925+0.00365803\n",
      "[19]\ttrain-auc:0.621562+0.0018771\ttest-auc:0.616595+0.0034999\n",
      "[20]\ttrain-auc:0.621743+0.00196543\ttest-auc:0.616789+0.00354149\n",
      "[21]\ttrain-auc:0.621774+0.00214834\ttest-auc:0.616804+0.00344258\n",
      "[22]\ttrain-auc:0.621974+0.00190768\ttest-auc:0.616899+0.00375827\n",
      "[23]\ttrain-auc:0.622196+0.00148536\ttest-auc:0.616851+0.00414685\n",
      "[24]\ttrain-auc:0.622679+0.00163916\ttest-auc:0.617369+0.00427009\n",
      "[25]\ttrain-auc:0.62295+0.00150621\ttest-auc:0.617526+0.00412475\n",
      "[26]\ttrain-auc:0.623439+0.00159197\ttest-auc:0.618146+0.00405651\n",
      "[27]\ttrain-auc:0.623582+0.0015201\ttest-auc:0.618279+0.00411032\n",
      "[28]\ttrain-auc:0.624204+0.00124969\ttest-auc:0.618856+0.00463291\n",
      "[29]\ttrain-auc:0.624652+0.00120982\ttest-auc:0.619072+0.00445907\n",
      "[30]\ttrain-auc:0.624986+0.00133864\ttest-auc:0.619373+0.00471337\n",
      "[31]\ttrain-auc:0.625297+0.00130925\ttest-auc:0.619709+0.00493955\n",
      "[32]\ttrain-auc:0.625944+0.00105846\ttest-auc:0.62051+0.00472462\n",
      "[33]\ttrain-auc:0.626321+0.00108039\ttest-auc:0.620887+0.004684\n",
      "[34]\ttrain-auc:0.626644+0.00103842\ttest-auc:0.620948+0.00479781\n",
      "[35]\ttrain-auc:0.626983+0.00105662\ttest-auc:0.621188+0.00516537\n",
      "[36]\ttrain-auc:0.627503+0.00109686\ttest-auc:0.621529+0.00505613\n",
      "[37]\ttrain-auc:0.628005+0.000929835\ttest-auc:0.621884+0.0051775\n",
      "[38]\ttrain-auc:0.628561+0.000785588\ttest-auc:0.622206+0.00519064\n",
      "[39]\ttrain-auc:0.629135+0.000801355\ttest-auc:0.622845+0.00507389\n",
      "[40]\ttrain-auc:0.629666+0.000752861\ttest-auc:0.623134+0.00509066\n",
      "[41]\ttrain-auc:0.629957+0.000917599\ttest-auc:0.623348+0.00506252\n",
      "[42]\ttrain-auc:0.630514+0.00071016\ttest-auc:0.623857+0.00494001\n",
      "[43]\ttrain-auc:0.631046+0.000624852\ttest-auc:0.624124+0.00480944\n",
      "[44]\ttrain-auc:0.631494+0.000720777\ttest-auc:0.624257+0.00480835\n",
      "[45]\ttrain-auc:0.6319+0.000757643\ttest-auc:0.62471+0.00486443\n",
      "[46]\ttrain-auc:0.632455+0.000755256\ttest-auc:0.6252+0.0046606\n",
      "[47]\ttrain-auc:0.632915+0.00104168\ttest-auc:0.625534+0.00445289\n",
      "[48]\ttrain-auc:0.63328+0.00111426\ttest-auc:0.625938+0.0044698\n",
      "[49]\ttrain-auc:0.633615+0.00107113\ttest-auc:0.626109+0.00439338\n",
      "[50]\ttrain-auc:0.633994+0.00119304\ttest-auc:0.626346+0.00411315\n",
      "[51]\ttrain-auc:0.634403+0.001242\ttest-auc:0.626562+0.00420068\n",
      "[52]\ttrain-auc:0.635025+0.00108373\ttest-auc:0.626796+0.00447588\n",
      "[53]\ttrain-auc:0.635584+0.0010483\ttest-auc:0.627314+0.00453373\n",
      "[54]\ttrain-auc:0.636031+0.00110686\ttest-auc:0.627536+0.00446415\n",
      "[55]\ttrain-auc:0.636326+0.00107616\ttest-auc:0.627621+0.00447288\n",
      "[56]\ttrain-auc:0.63674+0.000957799\ttest-auc:0.627857+0.00456844\n",
      "[57]\ttrain-auc:0.637224+0.000990902\ttest-auc:0.628324+0.00451462\n",
      "[58]\ttrain-auc:0.637481+0.000968244\ttest-auc:0.628502+0.0045612\n",
      "[59]\ttrain-auc:0.63793+0.00103974\ttest-auc:0.628713+0.00449758\n",
      "[60]\ttrain-auc:0.638236+0.000894737\ttest-auc:0.62894+0.00451707\n",
      "[61]\ttrain-auc:0.638678+0.000823028\ttest-auc:0.629254+0.00450803\n",
      "[62]\ttrain-auc:0.638974+0.00081345\ttest-auc:0.629504+0.0044331\n",
      "[63]\ttrain-auc:0.6392+0.000856408\ttest-auc:0.629639+0.0042861\n",
      "[64]\ttrain-auc:0.639544+0.000797608\ttest-auc:0.629866+0.00438737\n",
      "[65]\ttrain-auc:0.639847+0.000744949\ttest-auc:0.629939+0.00433696\n",
      "[66]\ttrain-auc:0.640121+0.000922341\ttest-auc:0.629959+0.00419353\n",
      "[67]\ttrain-auc:0.640287+0.000889806\ttest-auc:0.630062+0.00413441\n",
      "[68]\ttrain-auc:0.640661+0.000963475\ttest-auc:0.630364+0.00411969\n",
      "[69]\ttrain-auc:0.640902+0.00102511\ttest-auc:0.630507+0.00399893\n",
      "[70]\ttrain-auc:0.641169+0.0010298\ttest-auc:0.63074+0.00407348\n",
      "[71]\ttrain-auc:0.641419+0.00106384\ttest-auc:0.630858+0.00399971\n",
      "[72]\ttrain-auc:0.641625+0.00105677\ttest-auc:0.63097+0.00405759\n",
      "[73]\ttrain-auc:0.641924+0.00101088\ttest-auc:0.631076+0.0041925\n",
      "[74]\ttrain-auc:0.64215+0.00105455\ttest-auc:0.631233+0.00420259\n",
      "[75]\ttrain-auc:0.642392+0.00101534\ttest-auc:0.631413+0.0042166\n",
      "[76]\ttrain-auc:0.642621+0.000991666\ttest-auc:0.631449+0.00414006\n",
      "[77]\ttrain-auc:0.642893+0.000922956\ttest-auc:0.631721+0.00421521\n",
      "[78]\ttrain-auc:0.64309+0.000882231\ttest-auc:0.631797+0.00415223\n",
      "[79]\ttrain-auc:0.64331+0.000969883\ttest-auc:0.631959+0.00408\n",
      "[80]\ttrain-auc:0.643478+0.000950419\ttest-auc:0.632018+0.00408534\n",
      "[81]\ttrain-auc:0.643688+0.000917257\ttest-auc:0.632179+0.00405867\n",
      "[82]\ttrain-auc:0.643866+0.000825146\ttest-auc:0.632328+0.00416968\n",
      "[83]\ttrain-auc:0.644063+0.000827009\ttest-auc:0.632444+0.00410598\n",
      "[84]\ttrain-auc:0.64429+0.000790671\ttest-auc:0.632466+0.00415216\n",
      "[85]\ttrain-auc:0.644498+0.000826434\ttest-auc:0.632535+0.00407424\n",
      "[86]\ttrain-auc:0.644741+0.000843889\ttest-auc:0.63275+0.00403764\n",
      "[87]\ttrain-auc:0.644888+0.000822212\ttest-auc:0.632816+0.00400653\n",
      "[88]\ttrain-auc:0.645105+0.00080755\ttest-auc:0.632859+0.0039856\n",
      "[89]\ttrain-auc:0.645273+0.000797493\ttest-auc:0.632912+0.00406285\n",
      "[90]\ttrain-auc:0.645431+0.00082537\ttest-auc:0.632946+0.00404849\n",
      "[91]\ttrain-auc:0.645628+0.000872643\ttest-auc:0.633048+0.00398329\n",
      "[92]\ttrain-auc:0.645867+0.000821719\ttest-auc:0.633202+0.00399379\n",
      "[93]\ttrain-auc:0.646067+0.000739635\ttest-auc:0.633298+0.00409944\n",
      "[94]\ttrain-auc:0.64623+0.000784239\ttest-auc:0.63333+0.00407301\n",
      "[95]\ttrain-auc:0.646445+0.000787473\ttest-auc:0.633438+0.00404502\n",
      "[96]\ttrain-auc:0.646566+0.000783889\ttest-auc:0.63349+0.00402831\n",
      "[97]\ttrain-auc:0.646792+0.000784245\ttest-auc:0.633566+0.00407104\n",
      "[98]\ttrain-auc:0.646916+0.000744225\ttest-auc:0.633594+0.00400563\n",
      "[99]\ttrain-auc:0.647045+0.000768427\ttest-auc:0.633652+0.00396384\n",
      "[100]\ttrain-auc:0.647188+0.000782233\ttest-auc:0.633708+0.00392805\n",
      "[101]\ttrain-auc:0.647349+0.000816067\ttest-auc:0.633757+0.00392577\n",
      "[102]\ttrain-auc:0.647478+0.000844185\ttest-auc:0.633813+0.00389848\n",
      "[103]\ttrain-auc:0.647629+0.000863381\ttest-auc:0.633858+0.0038847\n",
      "[104]\ttrain-auc:0.647777+0.000867147\ttest-auc:0.633927+0.00389469\n",
      "[105]\ttrain-auc:0.647991+0.000808144\ttest-auc:0.634026+0.00388833\n",
      "[106]\ttrain-auc:0.648142+0.000825331\ttest-auc:0.634042+0.00385065\n",
      "[107]\ttrain-auc:0.648361+0.000802\ttest-auc:0.634195+0.00391155\n",
      "[108]\ttrain-auc:0.648478+0.000804084\ttest-auc:0.634286+0.00390247\n",
      "[109]\ttrain-auc:0.648666+0.000791433\ttest-auc:0.63433+0.00396102\n",
      "[110]\ttrain-auc:0.648795+0.000768654\ttest-auc:0.634365+0.00395841\n",
      "[111]\ttrain-auc:0.648918+0.000722302\ttest-auc:0.634371+0.0039686\n",
      "[112]\ttrain-auc:0.649089+0.000774003\ttest-auc:0.634419+0.00394763\n",
      "[113]\ttrain-auc:0.649251+0.000746725\ttest-auc:0.634401+0.00396144\n",
      "[114]\ttrain-auc:0.649409+0.000683725\ttest-auc:0.634529+0.00405947\n",
      "[115]\ttrain-auc:0.649499+0.000712753\ttest-auc:0.634569+0.00408813\n",
      "[116]\ttrain-auc:0.649638+0.000685626\ttest-auc:0.634667+0.00416151\n",
      "[117]\ttrain-auc:0.649776+0.000698653\ttest-auc:0.634696+0.00416849\n",
      "[118]\ttrain-auc:0.649942+0.000645865\ttest-auc:0.634794+0.00418574\n",
      "[119]\ttrain-auc:0.650084+0.000621933\ttest-auc:0.63475+0.00423945\n",
      "[120]\ttrain-auc:0.650305+0.000615714\ttest-auc:0.634816+0.00428016\n",
      "[121]\ttrain-auc:0.650407+0.000620055\ttest-auc:0.634877+0.00425315\n",
      "[122]\ttrain-auc:0.650549+0.00064833\ttest-auc:0.634989+0.00421924\n",
      "[123]\ttrain-auc:0.650695+0.000743443\ttest-auc:0.635001+0.00421373\n",
      "[124]\ttrain-auc:0.650836+0.000746251\ttest-auc:0.635076+0.00419953\n",
      "[125]\ttrain-auc:0.650977+0.00074018\ttest-auc:0.635128+0.00414887\n",
      "[126]\ttrain-auc:0.65113+0.000771384\ttest-auc:0.63524+0.0040364\n",
      "[127]\ttrain-auc:0.651255+0.000781077\ttest-auc:0.6353+0.00396514\n"
     ]
    },
    {
     "name": "stdout",
     "output_type": "stream",
     "text": [
      "[128]\ttrain-auc:0.651397+0.000808372\ttest-auc:0.635407+0.00399489\n",
      "[129]\ttrain-auc:0.651546+0.000823679\ttest-auc:0.635481+0.00398022\n",
      "[130]\ttrain-auc:0.651723+0.000853622\ttest-auc:0.635569+0.00397114\n",
      "[131]\ttrain-auc:0.6519+0.000835483\ttest-auc:0.635574+0.00390819\n",
      "[132]\ttrain-auc:0.652013+0.000789419\ttest-auc:0.635596+0.00391771\n",
      "[133]\ttrain-auc:0.652168+0.000748573\ttest-auc:0.635576+0.00395182\n",
      "[134]\ttrain-auc:0.652258+0.000725447\ttest-auc:0.635568+0.00396023\n",
      "[135]\ttrain-auc:0.652402+0.00074577\ttest-auc:0.635544+0.00392584\n",
      "[136]\ttrain-auc:0.652485+0.000761269\ttest-auc:0.635543+0.00395651\n",
      "[137]\ttrain-auc:0.652673+0.000769484\ttest-auc:0.635522+0.00396177\n",
      "[138]\ttrain-auc:0.652794+0.000754252\ttest-auc:0.635571+0.00399136\n",
      "[139]\ttrain-auc:0.652902+0.000748353\ttest-auc:0.635544+0.00401459\n",
      "[140]\ttrain-auc:0.653044+0.00072943\ttest-auc:0.635576+0.00408904\n",
      "[141]\ttrain-auc:0.653174+0.000765231\ttest-auc:0.635576+0.00415919\n",
      "[142]\ttrain-auc:0.653276+0.000772482\ttest-auc:0.635585+0.00418091\n",
      "[143]\ttrain-auc:0.653426+0.000805118\ttest-auc:0.635666+0.00415283\n",
      "[144]\ttrain-auc:0.653568+0.000828445\ttest-auc:0.635735+0.00413313\n",
      "[145]\ttrain-auc:0.653691+0.000867381\ttest-auc:0.635768+0.00415791\n",
      "[146]\ttrain-auc:0.65383+0.000826278\ttest-auc:0.635831+0.00421669\n",
      "[147]\ttrain-auc:0.65392+0.000828548\ttest-auc:0.635857+0.00424856\n",
      "[148]\ttrain-auc:0.654017+0.000837805\ttest-auc:0.635909+0.00421389\n",
      "[149]\ttrain-auc:0.65413+0.000819569\ttest-auc:0.635885+0.00419353\n",
      "[150]\ttrain-auc:0.654265+0.000823779\ttest-auc:0.635897+0.00414874\n",
      "[151]\ttrain-auc:0.654359+0.000834441\ttest-auc:0.635865+0.00419259\n",
      "[152]\ttrain-auc:0.654469+0.000811119\ttest-auc:0.635804+0.00420985\n",
      "[153]\ttrain-auc:0.654602+0.000814163\ttest-auc:0.635851+0.00424533\n",
      "[154]\ttrain-auc:0.65472+0.000832678\ttest-auc:0.635816+0.00426299\n",
      "[155]\ttrain-auc:0.654843+0.000793505\ttest-auc:0.635786+0.00424065\n",
      "[156]\ttrain-auc:0.654955+0.000811154\ttest-auc:0.635863+0.00431003\n",
      "[157]\ttrain-auc:0.655063+0.000800192\ttest-auc:0.635886+0.00430669\n",
      "[158]\ttrain-auc:0.655199+0.0007725\ttest-auc:0.636005+0.00437198\n",
      "[159]\ttrain-auc:0.655313+0.000796079\ttest-auc:0.636049+0.00436998\n",
      "[160]\ttrain-auc:0.655437+0.000778967\ttest-auc:0.636027+0.00436305\n",
      "[161]\ttrain-auc:0.655563+0.000788022\ttest-auc:0.636042+0.00437521\n",
      "[162]\ttrain-auc:0.655639+0.000773449\ttest-auc:0.636014+0.00437696\n",
      "[163]\ttrain-auc:0.655731+0.000765671\ttest-auc:0.636034+0.0043478\n",
      "[164]\ttrain-auc:0.655832+0.000793422\ttest-auc:0.636019+0.00434413\n",
      "[165]\ttrain-auc:0.655916+0.000794378\ttest-auc:0.63604+0.00432992\n",
      "[166]\ttrain-auc:0.656001+0.000802471\ttest-auc:0.636042+0.00431977\n",
      "[167]\ttrain-auc:0.656087+0.000820454\ttest-auc:0.636066+0.00430501\n",
      "[168]\ttrain-auc:0.656138+0.000827705\ttest-auc:0.636142+0.00428195\n",
      "[169]\ttrain-auc:0.656255+0.000914372\ttest-auc:0.636162+0.00418744\n",
      "[170]\ttrain-auc:0.656354+0.000892424\ttest-auc:0.636213+0.00421629\n",
      "[171]\ttrain-auc:0.65643+0.000901057\ttest-auc:0.636224+0.004199\n",
      "[172]\ttrain-auc:0.656525+0.000907268\ttest-auc:0.636243+0.00418151\n",
      "[173]\ttrain-auc:0.656627+0.000889476\ttest-auc:0.636324+0.00423894\n",
      "[174]\ttrain-auc:0.65674+0.000895267\ttest-auc:0.636377+0.00422656\n",
      "[175]\ttrain-auc:0.656855+0.000882375\ttest-auc:0.636385+0.00421949\n",
      "[176]\ttrain-auc:0.656971+0.000844174\ttest-auc:0.636402+0.00424299\n",
      "[177]\ttrain-auc:0.657051+0.000813922\ttest-auc:0.636392+0.00423135\n",
      "[178]\ttrain-auc:0.657145+0.000813278\ttest-auc:0.636392+0.00424813\n",
      "[179]\ttrain-auc:0.657192+0.000825032\ttest-auc:0.636467+0.00421967\n",
      "[180]\ttrain-auc:0.657302+0.000857612\ttest-auc:0.636425+0.00415412\n",
      "[181]\ttrain-auc:0.657427+0.000806324\ttest-auc:0.636426+0.00416272\n",
      "[182]\ttrain-auc:0.657563+0.000831194\ttest-auc:0.636475+0.00415324\n",
      "[183]\ttrain-auc:0.657671+0.000862353\ttest-auc:0.636453+0.00412587\n",
      "[184]\ttrain-auc:0.657768+0.000873842\ttest-auc:0.636473+0.00414659\n",
      "[185]\ttrain-auc:0.657836+0.000875596\ttest-auc:0.636474+0.00420536\n",
      "[186]\ttrain-auc:0.657945+0.000857995\ttest-auc:0.63644+0.00420804\n",
      "[187]\ttrain-auc:0.658016+0.000843567\ttest-auc:0.636399+0.00422558\n",
      "[188]\ttrain-auc:0.658129+0.000820503\ttest-auc:0.636341+0.00421001\n",
      "[189]\ttrain-auc:0.658212+0.000829697\ttest-auc:0.636315+0.00424335\n",
      "[190]\ttrain-auc:0.6583+0.000842047\ttest-auc:0.636289+0.00423555\n",
      "[191]\ttrain-auc:0.658432+0.000865442\ttest-auc:0.636359+0.00425493\n",
      "[192]\ttrain-auc:0.658531+0.000860033\ttest-auc:0.636357+0.00424331\n",
      "[193]\ttrain-auc:0.658652+0.000837724\ttest-auc:0.636422+0.00421422\n",
      "[194]\ttrain-auc:0.658745+0.000844347\ttest-auc:0.636447+0.0041324\n",
      "[195]\ttrain-auc:0.658837+0.000835411\ttest-auc:0.636534+0.00418778\n",
      "[196]\ttrain-auc:0.658909+0.000832867\ttest-auc:0.636517+0.00418055\n",
      "[197]\ttrain-auc:0.659+0.000821699\ttest-auc:0.636484+0.00416699\n",
      "[198]\ttrain-auc:0.659105+0.00082124\ttest-auc:0.636487+0.00414787\n",
      "[199]\ttrain-auc:0.659189+0.000797599\ttest-auc:0.636478+0.00416085\n",
      "[200]\ttrain-auc:0.659252+0.00081166\ttest-auc:0.636482+0.00414195\n",
      "[201]\ttrain-auc:0.659328+0.000852368\ttest-auc:0.63651+0.00407085\n",
      "[202]\ttrain-auc:0.659418+0.000856314\ttest-auc:0.636505+0.00403113\n",
      "[203]\ttrain-auc:0.659563+0.000858739\ttest-auc:0.636543+0.0041082\n",
      "[204]\ttrain-auc:0.659618+0.000837263\ttest-auc:0.636575+0.00408509\n",
      "[205]\ttrain-auc:0.659693+0.000834454\ttest-auc:0.63658+0.00401214\n",
      "[206]\ttrain-auc:0.65977+0.000824073\ttest-auc:0.636604+0.00406249\n",
      "[207]\ttrain-auc:0.659851+0.000817448\ttest-auc:0.636616+0.00406775\n",
      "[208]\ttrain-auc:0.659918+0.000794898\ttest-auc:0.636635+0.00408787\n",
      "[209]\ttrain-auc:0.660019+0.000798283\ttest-auc:0.636633+0.00407065\n",
      "[210]\ttrain-auc:0.660123+0.000790086\ttest-auc:0.636655+0.00408858\n",
      "[211]\ttrain-auc:0.660221+0.000783449\ttest-auc:0.636661+0.00410072\n",
      "[212]\ttrain-auc:0.66031+0.000754096\ttest-auc:0.636687+0.00413849\n",
      "[213]\ttrain-auc:0.660384+0.000747799\ttest-auc:0.636652+0.00420363\n",
      "[214]\ttrain-auc:0.660489+0.000770388\ttest-auc:0.636684+0.00421976\n",
      "[215]\ttrain-auc:0.660583+0.00078023\ttest-auc:0.63671+0.00423619\n",
      "[216]\ttrain-auc:0.660659+0.000772482\ttest-auc:0.636746+0.00424095\n",
      "[217]\ttrain-auc:0.660733+0.000764287\ttest-auc:0.636729+0.00419963\n",
      "[218]\ttrain-auc:0.660782+0.000764966\ttest-auc:0.636733+0.00416581\n",
      "[219]\ttrain-auc:0.660852+0.00072528\ttest-auc:0.636743+0.00420252\n",
      "[220]\ttrain-auc:0.660991+0.000742671\ttest-auc:0.636672+0.00420645\n",
      "[221]\ttrain-auc:0.661037+0.000743562\ttest-auc:0.636697+0.00423933\n",
      "[222]\ttrain-auc:0.661137+0.000768136\ttest-auc:0.636731+0.00421393\n",
      "[223]\ttrain-auc:0.661198+0.000779592\ttest-auc:0.636783+0.00415745\n",
      "[224]\ttrain-auc:0.661266+0.000793712\ttest-auc:0.636824+0.00415249\n",
      "[225]\ttrain-auc:0.661361+0.000790829\ttest-auc:0.636814+0.00419229\n",
      "[226]\ttrain-auc:0.661447+0.000771484\ttest-auc:0.636819+0.00422495\n",
      "[227]\ttrain-auc:0.661558+0.00073476\ttest-auc:0.636798+0.00424236\n",
      "[228]\ttrain-auc:0.661639+0.000735816\ttest-auc:0.636822+0.00422155\n",
      "[229]\ttrain-auc:0.661772+0.000716298\ttest-auc:0.636803+0.00419573\n",
      "[230]\ttrain-auc:0.661857+0.000732198\ttest-auc:0.636802+0.0042123\n",
      "[231]\ttrain-auc:0.661974+0.000763668\ttest-auc:0.636821+0.00424203\n",
      "[232]\ttrain-auc:0.66209+0.00075542\ttest-auc:0.63684+0.00423082\n",
      "[233]\ttrain-auc:0.662144+0.000757592\ttest-auc:0.636846+0.00421097\n",
      "[234]\ttrain-auc:0.662211+0.00077999\ttest-auc:0.636873+0.00423709\n",
      "[235]\ttrain-auc:0.662307+0.000780102\ttest-auc:0.636821+0.00422524\n",
      "[236]\ttrain-auc:0.662409+0.000751271\ttest-auc:0.636819+0.00424689\n",
      "[237]\ttrain-auc:0.662501+0.000762078\ttest-auc:0.636767+0.00429563\n",
      "[238]\ttrain-auc:0.662572+0.000767983\ttest-auc:0.636807+0.00427888\n",
      "[239]\ttrain-auc:0.662628+0.000773761\ttest-auc:0.636813+0.00425534\n",
      "[240]\ttrain-auc:0.662695+0.000755874\ttest-auc:0.636846+0.00429358\n",
      "[241]\ttrain-auc:0.662798+0.000723981\ttest-auc:0.636875+0.00430699\n",
      "[242]\ttrain-auc:0.66292+0.000743217\ttest-auc:0.636919+0.00430103\n",
      "[243]\ttrain-auc:0.662973+0.000744962\ttest-auc:0.636948+0.00427904\n",
      "[244]\ttrain-auc:0.663028+0.000711995\ttest-auc:0.636944+0.00430245\n",
      "[245]\ttrain-auc:0.663121+0.000729506\ttest-auc:0.636925+0.00429891\n",
      "[246]\ttrain-auc:0.663216+0.000744804\ttest-auc:0.636927+0.00427202\n",
      "[247]\ttrain-auc:0.663301+0.000736577\ttest-auc:0.636905+0.00425076\n",
      "[248]\ttrain-auc:0.663374+0.00074718\ttest-auc:0.636923+0.00425327\n",
      "[249]\ttrain-auc:0.66349+0.000743623\ttest-auc:0.636859+0.00427473\n",
      "[250]\ttrain-auc:0.663585+0.000757681\ttest-auc:0.63685+0.00430126\n",
      "[251]\ttrain-auc:0.663683+0.000765009\ttest-auc:0.636854+0.00430298\n",
      "[252]\ttrain-auc:0.663778+0.000762687\ttest-auc:0.636853+0.00430421\n"
     ]
    },
    {
     "name": "stdout",
     "output_type": "stream",
     "text": [
      "[253]\ttrain-auc:0.663878+0.000797931\ttest-auc:0.636872+0.00421926\n",
      "[254]\ttrain-auc:0.663946+0.000792933\ttest-auc:0.636828+0.00420639\n",
      "[255]\ttrain-auc:0.664031+0.00079129\ttest-auc:0.636805+0.00422965\n",
      "[256]\ttrain-auc:0.664095+0.000822566\ttest-auc:0.636801+0.00424665\n",
      "[257]\ttrain-auc:0.664175+0.000855102\ttest-auc:0.636813+0.00416753\n",
      "[258]\ttrain-auc:0.664266+0.000840375\ttest-auc:0.636826+0.00418463\n",
      "[259]\ttrain-auc:0.664347+0.00082952\ttest-auc:0.636824+0.00412785\n",
      "[260]\ttrain-auc:0.664415+0.000818929\ttest-auc:0.636792+0.00415156\n",
      "[261]\ttrain-auc:0.664471+0.000805051\ttest-auc:0.636815+0.00413439\n",
      "[262]\ttrain-auc:0.664532+0.000798259\ttest-auc:0.636817+0.00408694\n",
      "[263]\ttrain-auc:0.664639+0.000809468\ttest-auc:0.636792+0.004126\n",
      "[264]\ttrain-auc:0.664711+0.000792531\ttest-auc:0.636849+0.00406466\n",
      "[265]\ttrain-auc:0.664815+0.000740258\ttest-auc:0.636784+0.00404484\n",
      "[266]\ttrain-auc:0.664935+0.000730935\ttest-auc:0.636824+0.00407909\n",
      "[267]\ttrain-auc:0.665023+0.000740795\ttest-auc:0.636801+0.0040978\n",
      "[268]\ttrain-auc:0.665091+0.000786187\ttest-auc:0.636818+0.00407034\n",
      "[269]\ttrain-auc:0.665162+0.000798267\ttest-auc:0.636843+0.00407635\n",
      "[270]\ttrain-auc:0.665245+0.000829659\ttest-auc:0.636863+0.0041386\n",
      "[271]\ttrain-auc:0.665331+0.000864356\ttest-auc:0.63686+0.00411284\n",
      "[272]\ttrain-auc:0.665377+0.000885786\ttest-auc:0.6369+0.00410766\n",
      "[273]\ttrain-auc:0.665493+0.000882429\ttest-auc:0.636902+0.00413806\n",
      "[274]\ttrain-auc:0.665589+0.000888311\ttest-auc:0.636925+0.00413654\n",
      "[275]\ttrain-auc:0.665689+0.000878835\ttest-auc:0.636928+0.00411698\n",
      "[276]\ttrain-auc:0.665754+0.000877451\ttest-auc:0.636888+0.00415235\n",
      "[277]\ttrain-auc:0.665815+0.000854047\ttest-auc:0.636877+0.0041269\n",
      "[278]\ttrain-auc:0.66588+0.000851167\ttest-auc:0.63683+0.00413791\n",
      "[279]\ttrain-auc:0.665941+0.000834612\ttest-auc:0.636875+0.00417809\n",
      "[280]\ttrain-auc:0.665995+0.000808303\ttest-auc:0.636862+0.00417043\n",
      "[281]\ttrain-auc:0.666068+0.000818232\ttest-auc:0.636885+0.00411134\n",
      "[282]\ttrain-auc:0.666133+0.000810042\ttest-auc:0.63686+0.00411908\n",
      "[283]\ttrain-auc:0.666223+0.000802971\ttest-auc:0.636823+0.00411451\n",
      "[284]\ttrain-auc:0.666275+0.000781864\ttest-auc:0.636781+0.00410365\n",
      "[285]\ttrain-auc:0.666367+0.000768644\ttest-auc:0.636851+0.00407468\n",
      "[286]\ttrain-auc:0.666443+0.000739411\ttest-auc:0.636898+0.00408839\n",
      "[287]\ttrain-auc:0.666517+0.000730952\ttest-auc:0.636932+0.00413327\n",
      "[288]\ttrain-auc:0.666605+0.000786798\ttest-auc:0.63695+0.00410789\n",
      "[289]\ttrain-auc:0.666671+0.000808378\ttest-auc:0.636939+0.00407268\n",
      "[290]\ttrain-auc:0.666797+0.000822715\ttest-auc:0.636948+0.00405087\n",
      "[291]\ttrain-auc:0.66691+0.000786428\ttest-auc:0.636958+0.00408005\n",
      "[292]\ttrain-auc:0.666983+0.000821434\ttest-auc:0.636933+0.00402432\n",
      "[293]\ttrain-auc:0.667078+0.000782953\ttest-auc:0.636963+0.00404058\n",
      "[294]\ttrain-auc:0.667164+0.000780021\ttest-auc:0.636973+0.00398999\n",
      "[295]\ttrain-auc:0.667229+0.000757277\ttest-auc:0.637035+0.00403394\n",
      "[296]\ttrain-auc:0.667311+0.000769505\ttest-auc:0.637001+0.00403199\n",
      "[297]\ttrain-auc:0.667362+0.000795748\ttest-auc:0.637062+0.00399067\n",
      "[298]\ttrain-auc:0.66743+0.000815635\ttest-auc:0.637065+0.00398702\n",
      "[299]\ttrain-auc:0.6675+0.000791426\ttest-auc:0.637128+0.00399544\n",
      "[300]\ttrain-auc:0.66758+0.000796763\ttest-auc:0.637122+0.00396303\n",
      "[301]\ttrain-auc:0.667674+0.000797791\ttest-auc:0.637069+0.00398915\n",
      "[302]\ttrain-auc:0.667741+0.000795797\ttest-auc:0.637081+0.00400252\n",
      "[303]\ttrain-auc:0.667814+0.000791961\ttest-auc:0.637112+0.00399926\n",
      "[304]\ttrain-auc:0.667889+0.000763549\ttest-auc:0.637149+0.00400104\n",
      "[305]\ttrain-auc:0.667942+0.000775718\ttest-auc:0.637159+0.00400224\n",
      "[306]\ttrain-auc:0.667991+0.000770625\ttest-auc:0.637146+0.00402032\n",
      "[307]\ttrain-auc:0.668053+0.000793458\ttest-auc:0.637104+0.0039943\n",
      "[308]\ttrain-auc:0.668158+0.000746962\ttest-auc:0.637098+0.00401306\n",
      "[309]\ttrain-auc:0.668215+0.000762496\ttest-auc:0.6371+0.00394616\n",
      "[310]\ttrain-auc:0.668289+0.000786052\ttest-auc:0.637092+0.00397705\n",
      "[311]\ttrain-auc:0.668421+0.000742494\ttest-auc:0.637138+0.00396821\n",
      "[312]\ttrain-auc:0.668517+0.000754214\ttest-auc:0.637063+0.00400003\n",
      "[313]\ttrain-auc:0.668608+0.000764062\ttest-auc:0.637071+0.00400232\n",
      "[314]\ttrain-auc:0.668686+0.000777946\ttest-auc:0.637072+0.00397645\n",
      "[315]\ttrain-auc:0.66874+0.000791496\ttest-auc:0.637043+0.0039838\n",
      "[316]\ttrain-auc:0.668848+0.00081004\ttest-auc:0.637058+0.00397068\n",
      "[317]\ttrain-auc:0.668933+0.000804732\ttest-auc:0.637015+0.003973\n",
      "[318]\ttrain-auc:0.669019+0.000769798\ttest-auc:0.637011+0.00395585\n",
      "[319]\ttrain-auc:0.669071+0.000763944\ttest-auc:0.637027+0.00391962\n",
      "[320]\ttrain-auc:0.66914+0.000764291\ttest-auc:0.636977+0.0039486\n",
      "[321]\ttrain-auc:0.669211+0.000763058\ttest-auc:0.636925+0.00398228\n",
      "[322]\ttrain-auc:0.669253+0.000759677\ttest-auc:0.636944+0.00399988\n",
      "[323]\ttrain-auc:0.669343+0.00075405\ttest-auc:0.636912+0.00396307\n",
      "[324]\ttrain-auc:0.669411+0.000766689\ttest-auc:0.6369+0.0039727\n",
      "[325]\ttrain-auc:0.669493+0.000759988\ttest-auc:0.636855+0.00395353\n",
      "[326]\ttrain-auc:0.669571+0.000773199\ttest-auc:0.63683+0.00397295\n",
      "[327]\ttrain-auc:0.669669+0.000773559\ttest-auc:0.636857+0.00397201\n",
      "[328]\ttrain-auc:0.66973+0.000787847\ttest-auc:0.63688+0.00397178\n",
      "[329]\ttrain-auc:0.669807+0.000820735\ttest-auc:0.636845+0.00389786\n",
      "[330]\ttrain-auc:0.669868+0.0008246\ttest-auc:0.636835+0.00392734\n",
      "[331]\ttrain-auc:0.669928+0.000823665\ttest-auc:0.636828+0.0039489\n",
      "[332]\ttrain-auc:0.669971+0.000848023\ttest-auc:0.636777+0.00394805\n",
      "[333]\ttrain-auc:0.670019+0.000863919\ttest-auc:0.636738+0.00394301\n",
      "[334]\ttrain-auc:0.670108+0.000887863\ttest-auc:0.636762+0.00394258\n",
      "[335]\ttrain-auc:0.670151+0.000863176\ttest-auc:0.636756+0.00394592\n",
      "[336]\ttrain-auc:0.670218+0.000878854\ttest-auc:0.63675+0.00394024\n",
      "[337]\ttrain-auc:0.670282+0.000883383\ttest-auc:0.636754+0.00396178\n",
      "[338]\ttrain-auc:0.670336+0.000889564\ttest-auc:0.636766+0.00395652\n",
      "[339]\ttrain-auc:0.670387+0.000878344\ttest-auc:0.636778+0.00396078\n",
      "[340]\ttrain-auc:0.670472+0.000909368\ttest-auc:0.636791+0.00393075\n",
      "[341]\ttrain-auc:0.670528+0.000924954\ttest-auc:0.636768+0.00393126\n",
      "[342]\ttrain-auc:0.670642+0.000958853\ttest-auc:0.636802+0.00395664\n",
      "[343]\ttrain-auc:0.670724+0.000925817\ttest-auc:0.636808+0.00397006\n",
      "[344]\ttrain-auc:0.670817+0.00093894\ttest-auc:0.636828+0.00401727\n",
      "[345]\ttrain-auc:0.670911+0.000967673\ttest-auc:0.636828+0.00399469\n",
      "[346]\ttrain-auc:0.670999+0.000955975\ttest-auc:0.63684+0.00399932\n",
      "[347]\ttrain-auc:0.671075+0.0009569\ttest-auc:0.636873+0.00393114\n",
      "[348]\ttrain-auc:0.671161+0.000957685\ttest-auc:0.636844+0.00387458\n",
      "[349]\ttrain-auc:0.671234+0.000975595\ttest-auc:0.636875+0.00385375\n",
      "[350]\ttrain-auc:0.67132+0.000970722\ttest-auc:0.636866+0.00383068\n",
      "[351]\ttrain-auc:0.67137+0.00096411\ttest-auc:0.636843+0.00385575\n",
      "[352]\ttrain-auc:0.671424+0.000976314\ttest-auc:0.636853+0.003885\n",
      "[353]\ttrain-auc:0.671512+0.000986569\ttest-auc:0.636845+0.00385796\n",
      "[354]\ttrain-auc:0.671595+0.00098507\ttest-auc:0.636844+0.00386312\n"
     ]
    },
    {
     "name": "stderr",
     "output_type": "stream",
     "text": [
      "C:\\Users\\wogur\\Anaconda3\\lib\\site-packages\\sklearn\\preprocessing\\label.py:151: DeprecationWarning: The truth value of an empty array is ambiguous. Returning False, but in future this will result in an error. Use `array.size > 0` to check that an array is not empty.\n",
      "  if diff:\n",
      "C:\\Users\\wogur\\Anaconda3\\lib\\site-packages\\sklearn\\preprocessing\\label.py:151: DeprecationWarning: The truth value of an empty array is ambiguous. Returning False, but in future this will result in an error. Use `array.size > 0` to check that an array is not empty.\n",
      "  if diff:\n"
     ]
    },
    {
     "name": "stdout",
     "output_type": "stream",
     "text": [
      "\n",
      "Model Report[train data]\n",
      "Accuracy : 0.9636\n",
      "AUC Score (Train): 0.663001\n",
      "\n",
      "Model Report[validation data]\n",
      "Accuracy : 0.9633\n",
      "AUC Score (Train): 0.643148\n",
      "Gini: 0.13790, Max Gini: 0.48166, Normlization Gini: 0.28630\n"
     ]
    },
    {
     "data": {
      "image/png": "[encoded data removed]",
      "text/plain": [
       "<Figure size 720x3600 with 1 Axes>"
      ]
     },
     "metadata": {},
     "output_type": "display_data"
    },
    {
     "name": "stdout",
     "output_type": "stream",
     "text": [
      "Wall time: 1min 36s\n"
     ]
    }
   ],
   "source": [
    "%%time\n",
    "xgb3 = xgb.XGBClassifier(\n",
    "    learning_rate =0.1,\n",
    "    n_estimators=1000,\n",
    "    max_depth=3,\n",
    "    min_child_weight=1,\n",
    "    gamma=0,\n",
    "    subsample= 0.7,\n",
    "    colsample_bytree=0.6,\n",
    "    objective= 'gpu:binary:logistic',\n",
    "    nthread=4,\n",
    "    scale_pos_weight=1,\n",
    "    tree_method='gpu_hist',\n",
    "    predictor='gpu_predictor',\n",
    "    seed=1223)\n",
    "alg3 = modelfit(xgb3, train, val)"
   ]
  },
  {
   "cell_type": "markdown",
   "metadata": {},
   "source": [
    "# Step4"
   ]
  },
  {
   "cell_type": "code",
   "execution_count": 24,
   "metadata": {},
   "outputs": [
    {
     "name": "stdout",
     "output_type": "stream",
     "text": [
      "Fitting 5 folds for each of 5 candidates, totalling 25 fits\n"
     ]
    },
    {
     "name": "stderr",
     "output_type": "stream",
     "text": [
      "[Parallel(n_jobs=4)]: Done  25 out of  25 | elapsed:  1.0min finished\n"
     ]
    },
    {
     "name": "stdout",
     "output_type": "stream",
     "text": [
      "Wall time: 1min 7s\n"
     ]
    }
   ],
   "source": [
    "%%time\n",
    "param_test5 = {\n",
    " 'reg_alpha':[1e-5, 1e-2, 0.1, 1, 100]\n",
    "}\n",
    "xgb_param5 = {\n",
    "    'learning_rate':0.1, \n",
    "    'n_estimators':200,\n",
    "    'max_depth':3, \n",
    "    'min_child_weight':1,\n",
    "    'subsample':0.7,\n",
    "    'colsample_bytree':0.6,\n",
    "    'gamma':0,\n",
    "    'objective':'gpu:binary:logistic',\n",
    "    'nthread':4,\n",
    "    'scale_pos_weight':1, \n",
    "    'tree_method':'gpu_hist', \n",
    "    'predictor':'gpu_predictor'\n",
    "}\n",
    "gsearch5 = param_tune(train, param_test5, xgb_param5)"
   ]
  },
  {
   "cell_type": "code",
   "execution_count": 25,
   "metadata": {},
   "outputs": [
    {
     "name": "stderr",
     "output_type": "stream",
     "text": [
      "C:\\Users\\wogur\\Anaconda3\\lib\\site-packages\\sklearn\\model_selection\\_search.py:761: DeprecationWarning: The grid_scores_ attribute was deprecated in version 0.18 in favor of the more elaborate cv_results_ attribute. The grid_scores_ attribute will not be available from 0.20\n",
      "  DeprecationWarning)\n"
     ]
    },
    {
     "data": {
      "text/plain": [
       "([mean: 0.63717, std: 0.00305, params: {'reg_alpha': 1e-05},\n",
       "  mean: 0.63689, std: 0.00307, params: {'reg_alpha': 0.01},\n",
       "  mean: 0.63701, std: 0.00290, params: {'reg_alpha': 0.1},\n",
       "  mean: 0.63707, std: 0.00295, params: {'reg_alpha': 1},\n",
       "  mean: 0.63268, std: 0.00303, params: {'reg_alpha': 100}],\n",
       " {'reg_alpha': 1e-05},\n",
       " 0.6371729444526572)"
      ]
     },
     "execution_count": 25,
     "metadata": {},
     "output_type": "execute_result"
    }
   ],
   "source": [
    "gsearch5.grid_scores_, gsearch5.best_params_, gsearch5.best_score_"
   ]
  },
  {
   "cell_type": "code",
   "execution_count": 29,
   "metadata": {},
   "outputs": [
    {
     "name": "stdout",
     "output_type": "stream",
     "text": [
      "Fitting 5 folds for each of 3 candidates, totalling 15 fits\n"
     ]
    },
    {
     "name": "stderr",
     "output_type": "stream",
     "text": [
      "[Parallel(n_jobs=4)]: Done  15 out of  15 | elapsed:   39.0s finished\n"
     ]
    },
    {
     "name": "stdout",
     "output_type": "stream",
     "text": [
      "Wall time: 44.1 s\n"
     ]
    }
   ],
   "source": [
    "%%time\n",
    "param_test6 = {\n",
    " 'reg_alpha':[1e-10, 1e-07, 1e-05]\n",
    "}\n",
    "xgb_param6 = {\n",
    "    'learning_rate':0.1, \n",
    "    'n_estimators':200,\n",
    "    'max_depth':3, \n",
    "    'min_child_weight':1,\n",
    "    'subsample':0.7,\n",
    "    'colsample_bytree':0.6,\n",
    "    'gamma':0,\n",
    "    'objective':'gpu:binary:logistic',\n",
    "    'nthread':4,\n",
    "    'scale_pos_weight':1, \n",
    "    'tree_method':'gpu_hist', \n",
    "    'predictor':'gpu_predictor'\n",
    "}\n",
    "gsearch6 = param_tune(train, param_test6, xgb_param6)"
   ]
  },
  {
   "cell_type": "code",
   "execution_count": 30,
   "metadata": {},
   "outputs": [
    {
     "name": "stderr",
     "output_type": "stream",
     "text": [
      "C:\\Users\\wogur\\Anaconda3\\lib\\site-packages\\sklearn\\model_selection\\_search.py:761: DeprecationWarning: The grid_scores_ attribute was deprecated in version 0.18 in favor of the more elaborate cv_results_ attribute. The grid_scores_ attribute will not be available from 0.20\n",
      "  DeprecationWarning)\n"
     ]
    },
    {
     "data": {
      "text/plain": [
       "([mean: 0.63713, std: 0.00299, params: {'reg_alpha': 1e-10},\n",
       "  mean: 0.63713, std: 0.00299, params: {'reg_alpha': 1e-07},\n",
       "  mean: 0.63717, std: 0.00305, params: {'reg_alpha': 1e-05}],\n",
       " {'reg_alpha': 1e-05},\n",
       " 0.6371729444526572)"
      ]
     },
     "execution_count": 30,
     "metadata": {},
     "output_type": "execute_result"
    }
   ],
   "source": [
    "gsearch6.grid_scores_, gsearch6.best_params_, gsearch6.best_score_"
   ]
  },
  {
   "cell_type": "code",
   "execution_count": 34,
   "metadata": {},
   "outputs": [
    {
     "name": "stdout",
     "output_type": "stream",
     "text": [
      "Fitting 5 folds for each of 3 candidates, totalling 15 fits\n"
     ]
    },
    {
     "name": "stderr",
     "output_type": "stream",
     "text": [
      "[Parallel(n_jobs=2)]: Done  15 out of  15 | elapsed:  1.7min finished\n"
     ]
    },
    {
     "name": "stdout",
     "output_type": "stream",
     "text": [
      "Wall time: 1min 49s\n"
     ]
    }
   ],
   "source": [
    "%%time\n",
    "param_test7 = {\n",
    " 'reg_alpha':[20, 25, 30]\n",
    "}\n",
    "xgb_param7 = {\n",
    "    'learning_rate':0.1, \n",
    "    'n_estimators':200,\n",
    "    'max_depth':4, \n",
    "    'min_child_weight':1,\n",
    "    'subsample':0.7,\n",
    "    'colsample_bytree':0.7,\n",
    "    'gamma':0,\n",
    "    'objective':'gpu:binary:logistic',\n",
    "    'nthread':4,\n",
    "    'scale_pos_weight':1, \n",
    "    'tree_method':'gpu_hist', \n",
    "    'predictor':'gpu_predictor'\n",
    "}\n",
    "gsearch7 = param_tune(train, param_test7, xgb_param7)"
   ]
  },
  {
   "cell_type": "code",
   "execution_count": 35,
   "metadata": {},
   "outputs": [
    {
     "name": "stderr",
     "output_type": "stream",
     "text": [
      "C:\\Users\\wogur\\Anaconda3\\lib\\site-packages\\sklearn\\model_selection\\_search.py:761: DeprecationWarning: The grid_scores_ attribute was deprecated in version 0.18 in favor of the more elaborate cv_results_ attribute. The grid_scores_ attribute will not be available from 0.20\n",
      "  DeprecationWarning)\n"
     ]
    },
    {
     "data": {
      "text/plain": [
       "([mean: 0.63713, std: 0.00272, params: {'reg_alpha': 20},\n",
       "  mean: 0.63739, std: 0.00279, params: {'reg_alpha': 25},\n",
       "  mean: 0.63732, std: 0.00271, params: {'reg_alpha': 30}],\n",
       " {'reg_alpha': 25},\n",
       " 0.6373894987188087)"
      ]
     },
     "execution_count": 35,
     "metadata": {},
     "output_type": "execute_result"
    }
   ],
   "source": [
    "gsearch7.grid_scores_, gsearch7.best_params_, gsearch7.best_score_"
   ]
  },
  {
   "cell_type": "code",
   "execution_count": 36,
   "metadata": {},
   "outputs": [
    {
     "name": "stdout",
     "output_type": "stream",
     "text": [
      "Fitting 5 folds for each of 3 candidates, totalling 15 fits\n"
     ]
    },
    {
     "name": "stderr",
     "output_type": "stream",
     "text": [
      "[Parallel(n_jobs=2)]: Done  15 out of  15 | elapsed:  1.7min finished\n"
     ]
    },
    {
     "name": "stdout",
     "output_type": "stream",
     "text": [
      "Wall time: 1min 48s\n"
     ]
    }
   ],
   "source": [
    "%%time\n",
    "param_test8 = {\n",
    " 'reg_alpha':[23, 25, 27]\n",
    "}\n",
    "xgb_param8 = {\n",
    "    'learning_rate':0.1, \n",
    "    'n_estimators':200,\n",
    "    'max_depth':4, \n",
    "    'min_child_weight':1,\n",
    "    'subsample':0.7,\n",
    "    'colsample_bytree':0.7,\n",
    "    'gamma':0,\n",
    "    'objective':'gpu:binary:logistic',\n",
    "    'nthread':4,\n",
    "    'scale_pos_weight':1, \n",
    "    'tree_method':'gpu_hist', \n",
    "    'predictor':'gpu_predictor'\n",
    "}\n",
    "gsearch8 = param_tune(train, param_test8, xgb_param8)"
   ]
  },
  {
   "cell_type": "code",
   "execution_count": 105,
   "metadata": {},
   "outputs": [
    {
     "name": "stderr",
     "output_type": "stream",
     "text": [
      "C:\\Users\\wogur\\Anaconda3\\lib\\site-packages\\sklearn\\model_selection\\_search.py:761: DeprecationWarning: The grid_scores_ attribute was deprecated in version 0.18 in favor of the more elaborate cv_results_ attribute. The grid_scores_ attribute will not be available from 0.20\n",
      "  DeprecationWarning)\n"
     ]
    },
    {
     "data": {
      "text/plain": [
       "([mean: 0.63747, std: 0.00337, params: {'reg_alpha': 17},\n",
       "  mean: 0.63742, std: 0.00307, params: {'reg_alpha': 20},\n",
       "  mean: 0.63748, std: 0.00317, params: {'reg_alpha': 23}],\n",
       " {'reg_alpha': 23},\n",
       " 0.6374845327143472)"
      ]
     },
     "execution_count": 105,
     "metadata": {},
     "output_type": "execute_result"
    }
   ],
   "source": [
    "gsearch8.grid_scores_, gsearch8.best_params_, gsearch8.best_score_"
   ]
  },
  {
   "cell_type": "code",
   "execution_count": 39,
   "metadata": {},
   "outputs": [
    {
     "name": "stdout",
     "output_type": "stream",
     "text": [
      "Fitting 5 folds for each of 3 candidates, totalling 15 fits\n"
     ]
    },
    {
     "name": "stderr",
     "output_type": "stream",
     "text": [
      "[Parallel(n_jobs=2)]: Done  15 out of  15 | elapsed:  1.7min finished\n"
     ]
    },
    {
     "name": "stdout",
     "output_type": "stream",
     "text": [
      "Wall time: 1min 48s\n"
     ]
    }
   ],
   "source": [
    "%%time\n",
    "param_test9 = {\n",
    " 'reg_alpha':[21, 22, 23]\n",
    "}\n",
    "xgb_param9 = {\n",
    "    'learning_rate':0.1, \n",
    "    'n_estimators':200,\n",
    "    'max_depth':4, \n",
    "    'min_child_weight':1,\n",
    "    'subsample':0.7,\n",
    "    'colsample_bytree':0.7,\n",
    "    'gamma':0,\n",
    "    'objective':'gpu:binary:logistic',\n",
    "    'nthread':4,\n",
    "    'scale_pos_weight':1, \n",
    "    'tree_method':'gpu_hist', \n",
    "    'predictor':'gpu_predictor'\n",
    "}\n",
    "gsearch9 = param_tune(train, param_test9, xgb_param9)"
   ]
  },
  {
   "cell_type": "code",
   "execution_count": 40,
   "metadata": {},
   "outputs": [
    {
     "name": "stderr",
     "output_type": "stream",
     "text": [
      "C:\\Users\\wogur\\Anaconda3\\lib\\site-packages\\sklearn\\model_selection\\_search.py:761: DeprecationWarning: The grid_scores_ attribute was deprecated in version 0.18 in favor of the more elaborate cv_results_ attribute. The grid_scores_ attribute will not be available from 0.20\n",
      "  DeprecationWarning)\n"
     ]
    },
    {
     "data": {
      "text/plain": [
       "([mean: 0.63739, std: 0.00280, params: {'reg_alpha': 21},\n",
       "  mean: 0.63741, std: 0.00266, params: {'reg_alpha': 22},\n",
       "  mean: 0.63733, std: 0.00315, params: {'reg_alpha': 23}],\n",
       " {'reg_alpha': 22},\n",
       " 0.6374051710527934)"
      ]
     },
     "execution_count": 40,
     "metadata": {},
     "output_type": "execute_result"
    }
   ],
   "source": [
    "gsearch9.grid_scores_, gsearch9.best_params_, gsearch9.best_score_"
   ]
  },
  {
   "cell_type": "markdown",
   "metadata": {},
   "source": [
    "#### optimized parameters for all features\n",
    "\n",
    "xgb4 = xgb.XGBClassifier(\n",
    "    learning_rate =0.1,\n",
    "    n_estimators=2000,\n",
    "    max_depth=3,\n",
    "    min_child_weight=3,\n",
    "    gamma=0,\n",
    "    subsample= 0.7,\n",
    "    colsample_bytree=0.9,\n",
    "    reg_alpha=1,\n",
    "    nthread=4,\n",
    "    scale_pos_weight=1,\n",
    "    objective= 'gpu:binary:logistic',\n",
    "    tree_method='gpu_hist',\n",
    "    predictor='gpu_predictor',\n",
    "    seed=1223)\n",
    "    \n",
    "#### optimized parameters for drop features similarly same mean and median by target\n",
    "\n",
    "xgb4 = xgb.XGBClassifier(\n",
    "    learning_rate =0.1,\n",
    "    n_estimators=2000,\n",
    "    max_depth=4,\n",
    "    min_child_weight=6,\n",
    "    gamma=0,\n",
    "    subsample= 0.8,\n",
    "    colsample_bytree=0.8,\n",
    "    reg_alpha=23,\n",
    "    nthread=4,\n",
    "    scale_pos_weight=1,\n",
    "    objective= 'gpu:binary:logistic',\n",
    "    tree_method='gpu_hist',\n",
    "    predictor='gpu_predictor',\n",
    "    seed=1223)\n",
    "    \n",
    "#### optimized parameters for drop features similarly same mean and median and count by target\n",
    "\n",
    "xgb4 = xgb.XGBClassifier(\n",
    "    learning_rate =0.1,\n",
    "    n_estimators=2000,\n",
    "    max_depth=4,\n",
    "    min_child_weight=1,\n",
    "    gamma=0,\n",
    "    subsample= 0.7,\n",
    "    colsample_bytree=0.7,\n",
    "    reg_alpha=22,\n",
    "    nthread=4,\n",
    "    scale_pos_weight=1,\n",
    "    objective= 'gpu:binary:logistic',\n",
    "    tree_method='gpu_hist',\n",
    "    predictor='gpu_predictor',\n",
    "    seed=1223)\n",
    "    \n",
    "#### optimized parameters for drop some integer, binary, category features\n",
    "\n",
    "xgb4 = xgb.XGBClassifier(\n",
    "    learning_rate =0.1,\n",
    "    n_estimators=2000,\n",
    "    max_depth=3,\n",
    "    min_child_weight=1,\n",
    "    gamma=0,\n",
    "    subsample= 0.7,\n",
    "    colsample_bytree=0.6,\n",
    "    reg_alpha=1e-05,\n",
    "    objective= 'gpu:binary:logistic',\n",
    "    nthread=4,\n",
    "    scale_pos_weight=1,\n",
    "    tree_method='gpu_hist',\n",
    "    predictor='gpu_predictor',\n",
    "    seed=1223)"
   ]
  },
  {
   "cell_type": "code",
   "execution_count": 21,
   "metadata": {
    "scrolled": true
   },
   "outputs": [
    {
     "name": "stdout",
     "output_type": "stream",
     "text": [
      "[0]\ttrain-auc:0.581926+0.0024909\ttest-auc:0.579901+0.00663395\n",
      "[1]\ttrain-auc:0.601382+0.00480214\ttest-auc:0.59804+0.00334437\n",
      "[2]\ttrain-auc:0.608923+0.00189369\ttest-auc:0.605676+0.00585404\n",
      "[3]\ttrain-auc:0.611345+0.00137602\ttest-auc:0.608473+0.00466937\n",
      "[4]\ttrain-auc:0.613147+0.00214715\ttest-auc:0.60902+0.00519786\n",
      "[5]\ttrain-auc:0.615293+0.00153244\ttest-auc:0.610129+0.00466681\n",
      "[6]\ttrain-auc:0.616593+0.00109519\ttest-auc:0.611095+0.00456803\n",
      "[7]\ttrain-auc:0.617369+0.00108098\ttest-auc:0.612224+0.00487875\n",
      "[8]\ttrain-auc:0.617792+0.000931205\ttest-auc:0.612396+0.00461584\n",
      "[9]\ttrain-auc:0.618161+0.000963262\ttest-auc:0.61239+0.00424911\n",
      "[10]\ttrain-auc:0.618857+0.00131923\ttest-auc:0.613437+0.00465807\n",
      "[11]\ttrain-auc:0.618594+0.0011615\ttest-auc:0.612913+0.00485671\n",
      "[12]\ttrain-auc:0.618918+0.000665659\ttest-auc:0.613532+0.00520748\n",
      "[13]\ttrain-auc:0.619151+0.000750551\ttest-auc:0.613845+0.00549365\n",
      "[14]\ttrain-auc:0.619465+0.000693545\ttest-auc:0.614276+0.00528041\n",
      "[15]\ttrain-auc:0.619197+0.000563146\ttest-auc:0.614336+0.00512966\n",
      "[16]\ttrain-auc:0.619439+0.00141776\ttest-auc:0.614244+0.00538019\n",
      "[17]\ttrain-auc:0.620215+0.00139426\ttest-auc:0.614977+0.00507809\n",
      "[18]\ttrain-auc:0.620425+0.00154425\ttest-auc:0.615339+0.00457337\n",
      "[19]\ttrain-auc:0.62078+0.00122947\ttest-auc:0.615872+0.00481176\n",
      "[20]\ttrain-auc:0.621357+0.000976289\ttest-auc:0.616046+0.00481851\n",
      "[21]\ttrain-auc:0.621692+0.00126114\ttest-auc:0.616106+0.00448645\n",
      "[22]\ttrain-auc:0.62158+0.00122544\ttest-auc:0.61594+0.00445466\n",
      "[23]\ttrain-auc:0.621983+0.000944127\ttest-auc:0.616317+0.0045567\n",
      "[24]\ttrain-auc:0.622441+0.00129645\ttest-auc:0.616918+0.00448184\n",
      "[25]\ttrain-auc:0.623133+0.00142482\ttest-auc:0.61712+0.00434081\n",
      "[26]\ttrain-auc:0.623603+0.00120853\ttest-auc:0.617646+0.00455875\n",
      "[27]\ttrain-auc:0.623824+0.00115225\ttest-auc:0.617982+0.00458018\n",
      "[28]\ttrain-auc:0.624669+0.00114802\ttest-auc:0.618695+0.00493344\n",
      "[29]\ttrain-auc:0.62494+0.00105889\ttest-auc:0.61916+0.00479283\n",
      "[30]\ttrain-auc:0.625258+0.00101249\ttest-auc:0.619359+0.00484833\n",
      "[31]\ttrain-auc:0.625622+0.00102459\ttest-auc:0.619662+0.00432655\n",
      "[32]\ttrain-auc:0.625918+0.00117255\ttest-auc:0.62005+0.00473737\n",
      "[33]\ttrain-auc:0.626505+0.00120092\ttest-auc:0.620632+0.00451656\n",
      "[34]\ttrain-auc:0.627208+0.00135456\ttest-auc:0.62137+0.00414094\n",
      "[35]\ttrain-auc:0.627684+0.00124491\ttest-auc:0.621849+0.00426856\n",
      "[36]\ttrain-auc:0.628156+0.00131775\ttest-auc:0.622145+0.00410374\n",
      "[37]\ttrain-auc:0.62844+0.0013983\ttest-auc:0.622305+0.00382506\n",
      "[38]\ttrain-auc:0.628926+0.00138325\ttest-auc:0.622806+0.00384595\n",
      "[39]\ttrain-auc:0.62941+0.00109613\ttest-auc:0.623279+0.00406808\n",
      "[40]\ttrain-auc:0.629757+0.00104242\ttest-auc:0.623646+0.00425009\n",
      "[41]\ttrain-auc:0.630118+0.000819866\ttest-auc:0.623927+0.00444449\n",
      "[42]\ttrain-auc:0.630608+0.000686943\ttest-auc:0.624313+0.00457414\n",
      "[43]\ttrain-auc:0.631091+0.000626515\ttest-auc:0.624591+0.00450606\n",
      "[44]\ttrain-auc:0.631449+0.000612115\ttest-auc:0.624794+0.00475397\n",
      "[45]\ttrain-auc:0.632025+0.000817589\ttest-auc:0.625158+0.00451181\n",
      "[46]\ttrain-auc:0.632364+0.000935591\ttest-auc:0.625294+0.00444902\n",
      "[47]\ttrain-auc:0.632702+0.000913428\ttest-auc:0.625481+0.00454183\n",
      "[48]\ttrain-auc:0.633132+0.000778104\ttest-auc:0.625941+0.00478038\n",
      "[49]\ttrain-auc:0.6335+0.000703225\ttest-auc:0.626193+0.00484423\n",
      "[50]\ttrain-auc:0.633953+0.000700509\ttest-auc:0.62661+0.00480278\n",
      "[51]\ttrain-auc:0.634349+0.000804008\ttest-auc:0.62687+0.0047065\n",
      "[52]\ttrain-auc:0.634607+0.000890447\ttest-auc:0.627046+0.0047293\n",
      "[53]\ttrain-auc:0.635097+0.000939177\ttest-auc:0.627488+0.00457566\n",
      "[54]\ttrain-auc:0.635431+0.00113274\ttest-auc:0.627546+0.00440475\n",
      "[55]\ttrain-auc:0.635951+0.0012154\ttest-auc:0.627962+0.0044091\n",
      "[56]\ttrain-auc:0.636408+0.00129381\ttest-auc:0.62827+0.00427421\n",
      "[57]\ttrain-auc:0.636696+0.00114531\ttest-auc:0.628579+0.00437616\n",
      "[58]\ttrain-auc:0.637056+0.00112498\ttest-auc:0.628769+0.00437701\n",
      "[59]\ttrain-auc:0.637468+0.00117783\ttest-auc:0.6291+0.00437645\n",
      "[60]\ttrain-auc:0.63786+0.00101607\ttest-auc:0.629225+0.0044759\n",
      "[61]\ttrain-auc:0.638167+0.000995382\ttest-auc:0.629323+0.00443228\n",
      "[62]\ttrain-auc:0.638394+0.000987225\ttest-auc:0.62945+0.00436741\n",
      "[63]\ttrain-auc:0.638624+0.000955826\ttest-auc:0.629585+0.0042527\n",
      "[64]\ttrain-auc:0.638936+0.000899695\ttest-auc:0.629802+0.00422156\n",
      "[65]\ttrain-auc:0.639231+0.000847725\ttest-auc:0.629978+0.00431\n",
      "[66]\ttrain-auc:0.639677+0.000937093\ttest-auc:0.630189+0.00434078\n",
      "[67]\ttrain-auc:0.639933+0.00100977\ttest-auc:0.630374+0.00425255\n",
      "[68]\ttrain-auc:0.640167+0.000973865\ttest-auc:0.63054+0.00412663\n",
      "[69]\ttrain-auc:0.640468+0.000851185\ttest-auc:0.630786+0.00416261\n",
      "[70]\ttrain-auc:0.6408+0.000752786\ttest-auc:0.631053+0.00416881\n",
      "[71]\ttrain-auc:0.640978+0.000764613\ttest-auc:0.631193+0.00415886\n",
      "[72]\ttrain-auc:0.641224+0.000675252\ttest-auc:0.631245+0.00414591\n",
      "[73]\ttrain-auc:0.641428+0.000745179\ttest-auc:0.631366+0.00408563\n",
      "[74]\ttrain-auc:0.641604+0.000659734\ttest-auc:0.631433+0.00414012\n",
      "[75]\ttrain-auc:0.641836+0.000651688\ttest-auc:0.63164+0.00426057\n",
      "[76]\ttrain-auc:0.642119+0.000739639\ttest-auc:0.631879+0.00421693\n",
      "[77]\ttrain-auc:0.642345+0.000734601\ttest-auc:0.632049+0.00421443\n",
      "[78]\ttrain-auc:0.642609+0.00066118\ttest-auc:0.632156+0.00426711\n",
      "[79]\ttrain-auc:0.642914+0.000606802\ttest-auc:0.632339+0.00433745\n",
      "[80]\ttrain-auc:0.643129+0.000637369\ttest-auc:0.632362+0.00441432\n",
      "[81]\ttrain-auc:0.643323+0.000642725\ttest-auc:0.632474+0.00441235\n",
      "[82]\ttrain-auc:0.643534+0.000623401\ttest-auc:0.632472+0.00440142\n",
      "[83]\ttrain-auc:0.643798+0.000657432\ttest-auc:0.63254+0.00430701\n",
      "[84]\ttrain-auc:0.644065+0.000631117\ttest-auc:0.632738+0.00429768\n",
      "[85]\ttrain-auc:0.644349+0.000568613\ttest-auc:0.632876+0.00427658\n",
      "[86]\ttrain-auc:0.644531+0.000501157\ttest-auc:0.633083+0.00433686\n",
      "[87]\ttrain-auc:0.644699+0.000513435\ttest-auc:0.633082+0.00433325\n",
      "[88]\ttrain-auc:0.644867+0.000500021\ttest-auc:0.633243+0.00425553\n",
      "[89]\ttrain-auc:0.645052+0.000534684\ttest-auc:0.633333+0.00416895\n",
      "[90]\ttrain-auc:0.645215+0.000506358\ttest-auc:0.63344+0.00412241\n",
      "[91]\ttrain-auc:0.645439+0.000555577\ttest-auc:0.633558+0.00408986\n",
      "[92]\ttrain-auc:0.645563+0.000565714\ttest-auc:0.633585+0.00409536\n",
      "[93]\ttrain-auc:0.645724+0.000533411\ttest-auc:0.633595+0.00410217\n",
      "[94]\ttrain-auc:0.645913+0.000528999\ttest-auc:0.633743+0.00404557\n",
      "[95]\ttrain-auc:0.646108+0.000578599\ttest-auc:0.633862+0.00400647\n",
      "[96]\ttrain-auc:0.646281+0.000605393\ttest-auc:0.633891+0.00400363\n",
      "[97]\ttrain-auc:0.646466+0.000637295\ttest-auc:0.634015+0.00397319\n",
      "[98]\ttrain-auc:0.646657+0.000689273\ttest-auc:0.634075+0.00394551\n",
      "[99]\ttrain-auc:0.646859+0.000708656\ttest-auc:0.634215+0.00392149\n",
      "[100]\ttrain-auc:0.647138+0.000722733\ttest-auc:0.634344+0.00396692\n",
      "[101]\ttrain-auc:0.647288+0.000741675\ttest-auc:0.634362+0.003927\n",
      "[102]\ttrain-auc:0.647454+0.000736625\ttest-auc:0.634447+0.00393636\n",
      "[103]\ttrain-auc:0.647596+0.000737535\ttest-auc:0.634495+0.00396898\n",
      "[104]\ttrain-auc:0.64775+0.000742768\ttest-auc:0.634598+0.00402572\n",
      "[105]\ttrain-auc:0.647922+0.000780621\ttest-auc:0.634664+0.00398635\n",
      "[106]\ttrain-auc:0.648074+0.000772962\ttest-auc:0.634698+0.0040066\n",
      "[107]\ttrain-auc:0.648264+0.000727116\ttest-auc:0.634715+0.00410147\n",
      "[108]\ttrain-auc:0.648405+0.000776733\ttest-auc:0.634742+0.00411093\n",
      "[109]\ttrain-auc:0.648604+0.000827226\ttest-auc:0.634859+0.00406247\n",
      "[110]\ttrain-auc:0.648756+0.000852515\ttest-auc:0.634941+0.00405038\n",
      "[111]\ttrain-auc:0.648912+0.000823241\ttest-auc:0.635005+0.00400604\n",
      "[112]\ttrain-auc:0.649091+0.000854255\ttest-auc:0.635127+0.00398723\n",
      "[113]\ttrain-auc:0.649281+0.000826138\ttest-auc:0.635196+0.00402396\n",
      "[114]\ttrain-auc:0.649487+0.000850338\ttest-auc:0.63528+0.00407991\n",
      "[115]\ttrain-auc:0.649592+0.00084904\ttest-auc:0.63531+0.00410275\n",
      "[116]\ttrain-auc:0.64971+0.000845941\ttest-auc:0.635369+0.00409799\n",
      "[117]\ttrain-auc:0.649859+0.00083796\ttest-auc:0.63543+0.00403544\n",
      "[118]\ttrain-auc:0.650047+0.000880068\ttest-auc:0.63551+0.00397716\n",
      "[119]\ttrain-auc:0.650211+0.000849479\ttest-auc:0.63556+0.00401988\n",
      "[120]\ttrain-auc:0.650366+0.000870399\ttest-auc:0.635626+0.00405498\n",
      "[121]\ttrain-auc:0.650495+0.000866637\ttest-auc:0.63572+0.00404875\n",
      "[122]\ttrain-auc:0.650609+0.000866899\ttest-auc:0.635759+0.00403428\n",
      "[123]\ttrain-auc:0.650763+0.000865171\ttest-auc:0.63578+0.00406089\n",
      "[124]\ttrain-auc:0.650932+0.000843641\ttest-auc:0.635828+0.00400724\n",
      "[125]\ttrain-auc:0.65104+0.000841251\ttest-auc:0.635865+0.00401459\n",
      "[126]\ttrain-auc:0.651169+0.000877037\ttest-auc:0.635876+0.003961\n",
      "[127]\ttrain-auc:0.651298+0.000855251\ttest-auc:0.635974+0.00396393\n"
     ]
    },
    {
     "name": "stdout",
     "output_type": "stream",
     "text": [
      "[128]\ttrain-auc:0.65146+0.000892513\ttest-auc:0.636069+0.00394744\n",
      "[129]\ttrain-auc:0.651595+0.000908936\ttest-auc:0.636078+0.00391364\n",
      "[130]\ttrain-auc:0.651709+0.000886874\ttest-auc:0.636131+0.00395064\n",
      "[131]\ttrain-auc:0.651834+0.000897765\ttest-auc:0.6361+0.00399059\n",
      "[132]\ttrain-auc:0.651931+0.00091922\ttest-auc:0.636063+0.00407028\n",
      "[133]\ttrain-auc:0.65206+0.000882732\ttest-auc:0.63609+0.00410879\n",
      "[134]\ttrain-auc:0.652137+0.000852553\ttest-auc:0.636088+0.00412513\n",
      "[135]\ttrain-auc:0.652301+0.000878242\ttest-auc:0.636152+0.00408973\n",
      "[136]\ttrain-auc:0.652436+0.000895515\ttest-auc:0.636199+0.00409447\n",
      "[137]\ttrain-auc:0.652555+0.000926061\ttest-auc:0.636123+0.00410827\n",
      "[138]\ttrain-auc:0.652675+0.000920658\ttest-auc:0.636169+0.00409358\n",
      "[139]\ttrain-auc:0.652801+0.000938521\ttest-auc:0.636229+0.00404289\n",
      "[140]\ttrain-auc:0.652898+0.000944317\ttest-auc:0.63623+0.00408139\n",
      "[141]\ttrain-auc:0.652988+0.00095582\ttest-auc:0.636266+0.00402571\n",
      "[142]\ttrain-auc:0.653071+0.000975253\ttest-auc:0.636267+0.00401579\n",
      "[143]\ttrain-auc:0.65318+0.000996226\ttest-auc:0.636268+0.00399073\n",
      "[144]\ttrain-auc:0.65337+0.000985716\ttest-auc:0.636368+0.00397991\n",
      "[145]\ttrain-auc:0.653505+0.000992775\ttest-auc:0.636427+0.00398875\n",
      "[146]\ttrain-auc:0.653632+0.000968977\ttest-auc:0.636385+0.00401211\n",
      "[147]\ttrain-auc:0.653743+0.000974869\ttest-auc:0.636362+0.00398786\n",
      "[148]\ttrain-auc:0.653835+0.000974838\ttest-auc:0.636316+0.00402813\n",
      "[149]\ttrain-auc:0.653974+0.00095574\ttest-auc:0.636317+0.00398514\n",
      "[150]\ttrain-auc:0.654103+0.000958656\ttest-auc:0.63631+0.00405271\n",
      "[151]\ttrain-auc:0.654217+0.000947122\ttest-auc:0.636297+0.00407976\n",
      "[152]\ttrain-auc:0.654358+0.0009471\ttest-auc:0.636336+0.00402397\n",
      "[153]\ttrain-auc:0.654431+0.000934972\ttest-auc:0.636302+0.00401165\n",
      "[154]\ttrain-auc:0.654515+0.000952253\ttest-auc:0.636328+0.00403726\n",
      "[155]\ttrain-auc:0.654631+0.000982281\ttest-auc:0.636372+0.00400397\n",
      "[156]\ttrain-auc:0.654759+0.000978812\ttest-auc:0.636396+0.00405956\n",
      "[157]\ttrain-auc:0.654878+0.000989382\ttest-auc:0.636409+0.00406942\n",
      "[158]\ttrain-auc:0.654951+0.000994636\ttest-auc:0.636428+0.00411769\n",
      "[159]\ttrain-auc:0.655085+0.000996674\ttest-auc:0.636465+0.0040704\n",
      "[160]\ttrain-auc:0.655201+0.000972071\ttest-auc:0.636448+0.00403733\n",
      "[161]\ttrain-auc:0.655289+0.000974837\ttest-auc:0.636444+0.0040469\n",
      "[162]\ttrain-auc:0.655371+0.000942171\ttest-auc:0.636431+0.00405916\n",
      "[163]\ttrain-auc:0.655446+0.000927039\ttest-auc:0.636469+0.00407782\n",
      "[164]\ttrain-auc:0.655566+0.000938941\ttest-auc:0.636534+0.00405447\n",
      "[165]\ttrain-auc:0.655685+0.000919497\ttest-auc:0.63655+0.00404667\n",
      "[166]\ttrain-auc:0.655817+0.000885123\ttest-auc:0.636565+0.00416396\n",
      "[167]\ttrain-auc:0.655921+0.000886885\ttest-auc:0.636592+0.00418248\n",
      "[168]\ttrain-auc:0.65606+0.000897037\ttest-auc:0.636601+0.00416144\n",
      "[169]\ttrain-auc:0.656174+0.000855473\ttest-auc:0.636622+0.00417702\n",
      "[170]\ttrain-auc:0.65628+0.000859569\ttest-auc:0.636628+0.00418345\n",
      "[171]\ttrain-auc:0.656366+0.000867373\ttest-auc:0.636662+0.0041699\n",
      "[172]\ttrain-auc:0.656452+0.000859095\ttest-auc:0.636708+0.00416728\n",
      "[173]\ttrain-auc:0.656553+0.000863419\ttest-auc:0.636719+0.00418205\n",
      "[174]\ttrain-auc:0.656695+0.000847205\ttest-auc:0.636805+0.00408995\n",
      "[175]\ttrain-auc:0.656809+0.000818379\ttest-auc:0.636747+0.00409181\n",
      "[176]\ttrain-auc:0.656899+0.000834721\ttest-auc:0.636755+0.00409933\n",
      "[177]\ttrain-auc:0.657003+0.000814043\ttest-auc:0.636712+0.00405067\n",
      "[178]\ttrain-auc:0.657097+0.000824762\ttest-auc:0.636766+0.00401406\n",
      "[179]\ttrain-auc:0.657155+0.000817941\ttest-auc:0.636761+0.00400108\n",
      "[180]\ttrain-auc:0.657243+0.000806919\ttest-auc:0.636784+0.00398048\n",
      "[181]\ttrain-auc:0.657345+0.000780199\ttest-auc:0.636779+0.00398528\n",
      "[182]\ttrain-auc:0.657415+0.000798634\ttest-auc:0.636773+0.00399785\n",
      "[183]\ttrain-auc:0.657499+0.000790527\ttest-auc:0.636799+0.00399966\n",
      "[184]\ttrain-auc:0.657585+0.000783004\ttest-auc:0.636806+0.00400432\n",
      "[185]\ttrain-auc:0.65767+0.00074715\ttest-auc:0.636841+0.0040199\n",
      "[186]\ttrain-auc:0.657752+0.000745217\ttest-auc:0.636879+0.00405815\n",
      "[187]\ttrain-auc:0.657861+0.000747522\ttest-auc:0.636895+0.00403198\n",
      "[188]\ttrain-auc:0.657985+0.000770236\ttest-auc:0.6369+0.00402785\n",
      "[189]\ttrain-auc:0.658105+0.000790999\ttest-auc:0.636941+0.00400569\n",
      "[190]\ttrain-auc:0.658206+0.000779163\ttest-auc:0.636954+0.00401334\n",
      "[191]\ttrain-auc:0.658312+0.0007911\ttest-auc:0.63697+0.00401743\n",
      "[192]\ttrain-auc:0.658409+0.000808275\ttest-auc:0.636968+0.00398735\n",
      "[193]\ttrain-auc:0.658511+0.000813881\ttest-auc:0.636931+0.00402523\n",
      "[194]\ttrain-auc:0.658584+0.000810488\ttest-auc:0.636937+0.00402933\n",
      "[195]\ttrain-auc:0.658672+0.000805619\ttest-auc:0.636914+0.00408477\n",
      "[196]\ttrain-auc:0.658762+0.000802605\ttest-auc:0.636927+0.00408549\n",
      "[197]\ttrain-auc:0.658868+0.000829824\ttest-auc:0.636982+0.00412796\n",
      "[198]\ttrain-auc:0.658996+0.000850061\ttest-auc:0.636966+0.00416386\n",
      "[199]\ttrain-auc:0.659054+0.000871906\ttest-auc:0.636974+0.00413606\n",
      "[200]\ttrain-auc:0.65914+0.00088928\ttest-auc:0.637021+0.00411984\n",
      "[201]\ttrain-auc:0.659258+0.000874761\ttest-auc:0.637013+0.00407764\n",
      "[202]\ttrain-auc:0.659386+0.000950675\ttest-auc:0.637095+0.00404758\n",
      "[203]\ttrain-auc:0.659469+0.000977132\ttest-auc:0.63704+0.00407555\n",
      "[204]\ttrain-auc:0.659548+0.000976765\ttest-auc:0.637032+0.00411842\n",
      "[205]\ttrain-auc:0.659638+0.00100581\ttest-auc:0.636989+0.00415004\n",
      "[206]\ttrain-auc:0.659717+0.000955119\ttest-auc:0.636944+0.00415621\n",
      "[207]\ttrain-auc:0.659831+0.000925308\ttest-auc:0.636923+0.00414783\n",
      "[208]\ttrain-auc:0.659937+0.000901514\ttest-auc:0.636924+0.00413239\n",
      "[209]\ttrain-auc:0.660026+0.000909048\ttest-auc:0.636933+0.004133\n",
      "[210]\ttrain-auc:0.660122+0.00091351\ttest-auc:0.636966+0.00415437\n",
      "[211]\ttrain-auc:0.660206+0.000906856\ttest-auc:0.636958+0.0041357\n",
      "[212]\ttrain-auc:0.660269+0.0009137\ttest-auc:0.636894+0.00416537\n",
      "[213]\ttrain-auc:0.66035+0.000929494\ttest-auc:0.636897+0.00418926\n",
      "[214]\ttrain-auc:0.660473+0.000931858\ttest-auc:0.636854+0.0042508\n",
      "[215]\ttrain-auc:0.660573+0.000925272\ttest-auc:0.636836+0.00424918\n",
      "[216]\ttrain-auc:0.66068+0.000967089\ttest-auc:0.636802+0.00425712\n",
      "[217]\ttrain-auc:0.660789+0.000971725\ttest-auc:0.636799+0.00426176\n",
      "[218]\ttrain-auc:0.660883+0.000968711\ttest-auc:0.636816+0.00426286\n",
      "[219]\ttrain-auc:0.660992+0.00100281\ttest-auc:0.636775+0.00424245\n",
      "[220]\ttrain-auc:0.661114+0.000985586\ttest-auc:0.636832+0.0042527\n",
      "[221]\ttrain-auc:0.661236+0.000958101\ttest-auc:0.636814+0.00427503\n",
      "[222]\ttrain-auc:0.661317+0.000947445\ttest-auc:0.636822+0.00432864\n",
      "[223]\ttrain-auc:0.661432+0.00098671\ttest-auc:0.636896+0.00429686\n",
      "[224]\ttrain-auc:0.661527+0.000946258\ttest-auc:0.636842+0.00430173\n",
      "[225]\ttrain-auc:0.661602+0.000954021\ttest-auc:0.636853+0.00428686\n",
      "[226]\ttrain-auc:0.661691+0.000996079\ttest-auc:0.636905+0.0042805\n",
      "[227]\ttrain-auc:0.661793+0.000981504\ttest-auc:0.636866+0.0042847\n",
      "[228]\ttrain-auc:0.661873+0.000966661\ttest-auc:0.636892+0.00427276\n",
      "[229]\ttrain-auc:0.661957+0.000967017\ttest-auc:0.636966+0.0043\n",
      "[230]\ttrain-auc:0.662044+0.000984807\ttest-auc:0.636918+0.00431254\n",
      "[231]\ttrain-auc:0.662142+0.000958893\ttest-auc:0.636891+0.00431111\n",
      "[232]\ttrain-auc:0.662211+0.000985206\ttest-auc:0.63691+0.00425765\n",
      "[233]\ttrain-auc:0.662265+0.00092943\ttest-auc:0.636894+0.00426515\n",
      "[234]\ttrain-auc:0.662333+0.000930563\ttest-auc:0.636863+0.0041987\n",
      "[235]\ttrain-auc:0.662393+0.000929111\ttest-auc:0.636948+0.00412242\n",
      "[236]\ttrain-auc:0.662476+0.000900573\ttest-auc:0.636958+0.00414094\n",
      "[237]\ttrain-auc:0.662551+0.000892679\ttest-auc:0.636893+0.00412731\n",
      "[238]\ttrain-auc:0.662642+0.000905369\ttest-auc:0.636926+0.00408912\n",
      "[239]\ttrain-auc:0.662717+0.000928095\ttest-auc:0.636952+0.00417005\n",
      "[240]\ttrain-auc:0.662839+0.000944835\ttest-auc:0.636941+0.00415018\n",
      "[241]\ttrain-auc:0.662925+0.000946034\ttest-auc:0.636952+0.00411969\n",
      "[242]\ttrain-auc:0.662987+0.000912391\ttest-auc:0.636936+0.00414038\n",
      "[243]\ttrain-auc:0.663066+0.000963505\ttest-auc:0.636922+0.00413871\n",
      "[244]\ttrain-auc:0.663159+0.000942043\ttest-auc:0.636871+0.00413393\n",
      "[245]\ttrain-auc:0.66324+0.000946082\ttest-auc:0.63688+0.00414139\n",
      "[246]\ttrain-auc:0.663323+0.000984402\ttest-auc:0.636875+0.00416735\n",
      "[247]\ttrain-auc:0.663389+0.000964423\ttest-auc:0.636885+0.00411123\n",
      "[248]\ttrain-auc:0.663506+0.000954962\ttest-auc:0.636885+0.00409207\n",
      "[249]\ttrain-auc:0.663585+0.000934919\ttest-auc:0.636918+0.00412515\n",
      "[250]\ttrain-auc:0.663703+0.000913443\ttest-auc:0.63694+0.00413135\n",
      "[251]\ttrain-auc:0.663768+0.000906728\ttest-auc:0.636949+0.00413966\n"
     ]
    },
    {
     "name": "stderr",
     "output_type": "stream",
     "text": [
      "C:\\Users\\wogur\\Anaconda3\\lib\\site-packages\\sklearn\\preprocessing\\label.py:151: DeprecationWarning: The truth value of an empty array is ambiguous. Returning False, but in future this will result in an error. Use `array.size > 0` to check that an array is not empty.\n",
      "  if diff:\n",
      "C:\\Users\\wogur\\Anaconda3\\lib\\site-packages\\sklearn\\preprocessing\\label.py:151: DeprecationWarning: The truth value of an empty array is ambiguous. Returning False, but in future this will result in an error. Use `array.size > 0` to check that an array is not empty.\n",
      "  if diff:\n"
     ]
    },
    {
     "name": "stdout",
     "output_type": "stream",
     "text": [
      "\n",
      "Model Report[train data]\n",
      "Accuracy : 0.9637\n",
      "AUC Score (Train): 0.655875\n",
      "\n",
      "Model Report[validation data]\n",
      "Accuracy : 0.9633\n",
      "AUC Score (Train): 0.643022\n",
      "Gini: 0.13778, Max Gini: 0.48166, Normlization Gini: 0.28604\n"
     ]
    },
    {
     "data": {
      "image/png": "[encoded data removed]",
      "text/plain": [
       "<Figure size 720x3600 with 1 Axes>"
      ]
     },
     "metadata": {},
     "output_type": "display_data"
    },
    {
     "name": "stdout",
     "output_type": "stream",
     "text": [
      "Wall time: 42.6 s\n"
     ]
    }
   ],
   "source": [
    "%%time\n",
    "xgb4 = xgb.XGBClassifier(\n",
    "    learning_rate =0.1,\n",
    "    n_estimators=2000,\n",
    "    max_depth=3,\n",
    "    min_child_weight=1,\n",
    "    gamma=0,\n",
    "    subsample= 0.7,\n",
    "    colsample_bytree=0.6,\n",
    "    reg_alpha=1e-05,\n",
    "    objective= 'gpu:binary:logistic',\n",
    "    nthread=4,\n",
    "    scale_pos_weight=1,\n",
    "    tree_method='gpu_hist',\n",
    "    predictor='gpu_predictor',\n",
    "    seed=1223)\n",
    "alg4 = modelfit(xgb4, train, val)"
   ]
  },
  {
   "cell_type": "code",
   "execution_count": 76,
   "metadata": {},
   "outputs": [
    {
     "data": {
      "text/html": [
       "<div>\n",
       "<style scoped>\n",
       "    .dataframe tbody tr th:only-of-type {\n",
       "        vertical-align: middle;\n",
       "    }\n",
       "\n",
       "    .dataframe tbody tr th {\n",
       "        vertical-align: top;\n",
       "    }\n",
       "\n",
       "    .dataframe thead th {\n",
       "        text-align: right;\n",
       "    }\n",
       "</style>\n",
       "<table border=\"1\" class=\"dataframe\">\n",
       "  <thead>\n",
       "    <tr style=\"text-align: right;\">\n",
       "      <th></th>\n",
       "      <th>id</th>\n",
       "      <th>value</th>\n",
       "      <th>rank</th>\n",
       "      <th>idx</th>\n",
       "    </tr>\n",
       "  </thead>\n",
       "  <tbody>\n",
       "    <tr>\n",
       "      <th>83</th>\n",
       "      <td>ps_ind_01</td>\n",
       "      <td>NaN</td>\n",
       "      <td>NaN</td>\n",
       "      <td>1</td>\n",
       "    </tr>\n",
       "    <tr>\n",
       "      <th>2</th>\n",
       "      <td>ps_ind_03</td>\n",
       "      <td>148.0</td>\n",
       "      <td>3.0</td>\n",
       "      <td>2</td>\n",
       "    </tr>\n",
       "    <tr>\n",
       "      <th>18</th>\n",
       "      <td>ps_ind_06_bin</td>\n",
       "      <td>23.0</td>\n",
       "      <td>19.0</td>\n",
       "      <td>3</td>\n",
       "    </tr>\n",
       "    <tr>\n",
       "      <th>12</th>\n",
       "      <td>ps_ind_07_bin</td>\n",
       "      <td>30.0</td>\n",
       "      <td>13.0</td>\n",
       "      <td>4</td>\n",
       "    </tr>\n",
       "    <tr>\n",
       "      <th>24</th>\n",
       "      <td>ps_ind_08_bin</td>\n",
       "      <td>19.0</td>\n",
       "      <td>25.0</td>\n",
       "      <td>5</td>\n",
       "    </tr>\n",
       "    <tr>\n",
       "      <th>27</th>\n",
       "      <td>ps_ind_09_bin</td>\n",
       "      <td>18.0</td>\n",
       "      <td>28.0</td>\n",
       "      <td>6</td>\n",
       "    </tr>\n",
       "    <tr>\n",
       "      <th>84</th>\n",
       "      <td>ps_ind_10_bin</td>\n",
       "      <td>NaN</td>\n",
       "      <td>NaN</td>\n",
       "      <td>7</td>\n",
       "    </tr>\n",
       "    <tr>\n",
       "      <th>85</th>\n",
       "      <td>ps_ind_11_bin</td>\n",
       "      <td>NaN</td>\n",
       "      <td>NaN</td>\n",
       "      <td>8</td>\n",
       "    </tr>\n",
       "    <tr>\n",
       "      <th>65</th>\n",
       "      <td>ps_ind_12_bin</td>\n",
       "      <td>7.0</td>\n",
       "      <td>66.0</td>\n",
       "      <td>9</td>\n",
       "    </tr>\n",
       "    <tr>\n",
       "      <th>86</th>\n",
       "      <td>ps_ind_13_bin</td>\n",
       "      <td>NaN</td>\n",
       "      <td>NaN</td>\n",
       "      <td>10</td>\n",
       "    </tr>\n",
       "    <tr>\n",
       "      <th>45</th>\n",
       "      <td>ps_ind_14</td>\n",
       "      <td>12.0</td>\n",
       "      <td>46.0</td>\n",
       "      <td>11</td>\n",
       "    </tr>\n",
       "    <tr>\n",
       "      <th>3</th>\n",
       "      <td>ps_ind_15</td>\n",
       "      <td>131.0</td>\n",
       "      <td>4.0</td>\n",
       "      <td>12</td>\n",
       "    </tr>\n",
       "    <tr>\n",
       "      <th>14</th>\n",
       "      <td>ps_ind_16_bin</td>\n",
       "      <td>27.0</td>\n",
       "      <td>15.0</td>\n",
       "      <td>13</td>\n",
       "    </tr>\n",
       "    <tr>\n",
       "      <th>8</th>\n",
       "      <td>ps_ind_17_bin</td>\n",
       "      <td>49.0</td>\n",
       "      <td>9.0</td>\n",
       "      <td>14</td>\n",
       "    </tr>\n",
       "    <tr>\n",
       "      <th>43</th>\n",
       "      <td>ps_ind_18_bin</td>\n",
       "      <td>12.0</td>\n",
       "      <td>44.0</td>\n",
       "      <td>15</td>\n",
       "    </tr>\n",
       "    <tr>\n",
       "      <th>5</th>\n",
       "      <td>ps_reg_01</td>\n",
       "      <td>90.0</td>\n",
       "      <td>6.0</td>\n",
       "      <td>16</td>\n",
       "    </tr>\n",
       "    <tr>\n",
       "      <th>4</th>\n",
       "      <td>ps_reg_02</td>\n",
       "      <td>113.0</td>\n",
       "      <td>5.0</td>\n",
       "      <td>17</td>\n",
       "    </tr>\n",
       "    <tr>\n",
       "      <th>0</th>\n",
       "      <td>ps_reg_03</td>\n",
       "      <td>248.0</td>\n",
       "      <td>1.0</td>\n",
       "      <td>18</td>\n",
       "    </tr>\n",
       "    <tr>\n",
       "      <th>87</th>\n",
       "      <td>ps_car_11</td>\n",
       "      <td>NaN</td>\n",
       "      <td>NaN</td>\n",
       "      <td>19</td>\n",
       "    </tr>\n",
       "    <tr>\n",
       "      <th>6</th>\n",
       "      <td>ps_car_12</td>\n",
       "      <td>86.0</td>\n",
       "      <td>7.0</td>\n",
       "      <td>20</td>\n",
       "    </tr>\n",
       "    <tr>\n",
       "      <th>1</th>\n",
       "      <td>ps_car_13</td>\n",
       "      <td>239.0</td>\n",
       "      <td>2.0</td>\n",
       "      <td>21</td>\n",
       "    </tr>\n",
       "    <tr>\n",
       "      <th>88</th>\n",
       "      <td>ps_car_14</td>\n",
       "      <td>NaN</td>\n",
       "      <td>NaN</td>\n",
       "      <td>22</td>\n",
       "    </tr>\n",
       "    <tr>\n",
       "      <th>89</th>\n",
       "      <td>ps_car_15</td>\n",
       "      <td>NaN</td>\n",
       "      <td>NaN</td>\n",
       "      <td>23</td>\n",
       "    </tr>\n",
       "    <tr>\n",
       "      <th>90</th>\n",
       "      <td>ps_calc_01</td>\n",
       "      <td>NaN</td>\n",
       "      <td>NaN</td>\n",
       "      <td>24</td>\n",
       "    </tr>\n",
       "    <tr>\n",
       "      <th>7</th>\n",
       "      <td>ps_calc_02</td>\n",
       "      <td>57.0</td>\n",
       "      <td>8.0</td>\n",
       "      <td>25</td>\n",
       "    </tr>\n",
       "    <tr>\n",
       "      <th>91</th>\n",
       "      <td>ps_calc_03</td>\n",
       "      <td>NaN</td>\n",
       "      <td>NaN</td>\n",
       "      <td>26</td>\n",
       "    </tr>\n",
       "    <tr>\n",
       "      <th>92</th>\n",
       "      <td>ps_calc_04</td>\n",
       "      <td>NaN</td>\n",
       "      <td>NaN</td>\n",
       "      <td>27</td>\n",
       "    </tr>\n",
       "    <tr>\n",
       "      <th>93</th>\n",
       "      <td>ps_calc_05</td>\n",
       "      <td>NaN</td>\n",
       "      <td>NaN</td>\n",
       "      <td>28</td>\n",
       "    </tr>\n",
       "    <tr>\n",
       "      <th>94</th>\n",
       "      <td>ps_calc_06</td>\n",
       "      <td>NaN</td>\n",
       "      <td>NaN</td>\n",
       "      <td>29</td>\n",
       "    </tr>\n",
       "    <tr>\n",
       "      <th>95</th>\n",
       "      <td>ps_calc_07</td>\n",
       "      <td>NaN</td>\n",
       "      <td>NaN</td>\n",
       "      <td>30</td>\n",
       "    </tr>\n",
       "    <tr>\n",
       "      <th>...</th>\n",
       "      <td>...</td>\n",
       "      <td>...</td>\n",
       "      <td>...</td>\n",
       "      <td>...</td>\n",
       "    </tr>\n",
       "    <tr>\n",
       "      <th>188</th>\n",
       "      <td>ps_car_11_cat_75</td>\n",
       "      <td>NaN</td>\n",
       "      <td>NaN</td>\n",
       "      <td>189</td>\n",
       "    </tr>\n",
       "    <tr>\n",
       "      <th>189</th>\n",
       "      <td>ps_car_11_cat_76</td>\n",
       "      <td>NaN</td>\n",
       "      <td>NaN</td>\n",
       "      <td>190</td>\n",
       "    </tr>\n",
       "    <tr>\n",
       "      <th>190</th>\n",
       "      <td>ps_car_11_cat_77</td>\n",
       "      <td>NaN</td>\n",
       "      <td>NaN</td>\n",
       "      <td>191</td>\n",
       "    </tr>\n",
       "    <tr>\n",
       "      <th>191</th>\n",
       "      <td>ps_car_11_cat_78</td>\n",
       "      <td>NaN</td>\n",
       "      <td>NaN</td>\n",
       "      <td>192</td>\n",
       "    </tr>\n",
       "    <tr>\n",
       "      <th>192</th>\n",
       "      <td>ps_car_11_cat_79</td>\n",
       "      <td>NaN</td>\n",
       "      <td>NaN</td>\n",
       "      <td>193</td>\n",
       "    </tr>\n",
       "    <tr>\n",
       "      <th>193</th>\n",
       "      <td>ps_car_11_cat_80</td>\n",
       "      <td>NaN</td>\n",
       "      <td>NaN</td>\n",
       "      <td>194</td>\n",
       "    </tr>\n",
       "    <tr>\n",
       "      <th>194</th>\n",
       "      <td>ps_car_11_cat_81</td>\n",
       "      <td>NaN</td>\n",
       "      <td>NaN</td>\n",
       "      <td>195</td>\n",
       "    </tr>\n",
       "    <tr>\n",
       "      <th>195</th>\n",
       "      <td>ps_car_11_cat_82</td>\n",
       "      <td>NaN</td>\n",
       "      <td>NaN</td>\n",
       "      <td>196</td>\n",
       "    </tr>\n",
       "    <tr>\n",
       "      <th>196</th>\n",
       "      <td>ps_car_11_cat_83</td>\n",
       "      <td>NaN</td>\n",
       "      <td>NaN</td>\n",
       "      <td>197</td>\n",
       "    </tr>\n",
       "    <tr>\n",
       "      <th>197</th>\n",
       "      <td>ps_car_11_cat_84</td>\n",
       "      <td>NaN</td>\n",
       "      <td>NaN</td>\n",
       "      <td>198</td>\n",
       "    </tr>\n",
       "    <tr>\n",
       "      <th>198</th>\n",
       "      <td>ps_car_11_cat_85</td>\n",
       "      <td>NaN</td>\n",
       "      <td>NaN</td>\n",
       "      <td>199</td>\n",
       "    </tr>\n",
       "    <tr>\n",
       "      <th>199</th>\n",
       "      <td>ps_car_11_cat_86</td>\n",
       "      <td>NaN</td>\n",
       "      <td>NaN</td>\n",
       "      <td>200</td>\n",
       "    </tr>\n",
       "    <tr>\n",
       "      <th>200</th>\n",
       "      <td>ps_car_11_cat_87</td>\n",
       "      <td>NaN</td>\n",
       "      <td>NaN</td>\n",
       "      <td>201</td>\n",
       "    </tr>\n",
       "    <tr>\n",
       "      <th>201</th>\n",
       "      <td>ps_car_11_cat_88</td>\n",
       "      <td>NaN</td>\n",
       "      <td>NaN</td>\n",
       "      <td>202</td>\n",
       "    </tr>\n",
       "    <tr>\n",
       "      <th>202</th>\n",
       "      <td>ps_car_11_cat_89</td>\n",
       "      <td>NaN</td>\n",
       "      <td>NaN</td>\n",
       "      <td>203</td>\n",
       "    </tr>\n",
       "    <tr>\n",
       "      <th>203</th>\n",
       "      <td>ps_car_11_cat_90</td>\n",
       "      <td>NaN</td>\n",
       "      <td>NaN</td>\n",
       "      <td>204</td>\n",
       "    </tr>\n",
       "    <tr>\n",
       "      <th>204</th>\n",
       "      <td>ps_car_11_cat_91</td>\n",
       "      <td>NaN</td>\n",
       "      <td>NaN</td>\n",
       "      <td>205</td>\n",
       "    </tr>\n",
       "    <tr>\n",
       "      <th>205</th>\n",
       "      <td>ps_car_11_cat_92</td>\n",
       "      <td>NaN</td>\n",
       "      <td>NaN</td>\n",
       "      <td>206</td>\n",
       "    </tr>\n",
       "    <tr>\n",
       "      <th>206</th>\n",
       "      <td>ps_car_11_cat_93</td>\n",
       "      <td>NaN</td>\n",
       "      <td>NaN</td>\n",
       "      <td>207</td>\n",
       "    </tr>\n",
       "    <tr>\n",
       "      <th>207</th>\n",
       "      <td>ps_car_11_cat_94</td>\n",
       "      <td>NaN</td>\n",
       "      <td>NaN</td>\n",
       "      <td>208</td>\n",
       "    </tr>\n",
       "    <tr>\n",
       "      <th>208</th>\n",
       "      <td>ps_car_11_cat_95</td>\n",
       "      <td>NaN</td>\n",
       "      <td>NaN</td>\n",
       "      <td>209</td>\n",
       "    </tr>\n",
       "    <tr>\n",
       "      <th>209</th>\n",
       "      <td>ps_car_11_cat_96</td>\n",
       "      <td>NaN</td>\n",
       "      <td>NaN</td>\n",
       "      <td>210</td>\n",
       "    </tr>\n",
       "    <tr>\n",
       "      <th>210</th>\n",
       "      <td>ps_car_11_cat_97</td>\n",
       "      <td>NaN</td>\n",
       "      <td>NaN</td>\n",
       "      <td>211</td>\n",
       "    </tr>\n",
       "    <tr>\n",
       "      <th>211</th>\n",
       "      <td>ps_car_11_cat_98</td>\n",
       "      <td>NaN</td>\n",
       "      <td>NaN</td>\n",
       "      <td>212</td>\n",
       "    </tr>\n",
       "    <tr>\n",
       "      <th>212</th>\n",
       "      <td>ps_car_11_cat_99</td>\n",
       "      <td>NaN</td>\n",
       "      <td>NaN</td>\n",
       "      <td>213</td>\n",
       "    </tr>\n",
       "    <tr>\n",
       "      <th>213</th>\n",
       "      <td>ps_car_11_cat_100</td>\n",
       "      <td>NaN</td>\n",
       "      <td>NaN</td>\n",
       "      <td>214</td>\n",
       "    </tr>\n",
       "    <tr>\n",
       "      <th>214</th>\n",
       "      <td>ps_car_11_cat_101</td>\n",
       "      <td>NaN</td>\n",
       "      <td>NaN</td>\n",
       "      <td>215</td>\n",
       "    </tr>\n",
       "    <tr>\n",
       "      <th>215</th>\n",
       "      <td>ps_car_11_cat_102</td>\n",
       "      <td>NaN</td>\n",
       "      <td>NaN</td>\n",
       "      <td>216</td>\n",
       "    </tr>\n",
       "    <tr>\n",
       "      <th>216</th>\n",
       "      <td>ps_car_11_cat_103</td>\n",
       "      <td>NaN</td>\n",
       "      <td>NaN</td>\n",
       "      <td>217</td>\n",
       "    </tr>\n",
       "    <tr>\n",
       "      <th>217</th>\n",
       "      <td>ps_car_11_cat_104</td>\n",
       "      <td>NaN</td>\n",
       "      <td>NaN</td>\n",
       "      <td>218</td>\n",
       "    </tr>\n",
       "  </tbody>\n",
       "</table>\n",
       "<p>218 rows × 4 columns</p>\n",
       "</div>"
      ],
      "text/plain": [
       "                    id  value  rank  idx\n",
       "83           ps_ind_01    NaN   NaN    1\n",
       "2            ps_ind_03  148.0   3.0    2\n",
       "18       ps_ind_06_bin   23.0  19.0    3\n",
       "12       ps_ind_07_bin   30.0  13.0    4\n",
       "24       ps_ind_08_bin   19.0  25.0    5\n",
       "27       ps_ind_09_bin   18.0  28.0    6\n",
       "84       ps_ind_10_bin    NaN   NaN    7\n",
       "85       ps_ind_11_bin    NaN   NaN    8\n",
       "65       ps_ind_12_bin    7.0  66.0    9\n",
       "86       ps_ind_13_bin    NaN   NaN   10\n",
       "45           ps_ind_14   12.0  46.0   11\n",
       "3            ps_ind_15  131.0   4.0   12\n",
       "14       ps_ind_16_bin   27.0  15.0   13\n",
       "8        ps_ind_17_bin   49.0   9.0   14\n",
       "43       ps_ind_18_bin   12.0  44.0   15\n",
       "5            ps_reg_01   90.0   6.0   16\n",
       "4            ps_reg_02  113.0   5.0   17\n",
       "0            ps_reg_03  248.0   1.0   18\n",
       "87           ps_car_11    NaN   NaN   19\n",
       "6            ps_car_12   86.0   7.0   20\n",
       "1            ps_car_13  239.0   2.0   21\n",
       "88           ps_car_14    NaN   NaN   22\n",
       "89           ps_car_15    NaN   NaN   23\n",
       "90          ps_calc_01    NaN   NaN   24\n",
       "7           ps_calc_02   57.0   8.0   25\n",
       "91          ps_calc_03    NaN   NaN   26\n",
       "92          ps_calc_04    NaN   NaN   27\n",
       "93          ps_calc_05    NaN   NaN   28\n",
       "94          ps_calc_06    NaN   NaN   29\n",
       "95          ps_calc_07    NaN   NaN   30\n",
       "..                 ...    ...   ...  ...\n",
       "188   ps_car_11_cat_75    NaN   NaN  189\n",
       "189   ps_car_11_cat_76    NaN   NaN  190\n",
       "190   ps_car_11_cat_77    NaN   NaN  191\n",
       "191   ps_car_11_cat_78    NaN   NaN  192\n",
       "192   ps_car_11_cat_79    NaN   NaN  193\n",
       "193   ps_car_11_cat_80    NaN   NaN  194\n",
       "194   ps_car_11_cat_81    NaN   NaN  195\n",
       "195   ps_car_11_cat_82    NaN   NaN  196\n",
       "196   ps_car_11_cat_83    NaN   NaN  197\n",
       "197   ps_car_11_cat_84    NaN   NaN  198\n",
       "198   ps_car_11_cat_85    NaN   NaN  199\n",
       "199   ps_car_11_cat_86    NaN   NaN  200\n",
       "200   ps_car_11_cat_87    NaN   NaN  201\n",
       "201   ps_car_11_cat_88    NaN   NaN  202\n",
       "202   ps_car_11_cat_89    NaN   NaN  203\n",
       "203   ps_car_11_cat_90    NaN   NaN  204\n",
       "204   ps_car_11_cat_91    NaN   NaN  205\n",
       "205   ps_car_11_cat_92    NaN   NaN  206\n",
       "206   ps_car_11_cat_93    NaN   NaN  207\n",
       "207   ps_car_11_cat_94    NaN   NaN  208\n",
       "208   ps_car_11_cat_95    NaN   NaN  209\n",
       "209   ps_car_11_cat_96    NaN   NaN  210\n",
       "210   ps_car_11_cat_97    NaN   NaN  211\n",
       "211   ps_car_11_cat_98    NaN   NaN  212\n",
       "212   ps_car_11_cat_99    NaN   NaN  213\n",
       "213  ps_car_11_cat_100    NaN   NaN  214\n",
       "214  ps_car_11_cat_101    NaN   NaN  215\n",
       "215  ps_car_11_cat_102    NaN   NaN  216\n",
       "216  ps_car_11_cat_103    NaN   NaN  217\n",
       "217  ps_car_11_cat_104    NaN   NaN  218\n",
       "\n",
       "[218 rows x 4 columns]"
      ]
     },
     "execution_count": 76,
     "metadata": {},
     "output_type": "execute_result"
    }
   ],
   "source": [
    "filename = 'f_score4.csv'\n",
    "\n",
    "value = pd.Series(alg4.get_booster().get_fscore()).sort_values(ascending=False)\n",
    "ranking = pd.DataFrame({'id':value.index, 'value':value, 'rank':list(range(1,len(value)+1))})\n",
    "idx_df = pd.DataFrame({'id':train_origin.columns[2:], 'idx':list(range(1,len(train_origin.columns[2:])+1))})\n",
    "f_score_df = pd.merge(ranking,idx_df, how='right')\n",
    "f_score_df = f_score_df.sort_values(by='idx')\n",
    "f_score_df.to_csv('../../input/' + filename)\n",
    "f_score_df"
   ]
  },
  {
   "cell_type": "markdown",
   "metadata": {},
   "source": [
    "## 6. Submission"
   ]
  },
  {
   "cell_type": "code",
   "execution_count": 77,
   "metadata": {},
   "outputs": [
    {
     "data": {
      "text/plain": [
       "XGBClassifier(base_score=0.5, booster='gbtree', colsample_bylevel=1,\n",
       "       colsample_bytree=0.6, gamma=0, learning_rate=0.1, max_delta_step=0,\n",
       "       max_depth=3, min_child_weight=1, missing=None, n_estimators=306,\n",
       "       n_jobs=1, nthread=4, objective='gpu:binary:logistic',\n",
       "       predictor='gpu_predictor', random_state=0, reg_alpha=1e-05,\n",
       "       reg_lambda=1, scale_pos_weight=1, seed=1223, silent=True,\n",
       "       subsample=0.7, tree_method='gpu_hist')"
      ]
     },
     "execution_count": 77,
     "metadata": {},
     "output_type": "execute_result"
    }
   ],
   "source": [
    "predictors = [x for x in train_t.columns if x not in ['id','target']]\n",
    "alg4.fit(train_t[predictors], train_t['target'], eval_metric='auc')"
   ]
  },
  {
   "cell_type": "code",
   "execution_count": 78,
   "metadata": {},
   "outputs": [],
   "source": [
    "test_pred = alg4.predict_proba(test)[:,1]"
   ]
  },
  {
   "cell_type": "code",
   "execution_count": 79,
   "metadata": {},
   "outputs": [],
   "source": [
    "filename = 'submission9.csv'\n",
    "pd.DataFrame({'id':test_idx, 'target':test_pred}).to_csv('../../input/' + filename,index=False)"
   ]
  },
  {
   "cell_type": "code",
   "execution_count": null,
   "metadata": {},
   "outputs": [],
   "source": []
  }
 ],
 "metadata": {
  "kernelspec": {
   "display_name": "Python 3",
   "language": "python",
   "name": "python3"
  },
  "language_info": {
   "codemirror_mode": {
    "name": "ipython",
    "version": 3
   },
   "file_extension": ".py",
   "mimetype": "text/x-python",
   "name": "python",
   "nbconvert_exporter": "python",
   "pygments_lexer": "ipython3",
   "version": "3.6.5"
  }
 },
 "nbformat": 4,
 "nbformat_minor": 2
}
