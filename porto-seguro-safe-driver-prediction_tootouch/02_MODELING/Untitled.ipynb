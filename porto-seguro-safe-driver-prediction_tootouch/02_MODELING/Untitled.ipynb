{
 "cells": [
  {
   "cell_type": "code",
   "execution_count": 1,
   "metadata": {},
   "outputs": [],
   "source": [
    "from paramsearch import paramsearch\n",
    "from itertools import product,chain\n"
   ]
  },
  {
   "cell_type": "code",
   "execution_count": 2,
   "metadata": {},
   "outputs": [],
   "source": [
    "params = {'depth':[3,1,2,6,4,5,7,8,9,10],\n",
    "          'iterations':[250,100,500,1000],\n",
    "          'learning_rate':[0.03,0.001,0.01,0.1,0.2,0.3],\n",
    "          'l2_leaf_reg':[3,1,5,10,100],\n",
    "          'border_count':[32,5,10,20,50,100,200],\n",
    "          'thread_count':4}"
   ]
  },
  {
   "cell_type": "code",
   "execution_count": 17,
   "metadata": {},
   "outputs": [
    {
     "name": "stdout",
     "output_type": "stream",
     "text": [
      "{'depth': 3, 'iterations': 250, 'learning_rate': 0.03, 'l2_leaf_reg': 3, 'border_count': 5, 'thread_count': 4}\n",
      "{'depth': 3, 'iterations': 250, 'learning_rate': 0.03, 'l2_leaf_reg': 3, 'border_count': 10, 'thread_count': 4}\n",
      "{'depth': 3, 'iterations': 250, 'learning_rate': 0.03, 'l2_leaf_reg': 3, 'border_count': 20, 'thread_count': 4}\n",
      "{'depth': 3, 'iterations': 250, 'learning_rate': 0.03, 'l2_leaf_reg': 3, 'border_count': 50, 'thread_count': 4}\n",
      "{'depth': 3, 'iterations': 250, 'learning_rate': 0.03, 'l2_leaf_reg': 3, 'border_count': 100, 'thread_count': 4}\n",
      "{'depth': 3, 'iterations': 250, 'learning_rate': 0.03, 'l2_leaf_reg': 3, 'border_count': 200, 'thread_count': 4}\n"
     ]
    }
   ],
   "source": [
    "for i in ps.grid_search(['border_count']):\n",
    "    print(i)"
   ]
  },
  {
   "cell_type": "code",
   "execution_count": 18,
   "metadata": {},
   "outputs": [],
   "source": [
    "ps = paramsearch(params)"
   ]
  },
  {
   "cell_type": "code",
   "execution_count": 19,
   "metadata": {},
   "outputs": [
    {
     "data": {
      "text/plain": [
       "{'depth': [3, 1, 2, 6, 4, 5, 7, 8, 9, 10],\n",
       " 'iterations': [250, 100, 500, 1000],\n",
       " 'learning_rate': [0.03, 0.001, 0.01, 0.1, 0.2, 0.3],\n",
       " 'l2_leaf_reg': [3, 1, 5, 10, 100],\n",
       " 'border_count': [32, 5, 10, 20, 50, 100, 200],\n",
       " 'thread_count': [4]}"
      ]
     },
     "execution_count": 19,
     "metadata": {},
     "output_type": "execute_result"
    }
   ],
   "source": [
    "ps.pdict"
   ]
  },
  {
   "cell_type": "code",
   "execution_count": 21,
   "metadata": {},
   "outputs": [
    {
     "name": "stdout",
     "output_type": "stream",
     "text": [
      "{'depth': 3, 'iterations': 250, 'learning_rate': 0.001, 'l2_leaf_reg': 3, 'border_count': 32, 'thread_count': 4}\n",
      "{'depth': 3, 'iterations': 250, 'learning_rate': 0.01, 'l2_leaf_reg': 3, 'border_count': 32, 'thread_count': 4}\n",
      "{'depth': 3, 'iterations': 250, 'learning_rate': 0.1, 'l2_leaf_reg': 3, 'border_count': 32, 'thread_count': 4}\n",
      "{'depth': 3, 'iterations': 250, 'learning_rate': 0.2, 'l2_leaf_reg': 3, 'border_count': 32, 'thread_count': 4}\n",
      "{'depth': 3, 'iterations': 250, 'learning_rate': 0.3, 'l2_leaf_reg': 3, 'border_count': 32, 'thread_count': 4}\n",
      "{'depth': 3, 'iterations': 100, 'learning_rate': 0.03, 'l2_leaf_reg': 3, 'border_count': 32, 'thread_count': 4}\n",
      "{'depth': 3, 'iterations': 100, 'learning_rate': 0.001, 'l2_leaf_reg': 3, 'border_count': 32, 'thread_count': 4}\n",
      "{'depth': 3, 'iterations': 100, 'learning_rate': 0.01, 'l2_leaf_reg': 3, 'border_count': 32, 'thread_count': 4}\n",
      "{'depth': 3, 'iterations': 100, 'learning_rate': 0.1, 'l2_leaf_reg': 3, 'border_count': 32, 'thread_count': 4}\n",
      "{'depth': 3, 'iterations': 100, 'learning_rate': 0.2, 'l2_leaf_reg': 3, 'border_count': 32, 'thread_count': 4}\n",
      "{'depth': 3, 'iterations': 100, 'learning_rate': 0.3, 'l2_leaf_reg': 3, 'border_count': 32, 'thread_count': 4}\n",
      "{'depth': 3, 'iterations': 500, 'learning_rate': 0.03, 'l2_leaf_reg': 3, 'border_count': 32, 'thread_count': 4}\n",
      "{'depth': 3, 'iterations': 500, 'learning_rate': 0.001, 'l2_leaf_reg': 3, 'border_count': 32, 'thread_count': 4}\n",
      "{'depth': 3, 'iterations': 500, 'learning_rate': 0.01, 'l2_leaf_reg': 3, 'border_count': 32, 'thread_count': 4}\n",
      "{'depth': 3, 'iterations': 500, 'learning_rate': 0.1, 'l2_leaf_reg': 3, 'border_count': 32, 'thread_count': 4}\n",
      "{'depth': 3, 'iterations': 500, 'learning_rate': 0.2, 'l2_leaf_reg': 3, 'border_count': 32, 'thread_count': 4}\n",
      "{'depth': 3, 'iterations': 500, 'learning_rate': 0.3, 'l2_leaf_reg': 3, 'border_count': 32, 'thread_count': 4}\n",
      "{'depth': 3, 'iterations': 1000, 'learning_rate': 0.03, 'l2_leaf_reg': 3, 'border_count': 32, 'thread_count': 4}\n",
      "{'depth': 3, 'iterations': 1000, 'learning_rate': 0.001, 'l2_leaf_reg': 3, 'border_count': 32, 'thread_count': 4}\n",
      "{'depth': 3, 'iterations': 1000, 'learning_rate': 0.01, 'l2_leaf_reg': 3, 'border_count': 32, 'thread_count': 4}\n",
      "{'depth': 3, 'iterations': 1000, 'learning_rate': 0.1, 'l2_leaf_reg': 3, 'border_count': 32, 'thread_count': 4}\n",
      "{'depth': 3, 'iterations': 1000, 'learning_rate': 0.2, 'l2_leaf_reg': 3, 'border_count': 32, 'thread_count': 4}\n",
      "{'depth': 3, 'iterations': 1000, 'learning_rate': 0.3, 'l2_leaf_reg': 3, 'border_count': 32, 'thread_count': 4}\n"
     ]
    }
   ],
   "source": [
    "for prms in chain(ps.grid_search(['iterations','learning_rate'])):\n",
    "    print(prms)"
   ]
  },
  {
   "cell_type": "code",
   "execution_count": 23,
   "metadata": {},
   "outputs": [],
   "source": [
    "from sortedcontainers import SortedList"
   ]
  },
  {
   "cell_type": "code",
   "execution_count": 27,
   "metadata": {},
   "outputs": [
    {
     "data": {
      "text/plain": [
       "3"
      ]
     },
     "execution_count": 27,
     "metadata": {},
     "output_type": "execute_result"
    }
   ],
   "source": [
    "tt = SortedList()\n",
    "tt.add((1,'a'))\n",
    "tt.add((3,'c'))\n",
    "tt.add((2,'b'))\n",
    "tt[-1][0]"
   ]
  },
  {
   "cell_type": "code",
   "execution_count": null,
   "metadata": {},
   "outputs": [],
   "source": []
  }
 ],
 "metadata": {
  "kernelspec": {
   "display_name": "Python 3",
   "language": "python",
   "name": "python3"
  },
  "language_info": {
   "codemirror_mode": {
    "name": "ipython",
    "version": 3
   },
   "file_extension": ".py",
   "mimetype": "text/x-python",
   "name": "python",
   "nbconvert_exporter": "python",
   "pygments_lexer": "ipython3",
   "version": "3.6.5"
  }
 },
 "nbformat": 4,
 "nbformat_minor": 2
}
